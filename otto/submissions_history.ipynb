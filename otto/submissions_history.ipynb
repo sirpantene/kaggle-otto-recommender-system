{
 "cells": [
  {
   "cell_type": "markdown",
   "id": "4623ad57",
   "metadata": {},
   "source": [
    "| name | file | CV | LB | diff |\n",
    "| ---- | ---- | -- | -- | ---- |\n",
    "| Chris Deotte notebook (covisitation) | candidates.ipynb | 0.553 | 0.574 | +0.021 |\n",
    "| CosineRecommender | i2i.ipynb |  | 0.526 |  |\n",
    "| last_20 + sim_aid notebook | baselines.ipynb | 0.542 | 0.563 | +0.021 |\n",
    "| Covisitation top200 + CosineRecommender |  | 0.566 | 0.587 | +0.021 |\n",
    "| Covisitation top200 + TFIDFRecommender | \\_\\_reranker_finale | 0.57489 | 0.595 | 0.0208 |"
   ]
  },
  {
   "cell_type": "markdown",
   "id": "dd141cfa",
   "metadata": {},
   "source": [
    "# Bank of ideas\n",
    "\n",
    "- [x] merge candidates from 3 covisitation matrices, with rankings\n",
    "- [x] word2vec + embeddings\n",
    "- [ ] add features from kaggle notebook"
   ]
  },
  {
   "cell_type": "markdown",
   "id": "3d075140",
   "metadata": {},
   "source": [
    "Candidates:\n",
    "- clicks\n",
    "    - covisitation all combined + tfidf old top 100 + tfidf new top 100 (hitrate: 0.656, size: 161.000.000) \n",
    "    - **tfidf old top 100 + tfidf new top 100 (hitrate: 0.623, size: 99.500.000)**\n",
    "    - covisitation all combined (hitrate: 0.58, size: 74.000.000)\n",
    "- carts\n",
    "    - **covisitation all combined + tfidf old top 100 + tfidf new top 100 (hitrate: 0.762, size: 43.000.000)**\n",
    "    - covisitation all combined + i2i old top 100 + i2i new top 100 (hitrate: 0.748, size: 46.500.000)\n",
    "    - covisitation all combined + tfidf new top 200 (hitrate: 0.770, size: 57.500.000)\n",
    "    - covisitation all combined + tfidf old top 100 + tfidf new top 100 + i2i old top 100 + i2i new top 100 (hitrate: 0.763, size: 54.300.000)\n",
    "- orders\n",
    "    - **covisitation all combined + tfidf old top 100 + tfidf new top 100 (hitrate: 0.89, size: 27.300.000)**"
   ]
  },
  {
   "cell_type": "code",
   "execution_count": null,
   "id": "9db927ab",
   "metadata": {},
   "outputs": [],
   "source": []
  },
  {
   "cell_type": "code",
   "execution_count": 13,
   "id": "eda7855f",
   "metadata": {
    "ExecuteTime": {
     "end_time": "2023-01-29T15:57:51.614945Z",
     "start_time": "2023-01-29T15:57:51.612509Z"
    }
   },
   "outputs": [
    {
     "data": {
      "text/plain": [
       "0.5900699999999999"
      ]
     },
     "execution_count": 13,
     "metadata": {},
     "output_type": "execute_result"
    }
   ],
   "source": [
    "0.1 * 0.5155 + 0.3 * 0.4114 + 0.6 * 0.6575 + 0.0206 # типа должно быть"
   ]
  },
  {
   "cell_type": "code",
   "execution_count": 14,
   "id": "dbf56428",
   "metadata": {
    "ExecuteTime": {
     "end_time": "2023-01-30T16:59:58.179381Z",
     "start_time": "2023-01-30T16:59:58.176588Z"
    }
   },
   "outputs": [
    {
     "data": {
      "text/plain": [
       "0.5904499999999999"
      ]
     },
     "execution_count": 14,
     "metadata": {},
     "output_type": "execute_result"
    }
   ],
   "source": [
    "0.1 * 0.5346 + 0.3 * 0.4163 + 0.6 * 0.6575 + 0.0176"
   ]
  },
  {
   "cell_type": "code",
   "execution_count": 21,
   "id": "e01e7d68",
   "metadata": {
    "ExecuteTime": {
     "end_time": "2023-01-31T03:54:06.756469Z",
     "start_time": "2023-01-31T03:54:06.753535Z"
    }
   },
   "outputs": [
    {
     "data": {
      "text/plain": [
       "0.59129"
      ]
     },
     "execution_count": 21,
     "metadata": {},
     "output_type": "execute_result"
    }
   ],
   "source": [
    "0.1 * 0.5346 + 0.3 * 0.4163 + 0.6 * 0.6589 + 0.0176"
   ]
  },
  {
   "cell_type": "code",
   "execution_count": 32,
   "id": "2556950e",
   "metadata": {
    "ExecuteTime": {
     "end_time": "2023-01-31T09:47:38.230077Z",
     "start_time": "2023-01-31T09:47:38.227539Z"
    }
   },
   "outputs": [
    {
     "data": {
      "text/plain": [
       "0.59509"
      ]
     },
     "execution_count": 32,
     "metadata": {},
     "output_type": "execute_result"
    }
   ],
   "source": [
    "0.1 * 0.5346 + 0.3 * 0.4183 + 0.6 * 0.6589 + 0.0208"
   ]
  },
  {
   "cell_type": "code",
   "execution_count": 33,
   "id": "30945258",
   "metadata": {
    "ExecuteTime": {
     "end_time": "2023-01-31T17:15:16.078294Z",
     "start_time": "2023-01-31T17:15:16.071945Z"
    }
   },
   "outputs": [
    {
     "data": {
      "text/plain": [
       "0.59569"
      ]
     },
     "execution_count": 33,
     "metadata": {},
     "output_type": "execute_result"
    }
   ],
   "source": [
    "0.1 * 0.5406 + 0.3 * 0.4183 + 0.6 * 0.6589 + 0.0208"
   ]
  },
  {
   "cell_type": "code",
   "execution_count": 34,
   "id": "8ad696ff",
   "metadata": {
    "ExecuteTime": {
     "end_time": "2023-02-01T10:39:22.591808Z",
     "start_time": "2023-02-01T10:39:22.588616Z"
    }
   },
   "outputs": [
    {
     "data": {
      "text/plain": [
       "0.57489"
      ]
     },
     "execution_count": 34,
     "metadata": {},
     "output_type": "execute_result"
    }
   ],
   "source": [
    "0.1 * 0.5406 + 0.3 * 0.4183 + 0.6 * 0.6589"
   ]
  },
  {
   "cell_type": "code",
   "execution_count": null,
   "id": "b1f5df04",
   "metadata": {},
   "outputs": [],
   "source": []
  }
 ],
 "metadata": {
  "kernelspec": {
   "display_name": "Python 3 (ipykernel)",
   "language": "python",
   "name": "python3"
  },
  "language_info": {
   "codemirror_mode": {
    "name": "ipython",
    "version": 3
   },
   "file_extension": ".py",
   "mimetype": "text/x-python",
   "name": "python",
   "nbconvert_exporter": "python",
   "pygments_lexer": "ipython3",
   "version": "3.9.5"
  },
  "toc": {
   "base_numbering": 1,
   "nav_menu": {},
   "number_sections": true,
   "sideBar": true,
   "skip_h1_title": false,
   "title_cell": "Table of Contents",
   "title_sidebar": "Contents",
   "toc_cell": false,
   "toc_position": {},
   "toc_section_display": true,
   "toc_window_display": false
  }
 },
 "nbformat": 4,
 "nbformat_minor": 5
}
