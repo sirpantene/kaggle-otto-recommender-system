{
 "cells": [
  {
   "cell_type": "code",
   "execution_count": 1,
   "id": "1c8fe9c5",
   "metadata": {
    "ExecuteTime": {
     "end_time": "2023-01-31T18:34:06.217108Z",
     "start_time": "2023-01-31T18:34:06.204195Z"
    }
   },
   "outputs": [],
   "source": [
    "%load_ext autoreload\n",
    "%autoreload 2"
   ]
  },
  {
   "cell_type": "code",
   "execution_count": 2,
   "id": "d85ab78b",
   "metadata": {
    "ExecuteTime": {
     "end_time": "2023-01-31T18:34:09.836827Z",
     "start_time": "2023-01-31T18:34:06.441199Z"
    }
   },
   "outputs": [],
   "source": [
    "from otto_utils import *\n",
    "from otto_features import *\n",
    "from otto_candidates_covisit import *\n",
    "from otto_lgbm_utils import *\n",
    "from otto_implicit import *\n",
    "from otto_reranker import *\n",
    "from otto_jobs_candidates import *\n",
    "from otto_jobs_datasets import *"
   ]
  },
  {
   "cell_type": "code",
   "execution_count": 3,
   "id": "8c72e1b0",
   "metadata": {
    "ExecuteTime": {
     "end_time": "2023-01-31T18:34:10.271422Z",
     "start_time": "2023-01-31T18:34:09.838782Z"
    }
   },
   "outputs": [],
   "source": [
    "df_test = pl.read_parquet(TEST_PROCESSED, use_pyarrow=True)\n",
    "test_users = df_test[\"session\"].unique().sort().to_list()"
   ]
  },
  {
   "cell_type": "markdown",
   "id": "aa4430cb",
   "metadata": {},
   "source": [
    "# Submissions"
   ]
  },
  {
   "cell_type": "markdown",
   "id": "3cc8d70b",
   "metadata": {},
   "source": [
    "## carts + orders"
   ]
  },
  {
   "cell_type": "code",
   "execution_count": 6,
   "id": "4661e064",
   "metadata": {
    "ExecuteTime": {
     "end_time": "2023-01-31T06:25:58.873328Z",
     "start_time": "2023-01-31T06:25:58.850825Z"
    }
   },
   "outputs": [],
   "source": [
    "action_type = \"orders\"\n",
    "mode = \"subm\"\n",
    "version = \"+\".join([\"covisit_all\", \"tdidf_new_top_100\", \"tdidf_old_top_100\"])\n",
    "feature_groups = [\"cand_user_item\", \"w2v_item2item\", \"covisit_item2item\", \"other\"]"
   ]
  },
  {
   "cell_type": "code",
   "execution_count": 16,
   "id": "dbe33eb2",
   "metadata": {
    "ExecuteTime": {
     "end_time": "2023-01-31T06:41:32.047497Z",
     "start_time": "2023-01-31T06:41:32.022812Z"
    }
   },
   "outputs": [],
   "source": [
    "def lgb_cv_folds_predictions(\n",
    "    df,\n",
    "    model_file_tmplt,\n",
    "    action_type,\n",
    "    save_path: Path = Path(\"reranker_finale\"),\n",
    "):\n",
    "    feature_cols = df.drop([\"session\", \"aid\"]).columns\n",
    "    df_valid_preds = df.select([\"session\", \"aid\"])\n",
    "    X_test = df[feature_cols].to_numpy()\n",
    "\n",
    "    for fold in tqdm(range(5)):\n",
    "#         model_file = model_file_tmplt.format(action_type=action_type, fold=fold)\n",
    "        model_file = model_file_tmplt.format(action_type=action_type, fold=fold)\n",
    "        gbm_ranking = lgb.Booster(model_file=(save_path / model_file).as_posix())\n",
    "        scores = gbm_ranking.predict(X_test)\n",
    "        df_valid_preds_fold = (\n",
    "            df.select([\"session\", \"aid\"])\n",
    "            .with_columns([pl.Series(scores).alias(f\"scores_fold{fold}\")])\n",
    "        )\n",
    "        df_valid_preds = (\n",
    "            df_valid_preds.join(df_valid_preds_fold, on=[\"session\", \"aid\"], how=\"left\")\n",
    "        )\n",
    "    \n",
    "    scores = (\n",
    "        df_valid_preds\n",
    "        .select([\n",
    "            pl.col(\"scores_fold0\"),\n",
    "            pl.col(\"scores_fold1\"),\n",
    "            pl.col(\"scores_fold2\"), \n",
    "            pl.col(\"scores_fold3\"), \n",
    "            pl.col(\"scores_fold4\"),\n",
    "        ]).mean(axis=1)\n",
    "    )\n",
    "    \n",
    "    df_valid_preds = (\n",
    "        df_valid_preds.with_column(scores.alias(f\"{action_type}_score\"))\n",
    "        .select([\"session\", \"aid\", f\"{action_type}_score\"])\n",
    "    )\n",
    "    return df_valid_preds"
   ]
  },
  {
   "cell_type": "code",
   "execution_count": 10,
   "id": "a7dc9d4a",
   "metadata": {
    "ExecuteTime": {
     "end_time": "2023-01-31T06:33:00.158468Z",
     "start_time": "2023-01-31T06:33:00.135425Z"
    }
   },
   "outputs": [
    {
     "name": "stdout",
     "output_type": "stream",
     "text": [
      "orders tmplt:  __model__orders_covisit_all+tdidf_new_top_100+tdidf_old_top_100_reranker_fold{fold}_v2.lgb\n",
      "orders tmplt:  __model__carts_covisit_all+tdidf_new_top_100+tdidf_old_top_100_reranker_fold{fold}_v0.lgb\n"
     ]
    }
   ],
   "source": [
    "action_type = \"orders\"\n",
    "model_version = \"v2\"\n",
    "orders_model_file_tmplt = f\"__model__{action_type}_{version}_reranker_fold{{fold}}_{model_version}.lgb\"\n",
    "print(\"orders tmplt: \", orders_model_file_tmplt)\n",
    "\n",
    "action_type = \"carts\"\n",
    "model_version = \"v0\"\n",
    "carts_model_file_tmplt = f\"__model__{action_type}_{version}_reranker_fold{{fold}}_{model_version}.lgb\"\n",
    "print(\"carts tmplt: \", carts_model_file_tmplt)"
   ]
  },
  {
   "cell_type": "code",
   "execution_count": 18,
   "id": "ec16e71d",
   "metadata": {
    "ExecuteTime": {
     "end_time": "2023-01-31T08:15:07.636131Z",
     "start_time": "2023-01-31T06:43:20.901615Z"
    }
   },
   "outputs": [
    {
     "name": "stderr",
     "output_type": "stream",
     "text": [
      "\r",
      "  0%|          | 0/17 [00:00<?, ?it/s]"
     ]
    },
    {
     "name": "stdout",
     "output_type": "stream",
     "text": [
      "mode:  subm\n",
      "action type:  orders\n",
      "version:  covisit_all+tdidf_new_top_100+tdidf_old_top_100\n",
      "Reading generated candidate file...:  reranker_finale/__stage2__subm__orders__candidates_covisit_all+tdidf_new_top_100+tdidf_old_top_100.parquet\n",
      "predict carts -> save scores to df_candidates_scores\n"
     ]
    },
    {
     "name": "stderr",
     "output_type": "stream",
     "text": [
      "\n",
      "  0%|          | 0/5 [00:00<?, ?it/s]\u001b[A\n",
      " 20%|██        | 1/5 [00:17<01:09, 17.48s/it]\u001b[A\n",
      " 40%|████      | 2/5 [00:32<00:48, 16.30s/it]\u001b[A\n",
      " 60%|██████    | 3/5 [00:51<00:34, 17.44s/it]\u001b[A\n",
      " 80%|████████  | 4/5 [01:16<00:20, 20.17s/it]\u001b[A\n",
      "100%|██████████| 5/5 [01:34<00:00, 18.94s/it]\u001b[A\n"
     ]
    },
    {
     "name": "stdout",
     "output_type": "stream",
     "text": [
      "predict orders -> save scores to df_candidates_scores\n"
     ]
    },
    {
     "name": "stderr",
     "output_type": "stream",
     "text": [
      "\n",
      "  0%|          | 0/5 [00:00<?, ?it/s]\u001b[A\n",
      " 20%|██        | 1/5 [00:38<02:33, 38.26s/it]\u001b[A\n",
      " 40%|████      | 2/5 [00:54<01:15, 25.14s/it]\u001b[A\n",
      " 60%|██████    | 3/5 [01:36<01:05, 32.99s/it]\u001b[A\n",
      " 80%|████████  | 4/5 [02:23<00:38, 38.54s/it]\u001b[A\n",
      "100%|██████████| 5/5 [02:49<00:00, 33.88s/it]\u001b[A\n",
      "  6%|▌         | 1/17 [05:30<1:28:07, 330.48s/it]"
     ]
    },
    {
     "name": "stdout",
     "output_type": "stream",
     "text": [
      "mode:  subm\n",
      "action type:  orders\n",
      "version:  covisit_all+tdidf_new_top_100+tdidf_old_top_100\n",
      "Reading generated candidate file...:  reranker_finale/__stage2__subm__orders__candidates_covisit_all+tdidf_new_top_100+tdidf_old_top_100.parquet\n",
      "predict carts -> save scores to df_candidates_scores\n"
     ]
    },
    {
     "name": "stderr",
     "output_type": "stream",
     "text": [
      "\n",
      "  0%|          | 0/5 [00:00<?, ?it/s]\u001b[A\n",
      " 20%|██        | 1/5 [00:18<01:12, 18.13s/it]\u001b[A\n",
      " 40%|████      | 2/5 [00:34<00:51, 17.10s/it]\u001b[A\n",
      " 60%|██████    | 3/5 [00:53<00:35, 17.99s/it]\u001b[A\n",
      " 80%|████████  | 4/5 [01:18<00:20, 20.64s/it]\u001b[A\n",
      "100%|██████████| 5/5 [01:37<00:00, 19.44s/it]\u001b[A\n"
     ]
    },
    {
     "name": "stdout",
     "output_type": "stream",
     "text": [
      "predict orders -> save scores to df_candidates_scores\n"
     ]
    },
    {
     "name": "stderr",
     "output_type": "stream",
     "text": [
      "\n",
      "  0%|          | 0/5 [00:00<?, ?it/s]\u001b[A\n",
      " 20%|██        | 1/5 [00:38<02:32, 38.02s/it]\u001b[A\n",
      " 40%|████      | 2/5 [00:53<01:15, 25.04s/it]\u001b[A\n",
      " 60%|██████    | 3/5 [01:36<01:06, 33.04s/it]\u001b[A\n",
      " 80%|████████  | 4/5 [02:22<00:38, 38.14s/it]\u001b[A\n",
      "100%|██████████| 5/5 [02:48<00:00, 33.68s/it]\u001b[A\n",
      " 12%|█▏        | 2/17 [11:02<1:22:48, 331.26s/it]"
     ]
    },
    {
     "name": "stdout",
     "output_type": "stream",
     "text": [
      "mode:  subm\n",
      "action type:  orders\n",
      "version:  covisit_all+tdidf_new_top_100+tdidf_old_top_100\n",
      "Reading generated candidate file...:  reranker_finale/__stage2__subm__orders__candidates_covisit_all+tdidf_new_top_100+tdidf_old_top_100.parquet\n",
      "predict carts -> save scores to df_candidates_scores\n"
     ]
    },
    {
     "name": "stderr",
     "output_type": "stream",
     "text": [
      "\n",
      "  0%|          | 0/5 [00:00<?, ?it/s]\u001b[A\n",
      " 20%|██        | 1/5 [00:17<01:11, 17.89s/it]\u001b[A\n",
      " 40%|████      | 2/5 [00:34<00:51, 17.06s/it]\u001b[A\n",
      " 60%|██████    | 3/5 [00:53<00:36, 18.05s/it]\u001b[A\n",
      " 80%|████████  | 4/5 [01:18<00:20, 20.57s/it]\u001b[A\n",
      "100%|██████████| 5/5 [01:36<00:00, 19.40s/it]\u001b[A\n"
     ]
    },
    {
     "name": "stdout",
     "output_type": "stream",
     "text": [
      "predict orders -> save scores to df_candidates_scores\n"
     ]
    },
    {
     "name": "stderr",
     "output_type": "stream",
     "text": [
      "\n",
      "  0%|          | 0/5 [00:00<?, ?it/s]\u001b[A\n",
      " 20%|██        | 1/5 [00:38<02:34, 38.60s/it]\u001b[A\n",
      " 40%|████      | 2/5 [00:54<01:15, 25.21s/it]\u001b[A\n",
      " 60%|██████    | 3/5 [01:36<01:05, 32.87s/it]\u001b[A\n",
      " 80%|████████  | 4/5 [02:22<00:37, 37.90s/it]\u001b[A\n",
      "100%|██████████| 5/5 [02:47<00:00, 33.58s/it]\u001b[A\n",
      " 18%|█▊        | 3/17 [16:33<1:17:18, 331.31s/it]"
     ]
    },
    {
     "name": "stdout",
     "output_type": "stream",
     "text": [
      "mode:  subm\n",
      "action type:  orders\n",
      "version:  covisit_all+tdidf_new_top_100+tdidf_old_top_100\n",
      "Reading generated candidate file...:  reranker_finale/__stage2__subm__orders__candidates_covisit_all+tdidf_new_top_100+tdidf_old_top_100.parquet\n",
      "predict carts -> save scores to df_candidates_scores\n"
     ]
    },
    {
     "name": "stderr",
     "output_type": "stream",
     "text": [
      "\n",
      "  0%|          | 0/5 [00:00<?, ?it/s]\u001b[A\n",
      " 20%|██        | 1/5 [00:17<01:11, 17.76s/it]\u001b[A\n",
      " 40%|████      | 2/5 [00:33<00:50, 16.70s/it]\u001b[A\n",
      " 60%|██████    | 3/5 [00:52<00:35, 17.77s/it]\u001b[A\n",
      " 80%|████████  | 4/5 [01:17<00:20, 20.42s/it]\u001b[A\n",
      "100%|██████████| 5/5 [01:36<00:00, 19.22s/it]\u001b[A\n"
     ]
    },
    {
     "name": "stdout",
     "output_type": "stream",
     "text": [
      "predict orders -> save scores to df_candidates_scores\n"
     ]
    },
    {
     "name": "stderr",
     "output_type": "stream",
     "text": [
      "\n",
      "  0%|          | 0/5 [00:00<?, ?it/s]\u001b[A\n",
      " 20%|██        | 1/5 [00:37<02:31, 37.89s/it]\u001b[A\n",
      " 40%|████      | 2/5 [00:52<01:12, 24.22s/it]\u001b[A\n",
      " 60%|██████    | 3/5 [01:34<01:04, 32.38s/it]\u001b[A\n",
      " 80%|████████  | 4/5 [02:20<00:37, 37.64s/it]\u001b[A\n",
      "100%|██████████| 5/5 [02:45<00:00, 33.08s/it]\u001b[A\n",
      " 24%|██▎       | 4/17 [22:02<1:11:34, 330.33s/it]"
     ]
    },
    {
     "name": "stdout",
     "output_type": "stream",
     "text": [
      "mode:  subm\n",
      "action type:  orders\n",
      "version:  covisit_all+tdidf_new_top_100+tdidf_old_top_100\n",
      "Reading generated candidate file...:  reranker_finale/__stage2__subm__orders__candidates_covisit_all+tdidf_new_top_100+tdidf_old_top_100.parquet\n",
      "predict carts -> save scores to df_candidates_scores\n"
     ]
    },
    {
     "name": "stderr",
     "output_type": "stream",
     "text": [
      "\n",
      "  0%|          | 0/5 [00:00<?, ?it/s]\u001b[A\n",
      " 20%|██        | 1/5 [00:17<01:11, 17.83s/it]\u001b[A\n",
      " 40%|████      | 2/5 [00:33<00:50, 16.76s/it]\u001b[A\n",
      " 60%|██████    | 3/5 [00:52<00:35, 17.75s/it]\u001b[A\n",
      " 80%|████████  | 4/5 [01:16<00:20, 20.29s/it]\u001b[A\n",
      "100%|██████████| 5/5 [01:35<00:00, 19.13s/it]\u001b[A\n"
     ]
    },
    {
     "name": "stdout",
     "output_type": "stream",
     "text": [
      "predict orders -> save scores to df_candidates_scores\n"
     ]
    },
    {
     "name": "stderr",
     "output_type": "stream",
     "text": [
      "\n",
      "  0%|          | 0/5 [00:00<?, ?it/s]\u001b[A\n",
      " 20%|██        | 1/5 [00:37<02:30, 37.56s/it]\u001b[A\n",
      " 40%|████      | 2/5 [00:53<01:14, 24.72s/it]\u001b[A\n",
      " 60%|██████    | 3/5 [01:35<01:05, 32.52s/it]\u001b[A\n",
      " 80%|████████  | 4/5 [02:20<00:37, 37.59s/it]\u001b[A\n",
      "100%|██████████| 5/5 [02:46<00:00, 33.21s/it]\u001b[A\n",
      " 29%|██▉       | 5/17 [27:31<1:05:57, 329.78s/it]"
     ]
    },
    {
     "name": "stdout",
     "output_type": "stream",
     "text": [
      "mode:  subm\n",
      "action type:  orders\n",
      "version:  covisit_all+tdidf_new_top_100+tdidf_old_top_100\n",
      "Reading generated candidate file...:  reranker_finale/__stage2__subm__orders__candidates_covisit_all+tdidf_new_top_100+tdidf_old_top_100.parquet\n",
      "predict carts -> save scores to df_candidates_scores\n"
     ]
    },
    {
     "name": "stderr",
     "output_type": "stream",
     "text": [
      "\n",
      "  0%|          | 0/5 [00:00<?, ?it/s]\u001b[A\n",
      " 20%|██        | 1/5 [00:17<01:10, 17.62s/it]\u001b[A\n",
      " 40%|████      | 2/5 [00:33<00:49, 16.51s/it]\u001b[A\n",
      " 60%|██████    | 3/5 [00:52<00:35, 17.54s/it]\u001b[A\n",
      " 80%|████████  | 4/5 [01:15<00:19, 20.00s/it]\u001b[A\n",
      "100%|██████████| 5/5 [01:34<00:00, 18.86s/it]\u001b[A\n"
     ]
    },
    {
     "name": "stdout",
     "output_type": "stream",
     "text": [
      "predict orders -> save scores to df_candidates_scores\n"
     ]
    },
    {
     "name": "stderr",
     "output_type": "stream",
     "text": [
      "\n",
      "  0%|          | 0/5 [00:00<?, ?it/s]\u001b[A\n",
      " 20%|██        | 1/5 [00:37<02:29, 37.40s/it]\u001b[A\n",
      " 40%|████      | 2/5 [00:52<01:13, 24.35s/it]\u001b[A\n",
      " 60%|██████    | 3/5 [01:34<01:04, 32.44s/it]\u001b[A\n",
      " 80%|████████  | 4/5 [02:19<00:37, 37.45s/it]\u001b[A\n",
      "100%|██████████| 5/5 [02:45<00:00, 33.07s/it]\u001b[A\n",
      " 35%|███▌      | 6/17 [32:57<1:00:15, 328.70s/it]"
     ]
    },
    {
     "name": "stdout",
     "output_type": "stream",
     "text": [
      "mode:  subm\n",
      "action type:  orders\n",
      "version:  covisit_all+tdidf_new_top_100+tdidf_old_top_100\n",
      "Reading generated candidate file...:  reranker_finale/__stage2__subm__orders__candidates_covisit_all+tdidf_new_top_100+tdidf_old_top_100.parquet\n",
      "predict carts -> save scores to df_candidates_scores\n"
     ]
    },
    {
     "name": "stderr",
     "output_type": "stream",
     "text": [
      "\n",
      "  0%|          | 0/5 [00:00<?, ?it/s]\u001b[A\n",
      " 20%|██        | 1/5 [00:17<01:10, 17.63s/it]\u001b[A\n",
      " 40%|████      | 2/5 [00:33<00:49, 16.39s/it]\u001b[A\n",
      " 60%|██████    | 3/5 [00:51<00:34, 17.38s/it]\u001b[A\n",
      " 80%|████████  | 4/5 [01:15<00:20, 20.01s/it]\u001b[A\n",
      "100%|██████████| 5/5 [01:34<00:00, 18.84s/it]\u001b[A\n"
     ]
    },
    {
     "name": "stdout",
     "output_type": "stream",
     "text": [
      "predict orders -> save scores to df_candidates_scores\n"
     ]
    },
    {
     "name": "stderr",
     "output_type": "stream",
     "text": [
      "\n",
      "  0%|          | 0/5 [00:00<?, ?it/s]\u001b[A\n",
      " 20%|██        | 1/5 [00:37<02:29, 37.34s/it]\u001b[A\n",
      " 40%|████      | 2/5 [00:52<01:13, 24.35s/it]\u001b[A\n",
      " 60%|██████    | 3/5 [01:34<01:04, 32.18s/it]\u001b[A\n",
      " 80%|████████  | 4/5 [02:18<00:37, 37.19s/it]\u001b[A\n",
      "100%|██████████| 5/5 [02:44<00:00, 32.87s/it]\u001b[A\n",
      " 41%|████      | 7/17 [38:23<54:37, 327.71s/it]  "
     ]
    },
    {
     "name": "stdout",
     "output_type": "stream",
     "text": [
      "mode:  subm\n",
      "action type:  orders\n",
      "version:  covisit_all+tdidf_new_top_100+tdidf_old_top_100\n",
      "Reading generated candidate file...:  reranker_finale/__stage2__subm__orders__candidates_covisit_all+tdidf_new_top_100+tdidf_old_top_100.parquet\n",
      "predict carts -> save scores to df_candidates_scores\n"
     ]
    },
    {
     "name": "stderr",
     "output_type": "stream",
     "text": [
      "\n",
      "  0%|          | 0/5 [00:00<?, ?it/s]\u001b[A\n",
      " 20%|██        | 1/5 [00:17<01:09, 17.48s/it]\u001b[A\n",
      " 40%|████      | 2/5 [00:32<00:48, 16.20s/it]\u001b[A\n",
      " 60%|██████    | 3/5 [00:51<00:34, 17.22s/it]\u001b[A\n",
      " 80%|████████  | 4/5 [01:14<00:19, 19.76s/it]\u001b[A\n",
      "100%|██████████| 5/5 [01:32<00:00, 18.58s/it]\u001b[A\n"
     ]
    },
    {
     "name": "stdout",
     "output_type": "stream",
     "text": [
      "predict orders -> save scores to df_candidates_scores\n"
     ]
    },
    {
     "name": "stderr",
     "output_type": "stream",
     "text": [
      "\n",
      "  0%|          | 0/5 [00:00<?, ?it/s]\u001b[A\n",
      " 20%|██        | 1/5 [00:36<02:27, 36.87s/it]\u001b[A\n",
      " 40%|████      | 2/5 [00:51<01:12, 24.00s/it]\u001b[A\n",
      " 60%|██████    | 3/5 [01:33<01:03, 31.87s/it]\u001b[A\n",
      " 80%|████████  | 4/5 [02:17<00:36, 36.87s/it]\u001b[A\n",
      "100%|██████████| 5/5 [02:42<00:00, 32.50s/it]\u001b[A\n",
      " 47%|████▋     | 8/17 [43:46<48:54, 326.04s/it]"
     ]
    },
    {
     "name": "stdout",
     "output_type": "stream",
     "text": [
      "mode:  subm\n",
      "action type:  orders\n",
      "version:  covisit_all+tdidf_new_top_100+tdidf_old_top_100\n",
      "Reading generated candidate file...:  reranker_finale/__stage2__subm__orders__candidates_covisit_all+tdidf_new_top_100+tdidf_old_top_100.parquet\n",
      "predict carts -> save scores to df_candidates_scores\n"
     ]
    },
    {
     "name": "stderr",
     "output_type": "stream",
     "text": [
      "\n",
      "  0%|          | 0/5 [00:00<?, ?it/s]\u001b[A\n",
      " 20%|██        | 1/5 [00:17<01:10, 17.56s/it]\u001b[A\n",
      " 40%|████      | 2/5 [00:33<00:49, 16.59s/it]\u001b[A\n",
      " 60%|██████    | 3/5 [00:52<00:35, 17.60s/it]\u001b[A\n",
      " 80%|████████  | 4/5 [01:16<00:20, 20.03s/it]\u001b[A\n",
      "100%|██████████| 5/5 [01:34<00:00, 18.96s/it]\u001b[A\n"
     ]
    },
    {
     "name": "stdout",
     "output_type": "stream",
     "text": [
      "predict orders -> save scores to df_candidates_scores\n"
     ]
    },
    {
     "name": "stderr",
     "output_type": "stream",
     "text": [
      "\n",
      "  0%|          | 0/5 [00:00<?, ?it/s]\u001b[A\n",
      " 20%|██        | 1/5 [00:37<02:29, 37.39s/it]\u001b[A\n",
      " 40%|████      | 2/5 [00:52<01:13, 24.36s/it]\u001b[A\n",
      " 60%|██████    | 3/5 [01:34<01:04, 32.29s/it]\u001b[A\n",
      " 80%|████████  | 4/5 [02:19<00:37, 37.28s/it]\u001b[A\n",
      "100%|██████████| 5/5 [02:44<00:00, 32.91s/it]\u001b[A\n",
      " 53%|█████▎    | 9/17 [49:12<43:30, 326.27s/it]"
     ]
    },
    {
     "name": "stdout",
     "output_type": "stream",
     "text": [
      "mode:  subm\n",
      "action type:  orders\n",
      "version:  covisit_all+tdidf_new_top_100+tdidf_old_top_100\n",
      "Reading generated candidate file...:  reranker_finale/__stage2__subm__orders__candidates_covisit_all+tdidf_new_top_100+tdidf_old_top_100.parquet\n",
      "predict carts -> save scores to df_candidates_scores\n"
     ]
    },
    {
     "name": "stderr",
     "output_type": "stream",
     "text": [
      "\n",
      "  0%|          | 0/5 [00:00<?, ?it/s]\u001b[A\n",
      " 20%|██        | 1/5 [00:17<01:11, 17.91s/it]\u001b[A\n",
      " 40%|████      | 2/5 [00:33<00:50, 16.68s/it]\u001b[A\n",
      " 60%|██████    | 3/5 [00:52<00:35, 17.72s/it]\u001b[A\n",
      " 80%|████████  | 4/5 [01:16<00:20, 20.22s/it]\u001b[A\n",
      "100%|██████████| 5/5 [01:35<00:00, 19.05s/it]\u001b[A\n"
     ]
    },
    {
     "name": "stdout",
     "output_type": "stream",
     "text": [
      "predict orders -> save scores to df_candidates_scores\n"
     ]
    },
    {
     "name": "stderr",
     "output_type": "stream",
     "text": [
      "\n",
      "  0%|          | 0/5 [00:00<?, ?it/s]\u001b[A\n",
      " 20%|██        | 1/5 [00:37<02:29, 37.35s/it]\u001b[A\n",
      " 40%|████      | 2/5 [00:52<01:12, 24.30s/it]\u001b[A\n",
      " 60%|██████    | 3/5 [01:33<01:04, 32.13s/it]\u001b[A\n",
      " 80%|████████  | 4/5 [02:18<00:37, 37.21s/it]\u001b[A\n",
      "100%|██████████| 5/5 [02:44<00:00, 32.88s/it]\u001b[A\n",
      " 59%|█████▉    | 10/17 [54:39<38:04, 326.42s/it]"
     ]
    },
    {
     "name": "stdout",
     "output_type": "stream",
     "text": [
      "mode:  subm\n",
      "action type:  orders\n",
      "version:  covisit_all+tdidf_new_top_100+tdidf_old_top_100\n",
      "Reading generated candidate file...:  reranker_finale/__stage2__subm__orders__candidates_covisit_all+tdidf_new_top_100+tdidf_old_top_100.parquet\n",
      "predict carts -> save scores to df_candidates_scores\n"
     ]
    },
    {
     "name": "stderr",
     "output_type": "stream",
     "text": [
      "\n",
      "  0%|          | 0/5 [00:00<?, ?it/s]\u001b[A\n",
      " 20%|██        | 1/5 [00:18<01:13, 18.33s/it]\u001b[A\n",
      " 40%|████      | 2/5 [00:34<00:51, 17.04s/it]\u001b[A\n",
      " 60%|██████    | 3/5 [00:53<00:36, 18.03s/it]\u001b[A\n",
      " 80%|████████  | 4/5 [01:18<00:20, 20.56s/it]\u001b[A\n",
      "100%|██████████| 5/5 [01:37<00:00, 19.46s/it]\u001b[A\n"
     ]
    },
    {
     "name": "stdout",
     "output_type": "stream",
     "text": [
      "predict orders -> save scores to df_candidates_scores\n"
     ]
    },
    {
     "name": "stderr",
     "output_type": "stream",
     "text": [
      "\n",
      "  0%|          | 0/5 [00:00<?, ?it/s]\u001b[A\n",
      " 20%|██        | 1/5 [00:38<02:32, 38.04s/it]\u001b[A\n",
      " 40%|████      | 2/5 [00:53<01:14, 24.83s/it]\u001b[A\n",
      " 60%|██████    | 3/5 [01:35<01:05, 32.77s/it]\u001b[A\n",
      " 80%|████████  | 4/5 [02:21<00:37, 37.81s/it]\u001b[A\n",
      "100%|██████████| 5/5 [02:47<00:00, 33.48s/it]\u001b[A\n",
      " 65%|██████▍   | 11/17 [1:00:11<32:48, 328.11s/it]"
     ]
    },
    {
     "name": "stdout",
     "output_type": "stream",
     "text": [
      "mode:  subm\n",
      "action type:  orders\n",
      "version:  covisit_all+tdidf_new_top_100+tdidf_old_top_100\n",
      "Reading generated candidate file...:  reranker_finale/__stage2__subm__orders__candidates_covisit_all+tdidf_new_top_100+tdidf_old_top_100.parquet\n",
      "predict carts -> save scores to df_candidates_scores\n"
     ]
    },
    {
     "name": "stderr",
     "output_type": "stream",
     "text": [
      "\n",
      "  0%|          | 0/5 [00:00<?, ?it/s]\u001b[A\n",
      " 20%|██        | 1/5 [00:17<01:10, 17.62s/it]\u001b[A\n",
      " 40%|████      | 2/5 [00:33<00:49, 16.57s/it]\u001b[A\n",
      " 60%|██████    | 3/5 [00:52<00:35, 17.61s/it]\u001b[A\n",
      " 80%|████████  | 4/5 [01:16<00:20, 20.14s/it]\u001b[A\n",
      "100%|██████████| 5/5 [01:35<00:00, 19.01s/it]\u001b[A\n"
     ]
    },
    {
     "name": "stdout",
     "output_type": "stream",
     "text": [
      "predict orders -> save scores to df_candidates_scores\n"
     ]
    },
    {
     "name": "stderr",
     "output_type": "stream",
     "text": [
      "\n",
      "  0%|          | 0/5 [00:00<?, ?it/s]\u001b[A\n",
      " 20%|██        | 1/5 [00:37<02:30, 37.74s/it]\u001b[A\n",
      " 40%|████      | 2/5 [00:53<01:14, 24.68s/it]\u001b[A\n",
      " 60%|██████    | 3/5 [01:34<01:04, 32.46s/it]\u001b[A\n",
      " 80%|████████  | 4/5 [02:20<00:37, 37.53s/it]\u001b[A\n",
      "100%|██████████| 5/5 [02:45<00:00, 33.14s/it]\u001b[A\n",
      " 71%|███████   | 12/17 [1:05:39<27:20, 328.14s/it]"
     ]
    },
    {
     "name": "stdout",
     "output_type": "stream",
     "text": [
      "mode:  subm\n",
      "action type:  orders\n",
      "version:  covisit_all+tdidf_new_top_100+tdidf_old_top_100\n",
      "Reading generated candidate file...:  reranker_finale/__stage2__subm__orders__candidates_covisit_all+tdidf_new_top_100+tdidf_old_top_100.parquet\n",
      "predict carts -> save scores to df_candidates_scores\n"
     ]
    },
    {
     "name": "stderr",
     "output_type": "stream",
     "text": [
      "\n",
      "  0%|          | 0/5 [00:00<?, ?it/s]\u001b[A\n",
      " 20%|██        | 1/5 [00:18<01:12, 18.03s/it]\u001b[A\n",
      " 40%|████      | 2/5 [00:34<00:50, 16.86s/it]\u001b[A\n",
      " 60%|██████    | 3/5 [00:53<00:36, 18.11s/it]\u001b[A\n",
      " 80%|████████  | 4/5 [01:18<00:20, 20.70s/it]\u001b[A\n",
      "100%|██████████| 5/5 [01:37<00:00, 19.41s/it]\u001b[A\n"
     ]
    },
    {
     "name": "stdout",
     "output_type": "stream",
     "text": [
      "predict orders -> save scores to df_candidates_scores\n"
     ]
    },
    {
     "name": "stderr",
     "output_type": "stream",
     "text": [
      "\n",
      "  0%|          | 0/5 [00:00<?, ?it/s]\u001b[A\n",
      " 20%|██        | 1/5 [00:37<02:30, 37.73s/it]\u001b[A\n",
      " 40%|████      | 2/5 [00:53<01:14, 24.77s/it]\u001b[A\n",
      "100%|██████████| 5/5 [02:46<00:00, 33.39s/it]\u001b[A\n",
      " 76%|███████▋  | 13/17 [1:11:11<21:56, 329.23s/it]"
     ]
    },
    {
     "name": "stdout",
     "output_type": "stream",
     "text": [
      "mode:  subm\n",
      "action type:  orders\n",
      "version:  covisit_all+tdidf_new_top_100+tdidf_old_top_100\n",
      "Reading generated candidate file...:  reranker_finale/__stage2__subm__orders__candidates_covisit_all+tdidf_new_top_100+tdidf_old_top_100.parquet\n",
      "predict carts -> save scores to df_candidates_scores\n"
     ]
    },
    {
     "name": "stderr",
     "output_type": "stream",
     "text": [
      "\n",
      "  0%|          | 0/5 [00:00<?, ?it/s]\u001b[A\n",
      " 20%|██        | 1/5 [00:18<01:15, 18.83s/it]\u001b[A\n",
      " 40%|████      | 2/5 [00:35<00:52, 17.63s/it]\u001b[A\n",
      " 60%|██████    | 3/5 [00:55<00:37, 18.69s/it]\u001b[A\n",
      " 80%|████████  | 4/5 [01:20<00:21, 21.13s/it]\u001b[A\n",
      "100%|██████████| 5/5 [01:40<00:00, 20.05s/it]\u001b[A\n"
     ]
    },
    {
     "name": "stdout",
     "output_type": "stream",
     "text": [
      "predict orders -> save scores to df_candidates_scores\n"
     ]
    },
    {
     "name": "stderr",
     "output_type": "stream",
     "text": [
      "\n",
      "  0%|          | 0/5 [00:00<?, ?it/s]\u001b[A\n",
      " 20%|██        | 1/5 [00:38<02:33, 38.47s/it]\u001b[A\n",
      " 40%|████      | 2/5 [00:54<01:16, 25.54s/it]\u001b[A\n",
      " 60%|██████    | 3/5 [01:37<01:06, 33.17s/it]\u001b[A\n",
      " 80%|████████  | 4/5 [02:23<00:38, 38.21s/it]\u001b[A\n",
      "100%|██████████| 5/5 [02:49<00:00, 33.97s/it]\u001b[A\n",
      " 82%|████████▏ | 14/17 [1:16:49<16:35, 331.87s/it]"
     ]
    },
    {
     "name": "stdout",
     "output_type": "stream",
     "text": [
      "mode:  subm\n",
      "action type:  orders\n",
      "version:  covisit_all+tdidf_new_top_100+tdidf_old_top_100\n",
      "Reading generated candidate file...:  reranker_finale/__stage2__subm__orders__candidates_covisit_all+tdidf_new_top_100+tdidf_old_top_100.parquet\n",
      "predict carts -> save scores to df_candidates_scores\n"
     ]
    },
    {
     "name": "stderr",
     "output_type": "stream",
     "text": [
      "\n",
      "  0%|          | 0/5 [00:00<?, ?it/s]\u001b[A\n",
      " 20%|██        | 1/5 [00:18<01:12, 18.01s/it]\u001b[A\n",
      " 40%|████      | 2/5 [00:33<00:50, 16.82s/it]\u001b[A\n",
      " 60%|██████    | 3/5 [00:52<00:35, 17.72s/it]\u001b[A\n",
      " 80%|████████  | 4/5 [01:16<00:20, 20.21s/it]\u001b[A\n",
      "100%|██████████| 5/5 [01:35<00:00, 19.06s/it]\u001b[A\n"
     ]
    },
    {
     "name": "stdout",
     "output_type": "stream",
     "text": [
      "predict orders -> save scores to df_candidates_scores\n"
     ]
    },
    {
     "name": "stderr",
     "output_type": "stream",
     "text": [
      "\n",
      "  0%|          | 0/5 [00:00<?, ?it/s]\u001b[A\n",
      " 20%|██        | 1/5 [00:37<02:29, 37.41s/it]\u001b[A\n",
      " 40%|████      | 2/5 [00:52<01:13, 24.43s/it]\u001b[A\n",
      " 60%|██████    | 3/5 [01:34<01:04, 32.30s/it]\u001b[A\n",
      " 80%|████████  | 4/5 [02:19<00:37, 37.24s/it]\u001b[A\n",
      "100%|██████████| 5/5 [02:44<00:00, 32.97s/it]\u001b[A\n",
      " 88%|████████▊ | 15/17 [1:22:17<11:01, 330.62s/it]"
     ]
    },
    {
     "name": "stdout",
     "output_type": "stream",
     "text": [
      "mode:  subm\n",
      "action type:  orders\n",
      "version:  covisit_all+tdidf_new_top_100+tdidf_old_top_100\n",
      "Reading generated candidate file...:  reranker_finale/__stage2__subm__orders__candidates_covisit_all+tdidf_new_top_100+tdidf_old_top_100.parquet\n",
      "predict carts -> save scores to df_candidates_scores\n"
     ]
    },
    {
     "name": "stderr",
     "output_type": "stream",
     "text": [
      "\n",
      "  0%|          | 0/5 [00:00<?, ?it/s]\u001b[A\n",
      " 20%|██        | 1/5 [00:17<01:08, 17.24s/it]\u001b[A\n",
      " 40%|████      | 2/5 [00:32<00:48, 16.30s/it]\u001b[A\n",
      " 60%|██████    | 3/5 [00:51<00:34, 17.21s/it]\u001b[A\n",
      " 80%|████████  | 4/5 [01:14<00:19, 19.70s/it]\u001b[A\n",
      "100%|██████████| 5/5 [01:32<00:00, 18.56s/it]\u001b[A\n"
     ]
    },
    {
     "name": "stdout",
     "output_type": "stream",
     "text": [
      "predict orders -> save scores to df_candidates_scores\n"
     ]
    },
    {
     "name": "stderr",
     "output_type": "stream",
     "text": [
      "\n",
      "  0%|          | 0/5 [00:00<?, ?it/s]\u001b[A\n",
      " 20%|██        | 1/5 [00:36<02:26, 36.69s/it]\u001b[A\n",
      " 40%|████      | 2/5 [00:51<01:11, 23.89s/it]\u001b[A\n",
      " 60%|██████    | 3/5 [01:32<01:03, 31.72s/it]\u001b[A\n",
      " 80%|████████  | 4/5 [02:17<00:36, 36.77s/it]\u001b[A\n",
      "100%|██████████| 5/5 [02:42<00:00, 32.41s/it]\u001b[A\n",
      " 94%|█████████▍| 16/17 [1:27:39<05:28, 328.16s/it]"
     ]
    },
    {
     "name": "stdout",
     "output_type": "stream",
     "text": [
      "mode:  subm\n",
      "action type:  orders\n",
      "version:  covisit_all+tdidf_new_top_100+tdidf_old_top_100\n",
      "Reading generated candidate file...:  reranker_finale/__stage2__subm__orders__candidates_covisit_all+tdidf_new_top_100+tdidf_old_top_100.parquet\n",
      "predict carts -> save scores to df_candidates_scores\n"
     ]
    },
    {
     "name": "stderr",
     "output_type": "stream",
     "text": [
      "\n",
      "  0%|          | 0/5 [00:00<?, ?it/s]\u001b[A\n",
      " 20%|██        | 1/5 [00:12<00:49, 12.39s/it]\u001b[A\n",
      " 40%|████      | 2/5 [00:23<00:34, 11.59s/it]\u001b[A\n",
      " 60%|██████    | 3/5 [00:36<00:24, 12.26s/it]\u001b[A\n",
      " 80%|████████  | 4/5 [00:53<00:14, 14.07s/it]\u001b[A\n",
      "100%|██████████| 5/5 [01:06<00:00, 13.24s/it]\u001b[A\n"
     ]
    },
    {
     "name": "stdout",
     "output_type": "stream",
     "text": [
      "predict orders -> save scores to df_candidates_scores\n"
     ]
    },
    {
     "name": "stderr",
     "output_type": "stream",
     "text": [
      "\n",
      "  0%|          | 0/5 [00:00<?, ?it/s]\u001b[A\n",
      " 20%|██        | 1/5 [00:26<01:45, 26.37s/it]\u001b[A\n",
      " 40%|████      | 2/5 [00:37<00:51, 17.12s/it]\u001b[A\n",
      " 60%|██████    | 3/5 [01:06<00:45, 22.63s/it]\u001b[A\n",
      " 80%|████████  | 4/5 [01:37<00:26, 26.12s/it]\u001b[A\n",
      "100%|██████████| 5/5 [01:55<00:00, 23.08s/it]\u001b[A\n",
      "100%|██████████| 17/17 [1:31:46<00:00, 323.92s/it]\n"
     ]
    }
   ],
   "source": [
    "b_sz = 100000\n",
    "# df_candidates_scores = df_candidates_item_item_features.select([\"session\", \"aid\"])\n",
    "\n",
    "df_candidates_clicks_scores = []\n",
    "df_candidates_carts_scores = []\n",
    "df_candidates_orders_scores = []\n",
    "\n",
    "action_type = \"orders\" # common dataset for carts and orders\n",
    "\n",
    "for test_session_start in tqdm(range(0, len(test_users), b_sz)):\n",
    "    test_sessions = test_users[test_session_start : test_session_start + b_sz]\n",
    "    \n",
    "    df_stage_2_dataset_batch = gather_dataset_features(\n",
    "        mode = mode,\n",
    "        action_type = action_type,\n",
    "        version = version,\n",
    "        feature_groups = feature_groups,\n",
    "        batch_users=test_sessions,\n",
    "    )\n",
    "\n",
    "#     print(\"predict clicks -> save scores to df_candidates_scores\")\n",
    "#     df_clicks_scores = lgb_cv_folds_predictions(df_stage_2_batch, clicks_model_file_tmplt, \"clicks\")\n",
    "#     df_candidates_clicks_scores.append(df_clicks_scores)\n",
    "    \n",
    "    print(\"predict carts -> save scores to df_candidates_scores\")\n",
    "    df_carts_scores = lgb_cv_folds_predictions(df_stage_2_dataset_batch, carts_model_file_tmplt, \"carts\")\n",
    "    df_candidates_carts_scores.append(df_carts_scores)\n",
    "    \n",
    "    print(\"predict orders -> save scores to df_candidates_scores\")\n",
    "    df_orders_scores = lgb_cv_folds_predictions(df_stage_2_dataset_batch, orders_model_file_tmplt, \"orders\")\n",
    "    df_candidates_orders_scores.append(df_orders_scores)\n"
   ]
  },
  {
   "cell_type": "code",
   "execution_count": 19,
   "id": "ee8359b6",
   "metadata": {
    "ExecuteTime": {
     "end_time": "2023-01-31T08:15:44.912219Z",
     "start_time": "2023-01-31T08:15:07.641130Z"
    }
   },
   "outputs": [],
   "source": [
    "df_candidates_carts_scores = pl.concat(df_candidates_carts_scores)\n",
    "df_candidates_carts_scores.write_parquet(f\"reranker_finale/__submission__carts_{version}_v0.parquet\")"
   ]
  },
  {
   "cell_type": "code",
   "execution_count": 20,
   "id": "580c1e71",
   "metadata": {
    "ExecuteTime": {
     "end_time": "2023-01-31T08:16:21.487042Z",
     "start_time": "2023-01-31T08:15:44.913644Z"
    }
   },
   "outputs": [],
   "source": [
    "df_candidates_orders_scores = pl.concat(df_candidates_orders_scores)\n",
    "df_candidates_orders_scores.write_parquet(f\"reranker_finale/__submission__orders_{version}_v2.parquet\")"
   ]
  },
  {
   "cell_type": "markdown",
   "id": "d4e73f9e",
   "metadata": {},
   "source": [
    "## clicks"
   ]
  },
  {
   "cell_type": "code",
   "execution_count": 4,
   "id": "6ee31f4c",
   "metadata": {
    "ExecuteTime": {
     "end_time": "2023-01-31T18:34:32.903926Z",
     "start_time": "2023-01-31T18:34:32.881873Z"
    }
   },
   "outputs": [],
   "source": [
    "action_type = \"clicks\"\n",
    "mode = \"subm\"\n",
    "version = \"+\".join([\"tdidf_new_top_100\", \"tdidf_old_top_100\"])\n",
    "feature_groups = [\"cand_user_item\", \"w2v_item2item\", \"covisit_item2item\", \"other\"]"
   ]
  },
  {
   "cell_type": "code",
   "execution_count": 5,
   "id": "4cc12c85",
   "metadata": {
    "ExecuteTime": {
     "end_time": "2023-01-31T18:34:37.504466Z",
     "start_time": "2023-01-31T18:34:37.473423Z"
    }
   },
   "outputs": [],
   "source": [
    "def lgb_cv_folds_predictions(\n",
    "    df,\n",
    "    model_file_tmplt,\n",
    "    action_type,\n",
    "    save_path: Path = Path(\"reranker_finale\"),\n",
    "):\n",
    "    feature_cols = df.drop([\"session\", \"aid\"]).columns\n",
    "    df_valid_preds = df.select([\"session\", \"aid\"])\n",
    "    X_test = df[feature_cols].to_numpy()\n",
    "\n",
    "    for fold in tqdm(range(5)):\n",
    "#         model_file = model_file_tmplt.format(action_type=action_type, fold=fold)\n",
    "        model_file = model_file_tmplt.format(action_type=action_type, fold=fold)\n",
    "        gbm_ranking = lgb.Booster(model_file=(save_path / model_file).as_posix())\n",
    "        scores = gbm_ranking.predict(X_test)\n",
    "        df_valid_preds_fold = (\n",
    "            df.select([\"session\", \"aid\"])\n",
    "            .with_columns([pl.Series(scores).alias(f\"scores_fold{fold}\")])\n",
    "        )\n",
    "        df_valid_preds = (\n",
    "            df_valid_preds.join(df_valid_preds_fold, on=[\"session\", \"aid\"], how=\"left\")\n",
    "        )\n",
    "    \n",
    "    scores = (\n",
    "        df_valid_preds\n",
    "        .select([\n",
    "            pl.col(\"scores_fold0\"),\n",
    "            pl.col(\"scores_fold1\"),\n",
    "            pl.col(\"scores_fold2\"), \n",
    "            pl.col(\"scores_fold3\"), \n",
    "            pl.col(\"scores_fold4\"),\n",
    "        ]).mean(axis=1)\n",
    "    )\n",
    "    \n",
    "    df_valid_preds = (\n",
    "        df_valid_preds.with_column(scores.alias(f\"{action_type}_score\"))\n",
    "        .select([\"session\", \"aid\", f\"{action_type}_score\"])\n",
    "    )\n",
    "    return df_valid_preds"
   ]
  },
  {
   "cell_type": "code",
   "execution_count": 6,
   "id": "9cd1ed44",
   "metadata": {
    "ExecuteTime": {
     "end_time": "2023-01-31T18:35:03.210600Z",
     "start_time": "2023-01-31T18:35:03.188693Z"
    }
   },
   "outputs": [
    {
     "name": "stdout",
     "output_type": "stream",
     "text": [
      "clicks tmplt:  __model__clicks_tdidf_new_top_100+tdidf_old_top_100_reranker_fold{fold}_v0.lgb\n"
     ]
    }
   ],
   "source": [
    "action_type = \"clicks\"\n",
    "model_version = \"v0\"\n",
    "clicks_model_file_tmplt = f\"__model__{action_type}_{version}_reranker_fold{{fold}}_{model_version}.lgb\"\n",
    "print(\"clicks tmplt: \", clicks_model_file_tmplt)"
   ]
  },
  {
   "cell_type": "code",
   "execution_count": 8,
   "id": "3ea5c41d",
   "metadata": {
    "ExecuteTime": {
     "end_time": "2023-01-31T19:23:41.480034Z",
     "start_time": "2023-01-31T18:37:22.312192Z"
    },
    "scrolled": true
   },
   "outputs": [
    {
     "name": "stderr",
     "output_type": "stream",
     "text": [
      "\r",
      "  0%|          | 0/17 [00:00<?, ?it/s]"
     ]
    },
    {
     "name": "stdout",
     "output_type": "stream",
     "text": [
      "mode:  subm\n",
      "action type:  clicks\n",
      "version:  tdidf_new_top_100+tdidf_old_top_100\n",
      "Reading generated candidate file...:  reranker_finale/__stage2__subm__clicks__candidates_tdidf_new_top_100+tdidf_old_top_100.parquet\n",
      "predict clicks -> save scores to df_candidates_scores\n"
     ]
    },
    {
     "name": "stderr",
     "output_type": "stream",
     "text": [
      "\n",
      "  0%|          | 0/5 [00:00<?, ?it/s]\u001b[A\n",
      " 20%|██        | 1/5 [00:27<01:51, 27.80s/it]\u001b[A\n",
      " 40%|████      | 2/5 [00:43<01:02, 20.97s/it]\u001b[A\n",
      " 60%|██████    | 3/5 [01:05<00:42, 21.23s/it]\u001b[A\n",
      " 80%|████████  | 4/5 [01:35<00:24, 24.70s/it]\u001b[A\n",
      "100%|██████████| 5/5 [01:58<00:00, 23.68s/it]\u001b[A\n",
      "  6%|▌         | 1/17 [03:54<1:02:35, 234.72s/it]"
     ]
    },
    {
     "name": "stdout",
     "output_type": "stream",
     "text": [
      "mode:  subm\n",
      "action type:  clicks\n",
      "version:  tdidf_new_top_100+tdidf_old_top_100\n",
      "Reading generated candidate file...:  reranker_finale/__stage2__subm__clicks__candidates_tdidf_new_top_100+tdidf_old_top_100.parquet\n",
      "predict clicks -> save scores to df_candidates_scores\n"
     ]
    },
    {
     "name": "stderr",
     "output_type": "stream",
     "text": [
      "\n",
      "  0%|          | 0/5 [00:00<?, ?it/s]\u001b[A\n",
      " 20%|██        | 1/5 [00:27<01:50, 27.73s/it]\u001b[A\n",
      " 40%|████      | 2/5 [00:43<01:02, 20.92s/it]\u001b[A\n",
      " 60%|██████    | 3/5 [01:05<00:42, 21.39s/it]\u001b[A\n",
      " 80%|████████  | 4/5 [01:35<00:24, 24.70s/it]\u001b[A\n",
      "100%|██████████| 5/5 [01:58<00:00, 23.67s/it]\u001b[A\n",
      " 12%|█▏        | 2/17 [06:35<47:45, 191.01s/it]  "
     ]
    },
    {
     "name": "stdout",
     "output_type": "stream",
     "text": [
      "mode:  subm\n",
      "action type:  clicks\n",
      "version:  tdidf_new_top_100+tdidf_old_top_100\n",
      "Reading generated candidate file...:  reranker_finale/__stage2__subm__clicks__candidates_tdidf_new_top_100+tdidf_old_top_100.parquet\n",
      "predict clicks -> save scores to df_candidates_scores\n"
     ]
    },
    {
     "name": "stderr",
     "output_type": "stream",
     "text": [
      "\n",
      "  0%|          | 0/5 [00:00<?, ?it/s]\u001b[A\n",
      " 20%|██        | 1/5 [00:28<01:52, 28.17s/it]\u001b[A\n",
      " 40%|████      | 2/5 [00:44<01:02, 20.95s/it]\u001b[A\n",
      " 60%|██████    | 3/5 [01:06<00:42, 21.44s/it]\u001b[A\n",
      " 80%|████████  | 4/5 [01:35<00:24, 24.69s/it]\u001b[A\n",
      "100%|██████████| 5/5 [01:58<00:00, 23.70s/it]\u001b[A\n",
      " 18%|█▊        | 3/17 [09:15<41:19, 177.14s/it]"
     ]
    },
    {
     "name": "stdout",
     "output_type": "stream",
     "text": [
      "mode:  subm\n",
      "action type:  clicks\n",
      "version:  tdidf_new_top_100+tdidf_old_top_100\n",
      "Reading generated candidate file...:  reranker_finale/__stage2__subm__clicks__candidates_tdidf_new_top_100+tdidf_old_top_100.parquet\n",
      "predict clicks -> save scores to df_candidates_scores\n"
     ]
    },
    {
     "name": "stderr",
     "output_type": "stream",
     "text": [
      "\n",
      "  0%|          | 0/5 [00:00<?, ?it/s]\u001b[A\n",
      " 20%|██        | 1/5 [00:28<01:52, 28.14s/it]\u001b[A"
     ]
    },
    {
     "name": "stdout",
     "output_type": "stream",
     "text": [
      "predict clicks -> save scores to df_candidates_scores\n"
     ]
    },
    {
     "name": "stderr",
     "output_type": "stream",
     "text": [
      "\n",
      "  0%|          | 0/5 [00:00<?, ?it/s]\u001b[A\n",
      " 20%|██        | 1/5 [00:27<01:51, 27.79s/it]\u001b[A\n",
      " 40%|████      | 2/5 [00:43<01:02, 20.88s/it]\u001b[A\n",
      " 60%|██████    | 3/5 [01:05<00:42, 21.22s/it]\u001b[A\n",
      " 80%|████████  | 4/5 [01:35<00:24, 24.56s/it]\u001b[A\n",
      "100%|██████████| 5/5 [01:57<00:00, 23.56s/it]\u001b[A\n",
      " 29%|██▉       | 5/17 [14:37<33:24, 167.07s/it]"
     ]
    },
    {
     "name": "stdout",
     "output_type": "stream",
     "text": [
      "mode:  subm\n",
      "action type:  clicks\n",
      "version:  tdidf_new_top_100+tdidf_old_top_100\n",
      "Reading generated candidate file...:  reranker_finale/__stage2__subm__clicks__candidates_tdidf_new_top_100+tdidf_old_top_100.parquet\n",
      "predict clicks -> save scores to df_candidates_scores\n"
     ]
    },
    {
     "name": "stderr",
     "output_type": "stream",
     "text": [
      "\n",
      "  0%|          | 0/5 [00:00<?, ?it/s]\u001b[A\n",
      " 20%|██        | 1/5 [00:28<01:52, 28.15s/it]\u001b[A\n",
      " 40%|████      | 2/5 [00:44<01:02, 20.98s/it]\u001b[A\n",
      " 60%|██████    | 3/5 [01:05<00:42, 21.25s/it]\u001b[A\n",
      " 80%|████████  | 4/5 [01:35<00:24, 24.66s/it]\u001b[A\n",
      "100%|██████████| 5/5 [01:58<00:00, 23.67s/it]\u001b[A\n",
      " 35%|███▌      | 6/17 [17:18<30:14, 164.98s/it]"
     ]
    },
    {
     "name": "stdout",
     "output_type": "stream",
     "text": [
      "mode:  subm\n",
      "action type:  clicks\n",
      "version:  tdidf_new_top_100+tdidf_old_top_100\n",
      "Reading generated candidate file...:  reranker_finale/__stage2__subm__clicks__candidates_tdidf_new_top_100+tdidf_old_top_100.parquet\n",
      "predict clicks -> save scores to df_candidates_scores\n"
     ]
    },
    {
     "name": "stderr",
     "output_type": "stream",
     "text": [
      "\n",
      "  0%|          | 0/5 [00:00<?, ?it/s]\u001b[A\n",
      " 20%|██        | 1/5 [00:27<01:51, 27.94s/it]\u001b[A\n",
      " 40%|████      | 2/5 [00:44<01:02, 20.97s/it]\u001b[A\n",
      " 60%|██████    | 3/5 [01:05<00:42, 21.36s/it]\u001b[A\n",
      " 80%|████████  | 4/5 [01:35<00:24, 24.58s/it]\u001b[A\n",
      "100%|██████████| 5/5 [01:58<00:00, 23.61s/it]\u001b[A\n",
      " 41%|████      | 7/17 [19:58<27:15, 163.58s/it]"
     ]
    },
    {
     "name": "stdout",
     "output_type": "stream",
     "text": [
      "mode:  subm\n",
      "action type:  clicks\n",
      "version:  tdidf_new_top_100+tdidf_old_top_100\n",
      "Reading generated candidate file...:  reranker_finale/__stage2__subm__clicks__candidates_tdidf_new_top_100+tdidf_old_top_100.parquet\n",
      "predict clicks -> save scores to df_candidates_scores\n"
     ]
    },
    {
     "name": "stderr",
     "output_type": "stream",
     "text": [
      "\n",
      "  0%|          | 0/5 [00:00<?, ?it/s]\u001b[A\n",
      " 20%|██        | 1/5 [00:28<01:52, 28.11s/it]\u001b[A\n",
      " 40%|████      | 2/5 [00:44<01:03, 21.24s/it]\u001b[A\n",
      " 60%|██████    | 3/5 [01:06<00:43, 21.66s/it]\u001b[A\n",
      " 80%|████████  | 4/5 [01:36<00:24, 24.97s/it]\u001b[A\n",
      "100%|██████████| 5/5 [01:59<00:00, 23.95s/it]\u001b[A\n",
      " 47%|████▋     | 8/17 [22:41<24:29, 163.23s/it]"
     ]
    },
    {
     "name": "stdout",
     "output_type": "stream",
     "text": [
      "mode:  subm\n",
      "action type:  clicks\n",
      "version:  tdidf_new_top_100+tdidf_old_top_100\n",
      "Reading generated candidate file...:  reranker_finale/__stage2__subm__clicks__candidates_tdidf_new_top_100+tdidf_old_top_100.parquet\n",
      "predict clicks -> save scores to df_candidates_scores\n"
     ]
    },
    {
     "name": "stderr",
     "output_type": "stream",
     "text": [
      "\n",
      "  0%|          | 0/5 [00:00<?, ?it/s]\u001b[A\n",
      " 20%|██        | 1/5 [00:28<01:52, 28.09s/it]\u001b[A\n",
      " 40%|████      | 2/5 [00:44<01:02, 20.95s/it]\u001b[A\n",
      " 60%|██████    | 3/5 [01:05<00:42, 21.22s/it]\u001b[A\n",
      " 80%|████████  | 4/5 [01:35<00:24, 24.52s/it]\u001b[A\n",
      "100%|██████████| 5/5 [01:57<00:00, 23.53s/it]\u001b[A\n",
      " 53%|█████▎    | 9/17 [25:21<21:38, 162.30s/it]"
     ]
    },
    {
     "name": "stdout",
     "output_type": "stream",
     "text": [
      "mode:  subm\n",
      "action type:  clicks\n",
      "version:  tdidf_new_top_100+tdidf_old_top_100\n",
      "Reading generated candidate file...:  reranker_finale/__stage2__subm__clicks__candidates_tdidf_new_top_100+tdidf_old_top_100.parquet\n",
      "predict clicks -> save scores to df_candidates_scores\n"
     ]
    },
    {
     "name": "stderr",
     "output_type": "stream",
     "text": [
      "\n",
      "  0%|          | 0/5 [00:00<?, ?it/s]\u001b[A\n",
      " 20%|██        | 1/5 [00:28<01:52, 28.03s/it]\u001b[A\n",
      " 40%|████      | 2/5 [00:44<01:03, 21.23s/it]\u001b[A\n",
      " 60%|██████    | 3/5 [01:06<00:43, 21.55s/it]\u001b[A\n",
      " 80%|████████  | 4/5 [01:36<00:24, 24.87s/it]\u001b[A\n",
      "100%|██████████| 5/5 [01:59<00:00, 23.84s/it]\u001b[A\n",
      " 59%|█████▉    | 10/17 [28:03<18:55, 162.22s/it]"
     ]
    },
    {
     "name": "stdout",
     "output_type": "stream",
     "text": [
      "mode:  subm\n",
      "action type:  clicks\n",
      "version:  tdidf_new_top_100+tdidf_old_top_100\n",
      "Reading generated candidate file...:  reranker_finale/__stage2__subm__clicks__candidates_tdidf_new_top_100+tdidf_old_top_100.parquet\n",
      "predict clicks -> save scores to df_candidates_scores\n"
     ]
    },
    {
     "name": "stderr",
     "output_type": "stream",
     "text": [
      "\n",
      "  0%|          | 0/5 [00:00<?, ?it/s]\u001b[A\n",
      " 20%|██        | 1/5 [00:27<01:51, 27.80s/it]\u001b[A\n",
      " 40%|████      | 2/5 [00:43<01:01, 20.66s/it]\u001b[A\n",
      " 60%|██████    | 3/5 [01:04<00:42, 21.06s/it]\u001b[A\n",
      " 80%|████████  | 4/5 [01:34<00:24, 24.45s/it]\u001b[A\n",
      "100%|██████████| 5/5 [01:57<00:00, 23.44s/it]\u001b[A\n",
      " 65%|██████▍   | 11/17 [30:43<16:09, 161.56s/it]"
     ]
    },
    {
     "name": "stdout",
     "output_type": "stream",
     "text": [
      "mode:  subm\n",
      "action type:  clicks\n",
      "version:  tdidf_new_top_100+tdidf_old_top_100\n",
      "Reading generated candidate file...:  reranker_finale/__stage2__subm__clicks__candidates_tdidf_new_top_100+tdidf_old_top_100.parquet\n",
      "predict clicks -> save scores to df_candidates_scores\n"
     ]
    },
    {
     "name": "stderr",
     "output_type": "stream",
     "text": [
      "\n",
      "  0%|          | 0/5 [00:00<?, ?it/s]\u001b[A\n",
      " 20%|██        | 1/5 [00:28<01:52, 28.08s/it]\u001b[A\n",
      " 40%|████      | 2/5 [00:44<01:03, 21.26s/it]\u001b[A\n",
      " 60%|██████    | 3/5 [01:06<00:43, 21.54s/it]\u001b[A\n",
      " 80%|████████  | 4/5 [01:36<00:24, 24.83s/it]\u001b[A\n",
      "100%|██████████| 5/5 [01:59<00:00, 23.87s/it]\u001b[A\n",
      " 71%|███████   | 12/17 [33:26<13:29, 161.81s/it]"
     ]
    },
    {
     "name": "stdout",
     "output_type": "stream",
     "text": [
      "mode:  subm\n",
      "action type:  clicks\n",
      "version:  tdidf_new_top_100+tdidf_old_top_100\n",
      "Reading generated candidate file...:  reranker_finale/__stage2__subm__clicks__candidates_tdidf_new_top_100+tdidf_old_top_100.parquet\n",
      "predict clicks -> save scores to df_candidates_scores\n"
     ]
    },
    {
     "name": "stderr",
     "output_type": "stream",
     "text": [
      "\n",
      "  0%|          | 0/5 [00:00<?, ?it/s]\u001b[A\n",
      " 20%|██        | 1/5 [00:28<01:52, 28.22s/it]\u001b[A\n",
      " 40%|████      | 2/5 [00:44<01:03, 21.03s/it]\u001b[A\n",
      " 60%|██████    | 3/5 [01:06<00:42, 21.40s/it]\u001b[A\n",
      " 80%|████████  | 4/5 [01:35<00:24, 24.76s/it]\u001b[A\n",
      "100%|██████████| 5/5 [01:58<00:00, 23.75s/it]\u001b[A\n",
      " 76%|███████▋  | 13/17 [36:07<10:47, 161.78s/it]"
     ]
    },
    {
     "name": "stdout",
     "output_type": "stream",
     "text": [
      "mode:  subm\n",
      "action type:  clicks\n",
      "version:  tdidf_new_top_100+tdidf_old_top_100\n",
      "Reading generated candidate file...:  reranker_finale/__stage2__subm__clicks__candidates_tdidf_new_top_100+tdidf_old_top_100.parquet\n",
      "predict clicks -> save scores to df_candidates_scores\n"
     ]
    },
    {
     "name": "stderr",
     "output_type": "stream",
     "text": [
      "\n",
      "  0%|          | 0/5 [00:00<?, ?it/s]\u001b[A\n",
      " 20%|██        | 1/5 [00:28<01:53, 28.37s/it]\u001b[A\n",
      " 40%|████      | 2/5 [00:44<01:04, 21.35s/it]\u001b[A\n",
      " 60%|██████    | 3/5 [01:06<00:43, 21.65s/it]\u001b[A\n",
      " 80%|████████  | 4/5 [01:36<00:24, 24.95s/it]\u001b[A\n",
      "100%|██████████| 5/5 [02:00<00:00, 24.02s/it]\u001b[A\n",
      " 82%|████████▏ | 14/17 [38:50<08:06, 162.11s/it]"
     ]
    },
    {
     "name": "stdout",
     "output_type": "stream",
     "text": [
      "mode:  subm\n",
      "action type:  clicks\n",
      "version:  tdidf_new_top_100+tdidf_old_top_100\n",
      "Reading generated candidate file...:  reranker_finale/__stage2__subm__clicks__candidates_tdidf_new_top_100+tdidf_old_top_100.parquet\n",
      "predict clicks -> save scores to df_candidates_scores\n"
     ]
    },
    {
     "name": "stderr",
     "output_type": "stream",
     "text": [
      "\n",
      "  0%|          | 0/5 [00:00<?, ?it/s]\u001b[A\n",
      " 20%|██        | 1/5 [00:27<01:51, 27.86s/it]\u001b[A\n",
      " 40%|████      | 2/5 [00:43<01:02, 20.88s/it]\u001b[A\n",
      " 60%|██████    | 3/5 [01:05<00:42, 21.22s/it]\u001b[A\n",
      " 80%|████████  | 4/5 [01:35<00:24, 24.69s/it]\u001b[A\n",
      "100%|██████████| 5/5 [01:58<00:00, 23.60s/it]\u001b[A\n",
      " 88%|████████▊ | 15/17 [41:31<05:23, 161.79s/it]"
     ]
    },
    {
     "name": "stdout",
     "output_type": "stream",
     "text": [
      "mode:  subm\n",
      "action type:  clicks\n",
      "version:  tdidf_new_top_100+tdidf_old_top_100\n",
      "Reading generated candidate file...:  reranker_finale/__stage2__subm__clicks__candidates_tdidf_new_top_100+tdidf_old_top_100.parquet\n",
      "predict clicks -> save scores to df_candidates_scores\n"
     ]
    },
    {
     "name": "stderr",
     "output_type": "stream",
     "text": [
      "\n",
      "  0%|          | 0/5 [00:00<?, ?it/s]\u001b[A\n",
      " 20%|██        | 1/5 [00:27<01:50, 27.59s/it]\u001b[A\n",
      " 40%|████      | 2/5 [00:43<01:02, 20.69s/it]\u001b[A\n",
      " 60%|██████    | 3/5 [01:04<00:42, 21.02s/it]\u001b[A\n",
      " 80%|████████  | 4/5 [01:34<00:24, 24.41s/it]\u001b[A\n",
      "100%|██████████| 5/5 [01:56<00:00, 23.38s/it]\u001b[A\n",
      " 94%|█████████▍| 16/17 [44:12<02:41, 161.30s/it]"
     ]
    },
    {
     "name": "stdout",
     "output_type": "stream",
     "text": [
      "mode:  subm\n",
      "action type:  clicks\n",
      "version:  tdidf_new_top_100+tdidf_old_top_100\n",
      "Reading generated candidate file...:  reranker_finale/__stage2__subm__clicks__candidates_tdidf_new_top_100+tdidf_old_top_100.parquet\n",
      "predict clicks -> save scores to df_candidates_scores\n"
     ]
    },
    {
     "name": "stderr",
     "output_type": "stream",
     "text": [
      "\n",
      "  0%|          | 0/5 [00:00<?, ?it/s]\u001b[A\n",
      " 20%|██        | 1/5 [00:20<01:20, 20.03s/it]\u001b[A\n",
      " 40%|████      | 2/5 [00:31<00:45, 15.02s/it]\u001b[A\n",
      " 60%|██████    | 3/5 [00:47<00:30, 15.32s/it]\u001b[A\n",
      " 80%|████████  | 4/5 [01:08<00:17, 17.70s/it]\u001b[A\n",
      "100%|██████████| 5/5 [01:24<00:00, 16.97s/it]\u001b[A\n",
      "100%|██████████| 17/17 [46:19<00:00, 163.48s/it]\n"
     ]
    }
   ],
   "source": [
    "b_sz = 100000\n",
    "\n",
    "df_candidates_clicks_scores = []\n",
    "df_candidates_carts_scores = []\n",
    "df_candidates_orders_scores = []\n",
    "\n",
    "action_type = \"clicks\"\n",
    "\n",
    "for test_session_start in tqdm(range(0, len(test_users), b_sz)):\n",
    "    test_sessions = test_users[test_session_start : test_session_start + b_sz]\n",
    "    \n",
    "    df_stage_2_dataset_batch = gather_dataset_features(\n",
    "        mode = mode,\n",
    "        action_type = action_type,\n",
    "        version = version,\n",
    "        feature_groups = feature_groups,\n",
    "        batch_users=test_sessions,\n",
    "    )\n",
    "\n",
    "    print(\"predict clicks -> save scores to df_candidates_scores\")\n",
    "    df_clicks_scores = lgb_cv_folds_predictions(df_stage_2_dataset_batch, clicks_model_file_tmplt, \"clicks\")\n",
    "    df_candidates_clicks_scores.append(df_clicks_scores)\n"
   ]
  },
  {
   "cell_type": "code",
   "execution_count": 9,
   "id": "e60f11e6",
   "metadata": {
    "ExecuteTime": {
     "end_time": "2023-01-31T19:23:59.133390Z",
     "start_time": "2023-01-31T19:23:41.481653Z"
    }
   },
   "outputs": [],
   "source": [
    "df_candidates_clicks_scores = pl.concat(df_candidates_clicks_scores)\n",
    "df_candidates_clicks_scores.write_parquet(f\"reranker_finale/__submission__clicks_{version}_v0.parquet\")"
   ]
  },
  {
   "cell_type": "code",
   "execution_count": null,
   "id": "c2a8ec1e",
   "metadata": {},
   "outputs": [],
   "source": []
  },
  {
   "cell_type": "markdown",
   "id": "c2f18d6d",
   "metadata": {},
   "source": [
    "# Submission"
   ]
  },
  {
   "cell_type": "markdown",
   "id": "96b6360e",
   "metadata": {},
   "source": [
    "## click"
   ]
  },
  {
   "cell_type": "code",
   "execution_count": 21,
   "id": "fd564bba",
   "metadata": {
    "ExecuteTime": {
     "end_time": "2023-01-31T08:20:27.046272Z",
     "start_time": "2023-01-31T08:20:11.035614Z"
    }
   },
   "outputs": [],
   "source": [
    "# df_candidates_clicks_scores = pl.read_parquet(\"__subm__clicks_scores_candidates_reranking_v3_1.parquet\")\n",
    "version = \"+\".join([\"tdidf_new_top_100\", \"tdidf_old_top_100\"])\n",
    "df_candidates_clicks_scores = pl.read_parquet(f\"reranker_finale/__submission__clicks_{version}_v0.parquet\")"
   ]
  },
  {
   "cell_type": "code",
   "execution_count": 10,
   "id": "c552e1a0",
   "metadata": {
    "ExecuteTime": {
     "end_time": "2023-01-31T19:26:55.674893Z",
     "start_time": "2023-01-31T19:26:49.318993Z"
    }
   },
   "outputs": [],
   "source": [
    "df_valid_preds_sorted = (\n",
    "    df_candidates_clicks_scores\n",
    "    .sort(\"clicks_score\", reverse=True)\n",
    "    .groupby(\"session\")\n",
    "    .agg([\n",
    "        pl.list(\"aid\"),\n",
    "        pl.list(\"clicks_score\"),\n",
    "    ])\n",
    ")"
   ]
  },
  {
   "cell_type": "code",
   "execution_count": 11,
   "id": "8a6ed13b",
   "metadata": {
    "ExecuteTime": {
     "end_time": "2023-01-31T19:27:39.559402Z",
     "start_time": "2023-01-31T19:26:56.911686Z"
    }
   },
   "outputs": [
    {
     "name": "stderr",
     "output_type": "stream",
     "text": [
      "100%|██████████| 1671803/1671803 [00:06<00:00, 258656.70it/s]\n"
     ]
    }
   ],
   "source": [
    "# stage 2 valid carts reranked - recall@20 optimized\n",
    "submission_dict = {\n",
    "    \"session_type\": [],\n",
    "    \"labels\": [],\n",
    "}\n",
    "\n",
    "types = [\"clicks\"]\n",
    "topk = 20\n",
    "\n",
    "for row in tqdm(df_valid_preds_sorted.rows()):\n",
    "    session_id = row[0]\n",
    "    rec_items = row[1][:topk]\n",
    "    \n",
    "    session_types = [f\"{session_id}_{t}\" for t in types]\n",
    "    labels = \" \".join(str(aid) for aid in rec_items)\n",
    "    labels_list = [labels]\n",
    "    \n",
    "    submission_dict[\"session_type\"].extend(session_types)\n",
    "    submission_dict[\"labels\"].extend(labels_list)"
   ]
  },
  {
   "cell_type": "code",
   "execution_count": 12,
   "id": "2417469c",
   "metadata": {
    "ExecuteTime": {
     "end_time": "2023-01-31T19:27:40.161797Z",
     "start_time": "2023-01-31T19:27:39.561238Z"
    }
   },
   "outputs": [],
   "source": [
    "df_submission_clicks_reranked = pl.DataFrame(submission_dict)"
   ]
  },
  {
   "cell_type": "code",
   "execution_count": 13,
   "id": "49c55a17",
   "metadata": {
    "ExecuteTime": {
     "end_time": "2023-01-31T19:27:40.190942Z",
     "start_time": "2023-01-31T19:27:40.163416Z"
    }
   },
   "outputs": [
    {
     "data": {
      "text/html": [
       "<div>\n",
       "<style scoped>\n",
       "    .dataframe tbody tr th:only-of-type {\n",
       "        vertical-align: middle;\n",
       "    }\n",
       "\n",
       "    .dataframe tbody tr th {\n",
       "        vertical-align: top;\n",
       "    }\n",
       "\n",
       "    .dataframe thead th {\n",
       "        text-align: right;\n",
       "    }\n",
       "\n",
       "    .dataframe td {\n",
       "        white-space: pre;\n",
       "    }\n",
       "\n",
       "    .dataframe td {\n",
       "        padding-top: 0;\n",
       "    }\n",
       "\n",
       "    .dataframe td {\n",
       "        padding-bottom: 0;\n",
       "    }\n",
       "\n",
       "    .dataframe td {\n",
       "        line-height: 95%;\n",
       "    }\n",
       "</style>\n",
       "<table border=\"1\" class=\"dataframe\" >\n",
       "<small>shape: (5, 2)</small>\n",
       "<thead>\n",
       "<tr>\n",
       "<th>\n",
       "session_type\n",
       "</th>\n",
       "<th>\n",
       "labels\n",
       "</th>\n",
       "</tr>\n",
       "<tr>\n",
       "<td>\n",
       "str\n",
       "</td>\n",
       "<td>\n",
       "str\n",
       "</td>\n",
       "</tr>\n",
       "</thead>\n",
       "<tbody>\n",
       "<tr>\n",
       "<td>\n",
       "&quot;12990016_click...\n",
       "</td>\n",
       "<td>\n",
       "&quot;1678423 453451...\n",
       "</td>\n",
       "</tr>\n",
       "<tr>\n",
       "<td>\n",
       "&quot;13136960_click...\n",
       "</td>\n",
       "<td>\n",
       "&quot;824944 1460571...\n",
       "</td>\n",
       "</tr>\n",
       "<tr>\n",
       "<td>\n",
       "&quot;12977024_click...\n",
       "</td>\n",
       "<td>\n",
       "&quot;1650609 167637...\n",
       "</td>\n",
       "</tr>\n",
       "<tr>\n",
       "<td>\n",
       "&quot;14140032_click...\n",
       "</td>\n",
       "<td>\n",
       "&quot;1679462 184957...\n",
       "</td>\n",
       "</tr>\n",
       "<tr>\n",
       "<td>\n",
       "&quot;13433728_click...\n",
       "</td>\n",
       "<td>\n",
       "&quot;1180465 439222...\n",
       "</td>\n",
       "</tr>\n",
       "</tbody>\n",
       "</table>\n",
       "</div>"
      ],
      "text/plain": [
       "shape: (5, 2)\n",
       "┌─────────────────┬─────────────────────────────────────┐\n",
       "│ session_type    ┆ labels                              │\n",
       "│ ---             ┆ ---                                 │\n",
       "│ str             ┆ str                                 │\n",
       "╞═════════════════╪═════════════════════════════════════╡\n",
       "│ 12990016_clicks ┆ 1678423 453451 1630663 27194 621... │\n",
       "├╌╌╌╌╌╌╌╌╌╌╌╌╌╌╌╌╌┼╌╌╌╌╌╌╌╌╌╌╌╌╌╌╌╌╌╌╌╌╌╌╌╌╌╌╌╌╌╌╌╌╌╌╌╌╌┤\n",
       "│ 13136960_clicks ┆ 824944 1460571 1611581 57315 114... │\n",
       "├╌╌╌╌╌╌╌╌╌╌╌╌╌╌╌╌╌┼╌╌╌╌╌╌╌╌╌╌╌╌╌╌╌╌╌╌╌╌╌╌╌╌╌╌╌╌╌╌╌╌╌╌╌╌╌┤\n",
       "│ 12977024_clicks ┆ 1650609 1676377 36634 1405829 32... │\n",
       "├╌╌╌╌╌╌╌╌╌╌╌╌╌╌╌╌╌┼╌╌╌╌╌╌╌╌╌╌╌╌╌╌╌╌╌╌╌╌╌╌╌╌╌╌╌╌╌╌╌╌╌╌╌╌╌┤\n",
       "│ 14140032_clicks ┆ 1679462 1849579 307048 391178 20... │\n",
       "├╌╌╌╌╌╌╌╌╌╌╌╌╌╌╌╌╌┼╌╌╌╌╌╌╌╌╌╌╌╌╌╌╌╌╌╌╌╌╌╌╌╌╌╌╌╌╌╌╌╌╌╌╌╌╌┤\n",
       "│ 13433728_clicks ┆ 1180465 439222 1042322 1225331 1... │\n",
       "└─────────────────┴─────────────────────────────────────┘"
      ]
     },
     "execution_count": 13,
     "metadata": {},
     "output_type": "execute_result"
    }
   ],
   "source": [
    "df_submission_clicks_reranked.head()"
   ]
  },
  {
   "cell_type": "markdown",
   "id": "82f1aa61",
   "metadata": {},
   "source": [
    "## carts"
   ]
  },
  {
   "cell_type": "code",
   "execution_count": 14,
   "id": "9e21c812",
   "metadata": {
    "ExecuteTime": {
     "end_time": "2023-01-31T19:28:24.530739Z",
     "start_time": "2023-01-31T19:27:46.326331Z"
    }
   },
   "outputs": [],
   "source": [
    "version = \"+\".join([\"covisit_all\", \"tdidf_new_top_100\", \"tdidf_old_top_100\"])\n",
    "df_candidates_carts_scores = pl.read_parquet(f\"reranker_finale/__submission__carts_{version}_v0.parquet\")"
   ]
  },
  {
   "cell_type": "code",
   "execution_count": 15,
   "id": "413b1feb",
   "metadata": {
    "ExecuteTime": {
     "end_time": "2023-01-31T19:28:33.824725Z",
     "start_time": "2023-01-31T19:28:24.532627Z"
    }
   },
   "outputs": [],
   "source": [
    "df_valid_preds_sorted = (\n",
    "    df_candidates_carts_scores\n",
    "    .sort(\"carts_score\", reverse=True)\n",
    "    .groupby(\"session\")\n",
    "    .agg([\n",
    "        pl.list(\"aid\"),\n",
    "        pl.list(\"carts_score\"),\n",
    "    ])\n",
    ")"
   ]
  },
  {
   "cell_type": "code",
   "execution_count": 16,
   "id": "2b8ba5b6",
   "metadata": {
    "ExecuteTime": {
     "end_time": "2023-01-31T19:28:33.855497Z",
     "start_time": "2023-01-31T19:28:33.826236Z"
    }
   },
   "outputs": [
    {
     "data": {
      "text/html": [
       "<div>\n",
       "<style scoped>\n",
       "    .dataframe tbody tr th:only-of-type {\n",
       "        vertical-align: middle;\n",
       "    }\n",
       "\n",
       "    .dataframe tbody tr th {\n",
       "        vertical-align: top;\n",
       "    }\n",
       "\n",
       "    .dataframe thead th {\n",
       "        text-align: right;\n",
       "    }\n",
       "\n",
       "    .dataframe td {\n",
       "        white-space: pre;\n",
       "    }\n",
       "\n",
       "    .dataframe td {\n",
       "        padding-top: 0;\n",
       "    }\n",
       "\n",
       "    .dataframe td {\n",
       "        padding-bottom: 0;\n",
       "    }\n",
       "\n",
       "    .dataframe td {\n",
       "        line-height: 95%;\n",
       "    }\n",
       "</style>\n",
       "<table border=\"1\" class=\"dataframe\" >\n",
       "<small>shape: (1671803, 3)</small>\n",
       "<thead>\n",
       "<tr>\n",
       "<th>\n",
       "session\n",
       "</th>\n",
       "<th>\n",
       "aid\n",
       "</th>\n",
       "<th>\n",
       "carts_score\n",
       "</th>\n",
       "</tr>\n",
       "<tr>\n",
       "<td>\n",
       "i64\n",
       "</td>\n",
       "<td>\n",
       "list[i64]\n",
       "</td>\n",
       "<td>\n",
       "list[f64]\n",
       "</td>\n",
       "</tr>\n",
       "</thead>\n",
       "<tbody>\n",
       "<tr>\n",
       "<td>\n",
       "14350144\n",
       "</td>\n",
       "<td>\n",
       "[337471, 1466369, ... 984617]\n",
       "</td>\n",
       "<td>\n",
       "[1.814851, -0.477041, ... -10.662985]\n",
       "</td>\n",
       "</tr>\n",
       "<tr>\n",
       "<td>\n",
       "13535488\n",
       "</td>\n",
       "<td>\n",
       "[1692706, 1142507, ... 1243358]\n",
       "</td>\n",
       "<td>\n",
       "[3.183787, 0.517683, ... -11.981055]\n",
       "</td>\n",
       "</tr>\n",
       "<tr>\n",
       "<td>\n",
       "13165696\n",
       "</td>\n",
       "<td>\n",
       "[633760, 309703, ... 1679400]\n",
       "</td>\n",
       "<td>\n",
       "[2.96021, 1.857757, ... -38.552639]\n",
       "</td>\n",
       "</tr>\n",
       "<tr>\n",
       "<td>\n",
       "14139072\n",
       "</td>\n",
       "<td>\n",
       "[378765, 1840567, ... 477922]\n",
       "</td>\n",
       "<td>\n",
       "[2.778367, -0.397153, ... -11.058259]\n",
       "</td>\n",
       "</tr>\n",
       "<tr>\n",
       "<td>\n",
       "14086208\n",
       "</td>\n",
       "<td>\n",
       "[1768879, 671101, ... 361995]\n",
       "</td>\n",
       "<td>\n",
       "[1.535539, 0.840866, ... -8.710822]\n",
       "</td>\n",
       "</tr>\n",
       "<tr>\n",
       "<td>\n",
       "13757440\n",
       "</td>\n",
       "<td>\n",
       "[859334, 1117208, ... 121534]\n",
       "</td>\n",
       "<td>\n",
       "[3.208259, 0.84079, ... -10.911554]\n",
       "</td>\n",
       "</tr>\n",
       "<tr>\n",
       "<td>\n",
       "13039040\n",
       "</td>\n",
       "<td>\n",
       "[749432, 268669, ... 1688832]\n",
       "</td>\n",
       "<td>\n",
       "[2.950695, 1.282091, ... -9.715829]\n",
       "</td>\n",
       "</tr>\n",
       "<tr>\n",
       "<td>\n",
       "13259456\n",
       "</td>\n",
       "<td>\n",
       "[215649, 1322823, ... 125524]\n",
       "</td>\n",
       "<td>\n",
       "[4.219167, 3.040282, ... -7.666617]\n",
       "</td>\n",
       "</tr>\n",
       "<tr>\n",
       "<td>\n",
       "13976192\n",
       "</td>\n",
       "<td>\n",
       "[62659, 1039611, ... 1823626]\n",
       "</td>\n",
       "<td>\n",
       "[3.15935, 1.95204, ... -10.939]\n",
       "</td>\n",
       "</tr>\n",
       "<tr>\n",
       "<td>\n",
       "13635008\n",
       "</td>\n",
       "<td>\n",
       "[696431, 1581568, ... 1673678]\n",
       "</td>\n",
       "<td>\n",
       "[4.744767, 1.841567, ... -8.920913]\n",
       "</td>\n",
       "</tr>\n",
       "<tr>\n",
       "<td>\n",
       "12944576\n",
       "</td>\n",
       "<td>\n",
       "[1038058, 1119675, ... 893867]\n",
       "</td>\n",
       "<td>\n",
       "[3.493171, 1.767686, ... -8.484701]\n",
       "</td>\n",
       "</tr>\n",
       "<tr>\n",
       "<td>\n",
       "13055552\n",
       "</td>\n",
       "<td>\n",
       "[1499419, 1240365, ... 1280587]\n",
       "</td>\n",
       "<td>\n",
       "[3.886248, 1.733306, ... -10.980397]\n",
       "</td>\n",
       "</tr>\n",
       "<tr>\n",
       "<td>\n",
       "...\n",
       "</td>\n",
       "<td>\n",
       "...\n",
       "</td>\n",
       "<td>\n",
       "...\n",
       "</td>\n",
       "</tr>\n",
       "<tr>\n",
       "<td>\n",
       "13276801\n",
       "</td>\n",
       "<td>\n",
       "[713772, 176392, ... 116708]\n",
       "</td>\n",
       "<td>\n",
       "[4.531733, 1.613509, ... -11.32335]\n",
       "</td>\n",
       "</tr>\n",
       "<tr>\n",
       "<td>\n",
       "13621505\n",
       "</td>\n",
       "<td>\n",
       "[679760, 1357959, ... 214725]\n",
       "</td>\n",
       "<td>\n",
       "[3.083674, -0.028774, ... -9.666637]\n",
       "</td>\n",
       "</tr>\n",
       "<tr>\n",
       "<td>\n",
       "13417345\n",
       "</td>\n",
       "<td>\n",
       "[521628, 876416, ... 764323]\n",
       "</td>\n",
       "<td>\n",
       "[2.980181, 1.073371, ... -8.282709]\n",
       "</td>\n",
       "</tr>\n",
       "<tr>\n",
       "<td>\n",
       "13247169\n",
       "</td>\n",
       "<td>\n",
       "[448129, 871800, ... 712812]\n",
       "</td>\n",
       "<td>\n",
       "[2.618357, 1.374509, ... -9.09471]\n",
       "</td>\n",
       "</tr>\n",
       "<tr>\n",
       "<td>\n",
       "14124161\n",
       "</td>\n",
       "<td>\n",
       "[125404, 979736, ... 932837]\n",
       "</td>\n",
       "<td>\n",
       "[4.438282, 3.29304, ... -8.756015]\n",
       "</td>\n",
       "</tr>\n",
       "<tr>\n",
       "<td>\n",
       "14327617\n",
       "</td>\n",
       "<td>\n",
       "[1473890, 1110720, ... 1064644]\n",
       "</td>\n",
       "<td>\n",
       "[2.265518, 0.691797, ... -9.609524]\n",
       "</td>\n",
       "</tr>\n",
       "<tr>\n",
       "<td>\n",
       "13428929\n",
       "</td>\n",
       "<td>\n",
       "[32819, 493740, ... 768822]\n",
       "</td>\n",
       "<td>\n",
       "[1.980982, 0.28275, ... -11.556206]\n",
       "</td>\n",
       "</tr>\n",
       "<tr>\n",
       "<td>\n",
       "13256577\n",
       "</td>\n",
       "<td>\n",
       "[1412233, 276010, ... 779168]\n",
       "</td>\n",
       "<td>\n",
       "[3.383277, -0.844117, ... -11.216398]\n",
       "</td>\n",
       "</tr>\n",
       "<tr>\n",
       "<td>\n",
       "14391681\n",
       "</td>\n",
       "<td>\n",
       "[626098, 1662120, ... 1551213]\n",
       "</td>\n",
       "<td>\n",
       "[2.41634, 0.879106, ... -7.985156]\n",
       "</td>\n",
       "</tr>\n",
       "<tr>\n",
       "<td>\n",
       "12963969\n",
       "</td>\n",
       "<td>\n",
       "[1600231, 727347, ... 269391]\n",
       "</td>\n",
       "<td>\n",
       "[2.512229, 1.296056, ... -9.088185]\n",
       "</td>\n",
       "</tr>\n",
       "<tr>\n",
       "<td>\n",
       "13052161\n",
       "</td>\n",
       "<td>\n",
       "[1655568, 1551836, ... 947768]\n",
       "</td>\n",
       "<td>\n",
       "[2.21352, 1.511979, ... -6.995646]\n",
       "</td>\n",
       "</tr>\n",
       "<tr>\n",
       "<td>\n",
       "13001921\n",
       "</td>\n",
       "<td>\n",
       "[479970, 1634903, ... 1551213]\n",
       "</td>\n",
       "<td>\n",
       "[4.700709, 2.504796, ... -7.261347]\n",
       "</td>\n",
       "</tr>\n",
       "</tbody>\n",
       "</table>\n",
       "</div>"
      ],
      "text/plain": [
       "shape: (1671803, 3)\n",
       "┌──────────┬─────────────────────────────────┬─────────────────────────────────────┐\n",
       "│ session  ┆ aid                             ┆ carts_score                         │\n",
       "│ ---      ┆ ---                             ┆ ---                                 │\n",
       "│ i64      ┆ list[i64]                       ┆ list[f64]                           │\n",
       "╞══════════╪═════════════════════════════════╪═════════════════════════════════════╡\n",
       "│ 14350144 ┆ [337471, 1466369, ... 984617]   ┆ [1.814851, -0.477041, ... -10.66... │\n",
       "├╌╌╌╌╌╌╌╌╌╌┼╌╌╌╌╌╌╌╌╌╌╌╌╌╌╌╌╌╌╌╌╌╌╌╌╌╌╌╌╌╌╌╌╌┼╌╌╌╌╌╌╌╌╌╌╌╌╌╌╌╌╌╌╌╌╌╌╌╌╌╌╌╌╌╌╌╌╌╌╌╌╌┤\n",
       "│ 13535488 ┆ [1692706, 1142507, ... 1243358] ┆ [3.183787, 0.517683, ... -11.981... │\n",
       "├╌╌╌╌╌╌╌╌╌╌┼╌╌╌╌╌╌╌╌╌╌╌╌╌╌╌╌╌╌╌╌╌╌╌╌╌╌╌╌╌╌╌╌╌┼╌╌╌╌╌╌╌╌╌╌╌╌╌╌╌╌╌╌╌╌╌╌╌╌╌╌╌╌╌╌╌╌╌╌╌╌╌┤\n",
       "│ 13165696 ┆ [633760, 309703, ... 1679400]   ┆ [2.96021, 1.857757, ... -38.5526... │\n",
       "├╌╌╌╌╌╌╌╌╌╌┼╌╌╌╌╌╌╌╌╌╌╌╌╌╌╌╌╌╌╌╌╌╌╌╌╌╌╌╌╌╌╌╌╌┼╌╌╌╌╌╌╌╌╌╌╌╌╌╌╌╌╌╌╌╌╌╌╌╌╌╌╌╌╌╌╌╌╌╌╌╌╌┤\n",
       "│ 14139072 ┆ [378765, 1840567, ... 477922]   ┆ [2.778367, -0.397153, ... -11.05... │\n",
       "├╌╌╌╌╌╌╌╌╌╌┼╌╌╌╌╌╌╌╌╌╌╌╌╌╌╌╌╌╌╌╌╌╌╌╌╌╌╌╌╌╌╌╌╌┼╌╌╌╌╌╌╌╌╌╌╌╌╌╌╌╌╌╌╌╌╌╌╌╌╌╌╌╌╌╌╌╌╌╌╌╌╌┤\n",
       "│ ...      ┆ ...                             ┆ ...                                 │\n",
       "├╌╌╌╌╌╌╌╌╌╌┼╌╌╌╌╌╌╌╌╌╌╌╌╌╌╌╌╌╌╌╌╌╌╌╌╌╌╌╌╌╌╌╌╌┼╌╌╌╌╌╌╌╌╌╌╌╌╌╌╌╌╌╌╌╌╌╌╌╌╌╌╌╌╌╌╌╌╌╌╌╌╌┤\n",
       "│ 14391681 ┆ [626098, 1662120, ... 1551213]  ┆ [2.41634, 0.879106, ... -7.98515... │\n",
       "├╌╌╌╌╌╌╌╌╌╌┼╌╌╌╌╌╌╌╌╌╌╌╌╌╌╌╌╌╌╌╌╌╌╌╌╌╌╌╌╌╌╌╌╌┼╌╌╌╌╌╌╌╌╌╌╌╌╌╌╌╌╌╌╌╌╌╌╌╌╌╌╌╌╌╌╌╌╌╌╌╌╌┤\n",
       "│ 12963969 ┆ [1600231, 727347, ... 269391]   ┆ [2.512229, 1.296056, ... -9.0881... │\n",
       "├╌╌╌╌╌╌╌╌╌╌┼╌╌╌╌╌╌╌╌╌╌╌╌╌╌╌╌╌╌╌╌╌╌╌╌╌╌╌╌╌╌╌╌╌┼╌╌╌╌╌╌╌╌╌╌╌╌╌╌╌╌╌╌╌╌╌╌╌╌╌╌╌╌╌╌╌╌╌╌╌╌╌┤\n",
       "│ 13052161 ┆ [1655568, 1551836, ... 947768]  ┆ [2.21352, 1.511979, ... -6.99564... │\n",
       "├╌╌╌╌╌╌╌╌╌╌┼╌╌╌╌╌╌╌╌╌╌╌╌╌╌╌╌╌╌╌╌╌╌╌╌╌╌╌╌╌╌╌╌╌┼╌╌╌╌╌╌╌╌╌╌╌╌╌╌╌╌╌╌╌╌╌╌╌╌╌╌╌╌╌╌╌╌╌╌╌╌╌┤\n",
       "│ 13001921 ┆ [479970, 1634903, ... 1551213]  ┆ [4.700709, 2.504796, ... -7.2613... │\n",
       "└──────────┴─────────────────────────────────┴─────────────────────────────────────┘"
      ]
     },
     "execution_count": 16,
     "metadata": {},
     "output_type": "execute_result"
    }
   ],
   "source": [
    "df_valid_preds_sorted"
   ]
  },
  {
   "cell_type": "code",
   "execution_count": 17,
   "id": "f5e97fac",
   "metadata": {
    "ExecuteTime": {
     "end_time": "2023-01-31T19:29:37.671369Z",
     "start_time": "2023-01-31T19:28:39.459463Z"
    }
   },
   "outputs": [
    {
     "name": "stderr",
     "output_type": "stream",
     "text": [
      "100%|██████████| 1671803/1671803 [00:06<00:00, 260266.38it/s]\n"
     ]
    }
   ],
   "source": [
    "# stage 2 valid carts reranked - recall@20 optimized\n",
    "submission_dict = {\n",
    "    \"session_type\": [],\n",
    "    \"labels\": [],\n",
    "}\n",
    "\n",
    "types = [\"carts\"]\n",
    "topk = 20\n",
    "\n",
    "for row in tqdm(df_valid_preds_sorted.rows()):\n",
    "    session_id = row[0]\n",
    "    rec_items = row[1][:topk]\n",
    "    \n",
    "    session_types = [f\"{session_id}_{t}\" for t in types]\n",
    "    labels = \" \".join(str(aid) for aid in rec_items)\n",
    "    labels_list = [labels]\n",
    "    \n",
    "    submission_dict[\"session_type\"].extend(session_types)\n",
    "    submission_dict[\"labels\"].extend(labels_list)"
   ]
  },
  {
   "cell_type": "code",
   "execution_count": 18,
   "id": "5dca8e6b",
   "metadata": {
    "ExecuteTime": {
     "end_time": "2023-01-31T19:29:38.102136Z",
     "start_time": "2023-01-31T19:29:37.673398Z"
    }
   },
   "outputs": [],
   "source": [
    "df_submission_carts_reranked = pl.DataFrame(submission_dict)"
   ]
  },
  {
   "cell_type": "code",
   "execution_count": 19,
   "id": "5611d22a",
   "metadata": {
    "ExecuteTime": {
     "end_time": "2023-01-31T19:29:38.127888Z",
     "start_time": "2023-01-31T19:29:38.103743Z"
    }
   },
   "outputs": [
    {
     "data": {
      "text/html": [
       "<div>\n",
       "<style scoped>\n",
       "    .dataframe tbody tr th:only-of-type {\n",
       "        vertical-align: middle;\n",
       "    }\n",
       "\n",
       "    .dataframe tbody tr th {\n",
       "        vertical-align: top;\n",
       "    }\n",
       "\n",
       "    .dataframe thead th {\n",
       "        text-align: right;\n",
       "    }\n",
       "\n",
       "    .dataframe td {\n",
       "        white-space: pre;\n",
       "    }\n",
       "\n",
       "    .dataframe td {\n",
       "        padding-top: 0;\n",
       "    }\n",
       "\n",
       "    .dataframe td {\n",
       "        padding-bottom: 0;\n",
       "    }\n",
       "\n",
       "    .dataframe td {\n",
       "        line-height: 95%;\n",
       "    }\n",
       "</style>\n",
       "<table border=\"1\" class=\"dataframe\" >\n",
       "<small>shape: (5, 2)</small>\n",
       "<thead>\n",
       "<tr>\n",
       "<th>\n",
       "session_type\n",
       "</th>\n",
       "<th>\n",
       "labels\n",
       "</th>\n",
       "</tr>\n",
       "<tr>\n",
       "<td>\n",
       "str\n",
       "</td>\n",
       "<td>\n",
       "str\n",
       "</td>\n",
       "</tr>\n",
       "</thead>\n",
       "<tbody>\n",
       "<tr>\n",
       "<td>\n",
       "&quot;14350144_carts...\n",
       "</td>\n",
       "<td>\n",
       "&quot;337471 1466369...\n",
       "</td>\n",
       "</tr>\n",
       "<tr>\n",
       "<td>\n",
       "&quot;13535488_carts...\n",
       "</td>\n",
       "<td>\n",
       "&quot;1692706 114250...\n",
       "</td>\n",
       "</tr>\n",
       "<tr>\n",
       "<td>\n",
       "&quot;13165696_carts...\n",
       "</td>\n",
       "<td>\n",
       "&quot;633760 309703 ...\n",
       "</td>\n",
       "</tr>\n",
       "<tr>\n",
       "<td>\n",
       "&quot;14139072_carts...\n",
       "</td>\n",
       "<td>\n",
       "&quot;378765 1840567...\n",
       "</td>\n",
       "</tr>\n",
       "<tr>\n",
       "<td>\n",
       "&quot;14086208_carts...\n",
       "</td>\n",
       "<td>\n",
       "&quot;1768879 671101...\n",
       "</td>\n",
       "</tr>\n",
       "</tbody>\n",
       "</table>\n",
       "</div>"
      ],
      "text/plain": [
       "shape: (5, 2)\n",
       "┌────────────────┬─────────────────────────────────────┐\n",
       "│ session_type   ┆ labels                              │\n",
       "│ ---            ┆ ---                                 │\n",
       "│ str            ┆ str                                 │\n",
       "╞════════════════╪═════════════════════════════════════╡\n",
       "│ 14350144_carts ┆ 337471 1466369 1554258 1443271 1... │\n",
       "├╌╌╌╌╌╌╌╌╌╌╌╌╌╌╌╌┼╌╌╌╌╌╌╌╌╌╌╌╌╌╌╌╌╌╌╌╌╌╌╌╌╌╌╌╌╌╌╌╌╌╌╌╌╌┤\n",
       "│ 13535488_carts ┆ 1692706 1142507 1544229 528301 1... │\n",
       "├╌╌╌╌╌╌╌╌╌╌╌╌╌╌╌╌┼╌╌╌╌╌╌╌╌╌╌╌╌╌╌╌╌╌╌╌╌╌╌╌╌╌╌╌╌╌╌╌╌╌╌╌╌╌┤\n",
       "│ 13165696_carts ┆ 633760 309703 763615 1067553 895... │\n",
       "├╌╌╌╌╌╌╌╌╌╌╌╌╌╌╌╌┼╌╌╌╌╌╌╌╌╌╌╌╌╌╌╌╌╌╌╌╌╌╌╌╌╌╌╌╌╌╌╌╌╌╌╌╌╌┤\n",
       "│ 14139072_carts ┆ 378765 1840567 186806 2954 42116... │\n",
       "├╌╌╌╌╌╌╌╌╌╌╌╌╌╌╌╌┼╌╌╌╌╌╌╌╌╌╌╌╌╌╌╌╌╌╌╌╌╌╌╌╌╌╌╌╌╌╌╌╌╌╌╌╌╌┤\n",
       "│ 14086208_carts ┆ 1768879 671101 1090102 871073 14... │\n",
       "└────────────────┴─────────────────────────────────────┘"
      ]
     },
     "execution_count": 19,
     "metadata": {},
     "output_type": "execute_result"
    }
   ],
   "source": [
    "df_submission_carts_reranked.head()"
   ]
  },
  {
   "cell_type": "markdown",
   "id": "b1e6a923",
   "metadata": {},
   "source": [
    "## orders"
   ]
  },
  {
   "cell_type": "code",
   "execution_count": 20,
   "id": "c3311e5f",
   "metadata": {
    "ExecuteTime": {
     "end_time": "2023-01-31T19:30:15.676792Z",
     "start_time": "2023-01-31T19:29:38.129595Z"
    }
   },
   "outputs": [],
   "source": [
    "version = \"+\".join([\"covisit_all\", \"tdidf_new_top_100\", \"tdidf_old_top_100\"])\n",
    "df_candidates_orders_scores = pl.read_parquet(f\"reranker_finale/__submission__orders_{version}_v2.parquet\")"
   ]
  },
  {
   "cell_type": "code",
   "execution_count": 21,
   "id": "e9599963",
   "metadata": {
    "ExecuteTime": {
     "end_time": "2023-01-31T19:30:25.150466Z",
     "start_time": "2023-01-31T19:30:15.678483Z"
    }
   },
   "outputs": [],
   "source": [
    "df_valid_preds_sorted = (\n",
    "    df_candidates_orders_scores\n",
    "    .sort(\"orders_score\", reverse=True)\n",
    "    .groupby(\"session\")\n",
    "    .agg([\n",
    "        pl.list(\"aid\"),\n",
    "        pl.list(\"orders_score\"),\n",
    "    ])\n",
    ")"
   ]
  },
  {
   "cell_type": "code",
   "execution_count": 22,
   "id": "75f1119f",
   "metadata": {
    "ExecuteTime": {
     "end_time": "2023-01-31T19:30:25.177188Z",
     "start_time": "2023-01-31T19:30:25.152063Z"
    }
   },
   "outputs": [
    {
     "data": {
      "text/html": [
       "<div>\n",
       "<style scoped>\n",
       "    .dataframe tbody tr th:only-of-type {\n",
       "        vertical-align: middle;\n",
       "    }\n",
       "\n",
       "    .dataframe tbody tr th {\n",
       "        vertical-align: top;\n",
       "    }\n",
       "\n",
       "    .dataframe thead th {\n",
       "        text-align: right;\n",
       "    }\n",
       "\n",
       "    .dataframe td {\n",
       "        white-space: pre;\n",
       "    }\n",
       "\n",
       "    .dataframe td {\n",
       "        padding-top: 0;\n",
       "    }\n",
       "\n",
       "    .dataframe td {\n",
       "        padding-bottom: 0;\n",
       "    }\n",
       "\n",
       "    .dataframe td {\n",
       "        line-height: 95%;\n",
       "    }\n",
       "</style>\n",
       "<table border=\"1\" class=\"dataframe\" >\n",
       "<small>shape: (5, 3)</small>\n",
       "<thead>\n",
       "<tr>\n",
       "<th>\n",
       "session\n",
       "</th>\n",
       "<th>\n",
       "aid\n",
       "</th>\n",
       "<th>\n",
       "orders_score\n",
       "</th>\n",
       "</tr>\n",
       "<tr>\n",
       "<td>\n",
       "i64\n",
       "</td>\n",
       "<td>\n",
       "list[i64]\n",
       "</td>\n",
       "<td>\n",
       "list[f64]\n",
       "</td>\n",
       "</tr>\n",
       "</thead>\n",
       "<tbody>\n",
       "<tr>\n",
       "<td>\n",
       "14424768\n",
       "</td>\n",
       "<td>\n",
       "[885917, 350578, ... 152547]\n",
       "</td>\n",
       "<td>\n",
       "[3.154448, 1.613243, ... -10.283263]\n",
       "</td>\n",
       "</tr>\n",
       "<tr>\n",
       "<td>\n",
       "13432832\n",
       "</td>\n",
       "<td>\n",
       "[469367, 180672, ... 152547]\n",
       "</td>\n",
       "<td>\n",
       "[3.047045, -0.751042, ... -10.226279]\n",
       "</td>\n",
       "</tr>\n",
       "<tr>\n",
       "<td>\n",
       "13355392\n",
       "</td>\n",
       "<td>\n",
       "[1286372, 554623, ... 152547]\n",
       "</td>\n",
       "<td>\n",
       "[4.787866, 0.194021, ... -9.799678]\n",
       "</td>\n",
       "</tr>\n",
       "<tr>\n",
       "<td>\n",
       "14112832\n",
       "</td>\n",
       "<td>\n",
       "[335640, 882058, ... 152547]\n",
       "</td>\n",
       "<td>\n",
       "[2.586109, 1.370388, ... -9.899193]\n",
       "</td>\n",
       "</tr>\n",
       "<tr>\n",
       "<td>\n",
       "13729472\n",
       "</td>\n",
       "<td>\n",
       "[394862, 1127676, ... 152547]\n",
       "</td>\n",
       "<td>\n",
       "[3.593447, 1.387175, ... -10.165423]\n",
       "</td>\n",
       "</tr>\n",
       "</tbody>\n",
       "</table>\n",
       "</div>"
      ],
      "text/plain": [
       "shape: (5, 3)\n",
       "┌──────────┬───────────────────────────────┬─────────────────────────────────────┐\n",
       "│ session  ┆ aid                           ┆ orders_score                        │\n",
       "│ ---      ┆ ---                           ┆ ---                                 │\n",
       "│ i64      ┆ list[i64]                     ┆ list[f64]                           │\n",
       "╞══════════╪═══════════════════════════════╪═════════════════════════════════════╡\n",
       "│ 14424768 ┆ [885917, 350578, ... 152547]  ┆ [3.154448, 1.613243, ... -10.283... │\n",
       "├╌╌╌╌╌╌╌╌╌╌┼╌╌╌╌╌╌╌╌╌╌╌╌╌╌╌╌╌╌╌╌╌╌╌╌╌╌╌╌╌╌╌┼╌╌╌╌╌╌╌╌╌╌╌╌╌╌╌╌╌╌╌╌╌╌╌╌╌╌╌╌╌╌╌╌╌╌╌╌╌┤\n",
       "│ 13432832 ┆ [469367, 180672, ... 152547]  ┆ [3.047045, -0.751042, ... -10.22... │\n",
       "├╌╌╌╌╌╌╌╌╌╌┼╌╌╌╌╌╌╌╌╌╌╌╌╌╌╌╌╌╌╌╌╌╌╌╌╌╌╌╌╌╌╌┼╌╌╌╌╌╌╌╌╌╌╌╌╌╌╌╌╌╌╌╌╌╌╌╌╌╌╌╌╌╌╌╌╌╌╌╌╌┤\n",
       "│ 13355392 ┆ [1286372, 554623, ... 152547] ┆ [4.787866, 0.194021, ... -9.7996... │\n",
       "├╌╌╌╌╌╌╌╌╌╌┼╌╌╌╌╌╌╌╌╌╌╌╌╌╌╌╌╌╌╌╌╌╌╌╌╌╌╌╌╌╌╌┼╌╌╌╌╌╌╌╌╌╌╌╌╌╌╌╌╌╌╌╌╌╌╌╌╌╌╌╌╌╌╌╌╌╌╌╌╌┤\n",
       "│ 14112832 ┆ [335640, 882058, ... 152547]  ┆ [2.586109, 1.370388, ... -9.8991... │\n",
       "├╌╌╌╌╌╌╌╌╌╌┼╌╌╌╌╌╌╌╌╌╌╌╌╌╌╌╌╌╌╌╌╌╌╌╌╌╌╌╌╌╌╌┼╌╌╌╌╌╌╌╌╌╌╌╌╌╌╌╌╌╌╌╌╌╌╌╌╌╌╌╌╌╌╌╌╌╌╌╌╌┤\n",
       "│ 13729472 ┆ [394862, 1127676, ... 152547] ┆ [3.593447, 1.387175, ... -10.165... │\n",
       "└──────────┴───────────────────────────────┴─────────────────────────────────────┘"
      ]
     },
     "execution_count": 22,
     "metadata": {},
     "output_type": "execute_result"
    }
   ],
   "source": [
    "df_valid_preds_sorted.head()"
   ]
  },
  {
   "cell_type": "code",
   "execution_count": 23,
   "id": "5789ca0f",
   "metadata": {
    "ExecuteTime": {
     "end_time": "2023-01-31T19:31:18.150991Z",
     "start_time": "2023-01-31T19:30:25.178596Z"
    }
   },
   "outputs": [
    {
     "name": "stderr",
     "output_type": "stream",
     "text": [
      "100%|██████████| 1671803/1671803 [00:06<00:00, 260444.13it/s]\n"
     ]
    }
   ],
   "source": [
    "# stage 2 valid carts reranked - recall@20 optimized\n",
    "submission_dict = {\n",
    "    \"session_type\": [],\n",
    "    \"labels\": [],\n",
    "}\n",
    "\n",
    "types = [\"orders\"]\n",
    "topk = 20\n",
    "\n",
    "for row in tqdm(df_valid_preds_sorted.rows()):\n",
    "    session_id = row[0]\n",
    "    rec_items = row[1][:topk]\n",
    "    \n",
    "    session_types = [f\"{session_id}_{t}\" for t in types]\n",
    "    labels = \" \".join(str(aid) for aid in rec_items)\n",
    "    labels_list = [labels]\n",
    "    \n",
    "    submission_dict[\"session_type\"].extend(session_types)\n",
    "    submission_dict[\"labels\"].extend(labels_list)"
   ]
  },
  {
   "cell_type": "code",
   "execution_count": 24,
   "id": "138ca8ad",
   "metadata": {
    "ExecuteTime": {
     "end_time": "2023-01-31T19:31:18.583660Z",
     "start_time": "2023-01-31T19:31:18.152487Z"
    }
   },
   "outputs": [],
   "source": [
    "df_submission_orders_reranked = pl.DataFrame(submission_dict)"
   ]
  },
  {
   "cell_type": "code",
   "execution_count": 25,
   "id": "8adc228a",
   "metadata": {
    "ExecuteTime": {
     "end_time": "2023-01-31T19:31:18.608489Z",
     "start_time": "2023-01-31T19:31:18.585262Z"
    }
   },
   "outputs": [
    {
     "data": {
      "text/html": [
       "<div>\n",
       "<style scoped>\n",
       "    .dataframe tbody tr th:only-of-type {\n",
       "        vertical-align: middle;\n",
       "    }\n",
       "\n",
       "    .dataframe tbody tr th {\n",
       "        vertical-align: top;\n",
       "    }\n",
       "\n",
       "    .dataframe thead th {\n",
       "        text-align: right;\n",
       "    }\n",
       "\n",
       "    .dataframe td {\n",
       "        white-space: pre;\n",
       "    }\n",
       "\n",
       "    .dataframe td {\n",
       "        padding-top: 0;\n",
       "    }\n",
       "\n",
       "    .dataframe td {\n",
       "        padding-bottom: 0;\n",
       "    }\n",
       "\n",
       "    .dataframe td {\n",
       "        line-height: 95%;\n",
       "    }\n",
       "</style>\n",
       "<table border=\"1\" class=\"dataframe\" >\n",
       "<small>shape: (5, 2)</small>\n",
       "<thead>\n",
       "<tr>\n",
       "<th>\n",
       "session_type\n",
       "</th>\n",
       "<th>\n",
       "labels\n",
       "</th>\n",
       "</tr>\n",
       "<tr>\n",
       "<td>\n",
       "str\n",
       "</td>\n",
       "<td>\n",
       "str\n",
       "</td>\n",
       "</tr>\n",
       "</thead>\n",
       "<tbody>\n",
       "<tr>\n",
       "<td>\n",
       "&quot;14424768_order...\n",
       "</td>\n",
       "<td>\n",
       "&quot;885917 350578 ...\n",
       "</td>\n",
       "</tr>\n",
       "<tr>\n",
       "<td>\n",
       "&quot;13432832_order...\n",
       "</td>\n",
       "<td>\n",
       "&quot;469367 180672 ...\n",
       "</td>\n",
       "</tr>\n",
       "<tr>\n",
       "<td>\n",
       "&quot;13355392_order...\n",
       "</td>\n",
       "<td>\n",
       "&quot;1286372 554623...\n",
       "</td>\n",
       "</tr>\n",
       "<tr>\n",
       "<td>\n",
       "&quot;14112832_order...\n",
       "</td>\n",
       "<td>\n",
       "&quot;335640 882058 ...\n",
       "</td>\n",
       "</tr>\n",
       "<tr>\n",
       "<td>\n",
       "&quot;13729472_order...\n",
       "</td>\n",
       "<td>\n",
       "&quot;394862 1127676...\n",
       "</td>\n",
       "</tr>\n",
       "</tbody>\n",
       "</table>\n",
       "</div>"
      ],
      "text/plain": [
       "shape: (5, 2)\n",
       "┌─────────────────┬─────────────────────────────────────┐\n",
       "│ session_type    ┆ labels                              │\n",
       "│ ---             ┆ ---                                 │\n",
       "│ str             ┆ str                                 │\n",
       "╞═════════════════╪═════════════════════════════════════╡\n",
       "│ 14424768_orders ┆ 885917 350578 1770742 579690 156... │\n",
       "├╌╌╌╌╌╌╌╌╌╌╌╌╌╌╌╌╌┼╌╌╌╌╌╌╌╌╌╌╌╌╌╌╌╌╌╌╌╌╌╌╌╌╌╌╌╌╌╌╌╌╌╌╌╌╌┤\n",
       "│ 13432832_orders ┆ 469367 180672 1666040 1351310 11... │\n",
       "├╌╌╌╌╌╌╌╌╌╌╌╌╌╌╌╌╌┼╌╌╌╌╌╌╌╌╌╌╌╌╌╌╌╌╌╌╌╌╌╌╌╌╌╌╌╌╌╌╌╌╌╌╌╌╌┤\n",
       "│ 13355392_orders ┆ 1286372 554623 1182270 3366 1416... │\n",
       "├╌╌╌╌╌╌╌╌╌╌╌╌╌╌╌╌╌┼╌╌╌╌╌╌╌╌╌╌╌╌╌╌╌╌╌╌╌╌╌╌╌╌╌╌╌╌╌╌╌╌╌╌╌╌╌┤\n",
       "│ 14112832_orders ┆ 335640 882058 863174 1190043 135... │\n",
       "├╌╌╌╌╌╌╌╌╌╌╌╌╌╌╌╌╌┼╌╌╌╌╌╌╌╌╌╌╌╌╌╌╌╌╌╌╌╌╌╌╌╌╌╌╌╌╌╌╌╌╌╌╌╌╌┤\n",
       "│ 13729472_orders ┆ 394862 1127676 1039668 108517 11... │\n",
       "└─────────────────┴─────────────────────────────────────┘"
      ]
     },
     "execution_count": 25,
     "metadata": {},
     "output_type": "execute_result"
    }
   ],
   "source": [
    "df_submission_orders_reranked.head()"
   ]
  },
  {
   "cell_type": "markdown",
   "id": "b69c558c",
   "metadata": {},
   "source": [
    "## Combine"
   ]
  },
  {
   "cell_type": "markdown",
   "id": "3e68beec",
   "metadata": {},
   "source": [
    "### clicks, carts, orders"
   ]
  },
  {
   "cell_type": "code",
   "execution_count": 26,
   "id": "0f244c3e",
   "metadata": {
    "ExecuteTime": {
     "end_time": "2023-01-31T19:31:31.531990Z",
     "start_time": "2023-01-31T19:31:18.610520Z"
    }
   },
   "outputs": [],
   "source": [
    "df_submission_reranked_all = (\n",
    "    pl.from_pandas(\n",
    "        pd.read_csv(\"covisit_top200_reranker_rank+42feat_submission.csv.gz\", compression=\"gzip\")\n",
    "    )\n",
    "    .join(\n",
    "        pl.concat([\n",
    "            df_submission_clicks_reranked,\n",
    "            df_submission_carts_reranked,\n",
    "            df_submission_orders_reranked\n",
    "        ]), \n",
    "        on=\"session_type\", how=\"left\"\n",
    "    )\n",
    "    .with_columns([\n",
    "        (\n",
    "            pl.when(pl.col(\"labels_right\").is_null())\n",
    "            .then(pl.col(\"labels\"))\n",
    "            .otherwise(pl.col(\"labels_right\"))\n",
    "        ).alias(\"labels_final\")\n",
    "    ])\n",
    "    .select([\"session_type\", \"labels_final\"])\n",
    "    .rename({\"labels_final\": \"labels\"})\n",
    ")\n"
   ]
  },
  {
   "cell_type": "code",
   "execution_count": 27,
   "id": "ca7a7713",
   "metadata": {
    "ExecuteTime": {
     "end_time": "2023-01-31T19:31:31.557120Z",
     "start_time": "2023-01-31T19:31:31.533757Z"
    }
   },
   "outputs": [
    {
     "data": {
      "text/html": [
       "<div>\n",
       "<style scoped>\n",
       "    .dataframe tbody tr th:only-of-type {\n",
       "        vertical-align: middle;\n",
       "    }\n",
       "\n",
       "    .dataframe tbody tr th {\n",
       "        vertical-align: top;\n",
       "    }\n",
       "\n",
       "    .dataframe thead th {\n",
       "        text-align: right;\n",
       "    }\n",
       "\n",
       "    .dataframe td {\n",
       "        white-space: pre;\n",
       "    }\n",
       "\n",
       "    .dataframe td {\n",
       "        padding-top: 0;\n",
       "    }\n",
       "\n",
       "    .dataframe td {\n",
       "        padding-bottom: 0;\n",
       "    }\n",
       "\n",
       "    .dataframe td {\n",
       "        line-height: 95%;\n",
       "    }\n",
       "</style>\n",
       "<table border=\"1\" class=\"dataframe\" >\n",
       "<small>shape: (5, 2)</small>\n",
       "<thead>\n",
       "<tr>\n",
       "<th>\n",
       "session_type\n",
       "</th>\n",
       "<th>\n",
       "labels\n",
       "</th>\n",
       "</tr>\n",
       "<tr>\n",
       "<td>\n",
       "str\n",
       "</td>\n",
       "<td>\n",
       "str\n",
       "</td>\n",
       "</tr>\n",
       "</thead>\n",
       "<tbody>\n",
       "<tr>\n",
       "<td>\n",
       "&quot;12899779_click...\n",
       "</td>\n",
       "<td>\n",
       "&quot;59625 737445 1...\n",
       "</td>\n",
       "</tr>\n",
       "<tr>\n",
       "<td>\n",
       "&quot;12899779_carts...\n",
       "</td>\n",
       "<td>\n",
       "&quot;59625 731692 1...\n",
       "</td>\n",
       "</tr>\n",
       "<tr>\n",
       "<td>\n",
       "&quot;12899779_order...\n",
       "</td>\n",
       "<td>\n",
       "&quot;59625 731692 6...\n",
       "</td>\n",
       "</tr>\n",
       "<tr>\n",
       "<td>\n",
       "&quot;12899780_click...\n",
       "</td>\n",
       "<td>\n",
       "&quot;1142000 736515...\n",
       "</td>\n",
       "</tr>\n",
       "<tr>\n",
       "<td>\n",
       "&quot;12899780_carts...\n",
       "</td>\n",
       "<td>\n",
       "&quot;1142000 582732...\n",
       "</td>\n",
       "</tr>\n",
       "</tbody>\n",
       "</table>\n",
       "</div>"
      ],
      "text/plain": [
       "shape: (5, 2)\n",
       "┌─────────────────┬─────────────────────────────────────┐\n",
       "│ session_type    ┆ labels                              │\n",
       "│ ---             ┆ ---                                 │\n",
       "│ str             ┆ str                                 │\n",
       "╞═════════════════╪═════════════════════════════════════╡\n",
       "│ 12899779_clicks ┆ 59625 737445 1253524 731692 1790... │\n",
       "├╌╌╌╌╌╌╌╌╌╌╌╌╌╌╌╌╌┼╌╌╌╌╌╌╌╌╌╌╌╌╌╌╌╌╌╌╌╌╌╌╌╌╌╌╌╌╌╌╌╌╌╌╌╌╌┤\n",
       "│ 12899779_carts  ┆ 59625 731692 1253524 448688 7374... │\n",
       "├╌╌╌╌╌╌╌╌╌╌╌╌╌╌╌╌╌┼╌╌╌╌╌╌╌╌╌╌╌╌╌╌╌╌╌╌╌╌╌╌╌╌╌╌╌╌╌╌╌╌╌╌╌╌╌┤\n",
       "│ 12899779_orders ┆ 59625 731692 689970 1790770 3974... │\n",
       "├╌╌╌╌╌╌╌╌╌╌╌╌╌╌╌╌╌┼╌╌╌╌╌╌╌╌╌╌╌╌╌╌╌╌╌╌╌╌╌╌╌╌╌╌╌╌╌╌╌╌╌╌╌╌╌┤\n",
       "│ 12899780_clicks ┆ 1142000 736515 582732 973453 149... │\n",
       "├╌╌╌╌╌╌╌╌╌╌╌╌╌╌╌╌╌┼╌╌╌╌╌╌╌╌╌╌╌╌╌╌╌╌╌╌╌╌╌╌╌╌╌╌╌╌╌╌╌╌╌╌╌╌╌┤\n",
       "│ 12899780_carts  ┆ 1142000 582732 973453 736515 487... │\n",
       "└─────────────────┴─────────────────────────────────────┘"
      ]
     },
     "execution_count": 27,
     "metadata": {},
     "output_type": "execute_result"
    }
   ],
   "source": [
    "df_submission_reranked_all.head()"
   ]
  },
  {
   "cell_type": "code",
   "execution_count": 28,
   "id": "963d6a69",
   "metadata": {
    "ExecuteTime": {
     "end_time": "2023-01-31T19:32:42.328878Z",
     "start_time": "2023-01-31T19:31:31.558261Z"
    }
   },
   "outputs": [],
   "source": [
    "# LB - 0.595 (BEST)\n",
    "(\n",
    "    df_submission_reranked_all.to_pandas()\n",
    "    .to_csv(\"reranker_finale/__b__submission_finale.csv.gz\",\n",
    "            compression=\"gzip\", index=False)\n",
    ")"
   ]
  },
  {
   "cell_type": "code",
   "execution_count": null,
   "id": "82ddb1d7",
   "metadata": {},
   "outputs": [],
   "source": []
  },
  {
   "cell_type": "code",
   "execution_count": 38,
   "id": "432c324b",
   "metadata": {
    "ExecuteTime": {
     "end_time": "2023-01-31T08:24:54.945437Z",
     "start_time": "2023-01-31T08:23:44.663266Z"
    }
   },
   "outputs": [],
   "source": [
    "# LB - 0.595\n",
    "(\n",
    "    df_submission_reranked_all.to_pandas()\n",
    "    .to_csv(\"reranker_finale/__a__submission_finale.csv.gz\",\n",
    "            compression=\"gzip\", index=False)\n",
    ")"
   ]
  },
  {
   "cell_type": "code",
   "execution_count": null,
   "id": "e6cb56e5",
   "metadata": {},
   "outputs": [],
   "source": []
  },
  {
   "cell_type": "code",
   "execution_count": null,
   "id": "cdcbec3f",
   "metadata": {},
   "outputs": [],
   "source": []
  }
 ],
 "metadata": {
  "kernelspec": {
   "display_name": "Python 3 (ipykernel)",
   "language": "python",
   "name": "python3"
  },
  "language_info": {
   "codemirror_mode": {
    "name": "ipython",
    "version": 3
   },
   "file_extension": ".py",
   "mimetype": "text/x-python",
   "name": "python",
   "nbconvert_exporter": "python",
   "pygments_lexer": "ipython3",
   "version": "3.9.5"
  },
  "toc": {
   "base_numbering": 1,
   "nav_menu": {},
   "number_sections": true,
   "sideBar": true,
   "skip_h1_title": false,
   "title_cell": "Table of Contents",
   "title_sidebar": "Contents",
   "toc_cell": false,
   "toc_position": {},
   "toc_section_display": true,
   "toc_window_display": false
  }
 },
 "nbformat": 4,
 "nbformat_minor": 5
}
