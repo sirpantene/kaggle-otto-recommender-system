{
 "cells": [
  {
   "cell_type": "code",
   "execution_count": 1,
   "id": "abe1c1b7",
   "metadata": {
    "ExecuteTime": {
     "end_time": "2023-01-30T20:01:41.914391Z",
     "start_time": "2023-01-30T20:01:41.901624Z"
    }
   },
   "outputs": [],
   "source": [
    "%load_ext autoreload\n",
    "%autoreload 2"
   ]
  },
  {
   "cell_type": "code",
   "execution_count": 2,
   "id": "12a46efe",
   "metadata": {
    "ExecuteTime": {
     "end_time": "2023-01-30T20:01:46.315036Z",
     "start_time": "2023-01-30T20:01:42.171912Z"
    }
   },
   "outputs": [],
   "source": [
    "from datetime import datetime\n",
    "from pathlib import Path\n",
    "from collections import Counter\n",
    "\n",
    "from joblib import Parallel, delayed\n",
    "from tqdm.notebook import tqdm\n",
    "import dill\n",
    "import pandas as pd\n",
    "import polars as pl\n",
    "import numpy as np\n",
    "from scipy.sparse import csr_matrix\n",
    "from sklearn.model_selection import GroupKFold\n",
    "\n",
    "import lightgbm as lgb\n",
    "import xgboost as xgb\n",
    "\n",
    "import pytorch_lightning as L\n",
    "import torch\n",
    "import torch.nn as nn\n",
    "import torch.nn.functional as F\n",
    "from torch.utils.data import Dataset, DataLoader\n",
    "\n",
    "import matplotlib.pyplot as plt\n",
    "import seaborn as sns\n",
    "\n",
    "from tasks.data.dataset.mappers import EntityEncoder\n",
    "from tasks.jobs import Splitter"
   ]
  },
  {
   "cell_type": "code",
   "execution_count": 4,
   "id": "dcdb51f6",
   "metadata": {
    "ExecuteTime": {
     "end_time": "2023-01-30T20:02:04.225149Z",
     "start_time": "2023-01-30T20:02:04.194368Z"
    }
   },
   "outputs": [],
   "source": [
    "from otto_utils import *\n",
    "from otto_features import *\n",
    "from otto_candidates_covisit import *\n",
    "from otto_lgbm_utils import *\n",
    "from otto_implicit import *\n",
    "from otto_reranker import *\n",
    "from otto_jobs_candidates import *"
   ]
  },
  {
   "cell_type": "code",
   "execution_count": 5,
   "id": "600a58c1",
   "metadata": {
    "ExecuteTime": {
     "end_time": "2023-01-30T20:02:15.568966Z",
     "start_time": "2023-01-30T20:02:05.284357Z"
    }
   },
   "outputs": [
    {
     "name": "stdout",
     "output_type": "stream",
     "text": [
      "env: PYTHONHASHSEED=1\n"
     ]
    }
   ],
   "source": [
    "%env PYTHONHASHSEED=1\n",
    "from otto_word2vec import *\n",
    "\n",
    "w2vec = Word2Vec.load(\"__valid__word2vec_window=10_negative=20.w2v\")"
   ]
  },
  {
   "cell_type": "markdown",
   "id": "4b51d7e8",
   "metadata": {},
   "source": [
    "# Load data"
   ]
  },
  {
   "cell_type": "code",
   "execution_count": 6,
   "id": "83359c6a",
   "metadata": {
    "ExecuteTime": {
     "end_time": "2023-01-30T20:02:25.995715Z",
     "start_time": "2023-01-30T20:02:22.221358Z"
    }
   },
   "outputs": [],
   "source": [
    "val_df_train = pl.read_parquet(VALIDATION_PATH / \"train.parquet\", use_pyarrow=True)\n",
    "val_df_valid_input = pl.read_parquet(VALIDATION_PATH / \"valid.parquet\", use_pyarrow=True)\n",
    "val_df_valid_targets = pl.read_parquet(VALIDATION_PATH / \"test_labels.parquet\", use_pyarrow=True)"
   ]
  },
  {
   "cell_type": "markdown",
   "id": "e017a0ae",
   "metadata": {},
   "source": [
    "# Candidates (Clicks)"
   ]
  },
  {
   "cell_type": "code",
   "execution_count": 7,
   "id": "604ce7f2",
   "metadata": {
    "ExecuteTime": {
     "end_time": "2023-01-30T20:05:33.593227Z",
     "start_time": "2023-01-30T20:05:33.564293Z"
    }
   },
   "outputs": [],
   "source": [
    "ACT_TYPE = \"clicks\""
   ]
  },
  {
   "cell_type": "markdown",
   "id": "7412494f",
   "metadata": {},
   "source": [
    "## prepare target and candidates set with this target in holdout (other users for action does not change metric)"
   ]
  },
  {
   "cell_type": "code",
   "execution_count": 8,
   "id": "3448b582",
   "metadata": {
    "ExecuteTime": {
     "end_time": "2023-01-30T20:05:35.439953Z",
     "start_time": "2023-01-30T20:05:35.134424Z"
    }
   },
   "outputs": [],
   "source": [
    "df_act_target = (\n",
    "    val_df_valid_targets\n",
    "    .filter(pl.col(\"type\") == ACT_TYPE)\n",
    "    .join(val_df_valid_input.select([\"session\"]).unique(), on=\"session\", how=\"inner\")\n",
    "    .drop(\"type\")\n",
    "    .explode(\"ground_truth\")\n",
    "    .with_column(pl.lit(1).alias(\"target\"))\n",
    "    .rename({\"ground_truth\": \"aid\"})\n",
    ")"
   ]
  },
  {
   "cell_type": "code",
   "execution_count": 9,
   "id": "ad952855",
   "metadata": {
    "ExecuteTime": {
     "end_time": "2023-01-30T20:05:38.731291Z",
     "start_time": "2023-01-30T20:05:37.948377Z"
    }
   },
   "outputs": [],
   "source": [
    "df = val_df_valid_input.unique().sort([\"session\", \"ts\"])"
   ]
  },
  {
   "cell_type": "code",
   "execution_count": 10,
   "id": "a1de10df",
   "metadata": {
    "ExecuteTime": {
     "end_time": "2023-01-30T20:05:43.864357Z",
     "start_time": "2023-01-30T20:05:38.733182Z"
    }
   },
   "outputs": [],
   "source": [
    "df_test_users = (\n",
    "    df\n",
    "    .join(df_act_target.select([\"session\"]).unique(), on=\"session\", how=\"inner\")\n",
    "    .unique().sort([\"session\", \"ts\"])\n",
    ")\n",
    "test_sessions_dict = df_test_users.groupby('session').agg([pl.list(\"aid\"), pl.list(\"type\")])\n",
    "test_sessions_dict = dict(zip(\n",
    "    test_sessions_dict[\"session\"].to_list(),\n",
    "    tuple(zip(test_sessions_dict[\"aid\"].to_list(), test_sessions_dict[\"type\"].to_list()))\n",
    "))"
   ]
  },
  {
   "cell_type": "markdown",
   "id": "f5147f8f",
   "metadata": {},
   "source": [
    "## covisitation top200"
   ]
  },
  {
   "cell_type": "code",
   "execution_count": 11,
   "id": "1bb4be62",
   "metadata": {
    "ExecuteTime": {
     "end_time": "2023-01-30T20:05:43.896683Z",
     "start_time": "2023-01-30T20:05:43.866060Z"
    }
   },
   "outputs": [],
   "source": [
    "# Use top X for clicks, carts and orders\n",
    "clicks_th = 15\n",
    "carts_th  = 20\n",
    "orders_th = 20\n",
    "\n",
    "def get_top(df, th):\n",
    "    return (\n",
    "        df\n",
    "        .with_column(pl.lit(1).alias(\"ones\"))\n",
    "        .with_column(pl.col(\"ones\").cumsum().over(\"aid\").alias(\"rank\"))\n",
    "        .filter(pl.col(\"rank\") <= th)\n",
    "    )\n",
    "\n",
    "TOPK_RECOMMEND = 20\n",
    "TOPK_RERANK = 40"
   ]
  },
  {
   "cell_type": "code",
   "execution_count": 12,
   "id": "d2dcc852",
   "metadata": {
    "ExecuteTime": {
     "end_time": "2023-01-30T20:06:03.513016Z",
     "start_time": "2023-01-30T20:05:43.897870Z"
    }
   },
   "outputs": [],
   "source": [
    "carts_orders = pl.read_parquet(\"__valid__covisit_carts_orders_all_v3.parquet\")\n",
    "buys2buys = pl.read_parquet(\"__valid__covisit_buys2buys_all_v4.parquet\")\n",
    "clicks = pl.read_parquet(\"__valid__covisit_clicks_all_v3.parquet\")"
   ]
  },
  {
   "cell_type": "code",
   "execution_count": 13,
   "id": "e37a1faa",
   "metadata": {
    "ExecuteTime": {
     "end_time": "2023-01-30T20:06:15.840758Z",
     "start_time": "2023-01-30T20:06:03.514946Z"
    }
   },
   "outputs": [],
   "source": [
    "carts_orders_top = get_top(carts_orders, carts_th)\n",
    "buys2buys_top = get_top(buys2buys, orders_th)\n",
    "clicks_top = get_top(clicks, clicks_th)"
   ]
  },
  {
   "cell_type": "code",
   "execution_count": 14,
   "id": "49a9bb76",
   "metadata": {
    "ExecuteTime": {
     "end_time": "2023-01-30T20:06:16.144975Z",
     "start_time": "2023-01-30T20:06:15.842191Z"
    }
   },
   "outputs": [],
   "source": [
    "top_clicks = df.filter(pl.col(\"type\") == 0)[\"aid\"].value_counts(sort=True)[:TOPK_RECOMMEND][\"aid\"].to_list()\n",
    "top_carts = df.filter(pl.col(\"type\") == 1)[\"aid\"].value_counts(sort=True)[:TOPK_RECOMMEND][\"aid\"].to_list()\n",
    "top_orders = df.filter(pl.col(\"type\") == 2)[\"aid\"].value_counts(sort=True)[:TOPK_RECOMMEND][\"aid\"].to_list()"
   ]
  },
  {
   "cell_type": "code",
   "execution_count": 15,
   "id": "6964c1fb",
   "metadata": {
    "ExecuteTime": {
     "end_time": "2023-01-30T20:06:24.419671Z",
     "start_time": "2023-01-30T20:06:16.146375Z"
    }
   },
   "outputs": [],
   "source": [
    "covisit_rec = CovisitationRecommender(\n",
    "    df_top_k_buys=carts_orders_top,\n",
    "    df_top_k_buy2buy=buys2buys_top,\n",
    "    df_top_k_clicks=clicks_top,\n",
    "    top_carts=top_carts,\n",
    "    top_orders=top_orders,\n",
    "    top_clicks=top_clicks,\n",
    ")"
   ]
  },
  {
   "cell_type": "code",
   "execution_count": 16,
   "id": "914256e4",
   "metadata": {
    "ExecuteTime": {
     "end_time": "2023-01-30T20:08:42.557154Z",
     "start_time": "2023-01-30T20:06:24.421177Z"
    }
   },
   "outputs": [
    {
     "name": "stderr",
     "output_type": "stream",
     "text": [
      "100%|██████████| 1265979/1265979 [02:05<00:00, 10049.34it/s]\n"
     ]
    }
   ],
   "source": [
    "candidates_dict = {\n",
    "    \"session\": [],\n",
    "    \"type\": [],\n",
    "    \"candidates\": [],\n",
    "    \"rank\": [],\n",
    "}\n",
    "\n",
    "types = [\"clicks\", \"carts\", \"orders\"]\n",
    "topk = TOPK_RERANK * 5\n",
    "\n",
    "for session_id, (session_aid_list, session_type_list) in tqdm(test_sessions_dict.items()):\n",
    "    rec_items_clicks = covisit_rec.recommend_clicks(session_aid_list, session_type_list, topk)\n",
    "    rec_items_carts = covisit_rec.recommend_carts(session_aid_list, session_type_list, topk)\n",
    "    rec_items_buys = covisit_rec.recommend_buys(session_aid_list, session_type_list, topk)\n",
    "\n",
    "    candidates = [rec_items_clicks, rec_items_carts, rec_items_buys]\n",
    "#     candidates = [rec_items_buys]\n",
    "    ranks = [\n",
    "        np.arange(1, len(rec_items) + 1).tolist()\n",
    "        for rec_items in candidates\n",
    "    ]\n",
    "    \n",
    "    candidates_dict[\"session\"].extend([session_id] * len(types))\n",
    "    candidates_dict[\"type\"].extend(types)\n",
    "    candidates_dict[\"candidates\"].extend(candidates)\n",
    "    candidates_dict[\"rank\"].extend(ranks)\n",
    "\n",
    "df_candidates_covisit = pl.DataFrame(candidates_dict)"
   ]
  },
  {
   "cell_type": "code",
   "execution_count": 17,
   "id": "6ba47b07",
   "metadata": {
    "ExecuteTime": {
     "end_time": "2023-01-30T20:10:17.753697Z",
     "start_time": "2023-01-30T20:08:42.559203Z"
    }
   },
   "outputs": [],
   "source": [
    "# contains target column and all test users\n",
    "df_candidates_covisit_all = (\n",
    "    df_candidates_covisit\n",
    "    .filter(pl.col(\"type\") == \"orders\")\n",
    "    .drop(\"type\")\n",
    "    .explode([\"candidates\", \"rank\"])\n",
    "    .rename({\"candidates\": \"aid\", \"rank\": \"rank_orders\"})\n",
    "    .join(\n",
    "        (\n",
    "            df_candidates_covisit\n",
    "            .filter(pl.col(\"type\") == \"carts\")\n",
    "            .drop(\"type\")\n",
    "            .explode([\"candidates\", \"rank\"])\n",
    "            .rename({\"candidates\": \"aid\", \"rank\": \"rank_carts\"})\n",
    "        ),\n",
    "        on=[\"session\", \"aid\"],\n",
    "        how=\"outer\"\n",
    "    )\n",
    "    .join(\n",
    "        (\n",
    "            df_candidates_covisit\n",
    "            .filter(pl.col(\"type\") == \"clicks\")\n",
    "            .drop(\"type\")\n",
    "            .explode([\"candidates\", \"rank\"])\n",
    "            .rename({\"candidates\": \"aid\", \"rank\": \"rank_clicks\"})\n",
    "        ),\n",
    "        on=[\"session\", \"aid\"],\n",
    "        how=\"outer\"\n",
    "    )\n",
    "    .fill_null(999)\n",
    "    .filter(pl.col(\"aid\") != -1)  # some strange items from implicit\n",
    "    .unique(subset=[\"session\", \"aid\"], keep=\"last\")\n",
    "    .join(df_act_target, on=[\"session\", \"aid\"], how=\"left\")  # if using rank column as a feature\n",
    "    .sort(\"session\")\n",
    "    .fill_null(0)\n",
    ")"
   ]
  },
  {
   "cell_type": "code",
   "execution_count": 19,
   "id": "cd82d725",
   "metadata": {
    "ExecuteTime": {
     "end_time": "2023-01-30T20:10:20.005394Z",
     "start_time": "2023-01-30T20:10:18.123207Z"
    }
   },
   "outputs": [
    {
     "name": "stdout",
     "output_type": "stream",
     "text": [
      "sessions with positives in candidates:  742940\n",
      "sessions with positives in test dataframe:  1265979\n",
      "hit rate:  0.5868501768196787\n"
     ]
    }
   ],
   "source": [
    "print_candidates_hit_rate(df_candidates_covisit_all)"
   ]
  },
  {
   "cell_type": "markdown",
   "id": "92e7aab5",
   "metadata": {},
   "source": [
    "## Implicit"
   ]
  },
  {
   "cell_type": "code",
   "execution_count": 20,
   "id": "c0135920",
   "metadata": {
    "ExecuteTime": {
     "end_time": "2023-01-30T20:10:20.037762Z",
     "start_time": "2023-01-30T20:10:20.007463Z"
    }
   },
   "outputs": [],
   "source": [
    "from implicit.nearest_neighbours import CosineRecommender\n",
    "from implicit.nearest_neighbours import TFIDFRecommender"
   ]
  },
  {
   "cell_type": "code",
   "execution_count": 21,
   "id": "f58b6704",
   "metadata": {
    "ExecuteTime": {
     "end_time": "2023-01-30T20:11:02.544454Z",
     "start_time": "2023-01-30T20:10:20.039221Z"
    }
   },
   "outputs": [],
   "source": [
    "df = pl.concat([val_df_train, val_df_valid_input]).unique().sort([\"session\", \"ts\"])\n",
    "df = implicit_new_weight_interactions(df)"
   ]
  },
  {
   "cell_type": "code",
   "execution_count": 22,
   "id": "00fb7503",
   "metadata": {
    "ExecuteTime": {
     "end_time": "2023-01-30T20:11:43.077672Z",
     "start_time": "2023-01-30T20:11:02.546263Z"
    }
   },
   "outputs": [
    {
     "data": {
      "application/vnd.jupyter.widget-view+json": {
       "model_id": "d915cdf6543e4416ae391d610ecc5a44",
       "version_major": 2,
       "version_minor": 0
      },
      "text/plain": [
       "  0%|          | 0/1855603 [00:00<?, ?it/s]"
      ]
     },
     "metadata": {},
     "output_type": "display_data"
    }
   ],
   "source": [
    "train_data = make_sparse_matrix(df)\n",
    "tfidf_new = TFIDFRecommender(K=200)\n",
    "tfidf_new.fit(train_data)"
   ]
  },
  {
   "cell_type": "code",
   "execution_count": 23,
   "id": "dd7db2f9",
   "metadata": {
    "ExecuteTime": {
     "end_time": "2023-01-30T20:13:53.050877Z",
     "start_time": "2023-01-30T20:11:47.896075Z"
    }
   },
   "outputs": [
    {
     "name": "stderr",
     "output_type": "stream",
     "text": [
      "100%|██████████| 1266/1266 [02:00<00:00, 10.54it/s]\n"
     ]
    }
   ],
   "source": [
    "df_candidates_tfidf_new = implicit_batch_candidates_for_all_types(\n",
    "    model=tfidf_new, model_name=\"tfidf_new\",\n",
    "    train_data=train_data, test_users=list(test_sessions_dict.keys()),\n",
    "    topk=100,\n",
    ")"
   ]
  },
  {
   "cell_type": "code",
   "execution_count": 26,
   "id": "cffa3d34",
   "metadata": {
    "ExecuteTime": {
     "end_time": "2023-01-30T20:15:25.217612Z",
     "start_time": "2023-01-30T20:15:13.884953Z"
    }
   },
   "outputs": [],
   "source": [
    "df_candidates_tfidf_new = (\n",
    "    df_candidates_tfidf_new\n",
    "    .explode([\"aid\", \"tfidf_new_score\"])\n",
    "    .filter(pl.col(\"aid\") != -1)  # some strange items from implicit\n",
    "    .unique(subset=[\"session\", \"aid\"], keep=\"last\")\n",
    "    .join(df_act_target, on=[\"session\", \"aid\"], how=\"left\")  # if using rank column as a feature\n",
    "    .sort(\"session\")\n",
    "    .fill_null(0)\n",
    ")"
   ]
  },
  {
   "cell_type": "code",
   "execution_count": 38,
   "id": "298dcbf8",
   "metadata": {
    "ExecuteTime": {
     "end_time": "2023-01-30T20:27:26.699270Z",
     "start_time": "2023-01-30T20:27:26.669544Z"
    }
   },
   "outputs": [],
   "source": [
    "def print_candidates_hit_rate(df_candidates):\n",
    "    df_sessions_with_positives = (\n",
    "        df_candidates\n",
    "        .groupby([\"session\"]).agg(pl.sum(\"target\"))\n",
    "        .filter(pl.col(\"target\") > 0)\n",
    "        .select([\"session\"])\n",
    "    )\n",
    "\n",
    "    print(\"sessions with positives in candidates: \", df_sessions_with_positives[\"session\"].n_unique())\n",
    "    print(\"sessions with positives in test dataframe: \", df_candidates[\"session\"].n_unique())\n",
    "    print(\n",
    "        \"hit rate: \", \n",
    "        df_sessions_with_positives[\"session\"].n_unique() / df_candidates[\"session\"].n_unique()\n",
    "    )\n",
    "    \n",
    "    df_candidates_with_positives = df_candidates.join(df_sessions_with_positives, on=\"session\", how=\"inner\")\n",
    "    print(df_candidates_with_positives[\"target\"].value_counts())\n",
    "    \n",
    "    return df_candidates_with_positives"
   ]
  },
  {
   "cell_type": "code",
   "execution_count": 28,
   "id": "dd074424",
   "metadata": {
    "ExecuteTime": {
     "end_time": "2023-01-30T20:15:51.191136Z",
     "start_time": "2023-01-30T20:15:48.914746Z"
    }
   },
   "outputs": [
    {
     "name": "stdout",
     "output_type": "stream",
     "text": [
      "sessions with positives in candidates:  760393\n",
      "sessions with positives in test dataframe:  1265979\n",
      "hit rate:  0.6006363454686057\n"
     ]
    }
   ],
   "source": [
    "print_candidates_hit_rate(df_candidates_tfidf_new)"
   ]
  },
  {
   "cell_type": "code",
   "execution_count": 29,
   "id": "596c9211",
   "metadata": {
    "ExecuteTime": {
     "end_time": "2023-01-30T20:19:10.711734Z",
     "start_time": "2023-01-30T20:16:40.474235Z"
    }
   },
   "outputs": [
    {
     "name": "stderr",
     "output_type": "stream",
     "text": [
      "100%|██████████| 1266/1266 [02:21<00:00,  8.97it/s]\n"
     ]
    }
   ],
   "source": [
    "df_candidates_tfidf_new_top_200 = implicit_batch_candidates_for_all_types(\n",
    "    model=tfidf_new, model_name=\"tfidf_new\",\n",
    "    train_data=train_data, test_users=list(test_sessions_dict.keys()),\n",
    "    topk=200,\n",
    ")"
   ]
  },
  {
   "cell_type": "code",
   "execution_count": 30,
   "id": "bc2bcfa7",
   "metadata": {
    "ExecuteTime": {
     "end_time": "2023-01-30T20:19:32.673189Z",
     "start_time": "2023-01-30T20:19:10.713505Z"
    }
   },
   "outputs": [],
   "source": [
    "df_candidates_tfidf_new_top_200 = (\n",
    "    df_candidates_tfidf_new_top_200\n",
    "    .explode([\"aid\", \"tfidf_new_score\"])\n",
    "    .filter(pl.col(\"aid\") != -1)  # some strange items from implicit\n",
    "    .unique(subset=[\"session\", \"aid\"], keep=\"last\")\n",
    "    .join(df_act_target, on=[\"session\", \"aid\"], how=\"left\")  # if using rank column as a feature\n",
    "    .sort(\"session\")\n",
    "    .fill_null(0)\n",
    ")"
   ]
  },
  {
   "cell_type": "code",
   "execution_count": 41,
   "id": "f5cc0fa6",
   "metadata": {
    "ExecuteTime": {
     "end_time": "2023-01-30T20:28:39.729971Z",
     "start_time": "2023-01-30T20:28:34.131984Z"
    }
   },
   "outputs": [
    {
     "name": "stdout",
     "output_type": "stream",
     "text": [
      "sessions with positives in candidates:  813370\n",
      "sessions with positives in test dataframe:  1265979\n",
      "hit rate:  0.6424830111715913\n",
      "shape: (2, 2)\n",
      "┌────────┬───────────┐\n",
      "│ target ┆ counts    │\n",
      "│ ---    ┆ ---       │\n",
      "│ i32    ┆ u32       │\n",
      "╞════════╪═══════════╡\n",
      "│ 0      ┆ 160571535 │\n",
      "├╌╌╌╌╌╌╌╌┼╌╌╌╌╌╌╌╌╌╌╌┤\n",
      "│ 1      ┆ 813370    │\n",
      "└────────┴───────────┘\n"
     ]
    }
   ],
   "source": [
    "df_candidates_tfidf_new_top_200_with_positives = print_candidates_hit_rate(df_candidates_tfidf_new_top_200)"
   ]
  },
  {
   "cell_type": "code",
   "execution_count": null,
   "id": "f3b68bbb",
   "metadata": {},
   "outputs": [],
   "source": []
  },
  {
   "cell_type": "code",
   "execution_count": 36,
   "id": "fc3ec9c0",
   "metadata": {
    "ExecuteTime": {
     "end_time": "2023-01-30T20:27:07.952024Z",
     "start_time": "2023-01-30T20:26:30.290287Z"
    }
   },
   "outputs": [],
   "source": [
    "df_candidates_covisit_all_tfidf_new_top_200 = pl.concat([\n",
    "    df_candidates_covisit_all.select([\"session\", \"aid\", \"target\"]),\n",
    "    df_candidates_tfidf_new_top_200.select([\"session\", \"aid\", \"target\"]),\n",
    "]).unique()"
   ]
  },
  {
   "cell_type": "code",
   "execution_count": 39,
   "id": "3acf0702",
   "metadata": {
    "ExecuteTime": {
     "end_time": "2023-01-30T20:27:38.679408Z",
     "start_time": "2023-01-30T20:27:30.960323Z"
    }
   },
   "outputs": [
    {
     "name": "stdout",
     "output_type": "stream",
     "text": [
      "sessions with positives in candidates:  852314\n",
      "sessions with positives in test dataframe:  1265979\n",
      "hit rate:  0.6732449748376553\n",
      "shape: (2, 2)\n",
      "┌────────┬───────────┐\n",
      "│ target ┆ counts    │\n",
      "│ ---    ┆ ---       │\n",
      "│ i32    ┆ u32       │\n",
      "╞════════╪═══════════╡\n",
      "│ 0      ┆ 224152550 │\n",
      "├╌╌╌╌╌╌╌╌┼╌╌╌╌╌╌╌╌╌╌╌┤\n",
      "│ 1      ┆ 852314    │\n",
      "└────────┴───────────┘\n"
     ]
    }
   ],
   "source": [
    "df_candidates_covisit_all_tfidf_new_top_200_with_positives = print_candidates_hit_rate(\n",
    "    df_candidates_covisit_all_tfidf_new_top_200\n",
    ")"
   ]
  },
  {
   "cell_type": "code",
   "execution_count": null,
   "id": "1214189f",
   "metadata": {},
   "outputs": [],
   "source": []
  },
  {
   "cell_type": "markdown",
   "id": "a39fb136",
   "metadata": {},
   "source": [
    "# Candidates (Carts)"
   ]
  },
  {
   "cell_type": "code",
   "execution_count": 42,
   "id": "71bd080b",
   "metadata": {
    "ExecuteTime": {
     "end_time": "2023-01-30T20:30:30.825875Z",
     "start_time": "2023-01-30T20:30:30.796449Z"
    }
   },
   "outputs": [],
   "source": [
    "ACT_TYPE = \"carts\""
   ]
  },
  {
   "cell_type": "markdown",
   "id": "49d6d344",
   "metadata": {},
   "source": [
    "## prepare target and candidates set with this target in holdout (other users for action does not change metric)"
   ]
  },
  {
   "cell_type": "code",
   "execution_count": 43,
   "id": "8fdd7ca1",
   "metadata": {
    "ExecuteTime": {
     "end_time": "2023-01-30T20:30:33.361304Z",
     "start_time": "2023-01-30T20:30:33.057910Z"
    }
   },
   "outputs": [],
   "source": [
    "df_act_target = (\n",
    "    val_df_valid_targets\n",
    "    .filter(pl.col(\"type\") == ACT_TYPE)\n",
    "    .join(val_df_valid_input.select([\"session\"]).unique(), on=\"session\", how=\"inner\")\n",
    "    .drop(\"type\")\n",
    "    .explode(\"ground_truth\")\n",
    "    .with_column(pl.lit(1).alias(\"target\"))\n",
    "    .rename({\"ground_truth\": \"aid\"})\n",
    ")"
   ]
  },
  {
   "cell_type": "code",
   "execution_count": 44,
   "id": "608c0d5c",
   "metadata": {
    "ExecuteTime": {
     "end_time": "2023-01-30T20:30:34.242726Z",
     "start_time": "2023-01-30T20:30:33.362647Z"
    }
   },
   "outputs": [],
   "source": [
    "df = val_df_valid_input.unique().sort([\"session\", \"ts\"])"
   ]
  },
  {
   "cell_type": "code",
   "execution_count": 45,
   "id": "f7c6dc88",
   "metadata": {
    "ExecuteTime": {
     "end_time": "2023-01-30T20:30:35.057038Z",
     "start_time": "2023-01-30T20:30:34.244178Z"
    }
   },
   "outputs": [],
   "source": [
    "df_test_users = (\n",
    "    df\n",
    "    .join(df_act_target.select([\"session\"]).unique(), on=\"session\", how=\"inner\")\n",
    "    .unique().sort([\"session\", \"ts\"])\n",
    ")\n",
    "test_sessions_dict = df_test_users.groupby('session').agg([pl.list(\"aid\"), pl.list(\"type\")])\n",
    "test_sessions_dict = dict(zip(\n",
    "    test_sessions_dict[\"session\"].to_list(),\n",
    "    tuple(zip(test_sessions_dict[\"aid\"].to_list(), test_sessions_dict[\"type\"].to_list()))\n",
    "))"
   ]
  },
  {
   "cell_type": "markdown",
   "id": "36561e6c",
   "metadata": {},
   "source": [
    "## covisitation top200"
   ]
  },
  {
   "cell_type": "code",
   "execution_count": 11,
   "id": "2a153405",
   "metadata": {
    "ExecuteTime": {
     "end_time": "2023-01-30T20:05:43.896683Z",
     "start_time": "2023-01-30T20:05:43.866060Z"
    }
   },
   "outputs": [],
   "source": [
    "# Use top X for clicks, carts and orders\n",
    "clicks_th = 15\n",
    "carts_th  = 20\n",
    "orders_th = 20\n",
    "\n",
    "def get_top(df, th):\n",
    "    return (\n",
    "        df\n",
    "        .with_column(pl.lit(1).alias(\"ones\"))\n",
    "        .with_column(pl.col(\"ones\").cumsum().over(\"aid\").alias(\"rank\"))\n",
    "        .filter(pl.col(\"rank\") <= th)\n",
    "    )\n",
    "\n",
    "TOPK_RECOMMEND = 20\n",
    "TOPK_RERANK = 40"
   ]
  },
  {
   "cell_type": "code",
   "execution_count": 12,
   "id": "39addd78",
   "metadata": {
    "ExecuteTime": {
     "end_time": "2023-01-30T20:06:03.513016Z",
     "start_time": "2023-01-30T20:05:43.897870Z"
    }
   },
   "outputs": [],
   "source": [
    "carts_orders = pl.read_parquet(\"__valid__covisit_carts_orders_all_v3.parquet\")\n",
    "buys2buys = pl.read_parquet(\"__valid__covisit_buys2buys_all_v4.parquet\")\n",
    "clicks = pl.read_parquet(\"__valid__covisit_clicks_all_v3.parquet\")"
   ]
  },
  {
   "cell_type": "code",
   "execution_count": 13,
   "id": "e9dcbe31",
   "metadata": {
    "ExecuteTime": {
     "end_time": "2023-01-30T20:06:15.840758Z",
     "start_time": "2023-01-30T20:06:03.514946Z"
    }
   },
   "outputs": [],
   "source": [
    "carts_orders_top = get_top(carts_orders, carts_th)\n",
    "buys2buys_top = get_top(buys2buys, orders_th)\n",
    "clicks_top = get_top(clicks, clicks_th)"
   ]
  },
  {
   "cell_type": "code",
   "execution_count": 14,
   "id": "abcf00e8",
   "metadata": {
    "ExecuteTime": {
     "end_time": "2023-01-30T20:06:16.144975Z",
     "start_time": "2023-01-30T20:06:15.842191Z"
    }
   },
   "outputs": [],
   "source": [
    "top_clicks = df.filter(pl.col(\"type\") == 0)[\"aid\"].value_counts(sort=True)[:TOPK_RECOMMEND][\"aid\"].to_list()\n",
    "top_carts = df.filter(pl.col(\"type\") == 1)[\"aid\"].value_counts(sort=True)[:TOPK_RECOMMEND][\"aid\"].to_list()\n",
    "top_orders = df.filter(pl.col(\"type\") == 2)[\"aid\"].value_counts(sort=True)[:TOPK_RECOMMEND][\"aid\"].to_list()"
   ]
  },
  {
   "cell_type": "code",
   "execution_count": 15,
   "id": "23abb22e",
   "metadata": {
    "ExecuteTime": {
     "end_time": "2023-01-30T20:06:24.419671Z",
     "start_time": "2023-01-30T20:06:16.146375Z"
    }
   },
   "outputs": [],
   "source": [
    "covisit_rec = CovisitationRecommender(\n",
    "    df_top_k_buys=carts_orders_top,\n",
    "    df_top_k_buy2buy=buys2buys_top,\n",
    "    df_top_k_clicks=clicks_top,\n",
    "    top_carts=top_carts,\n",
    "    top_orders=top_orders,\n",
    "    top_clicks=top_clicks,\n",
    ")"
   ]
  },
  {
   "cell_type": "code",
   "execution_count": 46,
   "id": "c78c0c78",
   "metadata": {
    "ExecuteTime": {
     "end_time": "2023-01-30T20:31:29.661899Z",
     "start_time": "2023-01-30T20:30:51.058965Z"
    }
   },
   "outputs": [
    {
     "name": "stderr",
     "output_type": "stream",
     "text": [
      "100%|██████████| 265206/265206 [00:33<00:00, 7975.94it/s]\n"
     ]
    }
   ],
   "source": [
    "candidates_dict = {\n",
    "    \"session\": [],\n",
    "    \"type\": [],\n",
    "    \"candidates\": [],\n",
    "    \"rank\": [],\n",
    "}\n",
    "\n",
    "types = [\"clicks\", \"carts\", \"orders\"]\n",
    "topk = TOPK_RERANK * 5\n",
    "\n",
    "for session_id, (session_aid_list, session_type_list) in tqdm(test_sessions_dict.items()):\n",
    "    rec_items_clicks = covisit_rec.recommend_clicks(session_aid_list, session_type_list, topk)\n",
    "    rec_items_carts = covisit_rec.recommend_carts(session_aid_list, session_type_list, topk)\n",
    "    rec_items_buys = covisit_rec.recommend_buys(session_aid_list, session_type_list, topk)\n",
    "\n",
    "    candidates = [rec_items_clicks, rec_items_carts, rec_items_buys]\n",
    "#     candidates = [rec_items_buys]\n",
    "    ranks = [\n",
    "        np.arange(1, len(rec_items) + 1).tolist()\n",
    "        for rec_items in candidates\n",
    "    ]\n",
    "    \n",
    "    candidates_dict[\"session\"].extend([session_id] * len(types))\n",
    "    candidates_dict[\"type\"].extend(types)\n",
    "    candidates_dict[\"candidates\"].extend(candidates)\n",
    "    candidates_dict[\"rank\"].extend(ranks)\n",
    "\n",
    "df_candidates_covisit = pl.DataFrame(candidates_dict)"
   ]
  },
  {
   "cell_type": "code",
   "execution_count": 47,
   "id": "53f6b232",
   "metadata": {
    "ExecuteTime": {
     "end_time": "2023-01-30T20:31:54.309046Z",
     "start_time": "2023-01-30T20:31:29.663707Z"
    }
   },
   "outputs": [],
   "source": [
    "# contains target column and all test users\n",
    "df_candidates_covisit_all = (\n",
    "    df_candidates_covisit\n",
    "    .filter(pl.col(\"type\") == \"orders\")\n",
    "    .drop(\"type\")\n",
    "    .explode([\"candidates\", \"rank\"])\n",
    "    .rename({\"candidates\": \"aid\", \"rank\": \"rank_orders\"})\n",
    "    .join(\n",
    "        (\n",
    "            df_candidates_covisit\n",
    "            .filter(pl.col(\"type\") == \"carts\")\n",
    "            .drop(\"type\")\n",
    "            .explode([\"candidates\", \"rank\"])\n",
    "            .rename({\"candidates\": \"aid\", \"rank\": \"rank_carts\"})\n",
    "        ),\n",
    "        on=[\"session\", \"aid\"],\n",
    "        how=\"outer\"\n",
    "    )\n",
    "    .join(\n",
    "        (\n",
    "            df_candidates_covisit\n",
    "            .filter(pl.col(\"type\") == \"clicks\")\n",
    "            .drop(\"type\")\n",
    "            .explode([\"candidates\", \"rank\"])\n",
    "            .rename({\"candidates\": \"aid\", \"rank\": \"rank_clicks\"})\n",
    "        ),\n",
    "        on=[\"session\", \"aid\"],\n",
    "        how=\"outer\"\n",
    "    )\n",
    "    .fill_null(999)\n",
    "    .filter(pl.col(\"aid\") != -1)  # some strange items from implicit\n",
    "    .unique(subset=[\"session\", \"aid\"], keep=\"last\")\n",
    "    .join(df_act_target, on=[\"session\", \"aid\"], how=\"left\")  # if using rank column as a feature\n",
    "    .sort(\"session\")\n",
    "    .fill_null(0)\n",
    ")"
   ]
  },
  {
   "cell_type": "code",
   "execution_count": 51,
   "id": "0425c313",
   "metadata": {
    "ExecuteTime": {
     "end_time": "2023-01-30T20:32:32.093350Z",
     "start_time": "2023-01-30T20:32:31.144802Z"
    }
   },
   "outputs": [
    {
     "name": "stdout",
     "output_type": "stream",
     "text": [
      "sessions with positives in candidates:  192741\n",
      "sessions with positives in test dataframe:  265206\n",
      "hit rate:  0.7267595755752132\n",
      "shape: (2, 2)\n",
      "┌────────┬──────────┐\n",
      "│ target ┆ counts   │\n",
      "│ ---    ┆ ---      │\n",
      "│ i32    ┆ u32      │\n",
      "╞════════╪══════════╡\n",
      "│ 0      ┆ 23475373 │\n",
      "├╌╌╌╌╌╌╌╌┼╌╌╌╌╌╌╌╌╌╌┤\n",
      "│ 1      ┆ 252550   │\n",
      "└────────┴──────────┘\n"
     ]
    }
   ],
   "source": [
    "df_candidates_covisit_all_with_positives = print_candidates_hit_rate(df_candidates_covisit_all)"
   ]
  },
  {
   "cell_type": "markdown",
   "id": "f3606f86",
   "metadata": {},
   "source": [
    "## Implicit"
   ]
  },
  {
   "cell_type": "code",
   "execution_count": 20,
   "id": "9634b657",
   "metadata": {
    "ExecuteTime": {
     "end_time": "2023-01-30T20:10:20.037762Z",
     "start_time": "2023-01-30T20:10:20.007463Z"
    }
   },
   "outputs": [],
   "source": [
    "from implicit.nearest_neighbours import CosineRecommender\n",
    "from implicit.nearest_neighbours import TFIDFRecommender"
   ]
  },
  {
   "cell_type": "markdown",
   "id": "266498ad",
   "metadata": {},
   "source": [
    "### old"
   ]
  },
  {
   "cell_type": "code",
   "execution_count": 58,
   "id": "2442ad38",
   "metadata": {
    "ExecuteTime": {
     "end_time": "2023-01-30T20:40:43.083800Z",
     "start_time": "2023-01-30T20:40:13.361404Z"
    }
   },
   "outputs": [],
   "source": [
    "df = pl.concat([val_df_train, val_df_valid_input]).unique().sort([\"session\", \"ts\"])\n",
    "df = implicit_old_weight_interactions(df)\n",
    "train_data = make_sparse_matrix(df)"
   ]
  },
  {
   "cell_type": "code",
   "execution_count": 59,
   "id": "763a2374",
   "metadata": {
    "ExecuteTime": {
     "end_time": "2023-01-30T20:41:23.506399Z",
     "start_time": "2023-01-30T20:40:43.085641Z"
    }
   },
   "outputs": [
    {
     "data": {
      "application/vnd.jupyter.widget-view+json": {
       "model_id": "668074edceb245a18079f69be9ae3f2d",
       "version_major": 2,
       "version_minor": 0
      },
      "text/plain": [
       "  0%|          | 0/1855603 [00:00<?, ?it/s]"
      ]
     },
     "metadata": {},
     "output_type": "display_data"
    }
   ],
   "source": [
    "tfidf_old = TFIDFRecommender(K=200)\n",
    "tfidf_old.fit(train_data)"
   ]
  },
  {
   "cell_type": "code",
   "execution_count": 67,
   "id": "3daabb62",
   "metadata": {
    "ExecuteTime": {
     "end_time": "2023-01-30T20:46:20.988871Z",
     "start_time": "2023-01-30T20:45:52.259483Z"
    }
   },
   "outputs": [
    {
     "data": {
      "application/vnd.jupyter.widget-view+json": {
       "model_id": "6d99ec295257416a9f19a7f60f903ba3",
       "version_major": 2,
       "version_minor": 0
      },
      "text/plain": [
       "  0%|          | 0/1855603 [00:00<?, ?it/s]"
      ]
     },
     "metadata": {},
     "output_type": "display_data"
    }
   ],
   "source": [
    "i2i_old = CosineRecommender(K=100)\n",
    "i2i_old.fit(train_data)"
   ]
  },
  {
   "cell_type": "code",
   "execution_count": 60,
   "id": "4ddfb69f",
   "metadata": {
    "ExecuteTime": {
     "end_time": "2023-01-30T20:41:56.938534Z",
     "start_time": "2023-01-30T20:41:25.799955Z"
    }
   },
   "outputs": [
    {
     "name": "stderr",
     "output_type": "stream",
     "text": [
      "100%|██████████| 266/266 [00:29<00:00,  8.89it/s]\n"
     ]
    }
   ],
   "source": [
    "df_candidates_tfidf_old = implicit_batch_candidates_for_all_types(\n",
    "    model=tfidf_old, model_name=\"tfidf_old\",\n",
    "    train_data=train_data, test_users=list(test_sessions_dict.keys()),\n",
    "    topk=100,\n",
    ")"
   ]
  },
  {
   "cell_type": "code",
   "execution_count": 68,
   "id": "794766b0",
   "metadata": {
    "ExecuteTime": {
     "end_time": "2023-01-30T20:46:47.652250Z",
     "start_time": "2023-01-30T20:46:22.106373Z"
    }
   },
   "outputs": [
    {
     "name": "stderr",
     "output_type": "stream",
     "text": [
      "100%|██████████| 266/266 [00:24<00:00, 10.95it/s]\n"
     ]
    }
   ],
   "source": [
    "df_candidates_i2i_old = implicit_batch_candidates_for_all_types(\n",
    "    model=i2i_old, model_name=\"i2i_old\",\n",
    "    train_data=train_data, test_users=list(test_sessions_dict.keys()),\n",
    "    topk=100,\n",
    ")"
   ]
  },
  {
   "cell_type": "code",
   "execution_count": 61,
   "id": "1d8fa248",
   "metadata": {
    "ExecuteTime": {
     "end_time": "2023-01-30T20:41:59.390368Z",
     "start_time": "2023-01-30T20:41:56.940331Z"
    }
   },
   "outputs": [],
   "source": [
    "df_candidates_tfidf_old = (\n",
    "    df_candidates_tfidf_old\n",
    "    .explode([\"aid\", \"tfidf_old_score\"])\n",
    "    .filter(pl.col(\"aid\") != -1)  # some strange items from implicit\n",
    "    .unique(subset=[\"session\", \"aid\"], keep=\"last\")\n",
    "    .join(df_act_target, on=[\"session\", \"aid\"], how=\"left\")  # if using rank column as a feature\n",
    "    .sort(\"session\")\n",
    "    .fill_null(0)\n",
    ")"
   ]
  },
  {
   "cell_type": "code",
   "execution_count": 62,
   "id": "22f8e8fb",
   "metadata": {
    "ExecuteTime": {
     "end_time": "2023-01-30T20:42:30.210982Z",
     "start_time": "2023-01-30T20:42:29.392923Z"
    }
   },
   "outputs": [
    {
     "name": "stdout",
     "output_type": "stream",
     "text": [
      "sessions with positives in candidates:  188605\n",
      "sessions with positives in test dataframe:  265206\n",
      "hit rate:  0.7111641516406114\n",
      "shape: (2, 2)\n",
      "┌────────┬──────────┐\n",
      "│ target ┆ counts   │\n",
      "│ ---    ┆ ---      │\n",
      "│ i32    ┆ u32      │\n",
      "╞════════╪══════════╡\n",
      "│ 0      ┆ 18563809 │\n",
      "├╌╌╌╌╌╌╌╌┼╌╌╌╌╌╌╌╌╌╌┤\n",
      "│ 1      ┆ 242361   │\n",
      "└────────┴──────────┘\n"
     ]
    }
   ],
   "source": [
    "df_candidates_tfidf_old_with_positives = print_candidates_hit_rate(df_candidates_tfidf_old)"
   ]
  },
  {
   "cell_type": "code",
   "execution_count": 69,
   "id": "a90fc033",
   "metadata": {
    "ExecuteTime": {
     "end_time": "2023-01-30T20:47:19.683347Z",
     "start_time": "2023-01-30T20:47:17.248209Z"
    }
   },
   "outputs": [],
   "source": [
    "df_candidates_i2i_old = (\n",
    "    df_candidates_i2i_old\n",
    "    .explode([\"aid\", \"i2i_old_score\"])\n",
    "    .filter(pl.col(\"aid\") != -1)  # some strange items from implicit\n",
    "    .unique(subset=[\"session\", \"aid\"], keep=\"last\")\n",
    "    .join(df_act_target, on=[\"session\", \"aid\"], how=\"left\")  # if using rank column as a feature\n",
    "    .sort(\"session\")\n",
    "    .fill_null(0)\n",
    ")"
   ]
  },
  {
   "cell_type": "code",
   "execution_count": 70,
   "id": "6eb394b6",
   "metadata": {
    "ExecuteTime": {
     "end_time": "2023-01-30T20:47:37.775816Z",
     "start_time": "2023-01-30T20:47:37.023273Z"
    }
   },
   "outputs": [
    {
     "name": "stdout",
     "output_type": "stream",
     "text": [
      "sessions with positives in candidates:  176272\n",
      "sessions with positives in test dataframe:  265206\n",
      "hit rate:  0.6646606788685022\n",
      "shape: (2, 2)\n",
      "┌────────┬──────────┐\n",
      "│ target ┆ counts   │\n",
      "│ ---    ┆ ---      │\n",
      "│ i32    ┆ u32      │\n",
      "╞════════╪══════════╡\n",
      "│ 0      ┆ 17354499 │\n",
      "├╌╌╌╌╌╌╌╌┼╌╌╌╌╌╌╌╌╌╌┤\n",
      "│ 1      ┆ 218371   │\n",
      "└────────┴──────────┘\n"
     ]
    }
   ],
   "source": [
    "df_candidates_i2i_old_with_positives = print_candidates_hit_rate(df_candidates_i2i_old)"
   ]
  },
  {
   "cell_type": "markdown",
   "id": "171227ae",
   "metadata": {},
   "source": [
    "### new"
   ]
  },
  {
   "cell_type": "code",
   "execution_count": 71,
   "id": "e95f6b4a",
   "metadata": {
    "ExecuteTime": {
     "end_time": "2023-01-30T20:49:18.109043Z",
     "start_time": "2023-01-30T20:48:30.109768Z"
    }
   },
   "outputs": [],
   "source": [
    "df = pl.concat([val_df_train, val_df_valid_input]).unique().sort([\"session\", \"ts\"])\n",
    "df = implicit_new_weight_interactions(df)\n",
    "train_data = make_sparse_matrix(df)"
   ]
  },
  {
   "cell_type": "code",
   "execution_count": 22,
   "id": "43d625cc",
   "metadata": {
    "ExecuteTime": {
     "end_time": "2023-01-30T20:11:43.077672Z",
     "start_time": "2023-01-30T20:11:02.546263Z"
    }
   },
   "outputs": [
    {
     "data": {
      "application/vnd.jupyter.widget-view+json": {
       "model_id": "d915cdf6543e4416ae391d610ecc5a44",
       "version_major": 2,
       "version_minor": 0
      },
      "text/plain": [
       "  0%|          | 0/1855603 [00:00<?, ?it/s]"
      ]
     },
     "metadata": {},
     "output_type": "display_data"
    }
   ],
   "source": [
    "tfidf_new = TFIDFRecommender(K=200)\n",
    "tfidf_new.fit(train_data)"
   ]
  },
  {
   "cell_type": "code",
   "execution_count": 72,
   "id": "7a09e5cf",
   "metadata": {
    "ExecuteTime": {
     "end_time": "2023-01-30T20:49:53.620586Z",
     "start_time": "2023-01-30T20:49:18.110547Z"
    }
   },
   "outputs": [
    {
     "data": {
      "application/vnd.jupyter.widget-view+json": {
       "model_id": "ae058bf822654ff19eba60c48ca06101",
       "version_major": 2,
       "version_minor": 0
      },
      "text/plain": [
       "  0%|          | 0/1855603 [00:00<?, ?it/s]"
      ]
     },
     "metadata": {},
     "output_type": "display_data"
    }
   ],
   "source": [
    "i2i_new = CosineRecommender(K=200)\n",
    "i2i_new.fit(train_data)"
   ]
  },
  {
   "cell_type": "code",
   "execution_count": 49,
   "id": "2ca2cb9e",
   "metadata": {
    "ExecuteTime": {
     "end_time": "2023-01-30T20:32:28.540843Z",
     "start_time": "2023-01-30T20:31:55.330749Z"
    }
   },
   "outputs": [
    {
     "name": "stderr",
     "output_type": "stream",
     "text": [
      "100%|██████████| 266/266 [00:32<00:00,  8.30it/s]\n"
     ]
    }
   ],
   "source": [
    "df_candidates_tfidf_new = implicit_batch_candidates_for_all_types(\n",
    "    model=tfidf_new, model_name=\"tfidf_new\",\n",
    "    train_data=train_data, test_users=list(test_sessions_dict.keys()),\n",
    "    topk=100,\n",
    ")"
   ]
  },
  {
   "cell_type": "code",
   "execution_count": 73,
   "id": "deb55c0e",
   "metadata": {
    "ExecuteTime": {
     "end_time": "2023-01-30T20:50:40.023228Z",
     "start_time": "2023-01-30T20:50:05.176724Z"
    }
   },
   "outputs": [
    {
     "name": "stderr",
     "output_type": "stream",
     "text": [
      "100%|██████████| 266/266 [00:33<00:00,  7.90it/s]\n"
     ]
    }
   ],
   "source": [
    "df_candidates_i2i_new = implicit_batch_candidates_for_all_types(\n",
    "    model=i2i_new, model_name=\"i2i_new\",\n",
    "    train_data=train_data, test_users=list(val_df_valid_input[\"sessi\".keys()),\n",
    "    topk=100,\n",
    ")"
   ]
  },
  {
   "cell_type": "code",
   "execution_count": 50,
   "id": "01769c82",
   "metadata": {
    "ExecuteTime": {
     "end_time": "2023-01-30T20:32:31.142965Z",
     "start_time": "2023-01-30T20:32:28.542361Z"
    }
   },
   "outputs": [],
   "source": [
    "df_candidates_tfidf_new = (\n",
    "    df_candidates_tfidf_new\n",
    "    .explode([\"aid\", \"tfidf_new_score\"])\n",
    "    .filter(pl.col(\"aid\") != -1)  # some strange items from implicit\n",
    "    .unique(subset=[\"session\", \"aid\"], keep=\"last\")\n",
    "    .join(df_act_target, on=[\"session\", \"aid\"], how=\"left\")  # if using rank column as a feature\n",
    "    .sort(\"session\")\n",
    "    .fill_null(0)\n",
    ")"
   ]
  },
  {
   "cell_type": "code",
   "execution_count": 74,
   "id": "d5b3deb5",
   "metadata": {
    "ExecuteTime": {
     "end_time": "2023-01-30T20:50:42.477294Z",
     "start_time": "2023-01-30T20:50:40.025051Z"
    }
   },
   "outputs": [],
   "source": [
    "df_candidates_i2i_new = (\n",
    "    df_candidates_i2i_new\n",
    "    .explode([\"aid\", \"i2i_new_score\"])\n",
    "    .filter(pl.col(\"aid\") != -1)  # some strange items from implicit\n",
    "    .unique(subset=[\"session\", \"aid\"], keep=\"last\")\n",
    "    .join(df_act_target, on=[\"session\", \"aid\"], how=\"left\")  # if using rank column as a feature\n",
    "    .sort(\"session\")\n",
    "    .fill_null(0)\n",
    ")"
   ]
  },
  {
   "cell_type": "code",
   "execution_count": 52,
   "id": "765c71ad",
   "metadata": {
    "ExecuteTime": {
     "end_time": "2023-01-30T20:33:18.348244Z",
     "start_time": "2023-01-30T20:33:17.550243Z"
    }
   },
   "outputs": [
    {
     "name": "stdout",
     "output_type": "stream",
     "text": [
      "sessions with positives in candidates:  188028\n",
      "sessions with positives in test dataframe:  265206\n",
      "hit rate:  0.7089884844234293\n",
      "shape: (2, 2)\n",
      "┌────────┬──────────┐\n",
      "│ target ┆ counts   │\n",
      "│ ---    ┆ ---      │\n",
      "│ i32    ┆ u32      │\n",
      "╞════════╪══════════╡\n",
      "│ 0      ┆ 18508030 │\n",
      "├╌╌╌╌╌╌╌╌┼╌╌╌╌╌╌╌╌╌╌┤\n",
      "│ 1      ┆ 240440   │\n",
      "└────────┴──────────┘\n"
     ]
    }
   ],
   "source": [
    "df_candidates_tfidf_new_with_positives = print_candidates_hit_rate(df_candidates_tfidf_new)"
   ]
  },
  {
   "cell_type": "code",
   "execution_count": 75,
   "id": "e3029d66",
   "metadata": {
    "ExecuteTime": {
     "end_time": "2023-01-30T20:50:59.548666Z",
     "start_time": "2023-01-30T20:50:58.739664Z"
    }
   },
   "outputs": [
    {
     "name": "stdout",
     "output_type": "stream",
     "text": [
      "sessions with positives in candidates:  175969\n",
      "sessions with positives in test dataframe:  265206\n",
      "hit rate:  0.66351817078045\n",
      "shape: (2, 2)\n",
      "┌────────┬──────────┐\n",
      "│ target ┆ counts   │\n",
      "│ ---    ┆ ---      │\n",
      "│ i32    ┆ u32      │\n",
      "╞════════╪══════════╡\n",
      "│ 0      ┆ 17325477 │\n",
      "├╌╌╌╌╌╌╌╌┼╌╌╌╌╌╌╌╌╌╌┤\n",
      "│ 1      ┆ 217093   │\n",
      "└────────┴──────────┘\n"
     ]
    }
   ],
   "source": [
    "df_candidates_i2i_new_with_positives = print_candidates_hit_rate(df_candidates_i2i_new)"
   ]
  },
  {
   "cell_type": "code",
   "execution_count": null,
   "id": "5a985823",
   "metadata": {},
   "outputs": [],
   "source": []
  },
  {
   "cell_type": "code",
   "execution_count": 63,
   "id": "04bb7cde",
   "metadata": {
    "ExecuteTime": {
     "end_time": "2023-01-30T20:43:49.970862Z",
     "start_time": "2023-01-30T20:43:46.019976Z"
    }
   },
   "outputs": [],
   "source": [
    "df_candidates_tfidf_old_new_top_100 = pl.concat([\n",
    "    df_candidates_tfidf_old.select([\"session\", \"aid\", \"target\"]),\n",
    "    df_candidates_tfidf_new.select([\"session\", \"aid\", \"target\"]),\n",
    "]).unique()"
   ]
  },
  {
   "cell_type": "code",
   "execution_count": 64,
   "id": "28d9c34d",
   "metadata": {
    "ExecuteTime": {
     "end_time": "2023-01-30T20:43:51.066645Z",
     "start_time": "2023-01-30T20:43:49.972768Z"
    }
   },
   "outputs": [
    {
     "name": "stdout",
     "output_type": "stream",
     "text": [
      "sessions with positives in candidates:  192544\n",
      "sessions with positives in test dataframe:  265206\n",
      "hit rate:  0.7260167567852914\n",
      "shape: (2, 2)\n",
      "┌────────┬──────────┐\n",
      "│ target ┆ counts   │\n",
      "│ ---    ┆ ---      │\n",
      "│ i32    ┆ u32      │\n",
      "╞════════╪══════════╡\n",
      "│ 0      ┆ 24362998 │\n",
      "├╌╌╌╌╌╌╌╌┼╌╌╌╌╌╌╌╌╌╌┤\n",
      "│ 1      ┆ 250224   │\n",
      "└────────┴──────────┘\n"
     ]
    }
   ],
   "source": [
    "df_candidates_tfidf_old_new_top_100_with_positives = print_candidates_hit_rate(\n",
    "    df_candidates_tfidf_old_new_top_100\n",
    ")"
   ]
  },
  {
   "cell_type": "code",
   "execution_count": 76,
   "id": "2ed5af62",
   "metadata": {
    "ExecuteTime": {
     "end_time": "2023-01-30T20:52:11.798856Z",
     "start_time": "2023-01-30T20:52:05.486085Z"
    }
   },
   "outputs": [],
   "source": [
    "df_candidates_tfidf_i2i_old_new_top_100 = pl.concat([\n",
    "    df_candidates_tfidf_old.select([\"session\", \"aid\", \"target\"]),\n",
    "    df_candidates_tfidf_new.select([\"session\", \"aid\", \"target\"]),\n",
    "    df_candidates_i2i_old.select([\"session\", \"aid\", \"target\"]),\n",
    "    df_candidates_i2i_new.select([\"session\", \"aid\", \"target\"]),\n",
    "]).unique()"
   ]
  },
  {
   "cell_type": "code",
   "execution_count": 77,
   "id": "4ef4d04d",
   "metadata": {
    "ExecuteTime": {
     "end_time": "2023-01-30T20:52:13.355300Z",
     "start_time": "2023-01-30T20:52:11.800899Z"
    }
   },
   "outputs": [
    {
     "name": "stdout",
     "output_type": "stream",
     "text": [
      "sessions with positives in candidates:  193285\n",
      "sessions with positives in test dataframe:  265206\n",
      "hit rate:  0.728810811218449\n",
      "shape: (2, 2)\n",
      "┌────────┬──────────┐\n",
      "│ target ┆ counts   │\n",
      "│ ---    ┆ ---      │\n",
      "│ i32    ┆ u32      │\n",
      "╞════════╪══════════╡\n",
      "│ 0      ┆ 35347915 │\n",
      "├╌╌╌╌╌╌╌╌┼╌╌╌╌╌╌╌╌╌╌┤\n",
      "│ 1      ┆ 251858   │\n",
      "└────────┴──────────┘\n"
     ]
    }
   ],
   "source": [
    "df_candidates_tfidf_i2i_old_new_top_100_with_positives = print_candidates_hit_rate(\n",
    "    df_candidates_tfidf_i2i_old_new_top_100\n",
    ")"
   ]
  },
  {
   "cell_type": "code",
   "execution_count": null,
   "id": "a6215f30",
   "metadata": {},
   "outputs": [],
   "source": []
  },
  {
   "cell_type": "code",
   "execution_count": null,
   "id": "83653645",
   "metadata": {},
   "outputs": [],
   "source": []
  },
  {
   "cell_type": "code",
   "execution_count": 53,
   "id": "ed54ba38",
   "metadata": {
    "ExecuteTime": {
     "end_time": "2023-01-30T20:34:11.722261Z",
     "start_time": "2023-01-30T20:33:38.053798Z"
    }
   },
   "outputs": [
    {
     "name": "stderr",
     "output_type": "stream",
     "text": [
      "100%|██████████| 266/266 [00:31<00:00,  8.44it/s]\n"
     ]
    }
   ],
   "source": [
    "df_candidates_tfidf_new_top_200 = implicit_batch_candidates_for_all_types(\n",
    "    model=tfidf_new, model_name=\"tfidf_new\",\n",
    "    train_data=train_data, test_users=list(test_sessions_dict.keys()),\n",
    "    topk=200,\n",
    ")"
   ]
  },
  {
   "cell_type": "code",
   "execution_count": 54,
   "id": "44f058a8",
   "metadata": {
    "ExecuteTime": {
     "end_time": "2023-01-30T20:34:16.392768Z",
     "start_time": "2023-01-30T20:34:11.724109Z"
    }
   },
   "outputs": [],
   "source": [
    "df_candidates_tfidf_new_top_200 = (\n",
    "    df_candidates_tfidf_new_top_200\n",
    "    .explode([\"aid\", \"tfidf_new_score\"])\n",
    "    .filter(pl.col(\"aid\") != -1)  # some strange items from implicit\n",
    "    .unique(subset=[\"session\", \"aid\"], keep=\"last\")\n",
    "    .join(df_act_target, on=[\"session\", \"aid\"], how=\"left\")  # if using rank column as a feature\n",
    "    .sort(\"session\")\n",
    "    .fill_null(0)\n",
    ")"
   ]
  },
  {
   "cell_type": "code",
   "execution_count": 55,
   "id": "cd2145b9",
   "metadata": {
    "ExecuteTime": {
     "end_time": "2023-01-30T20:34:17.675843Z",
     "start_time": "2023-01-30T20:34:16.394291Z"
    }
   },
   "outputs": [
    {
     "name": "stdout",
     "output_type": "stream",
     "text": [
      "sessions with positives in candidates:  195930\n",
      "sessions with positives in test dataframe:  265206\n",
      "hit rate:  0.7387841904029321\n",
      "shape: (2, 2)\n",
      "┌────────┬──────────┐\n",
      "│ target ┆ counts   │\n",
      "│ ---    ┆ ---      │\n",
      "│ i32    ┆ u32      │\n",
      "╞════════╪══════════╡\n",
      "│ 0      ┆ 38713692 │\n",
      "├╌╌╌╌╌╌╌╌┼╌╌╌╌╌╌╌╌╌╌┤\n",
      "│ 1      ┆ 257752   │\n",
      "└────────┴──────────┘\n"
     ]
    }
   ],
   "source": [
    "df_candidates_tfidf_new_top_200_with_positives = print_candidates_hit_rate(df_candidates_tfidf_new_top_200)"
   ]
  },
  {
   "cell_type": "code",
   "execution_count": null,
   "id": "bb3841d9",
   "metadata": {},
   "outputs": [],
   "source": []
  },
  {
   "cell_type": "code",
   "execution_count": 56,
   "id": "25eebd5a",
   "metadata": {
    "ExecuteTime": {
     "end_time": "2023-01-30T20:34:25.908226Z",
     "start_time": "2023-01-30T20:34:17.678246Z"
    }
   },
   "outputs": [],
   "source": [
    "df_candidates_covisit_all_tfidf_new_top_200 = pl.concat([\n",
    "    df_candidates_covisit_all.select([\"session\", \"aid\", \"target\"]),\n",
    "    df_candidates_tfidf_new_top_200.select([\"session\", \"aid\", \"target\"]),\n",
    "]).unique()"
   ]
  },
  {
   "cell_type": "code",
   "execution_count": 57,
   "id": "ab2da519",
   "metadata": {
    "ExecuteTime": {
     "end_time": "2023-01-30T20:34:27.884889Z",
     "start_time": "2023-01-30T20:34:25.909889Z"
    }
   },
   "outputs": [
    {
     "name": "stdout",
     "output_type": "stream",
     "text": [
      "sessions with positives in candidates:  204472\n",
      "sessions with positives in test dataframe:  265206\n",
      "hit rate:  0.7709931147862417\n",
      "shape: (2, 2)\n",
      "┌────────┬──────────┐\n",
      "│ target ┆ counts   │\n",
      "│ ---    ┆ ---      │\n",
      "│ i32    ┆ u32      │\n",
      "╞════════╪══════════╡\n",
      "│ 0      ┆ 57356795 │\n",
      "├╌╌╌╌╌╌╌╌┼╌╌╌╌╌╌╌╌╌╌┤\n",
      "│ 1      ┆ 278081   │\n",
      "└────────┴──────────┘\n"
     ]
    }
   ],
   "source": [
    "df_candidates_covisit_all_tfidf_new_top_200_with_positives = print_candidates_hit_rate(\n",
    "    df_candidates_covisit_all_tfidf_new_top_200\n",
    ")"
   ]
  },
  {
   "cell_type": "code",
   "execution_count": null,
   "id": "a1b941b7",
   "metadata": {},
   "outputs": [],
   "source": []
  },
  {
   "cell_type": "code",
   "execution_count": 65,
   "id": "fe581a09",
   "metadata": {
    "ExecuteTime": {
     "end_time": "2023-01-30T20:45:05.851430Z",
     "start_time": "2023-01-30T20:44:59.593827Z"
    }
   },
   "outputs": [],
   "source": [
    "df_candidates_covisit_all_tfidf_old_new_top_100 = pl.concat([\n",
    "    df_candidates_covisit_all.select([\"session\", \"aid\", \"target\"]),\n",
    "    df_candidates_tfidf_old_new_top_100.select([\"session\", \"aid\", \"target\"]),\n",
    "]).unique()"
   ]
  },
  {
   "cell_type": "code",
   "execution_count": 66,
   "id": "0ed84831",
   "metadata": {
    "ExecuteTime": {
     "end_time": "2023-01-30T20:45:12.880330Z",
     "start_time": "2023-01-30T20:45:11.327072Z"
    }
   },
   "outputs": [
    {
     "name": "stdout",
     "output_type": "stream",
     "text": [
      "sessions with positives in candidates:  202061\n",
      "sessions with positives in test dataframe:  265206\n",
      "hit rate:  0.7619020685806505\n",
      "shape: (2, 2)\n",
      "┌────────┬──────────┐\n",
      "│ target ┆ counts   │\n",
      "│ ---    ┆ ---      │\n",
      "│ i32    ┆ u32      │\n",
      "╞════════╪══════════╡\n",
      "│ 0      ┆ 42828456 │\n",
      "├╌╌╌╌╌╌╌╌┼╌╌╌╌╌╌╌╌╌╌┤\n",
      "│ 1      ┆ 272271   │\n",
      "└────────┴──────────┘\n"
     ]
    }
   ],
   "source": [
    "df_candidates_covisit_all_tfidf_old_new_top_100_with_positives = print_candidates_hit_rate(\n",
    "    df_candidates_covisit_all_tfidf_old_new_top_100\n",
    ")"
   ]
  },
  {
   "cell_type": "code",
   "execution_count": null,
   "id": "1ac59017",
   "metadata": {},
   "outputs": [],
   "source": []
  },
  {
   "cell_type": "code",
   "execution_count": null,
   "id": "0fd0a750",
   "metadata": {},
   "outputs": [],
   "source": []
  },
  {
   "cell_type": "code",
   "execution_count": 81,
   "id": "8b837e8b",
   "metadata": {
    "ExecuteTime": {
     "end_time": "2023-01-30T21:02:58.130985Z",
     "start_time": "2023-01-30T21:02:48.759627Z"
    }
   },
   "outputs": [],
   "source": [
    "df_candidates_covisit_all_tfidf_i2i_old_new_top_100 = pl.concat([\n",
    "    df_candidates_covisit_all.select([\"session\", \"aid\", \"target\"]),\n",
    "    df_candidates_i2i_old.select([\"session\", \"aid\", \"target\"]),\n",
    "    df_candidates_i2i_new.select([\"session\", \"aid\", \"target\"]),\n",
    "    df_candidates_tfidf_old.select([\"session\", \"aid\", \"target\"]),\n",
    "    df_candidates_tfidf_new.select([\"session\", \"aid\", \"target\"]),\n",
    "]).unique()"
   ]
  },
  {
   "cell_type": "code",
   "execution_count": 82,
   "id": "1b66f69f",
   "metadata": {
    "ExecuteTime": {
     "end_time": "2023-01-30T21:03:00.583775Z",
     "start_time": "2023-01-30T21:02:58.468224Z"
    }
   },
   "outputs": [
    {
     "name": "stdout",
     "output_type": "stream",
     "text": [
      "sessions with positives in candidates:  202507\n",
      "sessions with positives in test dataframe:  265206\n",
      "hit rate:  0.7635837801558034\n",
      "shape: (2, 2)\n",
      "┌────────┬──────────┐\n",
      "│ target ┆ counts   │\n",
      "│ ---    ┆ ---      │\n",
      "│ i32    ┆ u32      │\n",
      "╞════════╪══════════╡\n",
      "│ 0      ┆ 54014228 │\n",
      "├╌╌╌╌╌╌╌╌┼╌╌╌╌╌╌╌╌╌╌┤\n",
      "│ 1      ┆ 273327   │\n",
      "└────────┴──────────┘\n"
     ]
    }
   ],
   "source": [
    "df_candidates_covisit_all_tfidf_i2i_old_new_top_100_with_positives = print_candidates_hit_rate(\n",
    "    df_candidates_covisit_all_tfidf_i2i_old_new_top_100\n",
    ")"
   ]
  },
  {
   "cell_type": "code",
   "execution_count": null,
   "id": "76c5b43d",
   "metadata": {},
   "outputs": [],
   "source": []
  },
  {
   "cell_type": "code",
   "execution_count": null,
   "id": "cbe42a35",
   "metadata": {},
   "outputs": [],
   "source": []
  },
  {
   "cell_type": "code",
   "execution_count": null,
   "id": "71a86505",
   "metadata": {},
   "outputs": [],
   "source": []
  },
  {
   "cell_type": "markdown",
   "id": "d39b1252",
   "metadata": {},
   "source": [
    "## current candidates"
   ]
  },
  {
   "cell_type": "code",
   "execution_count": 78,
   "id": "ff8647cd",
   "metadata": {
    "ExecuteTime": {
     "end_time": "2023-01-30T20:55:52.517444Z",
     "start_time": "2023-01-30T20:55:45.254426Z"
    }
   },
   "outputs": [],
   "source": [
    "df_candidates_covisit_all_i2i_old_new_top_100 = pl.concat([\n",
    "    df_candidates_covisit_all.select([\"session\", \"aid\", \"target\"]),\n",
    "    df_candidates_i2i_old.select([\"session\", \"aid\", \"target\"]),\n",
    "    df_candidates_i2i_new.select([\"session\", \"aid\", \"target\"]),\n",
    "]).unique()"
   ]
  },
  {
   "cell_type": "code",
   "execution_count": 79,
   "id": "757b04d3",
   "metadata": {
    "ExecuteTime": {
     "end_time": "2023-01-30T20:55:55.150416Z",
     "start_time": "2023-01-30T20:55:53.409414Z"
    }
   },
   "outputs": [
    {
     "name": "stdout",
     "output_type": "stream",
     "text": [
      "sessions with positives in candidates:  198261\n",
      "sessions with positives in test dataframe:  265206\n",
      "hit rate:  0.7475735843080473\n",
      "shape: (2, 2)\n",
      "┌────────┬──────────┐\n",
      "│ target ┆ counts   │\n",
      "│ ---    ┆ ---      │\n",
      "│ i32    ┆ u32      │\n",
      "╞════════╪══════════╡\n",
      "│ 0      ┆ 46329774 │\n",
      "├╌╌╌╌╌╌╌╌┼╌╌╌╌╌╌╌╌╌╌┤\n",
      "│ 1      ┆ 263968   │\n",
      "└────────┴──────────┘\n"
     ]
    }
   ],
   "source": [
    "df_candidates_covisit_all_i2i_old_new_top_100_with_positives = print_candidates_hit_rate(\n",
    "    df_candidates_covisit_all_i2i_old_new_top_100\n",
    ")"
   ]
  },
  {
   "cell_type": "code",
   "execution_count": null,
   "id": "4a74de7f",
   "metadata": {},
   "outputs": [],
   "source": []
  },
  {
   "cell_type": "markdown",
   "id": "051396b7",
   "metadata": {},
   "source": []
  },
  {
   "cell_type": "code",
   "execution_count": null,
   "id": "4f80e6ec",
   "metadata": {},
   "outputs": [],
   "source": []
  },
  {
   "cell_type": "code",
   "execution_count": null,
   "id": "a5e38cbf",
   "metadata": {},
   "outputs": [],
   "source": []
  }
 ],
 "metadata": {
  "kernelspec": {
   "display_name": "Python 3 (ipykernel)",
   "language": "python",
   "name": "python3"
  },
  "language_info": {
   "codemirror_mode": {
    "name": "ipython",
    "version": 3
   },
   "file_extension": ".py",
   "mimetype": "text/x-python",
   "name": "python",
   "nbconvert_exporter": "python",
   "pygments_lexer": "ipython3",
   "version": "3.9.5"
  },
  "toc": {
   "base_numbering": 1,
   "nav_menu": {},
   "number_sections": true,
   "sideBar": true,
   "skip_h1_title": false,
   "title_cell": "Table of Contents",
   "title_sidebar": "Contents",
   "toc_cell": false,
   "toc_position": {},
   "toc_section_display": true,
   "toc_window_display": false
  }
 },
 "nbformat": 4,
 "nbformat_minor": 5
}
