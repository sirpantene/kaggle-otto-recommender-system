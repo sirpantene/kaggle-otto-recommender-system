{
 "cells": [
  {
   "cell_type": "code",
   "execution_count": 1,
   "id": "b88399d5",
   "metadata": {
    "ExecuteTime": {
     "end_time": "2023-01-26T17:30:27.474027Z",
     "start_time": "2023-01-26T17:30:27.462314Z"
    }
   },
   "outputs": [],
   "source": [
    "%load_ext autoreload\n",
    "%autoreload 2"
   ]
  },
  {
   "cell_type": "code",
   "execution_count": 2,
   "id": "f4286cc8",
   "metadata": {
    "ExecuteTime": {
     "end_time": "2023-01-26T17:30:30.381287Z",
     "start_time": "2023-01-26T17:30:27.861484Z"
    }
   },
   "outputs": [],
   "source": [
    "from pathlib import Path\n",
    "from collections import Counter\n",
    "\n",
    "from joblib import Parallel, delayed\n",
    "from tqdm.notebook import tqdm\n",
    "import dill\n",
    "import pandas as pd\n",
    "import polars as pl\n",
    "import numpy as np\n",
    "from scipy.sparse import csr_matrix\n",
    "\n",
    "# boosting\n",
    "import lightgbm as lgb\n",
    "\n",
    "\n",
    "import pytorch_lightning as L\n",
    "import torch\n",
    "import torch.nn as nn\n",
    "import torch.nn.functional as F\n",
    "from torch.utils.data import Dataset, DataLoader\n",
    "\n",
    "import matplotlib.pyplot as plt\n",
    "import seaborn as sns\n",
    "\n",
    "from tasks.data.dataset.mappers import EntityEncoder\n",
    "from tasks.jobs import Splitter"
   ]
  },
  {
   "cell_type": "code",
   "execution_count": 3,
   "id": "c47149d5",
   "metadata": {
    "ExecuteTime": {
     "end_time": "2023-01-26T17:30:30.414211Z",
     "start_time": "2023-01-26T17:30:30.383178Z"
    }
   },
   "outputs": [],
   "source": [
    "from otto_utils import *\n",
    "from otto_candidates_covisit import *"
   ]
  },
  {
   "cell_type": "markdown",
   "id": "2969f464",
   "metadata": {},
   "source": [
    "# Create covisitation matrices for submission"
   ]
  },
  {
   "cell_type": "code",
   "execution_count": null,
   "id": "cc75567a",
   "metadata": {},
   "outputs": [],
   "source": [
    "# v1\n",
    "# params:\n",
    "#   clicks_th = 15\n",
    "#   carts_th  = 20\n",
    "#   orders_th = 20\n",
    "# \n",
    "#   carts_orders:\n",
    "#     weights_func=weights_func_carts_order,\n",
    "#     drop_dupli_func=drop_dupli_cols_for_carts_orders,\n",
    "#     chunk_size=200_000,\n",
    "#     attention_period=24*60*60*1000,\n",
    "#     attention_type=None,\n",
    "#     drop_th_sess_num=30,\n",
    "#     save_top_k=carts_th,\n",
    "# \n",
    "#   buys2buys:\n",
    "#     weights_func=weights_func_orders,\n",
    "#     drop_dupli_func=drop_dupli_cols_for_carts_orders,\n",
    "#     chunk_size=200_000,\n",
    "#     attention_period=14*24*60*60*1000,  # v4\n",
    "#     attention_type=[1, 2],\n",
    "#     drop_th_sess_num=30,\n",
    "#     save_top_k=orders_th\n",
    "# \n",
    "#   clicks:\n",
    "#     weights_func=weights_func_clicks,\n",
    "#     weights_func_params={\"_type\": \"valid\"},\n",
    "#     drop_dupli_func=drop_dupli_cols_for_clicks,\n",
    "#     chunk_size=200_000,\n",
    "#     attention_period=24*60*60*1000,\n",
    "#     attention_type=None,\n",
    "#     drop_th_sess_num=30,\n",
    "#     save_top_k=clicks_th,"
   ]
  },
  {
   "cell_type": "code",
   "execution_count": 4,
   "id": "66760785",
   "metadata": {
    "ExecuteTime": {
     "end_time": "2023-01-26T17:30:33.263341Z",
     "start_time": "2023-01-26T17:30:31.680434Z"
    }
   },
   "outputs": [],
   "source": [
    "df_train = pl.read_parquet(TRAIN_PROCESSED, use_pyarrow=True)\n",
    "df_test = pl.read_parquet(TEST_PROCESSED, use_pyarrow=True)"
   ]
  },
  {
   "cell_type": "code",
   "execution_count": 5,
   "id": "1dc097d5",
   "metadata": {
    "ExecuteTime": {
     "end_time": "2023-01-26T17:30:34.638553Z",
     "start_time": "2023-01-26T17:30:33.264988Z"
    }
   },
   "outputs": [],
   "source": [
    "df = pl.concat([df_train, df_test])"
   ]
  },
  {
   "cell_type": "code",
   "execution_count": 6,
   "id": "80fed92e",
   "metadata": {
    "ExecuteTime": {
     "end_time": "2023-01-26T17:31:35.978990Z",
     "start_time": "2023-01-26T17:31:35.950330Z"
    }
   },
   "outputs": [],
   "source": [
    "# Use top X for clicks, carts and orders\n",
    "clicks_th = 15\n",
    "carts_th  = 20\n",
    "orders_th = 20"
   ]
  },
  {
   "cell_type": "code",
   "execution_count": 11,
   "id": "c5a0f2e7",
   "metadata": {
    "ExecuteTime": {
     "end_time": "2023-01-26T18:44:04.705280Z",
     "start_time": "2023-01-26T18:11:33.757730Z"
    }
   },
   "outputs": [
    {
     "name": "stderr",
     "output_type": "stream",
     "text": [
      "100%|██████████| 73/73 [32:11<00:00, 26.46s/it]\n"
     ]
    }
   ],
   "source": [
    "carts_orders, carts_orders_top = co_visitation_matrix(\n",
    "    df,\n",
    "    weights_func=weights_func_carts_order,\n",
    "    drop_dupli_func=drop_dupli_cols_for_carts_orders,\n",
    "    chunk_size=200_000,\n",
    "    attention_period=24*60*60*1000,\n",
    "    attention_type=None,\n",
    "    drop_th_sess_num=30,\n",
    "    save_top_k=carts_th,\n",
    ")"
   ]
  },
  {
   "cell_type": "code",
   "execution_count": 12,
   "id": "cba70b42",
   "metadata": {
    "ExecuteTime": {
     "end_time": "2023-01-26T18:44:40.425170Z",
     "start_time": "2023-01-26T18:44:04.707198Z"
    }
   },
   "outputs": [],
   "source": [
    "carts_orders.write_parquet(\"__subm__covisit_carts_orders_all_v1.parquet\")"
   ]
  },
  {
   "cell_type": "code",
   "execution_count": 7,
   "id": "e7ec2d15",
   "metadata": {
    "ExecuteTime": {
     "end_time": "2023-01-26T17:37:59.071535Z",
     "start_time": "2023-01-26T17:32:50.513801Z"
    }
   },
   "outputs": [
    {
     "name": "stderr",
     "output_type": "stream",
     "text": [
      "100%|██████████| 73/73 [05:04<00:00,  4.18s/it]\n"
     ]
    }
   ],
   "source": [
    "buys2buys, buys2buys_top = co_visitation_matrix(\n",
    "    df,\n",
    "    weights_func=weights_func_orders,\n",
    "    drop_dupli_func=drop_dupli_cols_for_carts_orders,\n",
    "    chunk_size=200_000,\n",
    "#     attention_period=7*24*60*60*1000,  # v3\n",
    "    attention_period=14*24*60*60*1000,  # v4\n",
    "    attention_type=[1, 2],\n",
    "    drop_th_sess_num=30,\n",
    "    save_top_k=orders_th\n",
    ")"
   ]
  },
  {
   "cell_type": "code",
   "execution_count": 8,
   "id": "fadb6239",
   "metadata": {
    "ExecuteTime": {
     "end_time": "2023-01-26T17:38:13.462787Z",
     "start_time": "2023-01-26T17:38:08.025461Z"
    }
   },
   "outputs": [],
   "source": [
    "buys2buys.write_parquet(\"__subm__covisit_buys2buys_all_v1.parquet\")"
   ]
  },
  {
   "cell_type": "code",
   "execution_count": 9,
   "id": "9fa51880",
   "metadata": {
    "ExecuteTime": {
     "end_time": "2023-01-26T18:10:48.822621Z",
     "start_time": "2023-01-26T17:38:30.602390Z"
    }
   },
   "outputs": [
    {
     "name": "stderr",
     "output_type": "stream",
     "text": [
      "100%|██████████| 73/73 [31:55<00:00, 26.24s/it]\n"
     ]
    }
   ],
   "source": [
    "clicks, clicks_top = co_visitation_matrix(\n",
    "    df,\n",
    "    weights_func=weights_func_clicks,\n",
    "    weights_func_params={\"_type\": \"test\"},\n",
    "    drop_dupli_func=drop_dupli_cols_for_clicks,\n",
    "    chunk_size=200_000,\n",
    "    attention_period=24*60*60*1000,\n",
    "    attention_type=None,\n",
    "    drop_th_sess_num=30,\n",
    "    save_top_k=clicks_th,\n",
    ")"
   ]
  },
  {
   "cell_type": "code",
   "execution_count": 10,
   "id": "f7b30c13",
   "metadata": {
    "ExecuteTime": {
     "end_time": "2023-01-26T18:11:33.756468Z",
     "start_time": "2023-01-26T18:10:48.824149Z"
    }
   },
   "outputs": [],
   "source": [
    "clicks.write_parquet(\"__subm__covisit_clicks_all_v1.parquet\")"
   ]
  },
  {
   "cell_type": "code",
   "execution_count": null,
   "id": "da516905",
   "metadata": {},
   "outputs": [],
   "source": []
  },
  {
   "cell_type": "code",
   "execution_count": null,
   "id": "6df73080",
   "metadata": {},
   "outputs": [],
   "source": []
  },
  {
   "cell_type": "markdown",
   "id": "094986f1",
   "metadata": {},
   "source": [
    "# Valid"
   ]
  },
  {
   "cell_type": "code",
   "execution_count": 9,
   "id": "cc0918d3",
   "metadata": {
    "ExecuteTime": {
     "end_time": "2023-01-25T12:49:09.645044Z",
     "start_time": "2023-01-25T12:49:06.435324Z"
    }
   },
   "outputs": [],
   "source": [
    "# load\n",
    "val_df_train = pl.read_parquet(VALIDATION_PATH / \"train.parquet\", use_pyarrow=True)\n",
    "val_df_valid_input = pl.read_parquet(VALIDATION_PATH / \"valid.parquet\", use_pyarrow=True)\n",
    "val_df_valid_targets = pl.read_parquet(VALIDATION_PATH / \"test_labels.parquet\", use_pyarrow=True)"
   ]
  },
  {
   "cell_type": "code",
   "execution_count": 10,
   "id": "151dba58",
   "metadata": {
    "ExecuteTime": {
     "end_time": "2023-01-25T12:49:30.558334Z",
     "start_time": "2023-01-25T12:49:30.321814Z"
    }
   },
   "outputs": [
    {
     "data": {
      "text/html": [
       "<div>\n",
       "<style scoped>\n",
       "    .dataframe tbody tr th:only-of-type {\n",
       "        vertical-align: middle;\n",
       "    }\n",
       "\n",
       "    .dataframe tbody tr th {\n",
       "        vertical-align: top;\n",
       "    }\n",
       "\n",
       "    .dataframe thead th {\n",
       "        text-align: right;\n",
       "    }\n",
       "\n",
       "    .dataframe td {\n",
       "        white-space: pre;\n",
       "    }\n",
       "\n",
       "    .dataframe td {\n",
       "        padding-top: 0;\n",
       "    }\n",
       "\n",
       "    .dataframe td {\n",
       "        padding-bottom: 0;\n",
       "    }\n",
       "\n",
       "    .dataframe td {\n",
       "        line-height: 95%;\n",
       "    }\n",
       "</style>\n",
       "<table border=\"1\" class=\"dataframe\" >\n",
       "<small>shape: (6638373, 4)</small>\n",
       "<thead>\n",
       "<tr>\n",
       "<th>\n",
       "session\n",
       "</th>\n",
       "<th>\n",
       "aid\n",
       "</th>\n",
       "<th>\n",
       "ts\n",
       "</th>\n",
       "<th>\n",
       "type\n",
       "</th>\n",
       "</tr>\n",
       "<tr>\n",
       "<td>\n",
       "i64\n",
       "</td>\n",
       "<td>\n",
       "i64\n",
       "</td>\n",
       "<td>\n",
       "i64\n",
       "</td>\n",
       "<td>\n",
       "i64\n",
       "</td>\n",
       "</tr>\n",
       "</thead>\n",
       "<tbody>\n",
       "<tr>\n",
       "<td>\n",
       "11107743\n",
       "</td>\n",
       "<td>\n",
       "1243310\n",
       "</td>\n",
       "<td>\n",
       "1661391126514\n",
       "</td>\n",
       "<td>\n",
       "0\n",
       "</td>\n",
       "</tr>\n",
       "<tr>\n",
       "<td>\n",
       "11107743\n",
       "</td>\n",
       "<td>\n",
       "731062\n",
       "</td>\n",
       "<td>\n",
       "1661126418250\n",
       "</td>\n",
       "<td>\n",
       "0\n",
       "</td>\n",
       "</tr>\n",
       "<tr>\n",
       "<td>\n",
       "11107743\n",
       "</td>\n",
       "<td>\n",
       "1243310\n",
       "</td>\n",
       "<td>\n",
       "1661126400192\n",
       "</td>\n",
       "<td>\n",
       "0\n",
       "</td>\n",
       "</tr>\n",
       "<tr>\n",
       "<td>\n",
       "11107744\n",
       "</td>\n",
       "<td>\n",
       "1556644\n",
       "</td>\n",
       "<td>\n",
       "1661126463911\n",
       "</td>\n",
       "<td>\n",
       "0\n",
       "</td>\n",
       "</tr>\n",
       "<tr>\n",
       "<td>\n",
       "11107744\n",
       "</td>\n",
       "<td>\n",
       "1637748\n",
       "</td>\n",
       "<td>\n",
       "1661126441080\n",
       "</td>\n",
       "<td>\n",
       "0\n",
       "</td>\n",
       "</tr>\n",
       "<tr>\n",
       "<td>\n",
       "11107744\n",
       "</td>\n",
       "<td>\n",
       "1556644\n",
       "</td>\n",
       "<td>\n",
       "1661126439064\n",
       "</td>\n",
       "<td>\n",
       "1\n",
       "</td>\n",
       "</tr>\n",
       "<tr>\n",
       "<td>\n",
       "11107744\n",
       "</td>\n",
       "<td>\n",
       "220086\n",
       "</td>\n",
       "<td>\n",
       "1661126401190\n",
       "</td>\n",
       "<td>\n",
       "0\n",
       "</td>\n",
       "</tr>\n",
       "<tr>\n",
       "<td>\n",
       "11107745\n",
       "</td>\n",
       "<td>\n",
       "670066\n",
       "</td>\n",
       "<td>\n",
       "1661126813401\n",
       "</td>\n",
       "<td>\n",
       "0\n",
       "</td>\n",
       "</tr>\n",
       "<tr>\n",
       "<td>\n",
       "11107745\n",
       "</td>\n",
       "<td>\n",
       "1682122\n",
       "</td>\n",
       "<td>\n",
       "1661126776415\n",
       "</td>\n",
       "<td>\n",
       "0\n",
       "</td>\n",
       "</tr>\n",
       "<tr>\n",
       "<td>\n",
       "11107745\n",
       "</td>\n",
       "<td>\n",
       "670066\n",
       "</td>\n",
       "<td>\n",
       "1661126651614\n",
       "</td>\n",
       "<td>\n",
       "0\n",
       "</td>\n",
       "</tr>\n",
       "<tr>\n",
       "<td>\n",
       "11107745\n",
       "</td>\n",
       "<td>\n",
       "1682122\n",
       "</td>\n",
       "<td>\n",
       "1661126533281\n",
       "</td>\n",
       "<td>\n",
       "0\n",
       "</td>\n",
       "</tr>\n",
       "<tr>\n",
       "<td>\n",
       "11107745\n",
       "</td>\n",
       "<td>\n",
       "1682122\n",
       "</td>\n",
       "<td>\n",
       "1661126476951\n",
       "</td>\n",
       "<td>\n",
       "0\n",
       "</td>\n",
       "</tr>\n",
       "<tr>\n",
       "<td>\n",
       "...\n",
       "</td>\n",
       "<td>\n",
       "...\n",
       "</td>\n",
       "<td>\n",
       "...\n",
       "</td>\n",
       "<td>\n",
       "...\n",
       "</td>\n",
       "</tr>\n",
       "<tr>\n",
       "<td>\n",
       "12899760\n",
       "</td>\n",
       "<td>\n",
       "1634917\n",
       "</td>\n",
       "<td>\n",
       "1661723951516\n",
       "</td>\n",
       "<td>\n",
       "0\n",
       "</td>\n",
       "</tr>\n",
       "<tr>\n",
       "<td>\n",
       "12899762\n",
       "</td>\n",
       "<td>\n",
       "1710382\n",
       "</td>\n",
       "<td>\n",
       "1661723956692\n",
       "</td>\n",
       "<td>\n",
       "0\n",
       "</td>\n",
       "</tr>\n",
       "<tr>\n",
       "<td>\n",
       "12899765\n",
       "</td>\n",
       "<td>\n",
       "953398\n",
       "</td>\n",
       "<td>\n",
       "1661723957401\n",
       "</td>\n",
       "<td>\n",
       "0\n",
       "</td>\n",
       "</tr>\n",
       "<tr>\n",
       "<td>\n",
       "12899767\n",
       "</td>\n",
       "<td>\n",
       "244441\n",
       "</td>\n",
       "<td>\n",
       "1661723960355\n",
       "</td>\n",
       "<td>\n",
       "0\n",
       "</td>\n",
       "</tr>\n",
       "<tr>\n",
       "<td>\n",
       "12899768\n",
       "</td>\n",
       "<td>\n",
       "1684953\n",
       "</td>\n",
       "<td>\n",
       "1661723961324\n",
       "</td>\n",
       "<td>\n",
       "0\n",
       "</td>\n",
       "</tr>\n",
       "<tr>\n",
       "<td>\n",
       "12899769\n",
       "</td>\n",
       "<td>\n",
       "1699067\n",
       "</td>\n",
       "<td>\n",
       "1661723990908\n",
       "</td>\n",
       "<td>\n",
       "0\n",
       "</td>\n",
       "</tr>\n",
       "<tr>\n",
       "<td>\n",
       "12899769\n",
       "</td>\n",
       "<td>\n",
       "1393784\n",
       "</td>\n",
       "<td>\n",
       "1661723977099\n",
       "</td>\n",
       "<td>\n",
       "0\n",
       "</td>\n",
       "</tr>\n",
       "<tr>\n",
       "<td>\n",
       "12899769\n",
       "</td>\n",
       "<td>\n",
       "719585\n",
       "</td>\n",
       "<td>\n",
       "1661723962737\n",
       "</td>\n",
       "<td>\n",
       "0\n",
       "</td>\n",
       "</tr>\n",
       "<tr>\n",
       "<td>\n",
       "12899772\n",
       "</td>\n",
       "<td>\n",
       "1645259\n",
       "</td>\n",
       "<td>\n",
       "1661723984913\n",
       "</td>\n",
       "<td>\n",
       "0\n",
       "</td>\n",
       "</tr>\n",
       "<tr>\n",
       "<td>\n",
       "12899772\n",
       "</td>\n",
       "<td>\n",
       "1062165\n",
       "</td>\n",
       "<td>\n",
       "1661723966071\n",
       "</td>\n",
       "<td>\n",
       "0\n",
       "</td>\n",
       "</tr>\n",
       "<tr>\n",
       "<td>\n",
       "12899775\n",
       "</td>\n",
       "<td>\n",
       "1743151\n",
       "</td>\n",
       "<td>\n",
       "1661723970935\n",
       "</td>\n",
       "<td>\n",
       "0\n",
       "</td>\n",
       "</tr>\n",
       "<tr>\n",
       "<td>\n",
       "12899777\n",
       "</td>\n",
       "<td>\n",
       "384045\n",
       "</td>\n",
       "<td>\n",
       "1661723976974\n",
       "</td>\n",
       "<td>\n",
       "0\n",
       "</td>\n",
       "</tr>\n",
       "</tbody>\n",
       "</table>\n",
       "</div>"
      ],
      "text/plain": [
       "shape: (6638373, 4)\n",
       "┌──────────┬─────────┬───────────────┬──────┐\n",
       "│ session  ┆ aid     ┆ ts            ┆ type │\n",
       "│ ---      ┆ ---     ┆ ---           ┆ ---  │\n",
       "│ i64      ┆ i64     ┆ i64           ┆ i64  │\n",
       "╞══════════╪═════════╪═══════════════╪══════╡\n",
       "│ 11107743 ┆ 1243310 ┆ 1661391126514 ┆ 0    │\n",
       "├╌╌╌╌╌╌╌╌╌╌┼╌╌╌╌╌╌╌╌╌┼╌╌╌╌╌╌╌╌╌╌╌╌╌╌╌┼╌╌╌╌╌╌┤\n",
       "│ 11107743 ┆ 731062  ┆ 1661126418250 ┆ 0    │\n",
       "├╌╌╌╌╌╌╌╌╌╌┼╌╌╌╌╌╌╌╌╌┼╌╌╌╌╌╌╌╌╌╌╌╌╌╌╌┼╌╌╌╌╌╌┤\n",
       "│ 11107743 ┆ 1243310 ┆ 1661126400192 ┆ 0    │\n",
       "├╌╌╌╌╌╌╌╌╌╌┼╌╌╌╌╌╌╌╌╌┼╌╌╌╌╌╌╌╌╌╌╌╌╌╌╌┼╌╌╌╌╌╌┤\n",
       "│ 11107744 ┆ 1556644 ┆ 1661126463911 ┆ 0    │\n",
       "├╌╌╌╌╌╌╌╌╌╌┼╌╌╌╌╌╌╌╌╌┼╌╌╌╌╌╌╌╌╌╌╌╌╌╌╌┼╌╌╌╌╌╌┤\n",
       "│ ...      ┆ ...     ┆ ...           ┆ ...  │\n",
       "├╌╌╌╌╌╌╌╌╌╌┼╌╌╌╌╌╌╌╌╌┼╌╌╌╌╌╌╌╌╌╌╌╌╌╌╌┼╌╌╌╌╌╌┤\n",
       "│ 12899772 ┆ 1645259 ┆ 1661723984913 ┆ 0    │\n",
       "├╌╌╌╌╌╌╌╌╌╌┼╌╌╌╌╌╌╌╌╌┼╌╌╌╌╌╌╌╌╌╌╌╌╌╌╌┼╌╌╌╌╌╌┤\n",
       "│ 12899772 ┆ 1062165 ┆ 1661723966071 ┆ 0    │\n",
       "├╌╌╌╌╌╌╌╌╌╌┼╌╌╌╌╌╌╌╌╌┼╌╌╌╌╌╌╌╌╌╌╌╌╌╌╌┼╌╌╌╌╌╌┤\n",
       "│ 12899775 ┆ 1743151 ┆ 1661723970935 ┆ 0    │\n",
       "├╌╌╌╌╌╌╌╌╌╌┼╌╌╌╌╌╌╌╌╌┼╌╌╌╌╌╌╌╌╌╌╌╌╌╌╌┼╌╌╌╌╌╌┤\n",
       "│ 12899777 ┆ 384045  ┆ 1661723976974 ┆ 0    │\n",
       "└──────────┴─────────┴───────────────┴──────┘"
      ]
     },
     "execution_count": 10,
     "metadata": {},
     "output_type": "execute_result"
    }
   ],
   "source": [
    "val_df_valid_input.sort([\"session\", \"ts\"], reverse=[False, True])"
   ]
  },
  {
   "cell_type": "code",
   "execution_count": 11,
   "id": "8a2babcf",
   "metadata": {
    "ExecuteTime": {
     "end_time": "2023-01-25T12:52:25.274343Z",
     "start_time": "2023-01-25T12:52:21.215353Z"
    }
   },
   "outputs": [],
   "source": [
    "df_train = pl.read_parquet(TRAIN_PROCESSED, use_pyarrow=True)\n",
    "df_test = pl.read_parquet(TEST_PROCESSED, use_pyarrow=True)"
   ]
  },
  {
   "cell_type": "code",
   "execution_count": 6,
   "id": "a6d35aa4",
   "metadata": {
    "ExecuteTime": {
     "end_time": "2023-01-24T14:44:01.112175Z",
     "start_time": "2023-01-24T14:44:00.383955Z"
    }
   },
   "outputs": [],
   "source": [
    "df = pl.concat([val_df_train, val_df_valid_input])"
   ]
  },
  {
   "cell_type": "code",
   "execution_count": 7,
   "id": "701be70c",
   "metadata": {
    "ExecuteTime": {
     "end_time": "2023-01-24T14:44:03.715954Z",
     "start_time": "2023-01-24T14:44:01.113687Z"
    }
   },
   "outputs": [
    {
     "data": {
      "text/plain": [
       "12411098"
      ]
     },
     "execution_count": 7,
     "metadata": {},
     "output_type": "execute_result"
    }
   ],
   "source": [
    "df[\"session\"].n_unique()"
   ]
  },
  {
   "cell_type": "code",
   "execution_count": 8,
   "id": "6bbc7e1f",
   "metadata": {
    "ExecuteTime": {
     "end_time": "2023-01-24T14:44:03.812210Z",
     "start_time": "2023-01-24T14:44:03.717308Z"
    }
   },
   "outputs": [
    {
     "data": {
      "text/plain": [
       "(11107742, 11107743, 12899777)"
      ]
     },
     "execution_count": 8,
     "metadata": {},
     "output_type": "execute_result"
    }
   ],
   "source": [
    "val_df_train[\"session\"].max(), val_df_valid_input[\"session\"].min(), val_df_valid_input[\"session\"].max()"
   ]
  },
  {
   "cell_type": "code",
   "execution_count": 17,
   "id": "b0a762e6",
   "metadata": {
    "ExecuteTime": {
     "end_time": "2023-01-25T12:54:23.479704Z",
     "start_time": "2023-01-25T12:54:23.390912Z"
    }
   },
   "outputs": [
    {
     "data": {
      "text/html": [
       "<div>\n",
       "<style scoped>\n",
       "    .dataframe tbody tr th:only-of-type {\n",
       "        vertical-align: middle;\n",
       "    }\n",
       "\n",
       "    .dataframe tbody tr th {\n",
       "        vertical-align: top;\n",
       "    }\n",
       "\n",
       "    .dataframe thead th {\n",
       "        text-align: right;\n",
       "    }\n",
       "\n",
       "    .dataframe td {\n",
       "        white-space: pre;\n",
       "    }\n",
       "\n",
       "    .dataframe td {\n",
       "        padding-top: 0;\n",
       "    }\n",
       "\n",
       "    .dataframe td {\n",
       "        padding-bottom: 0;\n",
       "    }\n",
       "\n",
       "    .dataframe td {\n",
       "        line-height: 95%;\n",
       "    }\n",
       "</style>\n",
       "<table border=\"1\" class=\"dataframe\" >\n",
       "<small>shape: (285, 2)</small>\n",
       "<thead>\n",
       "<tr>\n",
       "<th>\n",
       "aid\n",
       "</th>\n",
       "<th>\n",
       "counts\n",
       "</th>\n",
       "</tr>\n",
       "<tr>\n",
       "<td>\n",
       "u32\n",
       "</td>\n",
       "<td>\n",
       "u32\n",
       "</td>\n",
       "</tr>\n",
       "</thead>\n",
       "<tbody>\n",
       "<tr>\n",
       "<td>\n",
       "1\n",
       "</td>\n",
       "<td>\n",
       "473109\n",
       "</td>\n",
       "</tr>\n",
       "<tr>\n",
       "<td>\n",
       "2\n",
       "</td>\n",
       "<td>\n",
       "233168\n",
       "</td>\n",
       "</tr>\n",
       "<tr>\n",
       "<td>\n",
       "3\n",
       "</td>\n",
       "<td>\n",
       "139059\n",
       "</td>\n",
       "</tr>\n",
       "<tr>\n",
       "<td>\n",
       "4\n",
       "</td>\n",
       "<td>\n",
       "91769\n",
       "</td>\n",
       "</tr>\n",
       "<tr>\n",
       "<td>\n",
       "5\n",
       "</td>\n",
       "<td>\n",
       "64497\n",
       "</td>\n",
       "</tr>\n",
       "<tr>\n",
       "<td>\n",
       "6\n",
       "</td>\n",
       "<td>\n",
       "48172\n",
       "</td>\n",
       "</tr>\n",
       "<tr>\n",
       "<td>\n",
       "7\n",
       "</td>\n",
       "<td>\n",
       "36971\n",
       "</td>\n",
       "</tr>\n",
       "<tr>\n",
       "<td>\n",
       "8\n",
       "</td>\n",
       "<td>\n",
       "29171\n",
       "</td>\n",
       "</tr>\n",
       "<tr>\n",
       "<td>\n",
       "9\n",
       "</td>\n",
       "<td>\n",
       "23410\n",
       "</td>\n",
       "</tr>\n",
       "<tr>\n",
       "<td>\n",
       "10\n",
       "</td>\n",
       "<td>\n",
       "19633\n",
       "</td>\n",
       "</tr>\n",
       "<tr>\n",
       "<td>\n",
       "11\n",
       "</td>\n",
       "<td>\n",
       "16352\n",
       "</td>\n",
       "</tr>\n",
       "<tr>\n",
       "<td>\n",
       "12\n",
       "</td>\n",
       "<td>\n",
       "13404\n",
       "</td>\n",
       "</tr>\n",
       "<tr>\n",
       "<td>\n",
       "...\n",
       "</td>\n",
       "<td>\n",
       "...\n",
       "</td>\n",
       "</tr>\n",
       "<tr>\n",
       "<td>\n",
       "341\n",
       "</td>\n",
       "<td>\n",
       "1\n",
       "</td>\n",
       "</tr>\n",
       "<tr>\n",
       "<td>\n",
       "343\n",
       "</td>\n",
       "<td>\n",
       "1\n",
       "</td>\n",
       "</tr>\n",
       "<tr>\n",
       "<td>\n",
       "349\n",
       "</td>\n",
       "<td>\n",
       "2\n",
       "</td>\n",
       "</tr>\n",
       "<tr>\n",
       "<td>\n",
       "367\n",
       "</td>\n",
       "<td>\n",
       "1\n",
       "</td>\n",
       "</tr>\n",
       "<tr>\n",
       "<td>\n",
       "369\n",
       "</td>\n",
       "<td>\n",
       "1\n",
       "</td>\n",
       "</tr>\n",
       "<tr>\n",
       "<td>\n",
       "370\n",
       "</td>\n",
       "<td>\n",
       "1\n",
       "</td>\n",
       "</tr>\n",
       "<tr>\n",
       "<td>\n",
       "389\n",
       "</td>\n",
       "<td>\n",
       "1\n",
       "</td>\n",
       "</tr>\n",
       "<tr>\n",
       "<td>\n",
       "393\n",
       "</td>\n",
       "<td>\n",
       "2\n",
       "</td>\n",
       "</tr>\n",
       "<tr>\n",
       "<td>\n",
       "402\n",
       "</td>\n",
       "<td>\n",
       "1\n",
       "</td>\n",
       "</tr>\n",
       "<tr>\n",
       "<td>\n",
       "407\n",
       "</td>\n",
       "<td>\n",
       "1\n",
       "</td>\n",
       "</tr>\n",
       "<tr>\n",
       "<td>\n",
       "409\n",
       "</td>\n",
       "<td>\n",
       "1\n",
       "</td>\n",
       "</tr>\n",
       "<tr>\n",
       "<td>\n",
       "413\n",
       "</td>\n",
       "<td>\n",
       "1\n",
       "</td>\n",
       "</tr>\n",
       "</tbody>\n",
       "</table>\n",
       "</div>"
      ],
      "text/plain": [
       "shape: (285, 2)\n",
       "┌─────┬────────┐\n",
       "│ aid ┆ counts │\n",
       "│ --- ┆ ---    │\n",
       "│ u32 ┆ u32    │\n",
       "╞═════╪════════╡\n",
       "│ 1   ┆ 473109 │\n",
       "├╌╌╌╌╌┼╌╌╌╌╌╌╌╌┤\n",
       "│ 2   ┆ 233168 │\n",
       "├╌╌╌╌╌┼╌╌╌╌╌╌╌╌┤\n",
       "│ 3   ┆ 139059 │\n",
       "├╌╌╌╌╌┼╌╌╌╌╌╌╌╌┤\n",
       "│ 4   ┆ 91769  │\n",
       "├╌╌╌╌╌┼╌╌╌╌╌╌╌╌┤\n",
       "│ ... ┆ ...    │\n",
       "├╌╌╌╌╌┼╌╌╌╌╌╌╌╌┤\n",
       "│ 402 ┆ 1      │\n",
       "├╌╌╌╌╌┼╌╌╌╌╌╌╌╌┤\n",
       "│ 407 ┆ 1      │\n",
       "├╌╌╌╌╌┼╌╌╌╌╌╌╌╌┤\n",
       "│ 409 ┆ 1      │\n",
       "├╌╌╌╌╌┼╌╌╌╌╌╌╌╌┤\n",
       "│ 413 ┆ 1      │\n",
       "└─────┴────────┘"
      ]
     },
     "execution_count": 17,
     "metadata": {},
     "output_type": "execute_result"
    }
   ],
   "source": [
    "val_df_valid_input.groupby(\"session\").agg([pl.count(\"aid\")])[\"aid\"].value_counts().sort(\"aid\")"
   ]
  },
  {
   "cell_type": "code",
   "execution_count": 16,
   "id": "264c10e4",
   "metadata": {
    "ExecuteTime": {
     "end_time": "2023-01-25T12:54:04.314117Z",
     "start_time": "2023-01-25T12:54:04.216248Z"
    }
   },
   "outputs": [
    {
     "data": {
      "text/html": [
       "<div>\n",
       "<style scoped>\n",
       "    .dataframe tbody tr th:only-of-type {\n",
       "        vertical-align: middle;\n",
       "    }\n",
       "\n",
       "    .dataframe tbody tr th {\n",
       "        vertical-align: top;\n",
       "    }\n",
       "\n",
       "    .dataframe thead th {\n",
       "        text-align: right;\n",
       "    }\n",
       "\n",
       "    .dataframe td {\n",
       "        white-space: pre;\n",
       "    }\n",
       "\n",
       "    .dataframe td {\n",
       "        padding-top: 0;\n",
       "    }\n",
       "\n",
       "    .dataframe td {\n",
       "        padding-bottom: 0;\n",
       "    }\n",
       "\n",
       "    .dataframe td {\n",
       "        line-height: 95%;\n",
       "    }\n",
       "</style>\n",
       "<table border=\"1\" class=\"dataframe\" >\n",
       "<small>shape: (297, 2)</small>\n",
       "<thead>\n",
       "<tr>\n",
       "<th>\n",
       "aid\n",
       "</th>\n",
       "<th>\n",
       "counts\n",
       "</th>\n",
       "</tr>\n",
       "<tr>\n",
       "<td>\n",
       "u32\n",
       "</td>\n",
       "<td>\n",
       "u32\n",
       "</td>\n",
       "</tr>\n",
       "</thead>\n",
       "<tbody>\n",
       "<tr>\n",
       "<td>\n",
       "1\n",
       "</td>\n",
       "<td>\n",
       "750099\n",
       "</td>\n",
       "</tr>\n",
       "<tr>\n",
       "<td>\n",
       "2\n",
       "</td>\n",
       "<td>\n",
       "294443\n",
       "</td>\n",
       "</tr>\n",
       "<tr>\n",
       "<td>\n",
       "3\n",
       "</td>\n",
       "<td>\n",
       "160436\n",
       "</td>\n",
       "</tr>\n",
       "<tr>\n",
       "<td>\n",
       "4\n",
       "</td>\n",
       "<td>\n",
       "101337\n",
       "</td>\n",
       "</tr>\n",
       "<tr>\n",
       "<td>\n",
       "5\n",
       "</td>\n",
       "<td>\n",
       "69364\n",
       "</td>\n",
       "</tr>\n",
       "<tr>\n",
       "<td>\n",
       "6\n",
       "</td>\n",
       "<td>\n",
       "49942\n",
       "</td>\n",
       "</tr>\n",
       "<tr>\n",
       "<td>\n",
       "7\n",
       "</td>\n",
       "<td>\n",
       "37946\n",
       "</td>\n",
       "</tr>\n",
       "<tr>\n",
       "<td>\n",
       "8\n",
       "</td>\n",
       "<td>\n",
       "29605\n",
       "</td>\n",
       "</tr>\n",
       "<tr>\n",
       "<td>\n",
       "9\n",
       "</td>\n",
       "<td>\n",
       "23411\n",
       "</td>\n",
       "</tr>\n",
       "<tr>\n",
       "<td>\n",
       "10\n",
       "</td>\n",
       "<td>\n",
       "19412\n",
       "</td>\n",
       "</tr>\n",
       "<tr>\n",
       "<td>\n",
       "11\n",
       "</td>\n",
       "<td>\n",
       "15613\n",
       "</td>\n",
       "</tr>\n",
       "<tr>\n",
       "<td>\n",
       "12\n",
       "</td>\n",
       "<td>\n",
       "13423\n",
       "</td>\n",
       "</tr>\n",
       "<tr>\n",
       "<td>\n",
       "...\n",
       "</td>\n",
       "<td>\n",
       "...\n",
       "</td>\n",
       "</tr>\n",
       "<tr>\n",
       "<td>\n",
       "373\n",
       "</td>\n",
       "<td>\n",
       "1\n",
       "</td>\n",
       "</tr>\n",
       "<tr>\n",
       "<td>\n",
       "380\n",
       "</td>\n",
       "<td>\n",
       "1\n",
       "</td>\n",
       "</tr>\n",
       "<tr>\n",
       "<td>\n",
       "381\n",
       "</td>\n",
       "<td>\n",
       "1\n",
       "</td>\n",
       "</tr>\n",
       "<tr>\n",
       "<td>\n",
       "389\n",
       "</td>\n",
       "<td>\n",
       "1\n",
       "</td>\n",
       "</tr>\n",
       "<tr>\n",
       "<td>\n",
       "392\n",
       "</td>\n",
       "<td>\n",
       "1\n",
       "</td>\n",
       "</tr>\n",
       "<tr>\n",
       "<td>\n",
       "403\n",
       "</td>\n",
       "<td>\n",
       "1\n",
       "</td>\n",
       "</tr>\n",
       "<tr>\n",
       "<td>\n",
       "405\n",
       "</td>\n",
       "<td>\n",
       "1\n",
       "</td>\n",
       "</tr>\n",
       "<tr>\n",
       "<td>\n",
       "406\n",
       "</td>\n",
       "<td>\n",
       "1\n",
       "</td>\n",
       "</tr>\n",
       "<tr>\n",
       "<td>\n",
       "407\n",
       "</td>\n",
       "<td>\n",
       "1\n",
       "</td>\n",
       "</tr>\n",
       "<tr>\n",
       "<td>\n",
       "421\n",
       "</td>\n",
       "<td>\n",
       "1\n",
       "</td>\n",
       "</tr>\n",
       "<tr>\n",
       "<td>\n",
       "433\n",
       "</td>\n",
       "<td>\n",
       "1\n",
       "</td>\n",
       "</tr>\n",
       "<tr>\n",
       "<td>\n",
       "458\n",
       "</td>\n",
       "<td>\n",
       "1\n",
       "</td>\n",
       "</tr>\n",
       "</tbody>\n",
       "</table>\n",
       "</div>"
      ],
      "text/plain": [
       "shape: (297, 2)\n",
       "┌─────┬────────┐\n",
       "│ aid ┆ counts │\n",
       "│ --- ┆ ---    │\n",
       "│ u32 ┆ u32    │\n",
       "╞═════╪════════╡\n",
       "│ 1   ┆ 750099 │\n",
       "├╌╌╌╌╌┼╌╌╌╌╌╌╌╌┤\n",
       "│ 2   ┆ 294443 │\n",
       "├╌╌╌╌╌┼╌╌╌╌╌╌╌╌┤\n",
       "│ 3   ┆ 160436 │\n",
       "├╌╌╌╌╌┼╌╌╌╌╌╌╌╌┤\n",
       "│ 4   ┆ 101337 │\n",
       "├╌╌╌╌╌┼╌╌╌╌╌╌╌╌┤\n",
       "│ ... ┆ ...    │\n",
       "├╌╌╌╌╌┼╌╌╌╌╌╌╌╌┤\n",
       "│ 407 ┆ 1      │\n",
       "├╌╌╌╌╌┼╌╌╌╌╌╌╌╌┤\n",
       "│ 421 ┆ 1      │\n",
       "├╌╌╌╌╌┼╌╌╌╌╌╌╌╌┤\n",
       "│ 433 ┆ 1      │\n",
       "├╌╌╌╌╌┼╌╌╌╌╌╌╌╌┤\n",
       "│ 458 ┆ 1      │\n",
       "└─────┴────────┘"
      ]
     },
     "execution_count": 16,
     "metadata": {},
     "output_type": "execute_result"
    }
   ],
   "source": [
    "df_test.groupby(\"session\").agg([pl.count(\"aid\")])[\"aid\"].value_counts().sort(\"aid\")"
   ]
  },
  {
   "cell_type": "code",
   "execution_count": null,
   "id": "886e3508",
   "metadata": {},
   "outputs": [],
   "source": []
  },
  {
   "cell_type": "code",
   "execution_count": null,
   "id": "a0c02014",
   "metadata": {},
   "outputs": [],
   "source": []
  },
  {
   "cell_type": "code",
   "execution_count": 5,
   "id": "7822b025",
   "metadata": {
    "ExecuteTime": {
     "end_time": "2023-01-25T12:45:22.645082Z",
     "start_time": "2023-01-25T12:45:22.641738Z"
    }
   },
   "outputs": [
    {
     "data": {
      "text/plain": [
       "array([0.07177346, 0.09507864, 0.11889059, 0.14322031, 0.16807907,\n",
       "       0.19347836, 0.21942996, 0.24594586, 0.27303833, 0.30071992,\n",
       "       0.32900343, 0.35790195, 0.38742885, 0.41759781, 0.44842277,\n",
       "       0.479918  , 0.51209808, 0.54497791, 0.57857268, 0.61289796,\n",
       "       0.64796963, 0.68380391, 0.72041739, 0.75782701, 0.79605009,\n",
       "       0.83510431, 0.87500774, 0.91577885, 0.95743651, 1.        ])"
      ]
     },
     "execution_count": 5,
     "metadata": {},
     "output_type": "execute_result"
    }
   ],
   "source": [
    "import numpy as np\n",
    "\n",
    "np.logspace(0.1,1, 30, base=2, endpoint=True) - 1"
   ]
  },
  {
   "cell_type": "markdown",
   "id": "d235a351",
   "metadata": {},
   "source": [
    "# utils "
   ]
  },
  {
   "cell_type": "code",
   "execution_count": 9,
   "id": "1f7f00af",
   "metadata": {
    "ExecuteTime": {
     "end_time": "2023-01-24T14:44:03.844256Z",
     "start_time": "2023-01-24T14:44:03.814157Z"
    }
   },
   "outputs": [],
   "source": [
    "def weights_func_carts_order(df, _type_weight=None):\n",
    "    if _type_weight is None:\n",
    "        _type_weight = {\"type_right\": [0, 1, 2], \"weight\": [0.5, 9, 0.5]}\n",
    "    df_type_weight = pl.DataFrame(_type_weight)\n",
    "    df = df.join(df_type_weight, on=\"type_right\")\n",
    "    return df\n",
    "\n",
    "def weights_func_orders(df):\n",
    "    df = df.with_column(pl.lit(1).alias(\"weight\"))\n",
    "    return df\n",
    "\n",
    "def weights_func_clicks(df, _type=\"valid\"):\n",
    "    if _type == \"valid\":\n",
    "        df = df.with_column(\n",
    "            (1 + 3 * (pl.col(\"ts\") - 1659304800025) / (1661723998621 - 1659304800025)).alias(\"weight\")\n",
    "        )\n",
    "    elif _type == \"test\":\n",
    "        df = df.with_column(\n",
    "            (1 + 3 * (pl.col(\"ts\") - 1659304800025) / (1662328791563 - 1659304800025)).alias(\"weight\")\n",
    "        )\n",
    "    # 1659304800025 : minimum timestamp\n",
    "    # 1661723998621 : maximum timestamp valid\n",
    "    # 1662328791563 : maximum timestamp test\n",
    "    return df"
   ]
  },
  {
   "cell_type": "code",
   "execution_count": 10,
   "id": "975f1764",
   "metadata": {
    "ExecuteTime": {
     "end_time": "2023-01-24T14:44:28.838228Z",
     "start_time": "2023-01-24T14:44:28.811617Z"
    }
   },
   "outputs": [],
   "source": [
    "def drop_dupli_cols_for_carts_orders(df):\n",
    "    df = (\n",
    "        df.select(['session', 'aid', 'aid_right', 'type_right']).unique()\n",
    "    )\n",
    "    return df\n",
    "\n",
    "def drop_dupli_cols_for_clicks(df):\n",
    "    df = (\n",
    "        df\n",
    "        .groupby(['session', 'aid', 'aid_right'])\n",
    "        .agg([pl.first('ts').alias(\"ts\")])\n",
    "    )\n",
    "    return df"
   ]
  },
  {
   "cell_type": "code",
   "execution_count": 11,
   "id": "94fe0cac",
   "metadata": {
    "ExecuteTime": {
     "end_time": "2023-01-24T14:44:31.597901Z",
     "start_time": "2023-01-24T14:44:31.569236Z"
    }
   },
   "outputs": [],
   "source": [
    "def co_visitation_matrix(\n",
    "    df,\n",
    "    weights_func,\n",
    "    drop_dupli_func,\n",
    "    weights_func_params=None,\n",
    "    chunk_size=200_000,\n",
    "    drop_th_sess_num=30,\n",
    "    attention_period=24*60*60*1000,\n",
    "    attention_type=None,\n",
    "    save_top_k=20,\n",
    "):\n",
    "    for session in tqdm(range(0, df[\"session\"].max(), chunk_size)):\n",
    "        s_start = session\n",
    "        s_end = session + chunk_size - 1\n",
    "\n",
    "        df_chunk = df.filter(pl.col(\"session\").is_between(s_start, s_end))\n",
    "        if attention_type is not None:\n",
    "            df_chunk = df_chunk.filter(pl.col(\"type\").is_in(attention_type))\n",
    "        df_chunk = (\n",
    "            df_chunk\n",
    "            .sort([\"session\", \"ts\"], reverse=[False, True])\n",
    "            .with_column(pl.lit(1).alias(\"ones\"))\n",
    "            .with_column(pl.col(\"ones\").cumsum().over(\"session\").alias(\"rank\"))\n",
    "            .select([pl.all().exclude(\"ones\"),])\n",
    "            .filter(pl.col(\"rank\") <= drop_th_sess_num)\n",
    "        )\n",
    "        \n",
    "        # create pairs\n",
    "        df_chunk = df_chunk.join(df_chunk, on=\"session\", how=\"inner\")\n",
    "        df_chunk = (\n",
    "            df_chunk\n",
    "            .filter(( (pl.col(\"ts\") - pl.col(\"ts_right\")) < attention_period) & \n",
    "                    (pl.col(\"aid\") != pl.col(\"aid_right\")))\n",
    "        )\n",
    "        \n",
    "        df_chunk = drop_dupli_func(df_chunk)\n",
    "#         print(df_chunk)\n",
    "        if weights_func_params is not None:\n",
    "            df_chunk = weights_func(df_chunk, **weights_func_params)\n",
    "        else:\n",
    "            df_chunk = weights_func(df_chunk)\n",
    "\n",
    "        df_chunk = (\n",
    "            df_chunk\n",
    "            .groupby(['aid', 'aid_right'])\n",
    "            .agg([pl.sum(\"weight\")])\n",
    "        )\n",
    "\n",
    "        if session == 0: tmp = df_chunk\n",
    "        else: tmp = pl.concat([tmp, df_chunk]).groupby(['aid', 'aid_right']).agg([pl.sum(\"weight\")])\n",
    "\n",
    "    tmp = tmp.sort(['aid','weight'], reverse=[False, True])\n",
    "    \n",
    "    tmp_top_k = (\n",
    "        tmp\n",
    "        .with_column(pl.lit(1).alias(\"ones\"))\n",
    "        .with_column(pl.col(\"ones\").cumsum().over(\"aid\").alias(\"rank\"))\n",
    "        .filter(pl.col(\"rank\") <= save_top_k)\n",
    "    )\n",
    "    return tmp, tmp_top_k"
   ]
  },
  {
   "cell_type": "code",
   "execution_count": null,
   "id": "5b18e117",
   "metadata": {},
   "outputs": [],
   "source": []
  },
  {
   "cell_type": "markdown",
   "id": "42ae7e0c",
   "metadata": {},
   "source": [
    "# new pipeline"
   ]
  },
  {
   "cell_type": "code",
   "execution_count": 12,
   "id": "26042554",
   "metadata": {
    "ExecuteTime": {
     "end_time": "2023-01-24T14:44:36.994809Z",
     "start_time": "2023-01-24T14:44:36.969227Z"
    }
   },
   "outputs": [],
   "source": [
    "# Use top X for clicks, carts and orders\n",
    "clicks_th = 15\n",
    "carts_th  = 20\n",
    "orders_th = 20"
   ]
  },
  {
   "cell_type": "code",
   "execution_count": 13,
   "id": "795caca7",
   "metadata": {
    "ExecuteTime": {
     "end_time": "2023-01-24T15:08:09.504287Z",
     "start_time": "2023-01-24T14:44:37.277162Z"
    }
   },
   "outputs": [
    {
     "data": {
      "application/vnd.jupyter.widget-view+json": {
       "model_id": "361d977c95a54158a358db6bbd65514a",
       "version_major": 2,
       "version_minor": 0
      },
      "text/plain": [
       "  0%|          | 0/65 [00:00<?, ?it/s]"
      ]
     },
     "metadata": {},
     "output_type": "display_data"
    }
   ],
   "source": [
    "carts_orders, carts_orders_top = co_visitation_matrix(\n",
    "    df,\n",
    "    weights_func=weights_func_carts_order,\n",
    "    drop_dupli_func=drop_dupli_cols_for_carts_orders,\n",
    "    chunk_size=200_000,\n",
    "    attention_period=24*60*60*1000,\n",
    "    attention_type=None,\n",
    "    drop_th_sess_num=30,\n",
    "    save_top_k=carts_th,\n",
    ")"
   ]
  },
  {
   "cell_type": "code",
   "execution_count": 14,
   "id": "54343b96",
   "metadata": {
    "ExecuteTime": {
     "end_time": "2023-01-24T15:08:41.534533Z",
     "start_time": "2023-01-24T15:08:12.503802Z"
    }
   },
   "outputs": [],
   "source": [
    "carts_orders.write_parquet(\"__valid__covisit_carts_orders_all_v3.parquet\")"
   ]
  },
  {
   "cell_type": "code",
   "execution_count": 51,
   "id": "63dd704f",
   "metadata": {
    "ExecuteTime": {
     "end_time": "2023-01-24T20:11:49.026213Z",
     "start_time": "2023-01-24T20:08:06.646017Z"
    }
   },
   "outputs": [
    {
     "data": {
      "application/vnd.jupyter.widget-view+json": {
       "model_id": "0cfdf9dc03f047aab454f397778ea628",
       "version_major": 2,
       "version_minor": 0
      },
      "text/plain": [
       "  0%|          | 0/65 [00:00<?, ?it/s]"
      ]
     },
     "metadata": {},
     "output_type": "display_data"
    }
   ],
   "source": [
    "buys2buys, buys2buys_top = co_visitation_matrix(\n",
    "    df,\n",
    "    weights_func=weights_func_orders,\n",
    "    drop_dupli_func=drop_dupli_cols_for_carts_orders,\n",
    "    chunk_size=200_000,\n",
    "#     attention_period=7*24*60*60*1000,  # v3\n",
    "    attention_period=14*24*60*60*1000,  # v4\n",
    "    attention_type=[1, 2],\n",
    "    drop_th_sess_num=30,\n",
    "    save_top_k=orders_th\n",
    ")"
   ]
  },
  {
   "cell_type": "code",
   "execution_count": 52,
   "id": "afe5afad",
   "metadata": {
    "ExecuteTime": {
     "end_time": "2023-01-24T20:11:53.013269Z",
     "start_time": "2023-01-24T20:11:49.028149Z"
    }
   },
   "outputs": [],
   "source": [
    "buys2buys.write_parquet(\"__valid__covisit_buys2buys_all_v4.parquet\")"
   ]
  },
  {
   "cell_type": "code",
   "execution_count": 38,
   "id": "ebfb9d92",
   "metadata": {
    "ExecuteTime": {
     "end_time": "2023-01-24T15:49:47.267634Z",
     "start_time": "2023-01-24T15:26:36.743730Z"
    }
   },
   "outputs": [
    {
     "data": {
      "application/vnd.jupyter.widget-view+json": {
       "model_id": "a1bd805c082f4ee18f6f070d1a4a509b",
       "version_major": 2,
       "version_minor": 0
      },
      "text/plain": [
       "  0%|          | 0/65 [00:00<?, ?it/s]"
      ]
     },
     "metadata": {},
     "output_type": "display_data"
    }
   ],
   "source": [
    "clicks, clicks_top = co_visitation_matrix(\n",
    "    df,\n",
    "    weights_func=weights_func_clicks,\n",
    "    weights_func_params={\"_type\": \"valid\"},\n",
    "    drop_dupli_func=drop_dupli_cols_for_clicks,\n",
    "    chunk_size=200_000,\n",
    "    attention_period=24*60*60*1000,\n",
    "    attention_type=None,\n",
    "    drop_th_sess_num=30,\n",
    "    save_top_k=clicks_th,\n",
    ")"
   ]
  },
  {
   "cell_type": "code",
   "execution_count": 39,
   "id": "96e30b37",
   "metadata": {
    "ExecuteTime": {
     "end_time": "2023-01-24T15:50:26.725469Z",
     "start_time": "2023-01-24T15:49:47.269125Z"
    }
   },
   "outputs": [],
   "source": [
    "clicks.write_parquet(\"__valid__covisit_clicks_all_v3.parquet\")"
   ]
  },
  {
   "cell_type": "code",
   "execution_count": 26,
   "id": "c8226333",
   "metadata": {
    "ExecuteTime": {
     "end_time": "2023-01-24T12:47:37.344625Z",
     "start_time": "2023-01-24T12:46:24.826139Z"
    }
   },
   "outputs": [],
   "source": [
    "carts_orders.write_parquet(\"__valid__covisit_carts_orders_all_v2.parquet\")\n",
    "buys2buys.write_parquet(\"__valid__covisit_buys2buys_all_v2.parquet\")\n",
    "clicks.write_parquet(\"__valid__covisit_clicks_all_v2.parquet\")"
   ]
  },
  {
   "cell_type": "code",
   "execution_count": 18,
   "id": "ddd3f90f",
   "metadata": {
    "ExecuteTime": {
     "end_time": "2023-01-24T15:14:47.541356Z",
     "start_time": "2023-01-24T15:14:33.745722Z"
    }
   },
   "outputs": [],
   "source": [
    "clicks = pl.read_parquet(\"__valid__covisit_clicks_all_v2.parquet\")\n",
    "clicks_top = (\n",
    "    clicks\n",
    "    .with_column(pl.lit(1).alias(\"ones\"))\n",
    "    .with_column(pl.col(\"ones\").cumsum().over(\"aid\").alias(\"rank\"))\n",
    "    .filter(pl.col(\"rank\") <= clicks_th)\n",
    ")"
   ]
  },
  {
   "cell_type": "code",
   "execution_count": null,
   "id": "b6ef574b",
   "metadata": {},
   "outputs": [],
   "source": []
  },
  {
   "cell_type": "code",
   "execution_count": 53,
   "id": "6b6aa279",
   "metadata": {
    "ExecuteTime": {
     "end_time": "2023-01-24T20:12:04.002031Z",
     "start_time": "2023-01-24T20:11:53.014779Z"
    }
   },
   "outputs": [],
   "source": [
    "def pldf_to_dict(df):\n",
    "    df = df.groupby(\"aid\").agg([pl.list(\"aid_right\")])\n",
    "    return dict(zip(df[\"aid\"].to_list(), df[\"aid_right\"].to_list()))\n",
    "\n",
    "top_k_buys = pldf_to_dict(carts_orders_top)\n",
    "top_k_buy2buy = pldf_to_dict(buys2buys_top)\n",
    "top_k_clicks = pldf_to_dict(clicks_top)"
   ]
  },
  {
   "cell_type": "code",
   "execution_count": 54,
   "id": "c839fd31",
   "metadata": {
    "ExecuteTime": {
     "end_time": "2023-01-24T20:12:04.344470Z",
     "start_time": "2023-01-24T20:12:04.004152Z"
    }
   },
   "outputs": [],
   "source": [
    "top_clicks = val_df_valid_input.filter(pl.col(\"type\") == 0)[\"aid\"].value_counts(sort=True)[:20][\"aid\"].to_list()\n",
    "top_carts = val_df_valid_input.filter(pl.col(\"type\") == 1)[\"aid\"].value_counts(sort=True)[:20][\"aid\"].to_list()\n",
    "top_orders = val_df_valid_input.filter(pl.col(\"type\") == 2)[\"aid\"].value_counts(sort=True)[:20][\"aid\"].to_list()"
   ]
  },
  {
   "cell_type": "code",
   "execution_count": 55,
   "id": "451174e2",
   "metadata": {
    "ExecuteTime": {
     "end_time": "2023-01-24T20:12:04.374479Z",
     "start_time": "2023-01-24T20:12:04.345834Z"
    }
   },
   "outputs": [],
   "source": [
    "import itertools\n",
    "\n",
    "type_weight_multipliers = {0: 0.5, 1: 9, 2: 0.5}"
   ]
  },
  {
   "cell_type": "code",
   "execution_count": 56,
   "id": "32e6e7a8",
   "metadata": {
    "ExecuteTime": {
     "end_time": "2023-01-24T20:12:04.437130Z",
     "start_time": "2023-01-24T20:12:04.375940Z"
    }
   },
   "outputs": [],
   "source": [
    "def recommend_clicks(session_aid_list, session_type_list, topk=20):\n",
    "    aids = session_aid_list\n",
    "    types = session_type_list\n",
    "    unique_aids = list(dict.fromkeys(aids[::-1]))\n",
    "\n",
    "    # RERANK CANDIDATES USING WEIGHTS\n",
    "    if len(unique_aids) >= topk:\n",
    "        weights=np.logspace(0.1,1,len(aids),base=2, endpoint=True)-1\n",
    "        aids_temp = Counter() \n",
    "        # RERANK BASED ON REPEAT ITEMS AND TYPE OF ITEMS\n",
    "        for aid,w,t in zip(aids, weights, types): \n",
    "            aids_temp[aid] += w * type_weight_multipliers[t]\n",
    "        sorted_aids = [k for k,v in aids_temp.most_common(topk)]\n",
    "        return sorted_aids\n",
    "\n",
    "    # USE \"CLICKS\" CO-VISITATION MATRIX\n",
    "    aids2 = list(itertools.chain(*[top_k_clicks[aid] for aid in unique_aids if aid in top_k_clicks]))\n",
    "    # RERANK CANDIDATES\n",
    "    top_aids2 = [aid2 for aid2, cnt in Counter(aids2).most_common(topk) if aid2 not in unique_aids]    \n",
    "    result = unique_aids + top_aids2[:topk - len(unique_aids)]\n",
    "    set_result = set(result)  # remove duplicates\n",
    "    return result + [i for i in top_clicks if i not in set_result][:topk - len(result)]\n",
    "    \n",
    "    # USE TOP20 TEST CLICKS\n",
    "#     return result + list(top_clicks)[:topk-len(result)]"
   ]
  },
  {
   "cell_type": "code",
   "execution_count": 57,
   "id": "d92db5ed",
   "metadata": {
    "ExecuteTime": {
     "end_time": "2023-01-24T20:12:04.501447Z",
     "start_time": "2023-01-24T20:12:04.438644Z"
    }
   },
   "outputs": [],
   "source": [
    "def recommend_carts(session_aid_list, session_type_list, topk=20):\n",
    "    aids = session_aid_list\n",
    "    types = session_type_list\n",
    "    unique_aids = list(dict.fromkeys(aids[::-1]))\n",
    "\n",
    "    buy_aids = [aid for i, aid in enumerate(aids) if types[i] != 2]\n",
    "    buy_types = [t for i, t in enumerate(types) if types[i] != 2]\n",
    "    unique_buys = list(dict.fromkeys(buy_aids[::-1]))\n",
    "\n",
    "    # RERANK CANDIDATES USING WEIGHTS\n",
    "    if len(unique_aids) >= topk:\n",
    "        weights=np.logspace(0.5,1,len(aids),base=2, endpoint=True)-1\n",
    "        aids_temp = Counter() \n",
    "        # RERANK BASED ON REPEAT ITEMS AND TYPE OF ITEMS\n",
    "        for aid,w,t in zip(aids, weights, types): \n",
    "            aids_temp[aid] += w * type_weight_multipliers[t]\n",
    "\n",
    "        # Rerank candidates using\"top_20_carts\" co-visitation matrix\n",
    "        aids2 = list(itertools.chain(*[top_k_buys[aid] for aid in unique_buys if aid in top_k_buys]))\n",
    "        for aid in aids2: aids_temp[aid] += 0.1\n",
    "        sorted_aids = [k for k,v in aids_temp.most_common(20)]\n",
    "        return sorted_aids\n",
    "\n",
    "    # Use \"cart order\" and \"clicks\" co-visitation matrices\n",
    "    aids1 = list(itertools.chain(*[top_k_clicks[aid] for aid in unique_aids if aid in top_k_clicks]))\n",
    "    aids2 = list(itertools.chain(*[top_k_buys[aid] for aid in unique_aids if aid in top_k_buys]))\n",
    "\n",
    "    # RERANK CANDIDATES\n",
    "    top_aids2 = [aid2 for aid2, cnt in Counter(aids1+aids2).most_common(topk) if aid2 not in unique_aids]    \n",
    "    result = unique_aids + top_aids2[:topk - len(unique_aids)]\n",
    "    set_result = set(result)  # remove duplicates\n",
    "    return result + [i for i in top_carts if i not in set_result][:topk - len(result)]\n",
    "    # USE TOP20 TEST CLICKS\n",
    "#     return result + list(top_clicks)[:topk-len(result)]"
   ]
  },
  {
   "cell_type": "code",
   "execution_count": 58,
   "id": "5ec09f86",
   "metadata": {
    "ExecuteTime": {
     "end_time": "2023-01-24T20:12:04.532956Z",
     "start_time": "2023-01-24T20:12:04.502928Z"
    }
   },
   "outputs": [],
   "source": [
    "def recommend_buys(session_aid_list, session_type_list, topk=20):\n",
    "    aids = session_aid_list\n",
    "    types = session_type_list\n",
    "    unique_aids = list(dict.fromkeys(aids[::-1]))\n",
    "    \n",
    "    buy_aids = [aid for i, aid in enumerate(aids) if types[i] != 0]\n",
    "    buy_types = [t for i, t in enumerate(types) if types[i] != 0]\n",
    "    unique_buys = list(dict.fromkeys(buy_aids[::-1]))\n",
    "\n",
    "    # RERANK CANDIDATES USING WEIGHTS\n",
    "    if len(unique_aids)>=topk:\n",
    "        weights=np.logspace(0.5,1,len(aids),base=2, endpoint=True)-1\n",
    "        aids_temp = Counter() \n",
    "        # RERANK BASED ON REPEAT ITEMS AND TYPE OF ITEMS\n",
    "        for aid,w,t in zip(aids,weights,types): \n",
    "            aids_temp[aid] += w * type_weight_multipliers[t]\n",
    "        # RERANK CANDIDATES USING \"BUY2BUY\" CO-VISITATION MATRIX\n",
    "        aids3 = list(itertools.chain(*[top_k_buy2buy[aid] for aid in unique_buys if aid in top_k_buy2buy]))\n",
    "        for aid in aids3: aids_temp[aid] += 0.1\n",
    "        sorted_aids = [k for k,v in aids_temp.most_common(topk)]\n",
    "        return sorted_aids\n",
    "\n",
    "    # USE \"CART ORDER\" CO-VISITATION MATRIX\n",
    "    aids2 = list(itertools.chain(*[top_k_buys[aid] for aid in unique_aids if aid in top_k_buys]))\n",
    "    # USE \"BUY2BUY\" CO-VISITATION MATRIX\n",
    "    aids3 = list(itertools.chain(*[top_k_buy2buy[aid] for aid in unique_buys if aid in top_k_buy2buy]))\n",
    "    # RERANK CANDIDATES\n",
    "    top_aids2 = [aid2 for aid2, cnt in Counter(aids2+aids3).most_common(topk) if aid2 not in unique_aids] \n",
    "    result = unique_aids + top_aids2[:topk - len(unique_aids)]\n",
    "    set_result = set(result)  # remove duplicates\n",
    "    return result + [i for i in top_orders if i not in set_result][:topk - len(result)]\n",
    "\n",
    "    # USE TOP20 TEST ORDERS\n",
    "#     return result + list(top_orders)[:topk-len(result)]"
   ]
  },
  {
   "cell_type": "code",
   "execution_count": 59,
   "id": "55089b2f",
   "metadata": {
    "ExecuteTime": {
     "end_time": "2023-01-24T20:12:09.189242Z",
     "start_time": "2023-01-24T20:12:04.534208Z"
    }
   },
   "outputs": [],
   "source": [
    "test_df = val_df_valid_input.sort([\"session\", \"ts\"])\n",
    "test_session_dict = test_df.groupby('session').agg([pl.list(\"aid\"), pl.list(\"type\")])\n",
    "test_session_dict = dict(zip(test_session_dict[\"session\"].to_list(),\n",
    "                             tuple(zip(test_session_dict[\"aid\"].to_list(), test_session_dict[\"type\"].to_list()))\n",
    "                        ))"
   ]
  },
  {
   "cell_type": "code",
   "execution_count": 60,
   "id": "914256e4",
   "metadata": {
    "ExecuteTime": {
     "end_time": "2023-01-24T20:12:38.971850Z",
     "start_time": "2023-01-24T20:12:09.191467Z"
    }
   },
   "outputs": [
    {
     "data": {
      "application/vnd.jupyter.widget-view+json": {
       "model_id": "04b9d873c1bf4220be8cfdfdf372cabe",
       "version_major": 2,
       "version_minor": 0
      },
      "text/plain": [
       "  0%|          | 0/1303355 [00:00<?, ?it/s]"
      ]
     },
     "metadata": {},
     "output_type": "display_data"
    }
   ],
   "source": [
    "submission_dict = {\n",
    "    \"session_type\": [],\n",
    "    \"labels\": [],\n",
    "}\n",
    "\n",
    "types = [\"clicks\", \"carts\", \"orders\"][:1]\n",
    "topk = 20\n",
    "\n",
    "\n",
    "for session_id, (session_aid_list, session_type_list) in tqdm(test_session_dict.items()):\n",
    "    rec_items = recommend_clicks(session_aid_list, session_type_list, topk)\n",
    "    \n",
    "    session_types = [f\"{session_id}_{t}\" for t in types]\n",
    "    labels = \" \".join(str(aid) for aid in rec_items)\n",
    "    labels_list = [labels] * len(types)\n",
    "    \n",
    "    submission_dict[\"session_type\"].extend(session_types)\n",
    "    submission_dict[\"labels\"].extend(labels_list)\n",
    "\n",
    "df_submission_clicks = pl.DataFrame(submission_dict)"
   ]
  },
  {
   "cell_type": "code",
   "execution_count": 61,
   "id": "1e8f2c21",
   "metadata": {
    "ExecuteTime": {
     "end_time": "2023-01-24T20:13:30.941496Z",
     "start_time": "2023-01-24T20:12:38.973615Z"
    }
   },
   "outputs": [
    {
     "data": {
      "application/vnd.jupyter.widget-view+json": {
       "model_id": "5949106f38e64aef81a8b24497ebcb3d",
       "version_major": 2,
       "version_minor": 0
      },
      "text/plain": [
       "  0%|          | 0/1303355 [00:00<?, ?it/s]"
      ]
     },
     "metadata": {},
     "output_type": "display_data"
    }
   ],
   "source": [
    "submission_dict = {\n",
    "    \"session_type\": [],\n",
    "    \"labels\": [],\n",
    "}\n",
    "\n",
    "types = [\"clicks\", \"carts\", \"orders\"][1:2]\n",
    "topk = 20\n",
    "\n",
    "\n",
    "for session_id, (session_aid_list, session_type_list) in tqdm(test_session_dict.items()):\n",
    "    rec_items = recommend_carts(session_aid_list, session_type_list, topk)\n",
    "    \n",
    "    session_types = [f\"{session_id}_{t}\" for t in types]\n",
    "    labels = \" \".join(str(aid) for aid in rec_items)\n",
    "    labels_list = [labels] * len(types)\n",
    "    \n",
    "    submission_dict[\"session_type\"].extend(session_types)\n",
    "    submission_dict[\"labels\"].extend(labels_list)\n",
    "\n",
    "df_submission_carts = pl.DataFrame(submission_dict)"
   ]
  },
  {
   "cell_type": "code",
   "execution_count": 62,
   "id": "701cd63c",
   "metadata": {
    "ExecuteTime": {
     "end_time": "2023-01-24T20:14:08.571454Z",
     "start_time": "2023-01-24T20:13:30.943145Z"
    }
   },
   "outputs": [
    {
     "data": {
      "application/vnd.jupyter.widget-view+json": {
       "model_id": "4b7e6f0d28344afeb49140ae1b940b08",
       "version_major": 2,
       "version_minor": 0
      },
      "text/plain": [
       "  0%|          | 0/1303355 [00:00<?, ?it/s]"
      ]
     },
     "metadata": {},
     "output_type": "display_data"
    }
   ],
   "source": [
    "submission_dict = {\n",
    "    \"session_type\": [],\n",
    "    \"labels\": [],\n",
    "}\n",
    "\n",
    "types = [\"clicks\", \"carts\", \"orders\"][2:]\n",
    "topk = 20\n",
    "\n",
    "\n",
    "for session_id, (session_aid_list, session_type_list) in tqdm(test_session_dict.items()):\n",
    "    rec_items = recommend_buys(session_aid_list, session_type_list, topk)\n",
    "    \n",
    "    session_types = [f\"{session_id}_{t}\" for t in types]\n",
    "    labels = \" \".join(str(aid) for aid in rec_items)\n",
    "    labels_list = [labels] * len(types)\n",
    "    \n",
    "    submission_dict[\"session_type\"].extend(session_types)\n",
    "    submission_dict[\"labels\"].extend(labels_list)\n",
    "\n",
    "df_submission_orders = pl.DataFrame(submission_dict)"
   ]
  },
  {
   "cell_type": "code",
   "execution_count": 63,
   "id": "08f59462",
   "metadata": {
    "ExecuteTime": {
     "end_time": "2023-01-24T20:15:16.368970Z",
     "start_time": "2023-01-24T20:14:08.573087Z"
    }
   },
   "outputs": [
    {
     "name": "stdout",
     "output_type": "stream",
     "text": [
      "validation score: 0.5553375772931675\n",
      "recall per type: type\n",
      "carts    0.3932\n",
      "clicks   0.5155\n",
      "orders   0.6430\n",
      "dtype: float64\n"
     ]
    }
   ],
   "source": [
    "# LB (???) - small preprocess fix\n",
    "df_submission = pl.concat([df_submission_clicks, df_submission_carts, df_submission_orders])\n",
    "valid_stats = calc_valid_score(df_submission, topk=20)"
   ]
  },
  {
   "cell_type": "code",
   "execution_count": 50,
   "id": "4f5823d3",
   "metadata": {
    "ExecuteTime": {
     "end_time": "2023-01-24T16:09:47.022956Z",
     "start_time": "2023-01-24T16:08:43.454783Z"
    }
   },
   "outputs": [
    {
     "name": "stdout",
     "output_type": "stream",
     "text": [
      "validation score: 0.5553063559127661\n",
      "recall per type: type\n",
      "carts    0.3932\n",
      "clicks   0.5155\n",
      "orders   0.6430\n",
      "dtype: float64\n"
     ]
    }
   ],
   "source": [
    "# LB (???) - small preprocess fix\n",
    "df_submission = pl.concat([df_submission_clicks, df_submission_carts, df_submission_orders])\n",
    "valid_stats = calc_valid_score(df_submission, topk=20)"
   ]
  },
  {
   "cell_type": "code",
   "execution_count": 31,
   "id": "ca32cde7",
   "metadata": {
    "ExecuteTime": {
     "end_time": "2023-01-24T15:20:03.446233Z",
     "start_time": "2023-01-24T15:20:03.417582Z"
    }
   },
   "outputs": [
    {
     "data": {
      "text/plain": [
       "0.5763"
      ]
     },
     "execution_count": 31,
     "metadata": {},
     "output_type": "execute_result"
    }
   ],
   "source": [
    "0.5553 + 0.021"
   ]
  },
  {
   "cell_type": "code",
   "execution_count": 29,
   "id": "726cf4bb",
   "metadata": {
    "ExecuteTime": {
     "end_time": "2023-01-24T15:19:10.786499Z",
     "start_time": "2023-01-24T15:17:56.555535Z"
    }
   },
   "outputs": [
    {
     "name": "stdout",
     "output_type": "stream",
     "text": [
      "validation score: 0.5553075399331157\n",
      "recall per type: type\n",
      "carts    0.3932\n",
      "clicks   0.5154\n",
      "orders   0.6430\n",
      "dtype: float64\n"
     ]
    }
   ],
   "source": [
    "# LB (???) - small preprocess fix\n",
    "df_submission = pl.concat([df_submission_clicks, df_submission_carts, df_submission_orders])\n",
    "valid_stats = calc_valid_score(df_submission, topk=20)"
   ]
  },
  {
   "cell_type": "code",
   "execution_count": 69,
   "id": "22c2c3dc",
   "metadata": {
    "ExecuteTime": {
     "end_time": "2023-01-24T13:32:54.121010Z",
     "start_time": "2023-01-24T13:31:50.575650Z"
    }
   },
   "outputs": [
    {
     "name": "stdout",
     "output_type": "stream",
     "text": [
      "validation score: 0.5527826139371954\n",
      "recall per type: type\n",
      "carts    0.3912\n",
      "clicks   0.5154\n",
      "orders   0.6398\n",
      "dtype: float64\n"
     ]
    }
   ],
   "source": [
    "# LB (???)\n",
    "df_submission = pl.concat([df_submission_clicks, df_submission_carts, df_submission_orders])\n",
    "valid_stats = calc_valid_score(df_submission, topk=20)"
   ]
  },
  {
   "cell_type": "code",
   "execution_count": 44,
   "id": "c3a396f3",
   "metadata": {
    "ExecuteTime": {
     "end_time": "2023-01-24T13:11:35.078740Z",
     "start_time": "2023-01-24T13:10:30.509985Z"
    }
   },
   "outputs": [
    {
     "name": "stdout",
     "output_type": "stream",
     "text": [
      "validation score: 0.5527566258603513\n",
      "recall per type: type\n",
      "carts    0.3910\n",
      "clicks   0.5154\n",
      "orders   0.6399\n",
      "dtype: float64\n"
     ]
    }
   ],
   "source": [
    "# LB (???)\n",
    "df_submission = pl.concat([df_submission_clicks, df_submission_carts, df_submission_orders])\n",
    "valid_stats = calc_valid_score(df_submission, topk=20)"
   ]
  },
  {
   "cell_type": "code",
   "execution_count": null,
   "id": "5512ae53",
   "metadata": {},
   "outputs": [],
   "source": []
  },
  {
   "cell_type": "code",
   "execution_count": null,
   "id": "8aa52ff2",
   "metadata": {},
   "outputs": [],
   "source": []
  },
  {
   "cell_type": "code",
   "execution_count": null,
   "id": "d79c0d15",
   "metadata": {},
   "outputs": [],
   "source": []
  },
  {
   "cell_type": "code",
   "execution_count": null,
   "id": "93cc1e90",
   "metadata": {},
   "outputs": [],
   "source": []
  },
  {
   "cell_type": "code",
   "execution_count": null,
   "id": "681d2107",
   "metadata": {},
   "outputs": [],
   "source": []
  },
  {
   "cell_type": "code",
   "execution_count": null,
   "id": "03d58fcb",
   "metadata": {},
   "outputs": [],
   "source": []
  },
  {
   "cell_type": "code",
   "execution_count": null,
   "id": "c67d5f87",
   "metadata": {},
   "outputs": [],
   "source": []
  },
  {
   "cell_type": "markdown",
   "id": "323e9097",
   "metadata": {},
   "source": [
    "# buys"
   ]
  },
  {
   "cell_type": "code",
   "execution_count": 34,
   "id": "10f9f17f",
   "metadata": {
    "ExecuteTime": {
     "end_time": "2023-01-18T23:36:51.192971Z",
     "start_time": "2023-01-18T23:14:52.539089Z"
    }
   },
   "outputs": [
    {
     "data": {
      "application/vnd.jupyter.widget-view+json": {
       "model_id": "bc907187c20c430cb31aa20d7c703fe3",
       "version_major": 2,
       "version_minor": 0
      },
      "text/plain": [
       "  0%|          | 0/65 [00:00<?, ?it/s]"
      ]
     },
     "metadata": {},
     "output_type": "display_data"
    }
   ],
   "source": [
    "chunk_size = 200_000\n",
    "type_weight = {\n",
    "    0:0.5,\n",
    "    1:9,\n",
    "    2:0.5\n",
    "}\n",
    "type_map = {\n",
    "    \"clicks\": 0,\n",
    "    \"carts\": 1,\n",
    "    \"orders\": 2\n",
    "}\n",
    "df_type_weight = pl.DataFrame({\"type\": [0, 1, 2], \"weight\": [1, 3, 6]})\n",
    "\n",
    "for session in tqdm(range(0, val_df_valid_input[\"session\"].max(), chunk_size)):\n",
    "    s_start = session\n",
    "    s_end = session + chunk_size - 1\n",
    "    \n",
    "    df_chunk = df.filter(pl.col(\"session\").is_between(s_start, s_end))\n",
    "    \n",
    "    df_chunk = (\n",
    "        df_chunk\n",
    "        .sort([\"session\", \"ts\"], reverse=[False, True])\n",
    "        .with_column(pl.lit(1).alias(\"ones\"))\n",
    "        .with_column(pl.col(\"ones\").cumsum().over(\"session\").alias(\"rank\"))\n",
    "        .select([\n",
    "            pl.all().exclude(\"ones\"),\n",
    "        ])\n",
    "        .filter(pl.col(\"rank\") <= 30)\n",
    "    )\n",
    "    \n",
    "    # create pairs\n",
    "    df_chunk = df_chunk.join(df_chunk, on=\"session\", how=\"inner\")\n",
    "    df_chunk = (\n",
    "        df_chunk\n",
    "        .filter((pl.col(\"ts\") - pl.col(\"ts_right\") < 24 * 60 * 60 * 1000) & \n",
    "                (pl.col(\"aid\") != pl.col(\"aid_right\")))\n",
    "    )\n",
    "    \n",
    "    # ASSIGN WEIGHTS\n",
    "    df_chunk = (\n",
    "        df_chunk\n",
    "        .groupby(['session', 'aid', 'aid_right'])\n",
    "        .agg([pl.first('type_right').alias(\"type\")])\n",
    "        .join(df_type_weight, on=\"type\")\n",
    "        .groupby(['aid', 'aid_right'])\n",
    "        .agg([pl.sum(\"weight\")])\n",
    "    )\n",
    "    \n",
    "    if session == 0: tmp = df_chunk\n",
    "    else: tmp = pl.concat([tmp, df_chunk]).groupby(['aid', 'aid_right']).agg([pl.sum(\"weight\")])\n",
    "\n",
    "tmp = (\n",
    "    tmp\n",
    "    .sort(['aid','weight'], reverse=[False, True])\n",
    "    .with_column(pl.lit(1).alias(\"ones\"))\n",
    "    .with_column(pl.col(\"ones\").cumsum().over(\"aid\").alias(\"rank\"))\n",
    "    .filter(pl.col(\"rank\") <= 15)\n",
    ")"
   ]
  },
  {
   "cell_type": "code",
   "execution_count": 36,
   "id": "57287151",
   "metadata": {
    "ExecuteTime": {
     "end_time": "2023-01-18T23:40:10.389382Z",
     "start_time": "2023-01-18T23:40:08.092312Z"
    }
   },
   "outputs": [],
   "source": [
    "tmp.drop(\"ones\").write_parquet(\"__valid__top_15_carts_orders.parquet\")"
   ]
  },
  {
   "cell_type": "markdown",
   "id": "c43c71ea",
   "metadata": {},
   "source": [
    "# Buy2Buy"
   ]
  },
  {
   "cell_type": "code",
   "execution_count": 37,
   "id": "0a7222b8",
   "metadata": {
    "ExecuteTime": {
     "end_time": "2023-01-18T23:49:06.267120Z",
     "start_time": "2023-01-18T23:45:40.372911Z"
    }
   },
   "outputs": [
    {
     "data": {
      "application/vnd.jupyter.widget-view+json": {
       "model_id": "d1dd8110762d49adad1cbc28a1a315b8",
       "version_major": 2,
       "version_minor": 0
      },
      "text/plain": [
       "  0%|          | 0/65 [00:00<?, ?it/s]"
      ]
     },
     "metadata": {},
     "output_type": "display_data"
    }
   ],
   "source": [
    "chunk_size = 200_000\n",
    "type_weight = {0:1, 1:6, 2:3}\n",
    "type_map = {\n",
    "    \"clicks\": 0,\n",
    "    \"carts\": 1,\n",
    "    \"orders\": 2\n",
    "}\n",
    "df_type_weight = pl.DataFrame({\"type\": [1, 2], \"weight\": [1, 1]})\n",
    "\n",
    "for session in tqdm(range(0, val_df_valid_input[\"session\"].max(), chunk_size)):\n",
    "    s_start = session\n",
    "    s_end = session + chunk_size - 1\n",
    "    \n",
    "    df_chunk = df.filter(pl.col(\"session\").is_between(s_start, s_end))\n",
    "    \n",
    "    df_chunk = (\n",
    "        df_chunk\n",
    "        .filter(pl.col(\"type\").is_in([1, 2]))\n",
    "        .sort([\"session\", \"ts\"], reverse=[False, True])\n",
    "        .with_column(pl.lit(1).alias(\"ones\"))\n",
    "        .with_column(pl.col(\"ones\").cumsum().over(\"session\").alias(\"rank\"))\n",
    "        .select([\n",
    "            pl.all().exclude(\"ones\"),\n",
    "        ])\n",
    "        .filter(pl.col(\"rank\") <= 30)\n",
    "    )\n",
    "    \n",
    "    # create pairs\n",
    "    df_chunk = df_chunk.join(df_chunk, on=\"session\", how=\"inner\")\n",
    "    df_chunk = (\n",
    "        df_chunk\n",
    "        .filter((pl.col(\"ts\") - pl.col(\"ts_right\") < 14 * 24 * 60 * 60 * 1000) &  # 14 DAYS\n",
    "                (pl.col(\"aid\") != pl.col(\"aid_right\")))\n",
    "    )\n",
    "    \n",
    "    # ASSIGN WEIGHTS\n",
    "    df_chunk = (\n",
    "        df_chunk\n",
    "        .groupby(['session', 'aid', 'aid_right'])\n",
    "        .agg([pl.first('type_right').alias(\"type\")])\n",
    "        .join(df_type_weight, on=\"type\")\n",
    "        .groupby(['aid', 'aid_right'])\n",
    "        .agg([pl.sum(\"weight\")])\n",
    "    )\n",
    "    \n",
    "    if session == 0: tmp2 = df_chunk\n",
    "    else: tmp2 = pl.concat([tmp2, df_chunk]).groupby(['aid', 'aid_right']).agg([pl.sum(\"weight\")])\n",
    "\n",
    "tmp2 = (\n",
    "    tmp2\n",
    "    .sort(['aid','weight'], reverse=[False, True])\n",
    "    .with_column(pl.lit(1).alias(\"ones\"))\n",
    "    .with_column(pl.col(\"ones\").cumsum().over(\"aid\").alias(\"rank\"))\n",
    "    .filter(pl.col(\"rank\") <= 15)\n",
    ")"
   ]
  },
  {
   "cell_type": "code",
   "execution_count": 39,
   "id": "25ac3b09",
   "metadata": {
    "ExecuteTime": {
     "end_time": "2023-01-18T23:49:54.432397Z",
     "start_time": "2023-01-18T23:49:53.478555Z"
    }
   },
   "outputs": [],
   "source": [
    "tmp2.drop(\"ones\").write_parquet(\"__valid__top_15_buy2buy.parquet\")"
   ]
  },
  {
   "cell_type": "markdown",
   "id": "86efe7db",
   "metadata": {},
   "source": [
    "# Clicks discounted time"
   ]
  },
  {
   "cell_type": "code",
   "execution_count": 49,
   "id": "09762a8a",
   "metadata": {
    "ExecuteTime": {
     "end_time": "2023-01-19T00:29:12.717012Z",
     "start_time": "2023-01-19T00:06:20.662788Z"
    }
   },
   "outputs": [
    {
     "data": {
      "application/vnd.jupyter.widget-view+json": {
       "model_id": "346228cc85c5494192de0c876a456b41",
       "version_major": 2,
       "version_minor": 0
      },
      "text/plain": [
       "  0%|          | 0/65 [00:00<?, ?it/s]"
      ]
     },
     "metadata": {},
     "output_type": "display_data"
    }
   ],
   "source": [
    "chunk_size = 200_000\n",
    "type_weight = {0:1, 1:6, 2:3}\n",
    "type_map = {\n",
    "    \"clicks\": 0,\n",
    "    \"carts\": 1,\n",
    "    \"orders\": 2\n",
    "}\n",
    "df_type_weight = pl.DataFrame({\"type\": [1, 2], \"weight\": [1, 1]})\n",
    "\n",
    "for session in tqdm(range(0, val_df_valid_input[\"session\"].max(), chunk_size)):\n",
    "    s_start = session\n",
    "    s_end = session + chunk_size - 1\n",
    "    \n",
    "    df_chunk = df.filter(pl.col(\"session\").is_between(s_start, s_end))\n",
    "    \n",
    "    df_chunk = (\n",
    "        df_chunk\n",
    "        .sort([\"session\", \"ts\"], reverse=[False, True])\n",
    "        .with_column(pl.lit(1).alias(\"ones\"))\n",
    "        .with_column(pl.col(\"ones\").cumsum().over(\"session\").alias(\"rank\"))\n",
    "        .select([\n",
    "            pl.all().exclude(\"ones\"),\n",
    "        ])\n",
    "        .filter(pl.col(\"rank\") <= 30)\n",
    "    )\n",
    "    \n",
    "    # create pairs\n",
    "    df_chunk = df_chunk.join(df_chunk, on=\"session\", how=\"inner\")\n",
    "    df_chunk = (\n",
    "        df_chunk\n",
    "        .filter((pl.col(\"ts\") - pl.col(\"ts_right\") < 24 * 60 * 60 * 1000) & \n",
    "                (pl.col(\"aid\") != pl.col(\"aid_right\")))\n",
    "    )\n",
    "    \n",
    "    # ASSIGN WEIGHTS\n",
    "#     df['wgt'] = 1 + 3*(df.ts_x - 1659304800)/(1662328791-1659304800)\n",
    "    df_chunk = (\n",
    "        df_chunk\n",
    "        .groupby(['session', 'aid', 'aid_right'])\n",
    "        .agg([pl.first('ts').alias(\"ts\")])\n",
    "        .with_column((1 + 3 * (pl.col(\"ts\") - 1659304800025) / (1661723998621 - 1659304800025)).alias(\"weight\"))\n",
    "        .groupby(['aid', 'aid_right'])\n",
    "        .agg([pl.sum(\"weight\")])\n",
    "    )\n",
    "    \n",
    "    if session == 0: tmp3 = df_chunk\n",
    "    else: tmp3 = pl.concat([tmp3, df_chunk]).groupby(['aid', 'aid_right']).agg([pl.sum(\"weight\")])\n",
    "\n",
    "tmp3 = (\n",
    "    tmp3\n",
    "    .sort(['aid','weight'], reverse=[False, True])\n",
    "    .with_column(pl.lit(1).alias(\"ones\"))\n",
    "    .with_column(pl.col(\"ones\").cumsum().over(\"aid\").alias(\"rank\"))\n",
    "    .filter(pl.col(\"rank\") <= 20)\n",
    ")"
   ]
  },
  {
   "cell_type": "code",
   "execution_count": 50,
   "id": "6a6f741e",
   "metadata": {
    "ExecuteTime": {
     "end_time": "2023-01-19T00:29:16.340141Z",
     "start_time": "2023-01-19T00:29:12.718794Z"
    }
   },
   "outputs": [],
   "source": [
    "tmp3.drop(\"ones\").write_parquet(\"__valid__top_20_clicks.parquet\")"
   ]
  },
  {
   "cell_type": "code",
   "execution_count": null,
   "id": "94518360",
   "metadata": {},
   "outputs": [],
   "source": []
  },
  {
   "cell_type": "code",
   "execution_count": 42,
   "id": "9971568c",
   "metadata": {
    "ExecuteTime": {
     "end_time": "2023-01-19T00:01:33.614479Z",
     "start_time": "2023-01-19T00:01:33.585233Z"
    }
   },
   "outputs": [
    {
     "data": {
      "text/plain": [
       "34.99989583333333"
      ]
     },
     "execution_count": 42,
     "metadata": {},
     "output_type": "execute_result"
    }
   ],
   "source": [
    "(1662328791-1659304800 ) / 86400"
   ]
  },
  {
   "cell_type": "code",
   "execution_count": 44,
   "id": "ed1b3b81",
   "metadata": {
    "ExecuteTime": {
     "end_time": "2023-01-19T00:02:06.344704Z",
     "start_time": "2023-01-19T00:02:06.191711Z"
    }
   },
   "outputs": [
    {
     "data": {
      "text/plain": [
       "(1659304800025, 1661723998621)"
      ]
     },
     "execution_count": 44,
     "metadata": {},
     "output_type": "execute_result"
    }
   ],
   "source": [
    "df[\"ts\"].min(), df[\"ts\"].max()"
   ]
  },
  {
   "cell_type": "code",
   "execution_count": 45,
   "id": "224c27b6",
   "metadata": {
    "ExecuteTime": {
     "end_time": "2023-01-19T00:02:38.645701Z",
     "start_time": "2023-01-19T00:02:38.535389Z"
    }
   },
   "outputs": [
    {
     "data": {
      "text/plain": [
       "(1659304800025, 1662328791563)"
      ]
     },
     "execution_count": 45,
     "metadata": {},
     "output_type": "execute_result"
    }
   ],
   "source": [
    "df_train[\"ts\"].min(), df_test[\"ts\"].max()"
   ]
  },
  {
   "cell_type": "code",
   "execution_count": 55,
   "id": "5b69f9d4",
   "metadata": {
    "ExecuteTime": {
     "end_time": "2023-01-19T08:39:20.162784Z",
     "start_time": "2023-01-19T08:39:10.896105Z"
    }
   },
   "outputs": [],
   "source": [
    "def pldf_to_dict(df):\n",
    "    df = df.groupby(\"aid\").agg([pl.list(\"aid_right\")])\n",
    "    return dict(zip(df[\"aid\"].to_list(), df[\"aid_right\"].to_list()))\n",
    "\n",
    "top_20_buys = pldf_to_dict(tmp)\n",
    "top_20_buy2buy = pldf_to_dict(tmp2)\n",
    "top_20_clicks = pldf_to_dict(tmp3)\n",
    "\n",
    "top_clicks = val_df_valid_input.filter(pl.col(\"type\") == 0)[\"aid\"].value_counts(sort=True)[:20][\"aid\"].to_list()\n",
    "top_orders = val_df_valid_input.filter(pl.col(\"type\") == 2)[\"aid\"].value_counts(sort=True)[:20][\"aid\"].to_list()"
   ]
  },
  {
   "cell_type": "code",
   "execution_count": 79,
   "id": "39e18269",
   "metadata": {
    "ExecuteTime": {
     "end_time": "2023-01-19T09:05:15.986236Z",
     "start_time": "2023-01-19T09:05:15.803268Z"
    }
   },
   "outputs": [],
   "source": [
    "top_clicks = val_df_valid_input.filter(pl.col(\"type\") == 0)[\"aid\"].value_counts(sort=True)[:20][\"aid\"].to_list()\n",
    "top_orders = val_df_valid_input.filter(pl.col(\"type\") == 2)[\"aid\"].value_counts(sort=True)[:20][\"aid\"].to_list()"
   ]
  },
  {
   "cell_type": "code",
   "execution_count": 63,
   "id": "84bc8950",
   "metadata": {
    "ExecuteTime": {
     "end_time": "2023-01-19T08:47:53.275866Z",
     "start_time": "2023-01-19T08:47:46.566906Z"
    }
   },
   "outputs": [],
   "source": [
    "test_df = val_df_valid_input.sort([\"session\", \"ts\"])\n",
    "test_session_dict = test_df.groupby('session').agg([pl.list(\"aid\"), pl.list(\"type\")])\n",
    "test_session_dict = dict(zip(test_session_dict[\"session\"].to_list(),\n",
    "                             tuple(zip(test_session_dict[\"aid\"].to_list(), test_session_dict[\"type\"].to_list()))\n",
    "                        ))"
   ]
  },
  {
   "cell_type": "code",
   "execution_count": 80,
   "id": "82e27067",
   "metadata": {
    "ExecuteTime": {
     "end_time": "2023-01-19T09:05:24.970981Z",
     "start_time": "2023-01-19T09:05:24.940555Z"
    }
   },
   "outputs": [],
   "source": [
    "import itertools\n",
    "\n",
    "type_weight_multipliers = {0: 1, 1: 3, 2: 6}\n",
    "\n",
    "def recommend_clicks(session_aid_list, session_type_list, topk=20):\n",
    "    aids = session_aid_list\n",
    "    types = session_type_list\n",
    "    unique_aids = list(dict.fromkeys(aids[::-1]))\n",
    "\n",
    "    # RERANK CANDIDATES USING WEIGHTS\n",
    "    if len(unique_aids) >= topk:\n",
    "        weights=np.logspace(0.1,1,len(aids),base=2, endpoint=True)-1\n",
    "        aids_temp = Counter() \n",
    "        # RERANK BASED ON REPEAT ITEMS AND TYPE OF ITEMS\n",
    "        for aid,w,t in zip(aids, weights, types): \n",
    "            aids_temp[aid] += w * type_weight_multipliers[t]\n",
    "        sorted_aids = [k for k,v in aids_temp.most_common(topk)]\n",
    "        return sorted_aids\n",
    "\n",
    "    # USE \"CLICKS\" CO-VISITATION MATRIX\n",
    "    aids2 = list(itertools.chain(*[top_20_clicks[aid] for aid in unique_aids if aid in top_20_clicks]))\n",
    "    # RERANK CANDIDATES\n",
    "    top_aids2 = [aid2 for aid2, cnt in Counter(aids2).most_common(topk) if aid2 not in unique_aids]    \n",
    "    result = unique_aids + top_aids2[:topk - len(unique_aids)]\n",
    "    # USE TOP20 TEST CLICKS\n",
    "    return result + list(top_clicks)[:topk-len(result)]\n",
    "\n",
    "def recommend_buys(session_aid_list, session_type_list, topk=20):\n",
    "    aids = session_aid_list\n",
    "    types = session_type_list\n",
    "    unique_aids = list(dict.fromkeys(aids[::-1]))\n",
    "    \n",
    "    buy_aids = [aid for i, aid in enumerate(aids) if types[i] != 0]\n",
    "    buy_types = [t for i, t in enumerate(types) if types[i] != 0]\n",
    "    unique_buys = list(dict.fromkeys(buy_aids[::-1]))\n",
    "\n",
    "    # RERANK CANDIDATES USING WEIGHTS\n",
    "    if len(unique_aids)>=topk:\n",
    "        weights=np.logspace(0.5,1,len(aids),base=2, endpoint=True)-1\n",
    "        aids_temp = Counter() \n",
    "        # RERANK BASED ON REPEAT ITEMS AND TYPE OF ITEMS\n",
    "        for aid,w,t in zip(aids,weights,types): \n",
    "            aids_temp[aid] += w * type_weight_multipliers[t]\n",
    "        # RERANK CANDIDATES USING \"BUY2BUY\" CO-VISITATION MATRIX\n",
    "        aids3 = list(itertools.chain(*[top_20_buy2buy[aid] for aid in unique_buys if aid in top_20_buy2buy]))\n",
    "        for aid in aids3: aids_temp[aid] += 0.1\n",
    "        sorted_aids = [k for k,v in aids_temp.most_common(topk)]\n",
    "        return sorted_aids\n",
    "    # USE \"CART ORDER\" CO-VISITATION MATRIX\n",
    "    aids2 = list(itertools.chain(*[top_20_buys[aid] for aid in unique_aids if aid in top_20_buys]))\n",
    "    # USE \"BUY2BUY\" CO-VISITATION MATRIX\n",
    "    aids3 = list(itertools.chain(*[top_20_buy2buy[aid] for aid in unique_buys if aid in top_20_buy2buy]))\n",
    "    # RERANK CANDIDATES\n",
    "    top_aids2 = [aid2 for aid2, cnt in Counter(aids2+aids3).most_common(topk) if aid2 not in unique_aids] \n",
    "    result = unique_aids + top_aids2[:topk - len(unique_aids)]\n",
    "    # USE TOP20 TEST ORDERS\n",
    "    return result + list(top_orders)[:topk-len(result)]"
   ]
  },
  {
   "cell_type": "code",
   "execution_count": 82,
   "id": "0382fda8",
   "metadata": {
    "ExecuteTime": {
     "end_time": "2023-01-19T09:05:57.631683Z",
     "start_time": "2023-01-19T09:05:28.657372Z"
    }
   },
   "outputs": [
    {
     "data": {
      "application/vnd.jupyter.widget-view+json": {
       "model_id": "6adbfbc4cfc54473b95abf3fa037f3a8",
       "version_major": 2,
       "version_minor": 0
      },
      "text/plain": [
       "  0%|          | 0/1303355 [00:00<?, ?it/s]"
      ]
     },
     "metadata": {},
     "output_type": "display_data"
    }
   ],
   "source": [
    "submission_dict = {\n",
    "    \"session_type\": [],\n",
    "    \"labels\": [],\n",
    "}\n",
    "\n",
    "types = [\"clicks\", \"carts\", \"orders\"][:1]\n",
    "topk = 20\n",
    "\n",
    "\n",
    "for session_id, (session_aid_list, session_type_list) in tqdm(test_session_dict.items()):\n",
    "    rec_items = recommend_clicks(session_aid_list, session_type_list, topk)\n",
    "    \n",
    "    session_types = [f\"{session_id}_{t}\" for t in types]\n",
    "    labels = \" \".join(str(aid) for aid in rec_items)\n",
    "    labels_list = [labels] * len(types)\n",
    "    \n",
    "    submission_dict[\"session_type\"].extend(session_types)\n",
    "    submission_dict[\"labels\"].extend(labels_list)"
   ]
  },
  {
   "cell_type": "code",
   "execution_count": 83,
   "id": "56d85a02",
   "metadata": {
    "ExecuteTime": {
     "end_time": "2023-01-19T09:05:57.987624Z",
     "start_time": "2023-01-19T09:05:57.633305Z"
    }
   },
   "outputs": [],
   "source": [
    "df_submission_clicks = pl.DataFrame(submission_dict)"
   ]
  },
  {
   "cell_type": "code",
   "execution_count": 84,
   "id": "9d9ca29e",
   "metadata": {
    "ExecuteTime": {
     "end_time": "2023-01-19T09:06:30.290299Z",
     "start_time": "2023-01-19T09:05:57.989140Z"
    }
   },
   "outputs": [
    {
     "data": {
      "application/vnd.jupyter.widget-view+json": {
       "model_id": "b8c350beb51c4a95b0f94d8e575a1f09",
       "version_major": 2,
       "version_minor": 0
      },
      "text/plain": [
       "  0%|          | 0/1303355 [00:00<?, ?it/s]"
      ]
     },
     "metadata": {},
     "output_type": "display_data"
    }
   ],
   "source": [
    "submission_dict = {\n",
    "    \"session_type\": [],\n",
    "    \"labels\": [],\n",
    "}\n",
    "\n",
    "types = [\"clicks\", \"carts\", \"orders\"][1:]\n",
    "topk = 20\n",
    "\n",
    "\n",
    "for session_id, (session_aid_list, session_type_list) in tqdm(test_session_dict.items()):\n",
    "    rec_items = recommend_buys(session_aid_list, session_type_list, topk)\n",
    "    \n",
    "    session_types = [f\"{session_id}_{t}\" for t in types]\n",
    "    labels = \" \".join(str(aid) for aid in rec_items)\n",
    "    labels_list = [labels] * len(types)\n",
    "    \n",
    "    submission_dict[\"session_type\"].extend(session_types)\n",
    "    submission_dict[\"labels\"].extend(labels_list)"
   ]
  },
  {
   "cell_type": "code",
   "execution_count": 85,
   "id": "3ef54309",
   "metadata": {
    "ExecuteTime": {
     "end_time": "2023-01-19T09:06:30.985692Z",
     "start_time": "2023-01-19T09:06:30.292049Z"
    }
   },
   "outputs": [],
   "source": [
    "df_submission_carts_orders = pl.DataFrame(submission_dict)"
   ]
  },
  {
   "cell_type": "code",
   "execution_count": 86,
   "id": "44323451",
   "metadata": {
    "ExecuteTime": {
     "end_time": "2023-01-19T09:07:35.365481Z",
     "start_time": "2023-01-19T09:06:30.987402Z"
    }
   },
   "outputs": [
    {
     "name": "stderr",
     "output_type": "stream",
     "text": [
      "/app/notebooks/otto/otto_utils.py:145: SettingWithCopyWarning: \n",
      "A value is trying to be set on a copy of a slice from a DataFrame\n",
      "\n",
      "See the caveats in the documentation: https://pandas.pydata.org/pandas-docs/stable/user_guide/indexing.html#returning-a-view-versus-a-copy\n",
      "  test_labels[\"ground_truth\"].loc[labels_null_idx] = (\n"
     ]
    },
    {
     "name": "stdout",
     "output_type": "stream",
     "text": [
      "validation score: 0.5533798707316397\n",
      "recall per type: type\n",
      "carts    0.3894\n",
      "clicks   0.5207\n",
      "orders   0.6408\n",
      "dtype: float64\n"
     ]
    }
   ],
   "source": [
    "# LB 0.574\n",
    "df_submission = pl.concat([df_submission_clicks, df_submission_carts_orders])\n",
    "valid_stats = calc_valid_score(df_submission, topk=20)"
   ]
  },
  {
   "cell_type": "code",
   "execution_count": 37,
   "id": "d0f2f3c6",
   "metadata": {
    "ExecuteTime": {
     "end_time": "2023-01-24T15:22:26.522439Z",
     "start_time": "2023-01-24T15:22:26.498354Z"
    }
   },
   "outputs": [
    {
     "data": {
      "text/plain": [
       "0.55583"
      ]
     },
     "execution_count": 37,
     "metadata": {},
     "output_type": "execute_result"
    }
   ],
   "source": [
    "0.5207*0.1 + 0.3932*0.3 + 0.6430 * 0.6"
   ]
  },
  {
   "cell_type": "code",
   "execution_count": null,
   "id": "d88d6909",
   "metadata": {},
   "outputs": [],
   "source": []
  },
  {
   "cell_type": "markdown",
   "id": "8a65f62d",
   "metadata": {},
   "source": [
    "# for submission"
   ]
  },
  {
   "cell_type": "code",
   "execution_count": 13,
   "id": "d5596beb",
   "metadata": {
    "ExecuteTime": {
     "end_time": "2023-01-20T18:48:08.097868Z",
     "start_time": "2023-01-20T18:48:07.298543Z"
    }
   },
   "outputs": [],
   "source": [
    "df = pl.concat([df_train, df_test])"
   ]
  },
  {
   "cell_type": "code",
   "execution_count": 88,
   "id": "336c1bf7",
   "metadata": {
    "ExecuteTime": {
     "end_time": "2023-01-19T09:57:46.391197Z",
     "start_time": "2023-01-19T09:26:16.865233Z"
    }
   },
   "outputs": [
    {
     "data": {
      "application/vnd.jupyter.widget-view+json": {
       "model_id": "e69fb1acd6e749bfa1a219d0c0816c34",
       "version_major": 2,
       "version_minor": 0
      },
      "text/plain": [
       "  0%|          | 0/73 [00:00<?, ?it/s]"
      ]
     },
     "metadata": {},
     "output_type": "display_data"
    }
   ],
   "source": [
    "chunk_size = 200_000\n",
    "type_weight = {0:1, 1:6, 2:3}\n",
    "type_map = {\n",
    "    \"clicks\": 0,\n",
    "    \"carts\": 1,\n",
    "    \"orders\": 2\n",
    "}\n",
    "df_type_weight = pl.DataFrame({\"type\": [0, 1, 2], \"weight\": [1, 3, 6]})\n",
    "\n",
    "for session in tqdm(range(0, df_test[\"session\"].max(), chunk_size)):\n",
    "    s_start = session\n",
    "    s_end = session + chunk_size - 1\n",
    "    \n",
    "    df_chunk = df.filter(pl.col(\"session\").is_between(s_start, s_end))\n",
    "    \n",
    "    df_chunk = (\n",
    "        df_chunk\n",
    "        .sort([\"session\", \"ts\"], reverse=[False, True])\n",
    "        .with_column(pl.lit(1).alias(\"ones\"))\n",
    "        .with_column(pl.col(\"ones\").cumsum().over(\"session\").alias(\"rank\"))\n",
    "        .select([\n",
    "            pl.all().exclude(\"ones\"),\n",
    "        ])\n",
    "        .filter(pl.col(\"rank\") <= 30)\n",
    "    )\n",
    "    \n",
    "    # create pairs\n",
    "    df_chunk = df_chunk.join(df_chunk, on=\"session\", how=\"inner\")\n",
    "    df_chunk = (\n",
    "        df_chunk\n",
    "        .filter((pl.col(\"ts\") - pl.col(\"ts_right\") < 24 * 60 * 60 * 1000) & \n",
    "                (pl.col(\"aid\") != pl.col(\"aid_right\")))\n",
    "    )\n",
    "    \n",
    "    # ASSIGN WEIGHTS\n",
    "    df_chunk = (\n",
    "        df_chunk\n",
    "        .groupby(['session', 'aid', 'aid_right'])\n",
    "        .agg([pl.first('type_right').alias(\"type\")])\n",
    "        .join(df_type_weight, on=\"type\")\n",
    "        .groupby(['aid', 'aid_right'])\n",
    "        .agg([pl.sum(\"weight\")])\n",
    "    )\n",
    "    \n",
    "    if session == 0: tmp = df_chunk\n",
    "    else: tmp = pl.concat([tmp, df_chunk]).groupby(['aid', 'aid_right']).agg([pl.sum(\"weight\")])\n",
    "\n",
    "tmp = (\n",
    "    tmp\n",
    "    .sort(['aid','weight'], reverse=[False, True])\n",
    "    .with_column(pl.lit(1).alias(\"ones\"))\n",
    "    .with_column(pl.col(\"ones\").cumsum().over(\"aid\").alias(\"rank\"))\n",
    "#     .filter(pl.col(\"rank\") <= 15)\n",
    ")"
   ]
  },
  {
   "cell_type": "code",
   "execution_count": 89,
   "id": "9e7a7f2c",
   "metadata": {
    "ExecuteTime": {
     "end_time": "2023-01-19T09:58:29.955788Z",
     "start_time": "2023-01-19T09:57:46.393158Z"
    }
   },
   "outputs": [],
   "source": [
    "tmp.drop(\"ones\").write_parquet(\"__subm__all_carts_orders.parquet\")\n",
    "tmp.drop(\"ones\").filter(pl.col(\"rank\") <= 15).write_parquet(\"__subm__top_15_carts_orders.parquet\")"
   ]
  },
  {
   "cell_type": "code",
   "execution_count": 90,
   "id": "d042ecc4",
   "metadata": {
    "ExecuteTime": {
     "end_time": "2023-01-19T10:03:49.776695Z",
     "start_time": "2023-01-19T09:58:29.957337Z"
    }
   },
   "outputs": [
    {
     "data": {
      "application/vnd.jupyter.widget-view+json": {
       "model_id": "be66c570e8394c5fa41099f589ce1957",
       "version_major": 2,
       "version_minor": 0
      },
      "text/plain": [
       "  0%|          | 0/73 [00:00<?, ?it/s]"
      ]
     },
     "metadata": {},
     "output_type": "display_data"
    }
   ],
   "source": [
    "chunk_size = 200_000\n",
    "type_weight = {0:1, 1:6, 2:3}\n",
    "type_map = {\n",
    "    \"clicks\": 0,\n",
    "    \"carts\": 1,\n",
    "    \"orders\": 2\n",
    "}\n",
    "df_type_weight = pl.DataFrame({\"type\": [1, 2], \"weight\": [1, 1]})\n",
    "\n",
    "for session in tqdm(range(0, df_test[\"session\"].max(), chunk_size)):\n",
    "    s_start = session\n",
    "    s_end = session + chunk_size - 1\n",
    "    \n",
    "    df_chunk = df.filter(pl.col(\"session\").is_between(s_start, s_end))\n",
    "    \n",
    "    df_chunk = (\n",
    "        df_chunk\n",
    "        .filter(pl.col(\"type\").is_in([1, 2]))\n",
    "        .sort([\"session\", \"ts\"], reverse=[False, True])\n",
    "        .with_column(pl.lit(1).alias(\"ones\"))\n",
    "        .with_column(pl.col(\"ones\").cumsum().over(\"session\").alias(\"rank\"))\n",
    "        .select([\n",
    "            pl.all().exclude(\"ones\"),\n",
    "        ])\n",
    "        .filter(pl.col(\"rank\") <= 30)\n",
    "    )\n",
    "    \n",
    "    # create pairs\n",
    "    df_chunk = df_chunk.join(df_chunk, on=\"session\", how=\"inner\")\n",
    "    df_chunk = (\n",
    "        df_chunk\n",
    "        .filter((pl.col(\"ts\") - pl.col(\"ts_right\") < 14 * 24 * 60 * 60 * 1000) &  # 14 DAYS\n",
    "                (pl.col(\"aid\") != pl.col(\"aid_right\")))\n",
    "    )\n",
    "    \n",
    "    # ASSIGN WEIGHTS\n",
    "    df_chunk = (\n",
    "        df_chunk\n",
    "        .groupby(['session', 'aid', 'aid_right'])\n",
    "        .agg([pl.first('type_right').alias(\"type\")])\n",
    "        .join(df_type_weight, on=\"type\")\n",
    "        .groupby(['aid', 'aid_right'])\n",
    "        .agg([pl.sum(\"weight\")])\n",
    "    )\n",
    "    \n",
    "    if session == 0: tmp2 = df_chunk\n",
    "    else: tmp2 = pl.concat([tmp2, df_chunk]).groupby(['aid', 'aid_right']).agg([pl.sum(\"weight\")])\n",
    "\n",
    "tmp2 = (\n",
    "    tmp2\n",
    "    .sort(['aid','weight'], reverse=[False, True])\n",
    "    .with_column(pl.lit(1).alias(\"ones\"))\n",
    "    .with_column(pl.col(\"ones\").cumsum().over(\"aid\").alias(\"rank\"))\n",
    "#     .filter(pl.col(\"rank\") <= 15)\n",
    ")"
   ]
  },
  {
   "cell_type": "code",
   "execution_count": 91,
   "id": "39c26fe2",
   "metadata": {
    "ExecuteTime": {
     "end_time": "2023-01-19T10:03:57.371410Z",
     "start_time": "2023-01-19T10:03:49.778687Z"
    }
   },
   "outputs": [],
   "source": [
    "tmp2.drop(\"ones\").write_parquet(\"__subm__all_buy2buy.parquet\")\n",
    "tmp2.drop(\"ones\").filter(pl.col(\"rank\") <= 15).write_parquet(\"__subm__top_15_buy2buy.parquet\")"
   ]
  },
  {
   "cell_type": "code",
   "execution_count": 92,
   "id": "25756d5d",
   "metadata": {
    "ExecuteTime": {
     "end_time": "2023-01-19T10:35:28.415918Z",
     "start_time": "2023-01-19T10:03:57.372995Z"
    }
   },
   "outputs": [
    {
     "data": {
      "application/vnd.jupyter.widget-view+json": {
       "model_id": "bddadf1ffe024a53ab0cebe2c830eaa9",
       "version_major": 2,
       "version_minor": 0
      },
      "text/plain": [
       "  0%|          | 0/73 [00:00<?, ?it/s]"
      ]
     },
     "metadata": {},
     "output_type": "display_data"
    }
   ],
   "source": [
    "chunk_size = 200_000\n",
    "type_weight = {0:1, 1:6, 2:3}\n",
    "type_map = {\n",
    "    \"clicks\": 0,\n",
    "    \"carts\": 1,\n",
    "    \"orders\": 2\n",
    "}\n",
    "df_type_weight = pl.DataFrame({\"type\": [1, 2], \"weight\": [1, 1]})\n",
    "\n",
    "for session in tqdm(range(0, df_test[\"session\"].max(), chunk_size)):\n",
    "    s_start = session\n",
    "    s_end = session + chunk_size - 1\n",
    "    \n",
    "    df_chunk = df.filter(pl.col(\"session\").is_between(s_start, s_end))\n",
    "    \n",
    "    df_chunk = (\n",
    "        df_chunk\n",
    "        .sort([\"session\", \"ts\"], reverse=[False, True])\n",
    "        .with_column(pl.lit(1).alias(\"ones\"))\n",
    "        .with_column(pl.col(\"ones\").cumsum().over(\"session\").alias(\"rank\"))\n",
    "        .select([\n",
    "            pl.all().exclude(\"ones\"),\n",
    "        ])\n",
    "        .filter(pl.col(\"rank\") <= 30)\n",
    "    )\n",
    "    \n",
    "    # create pairs\n",
    "    df_chunk = df_chunk.join(df_chunk, on=\"session\", how=\"inner\")\n",
    "    df_chunk = (\n",
    "        df_chunk\n",
    "        .filter((pl.col(\"ts\") - pl.col(\"ts_right\") < 24 * 60 * 60 * 1000) & \n",
    "                (pl.col(\"aid\") != pl.col(\"aid_right\")))\n",
    "    )\n",
    "    \n",
    "    # ASSIGN WEIGHTS\n",
    "#     df['wgt'] = 1 + 3*(df.ts_x - 1659304800)/(1662328791-1659304800)\n",
    "    df_chunk = (\n",
    "        df_chunk\n",
    "        .groupby(['session', 'aid', 'aid_right'])\n",
    "        .agg([pl.first('ts').alias(\"ts\")])\n",
    "        .with_column((1 + 3 * (pl.col(\"ts\") - 1659304800025) / (1662328791563 - 1659304800025)).alias(\"weight\"))\n",
    "        .groupby(['aid', 'aid_right'])\n",
    "        .agg([pl.sum(\"weight\")])\n",
    "    )\n",
    "    \n",
    "    if session == 0: tmp3 = df_chunk\n",
    "    else: tmp3 = pl.concat([tmp3, df_chunk]).groupby(['aid', 'aid_right']).agg([pl.sum(\"weight\")])\n",
    "\n",
    "tmp3 = (\n",
    "    tmp3\n",
    "    .sort(['aid','weight'], reverse=[False, True])\n",
    "    .with_column(pl.lit(1).alias(\"ones\"))\n",
    "    .with_column(pl.col(\"ones\").cumsum().over(\"aid\").alias(\"rank\"))\n",
    "#     .filter(pl.col(\"rank\") <= 20)\n",
    ")"
   ]
  },
  {
   "cell_type": "code",
   "execution_count": 97,
   "id": "391c37cd",
   "metadata": {
    "ExecuteTime": {
     "end_time": "2023-01-19T10:38:26.770439Z",
     "start_time": "2023-01-19T10:37:35.818554Z"
    }
   },
   "outputs": [],
   "source": [
    "tmp3.drop(\"ones\").write_parquet(\"__subm__all_clicks.parquet\")\n",
    "tmp3.drop(\"ones\").filter(pl.col(\"rank\") <= 20).write_parquet(\"__subm__top_20_clicks.parquet\")"
   ]
  },
  {
   "cell_type": "code",
   "execution_count": 11,
   "id": "e7afb073",
   "metadata": {
    "ExecuteTime": {
     "end_time": "2023-01-20T18:47:50.545751Z",
     "start_time": "2023-01-20T18:47:38.402984Z"
    }
   },
   "outputs": [],
   "source": [
    "def pldf_to_dict(df):\n",
    "    df = df.groupby(\"aid\").agg([pl.list(\"aid_right\")])\n",
    "    return dict(zip(df[\"aid\"].to_list(), df[\"aid_right\"].to_list()))\n",
    "\n",
    "top_20_buys = pldf_to_dict(pl.read_parquet(\"__subm__top_15_carts_orders.parquet\"))\n",
    "top_20_buy2buy = pldf_to_dict(pl.read_parquet(\"__subm__top_15_buy2buy.parquet\"))\n",
    "top_20_clicks = pldf_to_dict(pl.read_parquet(\"__subm__top_20_clicks.parquet\"))\n",
    "\n",
    "top_clicks = df_test.filter(pl.col(\"type\") == 0)[\"aid\"].value_counts(sort=True)[:20][\"aid\"].to_list()\n",
    "top_orders = df_test.filter(pl.col(\"type\") == 2)[\"aid\"].value_counts(sort=True)[:20][\"aid\"].to_list()"
   ]
  },
  {
   "cell_type": "code",
   "execution_count": 14,
   "id": "0895ba49",
   "metadata": {
    "ExecuteTime": {
     "end_time": "2023-01-20T18:48:36.636022Z",
     "start_time": "2023-01-20T18:48:29.293291Z"
    }
   },
   "outputs": [],
   "source": [
    "test_df = df_test.sort([\"session\", \"ts\"])\n",
    "test_session_dict = test_df.groupby('session').agg([pl.list(\"aid\"), pl.list(\"type\")])\n",
    "test_session_dict = dict(zip(test_session_dict[\"session\"].to_list(),\n",
    "                             tuple(zip(test_session_dict[\"aid\"].to_list(), test_session_dict[\"type\"].to_list()))\n",
    "                        ))"
   ]
  },
  {
   "cell_type": "code",
   "execution_count": 15,
   "id": "a70ecd84",
   "metadata": {
    "ExecuteTime": {
     "end_time": "2023-01-20T18:48:37.300928Z",
     "start_time": "2023-01-20T18:48:37.252583Z"
    }
   },
   "outputs": [],
   "source": [
    "import itertools\n",
    "\n",
    "type_weight_multipliers = {0: 1, 1: 3, 2: 6}\n",
    "\n",
    "def recommend_clicks(session_aid_list, session_type_list, topk=20):\n",
    "    aids = session_aid_list\n",
    "    types = session_type_list\n",
    "    unique_aids = list(dict.fromkeys(aids[::-1]))\n",
    "\n",
    "    # RERANK CANDIDATES USING WEIGHTS\n",
    "    if len(unique_aids) >= topk:\n",
    "        weights=np.logspace(0.1,1,len(aids),base=2, endpoint=True)-1\n",
    "        aids_temp = Counter() \n",
    "        # RERANK BASED ON REPEAT ITEMS AND TYPE OF ITEMS\n",
    "        for aid,w,t in zip(aids, weights, types): \n",
    "            aids_temp[aid] += w * type_weight_multipliers[t]\n",
    "        sorted_aids = [k for k,v in aids_temp.most_common(topk)]\n",
    "        return sorted_aids\n",
    "\n",
    "    \n",
    "    # USE \"CLICKS\" CO-VISITATION MATRIX\n",
    "    aids2 = list(itertools.chain(*[top_20_clicks[aid] for aid in unique_aids if aid in top_20_clicks]))\n",
    "    # RERANK CANDIDATES\n",
    "    top_aids2 = [aid2 for aid2, cnt in Counter(aids2).most_common(topk) if aid2 not in unique_aids]    \n",
    "    result = unique_aids + top_aids2[:topk - len(unique_aids)]\n",
    "    # USE TOP20 TEST CLICKS\n",
    "    return result + list(top_clicks)[:topk-len(result)]\n",
    "\n",
    "def recommend_buys(session_aid_list, session_type_list, topk=20):\n",
    "    aids = session_aid_list\n",
    "    types = session_type_list\n",
    "    unique_aids = list(dict.fromkeys(aids[::-1]))\n",
    "    \n",
    "    buy_aids = [aid for i, aid in enumerate(aids) if types[i] != 0]\n",
    "    buy_types = [t for i, t in enumerate(types) if types[i] != 0]\n",
    "    unique_buys = list(dict.fromkeys(buy_aids[::-1]))\n",
    "\n",
    "    # RERANK CANDIDATES USING WEIGHTS\n",
    "    if len(unique_aids)>=topk:\n",
    "        weights=np.logspace(0.5,1,len(aids),base=2, endpoint=True)-1\n",
    "        aids_temp = Counter() \n",
    "        # RERANK BASED ON REPEAT ITEMS AND TYPE OF ITEMS\n",
    "        for aid,w,t in zip(aids,weights,types): \n",
    "            aids_temp[aid] += w * type_weight_multipliers[t]\n",
    "        # RERANK CANDIDATES USING \"BUY2BUY\" CO-VISITATION MATRIX\n",
    "        aids3 = list(itertools.chain(*[top_20_buy2buy[aid] for aid in unique_buys if aid in top_20_buy2buy]))\n",
    "        for aid in aids3: aids_temp[aid] += 0.1\n",
    "        sorted_aids = [k for k,v in aids_temp.most_common(topk)]\n",
    "        return sorted_aids\n",
    "    # USE \"CART ORDER\" CO-VISITATION MATRIX\n",
    "    aids2 = list(itertools.chain(*[top_20_buys[aid] for aid in unique_aids if aid in top_20_buys]))\n",
    "    # USE \"BUY2BUY\" CO-VISITATION MATRIX\n",
    "    aids3 = list(itertools.chain(*[top_20_buy2buy[aid] for aid in unique_buys if aid in top_20_buy2buy]))\n",
    "    # RERANK CANDIDATES\n",
    "    top_aids2 = [aid2 for aid2, cnt in Counter(aids2+aids3).most_common(topk) if aid2 not in unique_aids] \n",
    "    result = unique_aids + top_aids2[:topk - len(unique_aids)]\n",
    "    # USE TOP20 TEST ORDERS\n",
    "    return result + list(top_orders)[:topk-len(result)]"
   ]
  },
  {
   "cell_type": "code",
   "execution_count": 16,
   "id": "3b7d7bc9",
   "metadata": {
    "ExecuteTime": {
     "end_time": "2023-01-20T18:49:19.068842Z",
     "start_time": "2023-01-20T18:48:45.578605Z"
    }
   },
   "outputs": [
    {
     "data": {
      "application/vnd.jupyter.widget-view+json": {
       "model_id": "b85f728e2d2e48b694374e73d529a822",
       "version_major": 2,
       "version_minor": 0
      },
      "text/plain": [
       "  0%|          | 0/1671803 [00:00<?, ?it/s]"
      ]
     },
     "metadata": {},
     "output_type": "display_data"
    }
   ],
   "source": [
    "submission_dict = {\n",
    "    \"session_type\": [],\n",
    "    \"labels\": [],\n",
    "}\n",
    "\n",
    "types = [\"clicks\", \"carts\", \"orders\"][:1]\n",
    "topk = 20\n",
    "\n",
    "\n",
    "for session_id, (session_aid_list, session_type_list) in tqdm(test_session_dict.items()):\n",
    "    rec_items = recommend_clicks(session_aid_list, session_type_list, topk)\n",
    "    \n",
    "    session_types = [f\"{session_id}_{t}\" for t in types]\n",
    "    labels = \" \".join(str(aid) for aid in rec_items)\n",
    "    labels_list = [labels] * len(types)\n",
    "    \n",
    "    submission_dict[\"session_type\"].extend(session_types)\n",
    "    submission_dict[\"labels\"].extend(labels_list)"
   ]
  },
  {
   "cell_type": "code",
   "execution_count": 17,
   "id": "31a813a2",
   "metadata": {
    "ExecuteTime": {
     "end_time": "2023-01-20T18:49:19.503198Z",
     "start_time": "2023-01-20T18:49:19.070792Z"
    }
   },
   "outputs": [],
   "source": [
    "df_submission_clicks = pl.DataFrame(submission_dict)"
   ]
  },
  {
   "cell_type": "code",
   "execution_count": 18,
   "id": "ea5e4167",
   "metadata": {
    "ExecuteTime": {
     "end_time": "2023-01-20T18:49:56.521919Z",
     "start_time": "2023-01-20T18:49:19.504758Z"
    }
   },
   "outputs": [
    {
     "data": {
      "application/vnd.jupyter.widget-view+json": {
       "model_id": "0f9bb47707df40978bea7ab68dea547e",
       "version_major": 2,
       "version_minor": 0
      },
      "text/plain": [
       "  0%|          | 0/1671803 [00:00<?, ?it/s]"
      ]
     },
     "metadata": {},
     "output_type": "display_data"
    }
   ],
   "source": [
    "submission_dict = {\n",
    "    \"session_type\": [],\n",
    "    \"labels\": [],\n",
    "}\n",
    "\n",
    "types = [\"clicks\", \"carts\", \"orders\"][1:]\n",
    "topk = 20\n",
    "\n",
    "\n",
    "for session_id, (session_aid_list, session_type_list) in tqdm(test_session_dict.items()):\n",
    "    rec_items = recommend_buys(session_aid_list, session_type_list, topk)\n",
    "    \n",
    "    session_types = [f\"{session_id}_{t}\" for t in types]\n",
    "    labels = \" \".join(str(aid) for aid in rec_items)\n",
    "    labels_list = [labels] * len(types)\n",
    "    \n",
    "    submission_dict[\"session_type\"].extend(session_types)\n",
    "    submission_dict[\"labels\"].extend(labels_list)"
   ]
  },
  {
   "cell_type": "code",
   "execution_count": 19,
   "id": "05e67842",
   "metadata": {
    "ExecuteTime": {
     "end_time": "2023-01-20T18:49:57.339781Z",
     "start_time": "2023-01-20T18:49:56.523659Z"
    }
   },
   "outputs": [],
   "source": [
    "df_submission_carts_orders = pl.DataFrame(submission_dict)"
   ]
  },
  {
   "cell_type": "code",
   "execution_count": 20,
   "id": "472212ae",
   "metadata": {
    "ExecuteTime": {
     "end_time": "2023-01-20T18:49:57.502999Z",
     "start_time": "2023-01-20T18:49:57.341472Z"
    }
   },
   "outputs": [],
   "source": [
    "df_submission = pl.concat([df_submission_clicks, df_submission_carts_orders])"
   ]
  },
  {
   "cell_type": "code",
   "execution_count": 105,
   "id": "57466867",
   "metadata": {
    "ExecuteTime": {
     "end_time": "2023-01-19T10:41:33.324980Z",
     "start_time": "2023-01-19T10:41:32.699238Z"
    }
   },
   "outputs": [],
   "source": [
    "# was an error\n",
    "df_submission.write_csv(\"covisitation_submission.csv\")"
   ]
  },
  {
   "cell_type": "code",
   "execution_count": 22,
   "id": "024c9d34",
   "metadata": {
    "ExecuteTime": {
     "end_time": "2023-01-20T18:51:57.160881Z",
     "start_time": "2023-01-20T18:50:49.680881Z"
    }
   },
   "outputs": [],
   "source": [
    "# LB 0.574\n",
    "df_submission.to_pandas().to_csv(\"covisitation_submission.csv.gz\", compression=\"gzip\", index=False)"
   ]
  },
  {
   "cell_type": "code",
   "execution_count": null,
   "id": "103f82ff",
   "metadata": {},
   "outputs": [],
   "source": []
  }
 ],
 "metadata": {
  "kernelspec": {
   "display_name": "Python 3 (ipykernel)",
   "language": "python",
   "name": "python3"
  },
  "language_info": {
   "codemirror_mode": {
    "name": "ipython",
    "version": 3
   },
   "file_extension": ".py",
   "mimetype": "text/x-python",
   "name": "python",
   "nbconvert_exporter": "python",
   "pygments_lexer": "ipython3",
   "version": "3.9.5"
  },
  "toc": {
   "base_numbering": 1,
   "nav_menu": {},
   "number_sections": true,
   "sideBar": true,
   "skip_h1_title": false,
   "title_cell": "Table of Contents",
   "title_sidebar": "Contents",
   "toc_cell": false,
   "toc_position": {},
   "toc_section_display": true,
   "toc_window_display": false
  }
 },
 "nbformat": 4,
 "nbformat_minor": 5
}
