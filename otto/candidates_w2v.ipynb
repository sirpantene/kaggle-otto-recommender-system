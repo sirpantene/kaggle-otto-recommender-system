{
 "cells": [
  {
   "cell_type": "code",
   "execution_count": 1,
   "id": "abe1c1b7",
   "metadata": {
    "ExecuteTime": {
     "end_time": "2023-01-28T15:17:55.580432Z",
     "start_time": "2023-01-28T15:17:55.568868Z"
    }
   },
   "outputs": [],
   "source": [
    "%load_ext autoreload\n",
    "%autoreload 2"
   ]
  },
  {
   "cell_type": "code",
   "execution_count": 2,
   "id": "12a46efe",
   "metadata": {
    "ExecuteTime": {
     "end_time": "2023-01-28T15:17:58.346189Z",
     "start_time": "2023-01-28T15:17:55.810044Z"
    }
   },
   "outputs": [],
   "source": [
    "from datetime import datetime\n",
    "from pathlib import Path\n",
    "from collections import Counter\n",
    "\n",
    "from joblib import Parallel, delayed\n",
    "from tqdm.notebook import tqdm\n",
    "import dill\n",
    "import pandas as pd\n",
    "import polars as pl\n",
    "import numpy as np\n",
    "from scipy.sparse import csr_matrix\n",
    "from sklearn.model_selection import GroupKFold\n",
    "\n",
    "import lightgbm as lgb\n",
    "\n",
    "import pytorch_lightning as L\n",
    "import torch\n",
    "import torch.nn as nn\n",
    "import torch.nn.functional as F\n",
    "from torch.utils.data import Dataset, DataLoader\n",
    "\n",
    "import matplotlib.pyplot as plt\n",
    "import seaborn as sns\n",
    "\n",
    "from tasks.data.dataset.mappers import EntityEncoder\n",
    "from tasks.jobs import Splitter"
   ]
  },
  {
   "cell_type": "code",
   "execution_count": 3,
   "id": "dcdb51f6",
   "metadata": {
    "ExecuteTime": {
     "end_time": "2023-01-28T15:17:58.485037Z",
     "start_time": "2023-01-28T15:17:58.347938Z"
    }
   },
   "outputs": [],
   "source": [
    "from otto_utils import *\n",
    "from otto_features import *\n",
    "from otto_candidates_covisit import *\n",
    "from otto_lgbm_utils import *\n",
    "from otto_implicit import *"
   ]
  },
  {
   "cell_type": "code",
   "execution_count": 4,
   "id": "9c6b5833",
   "metadata": {
    "ExecuteTime": {
     "end_time": "2023-01-28T15:17:58.518284Z",
     "start_time": "2023-01-28T15:17:58.486271Z"
    }
   },
   "outputs": [],
   "source": [
    "# live plot\n",
    "from livelossplot import PlotLosses\n",
    "plotlosses = PlotLosses()"
   ]
  },
  {
   "cell_type": "code",
   "execution_count": 5,
   "id": "5501e404",
   "metadata": {
    "ExecuteTime": {
     "end_time": "2023-01-28T15:17:58.572036Z",
     "start_time": "2023-01-28T15:17:58.519634Z"
    }
   },
   "outputs": [],
   "source": [
    "from gensim.models.callbacks import CallbackAny2Vec\n",
    "import os\n",
    "import math\n",
    "import sys\n",
    "from datetime import datetime\n",
    "import psutil  \n",
    "import numpy as np\n",
    "\n",
    "def sys_stats():\n",
    "    pid = os.getpid()\n",
    "    ps = psutil.Process(pid)\n",
    "    memory_usage = ps.memory_info()[0] / 2. ** 30\n",
    "    return f'{datetime.now()}  memory usage GB:' + str(np.round(memory_usage, 2))\n",
    "\n",
    "class w2vcallback(CallbackAny2Vec):\n",
    "    '''Callback to print loss after each epoch.'''\n",
    "  \n",
    "    def __init__(self):\n",
    "        self.epoch = 0\n",
    "        self.loss_last = 0\n",
    "\n",
    "    def on_epoch_end(self, model):\n",
    "        loss = model.get_latest_training_loss()\n",
    "        # define your own calculation of the loss\n",
    "        loss_now = loss - self.loss_last\n",
    "        self.loss_last = loss\n",
    "        self.epoch += 1\n",
    "        \n",
    "        print(f'{sys_stats()} Loss after epoch {self.epoch}: {loss_now}')   \n",
    "        plotlosses.update({    \n",
    "           'loss': loss_now, ### / (epoch + 2.),\n",
    "        })\n",
    "        plotlosses.send()"
   ]
  },
  {
   "cell_type": "code",
   "execution_count": 6,
   "id": "cd91c880",
   "metadata": {
    "ExecuteTime": {
     "end_time": "2023-01-28T15:17:58.728122Z",
     "start_time": "2023-01-28T15:17:58.700297Z"
    }
   },
   "outputs": [],
   "source": [
    "from gensim.models import Word2Vec"
   ]
  },
  {
   "cell_type": "markdown",
   "id": "6464bcfb",
   "metadata": {},
   "source": [
    "# Valid"
   ]
  },
  {
   "cell_type": "code",
   "execution_count": 8,
   "id": "4118a8cc",
   "metadata": {
    "ExecuteTime": {
     "end_time": "2023-01-28T04:18:47.690923Z",
     "start_time": "2023-01-28T04:18:44.808444Z"
    }
   },
   "outputs": [],
   "source": [
    "# load\n",
    "val_df_train = pl.read_parquet(VALIDATION_PATH / \"train.parquet\", use_pyarrow=True)\n",
    "val_df_valid_input = pl.read_parquet(VALIDATION_PATH / \"valid.parquet\", use_pyarrow=True)\n",
    "val_df_valid_targets = pl.read_parquet(VALIDATION_PATH / \"test_labels.parquet\", use_pyarrow=True)"
   ]
  },
  {
   "cell_type": "code",
   "execution_count": 9,
   "id": "7e127f98",
   "metadata": {
    "ExecuteTime": {
     "end_time": "2023-01-28T04:19:10.142291Z",
     "start_time": "2023-01-28T04:18:48.358949Z"
    }
   },
   "outputs": [],
   "source": [
    "df = pl.concat([val_df_train, val_df_valid_input]).unique().sort([\"session\", \"ts\"])"
   ]
  },
  {
   "cell_type": "code",
   "execution_count": 10,
   "id": "205492ef",
   "metadata": {
    "ExecuteTime": {
     "end_time": "2023-01-28T04:20:18.989186Z",
     "start_time": "2023-01-28T04:19:54.777260Z"
    }
   },
   "outputs": [],
   "source": [
    "sentences = (\n",
    "    df\n",
    "    .groupby('session').agg([\n",
    "        pl.col('aid').alias('sentence')\n",
    "    ])[\"sentence\"].to_list()\n",
    ")"
   ]
  },
  {
   "cell_type": "code",
   "execution_count": 13,
   "id": "7ce86832",
   "metadata": {
    "ExecuteTime": {
     "end_time": "2023-01-28T04:20:56.929929Z",
     "start_time": "2023-01-28T04:20:56.904152Z"
    }
   },
   "outputs": [
    {
     "name": "stdout",
     "output_type": "stream",
     "text": [
      "env: PYTHONHASHSEED=1\n"
     ]
    }
   ],
   "source": [
    "%env PYTHONHASHSEED=1\n",
    "import hashlib\n",
    "def hashf(s):\n",
    "    return int(hashlib.md5(str(s).encode()).hexdigest(), 32)\n"
   ]
  },
  {
   "cell_type": "code",
   "execution_count": 14,
   "id": "1653b6b0",
   "metadata": {
    "ExecuteTime": {
     "end_time": "2023-01-28T04:27:04.733686Z",
     "start_time": "2023-01-28T04:27:04.703378Z"
    }
   },
   "outputs": [],
   "source": [
    "num_of_vecs = 32\n",
    "min_count_events_per_session = 1\n",
    "num_of_epochs = 30\n",
    "init_lr = 1e-2"
   ]
  },
  {
   "cell_type": "code",
   "execution_count": 15,
   "id": "7b48bf1f",
   "metadata": {
    "ExecuteTime": {
     "end_time": "2023-01-28T06:09:45.467783Z",
     "start_time": "2023-01-28T04:27:35.749243Z"
    }
   },
   "outputs": [
    {
     "data": {
      "image/png": "[encoded data removed]",
      "text/plain": [
       "<Figure size 1200x800 with 2 Axes>"
      ]
     },
     "metadata": {},
     "output_type": "display_data"
    },
    {
     "name": "stdout",
     "output_type": "stream",
     "text": [
      "Loss\n",
      "\tloss             \t (min:    0.000, max: 43475276.000, cur:    0.000)\n"
     ]
    }
   ],
   "source": [
    "w2vec = Word2Vec(\n",
    "    sentences, vector_size=num_of_vecs, min_count=min_count_events_per_session, \n",
    "    workers=40, \n",
    "    sg = 1, \n",
    "    negative = 20, ns_exponent = 0.2, window=10, \n",
    "    alpha = init_lr, min_alpha=1e-4, epochs = num_of_epochs,\n",
    "    seed = 3, hashfxn = hashf,\n",
    "    compute_loss=True, callbacks=[w2vcallback()])"
   ]
  },
  {
   "cell_type": "code",
   "execution_count": 16,
   "id": "a16e9f25",
   "metadata": {
    "ExecuteTime": {
     "end_time": "2023-01-28T07:27:59.961779Z",
     "start_time": "2023-01-28T07:27:59.930068Z"
    }
   },
   "outputs": [
    {
     "data": {
      "text/plain": [
       "(1825636, 32)"
      ]
     },
     "execution_count": 16,
     "metadata": {},
     "output_type": "execute_result"
    }
   ],
   "source": [
    "w2vec.wv.vectors.shape"
   ]
  },
  {
   "cell_type": "code",
   "execution_count": 17,
   "id": "fcfb826d",
   "metadata": {
    "ExecuteTime": {
     "end_time": "2023-01-28T08:06:07.361811Z",
     "start_time": "2023-01-28T08:06:06.968398Z"
    }
   },
   "outputs": [],
   "source": [
    "w2vec.save(\"__valid__word2vec_window=10_negative=20.w2v\")"
   ]
  },
  {
   "cell_type": "markdown",
   "id": "11260230",
   "metadata": {},
   "source": [
    "# Test"
   ]
  },
  {
   "cell_type": "code",
   "execution_count": 7,
   "id": "c2dfbf6a",
   "metadata": {
    "ExecuteTime": {
     "end_time": "2023-01-28T15:18:11.162758Z",
     "start_time": "2023-01-28T15:18:09.574391Z"
    }
   },
   "outputs": [],
   "source": [
    "df_train = pl.read_parquet(TRAIN_PROCESSED, use_pyarrow=True)\n",
    "df_test = pl.read_parquet(TEST_PROCESSED, use_pyarrow=True)"
   ]
  },
  {
   "cell_type": "code",
   "execution_count": 8,
   "id": "c6612751",
   "metadata": {
    "ExecuteTime": {
     "end_time": "2023-01-28T15:18:41.111569Z",
     "start_time": "2023-01-28T15:18:11.164389Z"
    }
   },
   "outputs": [],
   "source": [
    "df = pl.concat([df_train, df_train]).unique().sort([\"session\", \"ts\"])"
   ]
  },
  {
   "cell_type": "code",
   "execution_count": 9,
   "id": "797b159e",
   "metadata": {
    "ExecuteTime": {
     "end_time": "2023-01-28T15:19:10.956479Z",
     "start_time": "2023-01-28T15:18:41.113324Z"
    }
   },
   "outputs": [],
   "source": [
    "sentences = (\n",
    "    df\n",
    "    .groupby('session').agg([\n",
    "        pl.col('aid').alias('sentence')\n",
    "    ])[\"sentence\"].to_list()\n",
    ")"
   ]
  },
  {
   "cell_type": "code",
   "execution_count": 10,
   "id": "48d5d74f",
   "metadata": {
    "ExecuteTime": {
     "end_time": "2023-01-28T15:19:10.988900Z",
     "start_time": "2023-01-28T15:19:10.958040Z"
    }
   },
   "outputs": [
    {
     "name": "stdout",
     "output_type": "stream",
     "text": [
      "env: PYTHONHASHSEED=1\n"
     ]
    }
   ],
   "source": [
    "%env PYTHONHASHSEED=1\n",
    "import hashlib\n",
    "def hashf(s):\n",
    "    return int(hashlib.md5(str(s).encode()).hexdigest(), 32)\n"
   ]
  },
  {
   "cell_type": "code",
   "execution_count": 11,
   "id": "0c7987a6",
   "metadata": {
    "ExecuteTime": {
     "end_time": "2023-01-28T15:19:22.852770Z",
     "start_time": "2023-01-28T15:19:22.823149Z"
    }
   },
   "outputs": [],
   "source": [
    "num_of_vecs = 32\n",
    "min_count_events_per_session = 1\n",
    "num_of_epochs = 30\n",
    "init_lr = 1e-2"
   ]
  },
  {
   "cell_type": "code",
   "execution_count": 12,
   "id": "20132922",
   "metadata": {
    "ExecuteTime": {
     "end_time": "2023-01-28T17:26:08.382704Z",
     "start_time": "2023-01-28T15:19:50.272238Z"
    }
   },
   "outputs": [
    {
     "data": {
      "image/png": "[encoded data removed]",
      "text/plain": [
       "<Figure size 1200x800 with 2 Axes>"
      ]
     },
     "metadata": {},
     "output_type": "display_data"
    },
    {
     "name": "stdout",
     "output_type": "stream",
     "text": [
      "Loss\n",
      "\tloss             \t (min:    0.000, max: 47539384.000, cur:    0.000)\n"
     ]
    }
   ],
   "source": [
    "w2vec = Word2Vec(\n",
    "    sentences, vector_size=num_of_vecs, min_count=min_count_events_per_session, \n",
    "    workers=44, \n",
    "    sg = 1, \n",
    "    negative = 20, ns_exponent = 0.2, window=10, \n",
    "    alpha = init_lr, min_alpha=1e-4, epochs = num_of_epochs,\n",
    "    seed = 3, hashfxn = hashf,\n",
    "    compute_loss=True, callbacks=[w2vcallback()])"
   ]
  },
  {
   "cell_type": "code",
   "execution_count": 13,
   "id": "0c6f0ee7",
   "metadata": {
    "ExecuteTime": {
     "end_time": "2023-01-28T17:26:08.416371Z",
     "start_time": "2023-01-28T17:26:08.384531Z"
    }
   },
   "outputs": [
    {
     "data": {
      "text/plain": [
       "(1855603, 32)"
      ]
     },
     "execution_count": 13,
     "metadata": {},
     "output_type": "execute_result"
    }
   ],
   "source": [
    "w2vec.wv.vectors.shape"
   ]
  },
  {
   "cell_type": "code",
   "execution_count": 14,
   "id": "2109c3a3",
   "metadata": {
    "ExecuteTime": {
     "end_time": "2023-01-28T17:26:08.798915Z",
     "start_time": "2023-01-28T17:26:08.417765Z"
    }
   },
   "outputs": [],
   "source": [
    "w2vec.save(\"__subm__word2vec_window=10_negative=20.w2v\")"
   ]
  },
  {
   "cell_type": "code",
   "execution_count": null,
   "id": "8e6a74f4",
   "metadata": {},
   "outputs": [],
   "source": []
  }
 ],
 "metadata": {
  "kernelspec": {
   "display_name": "Python 3 (ipykernel)",
   "language": "python",
   "name": "python3"
  },
  "language_info": {
   "codemirror_mode": {
    "name": "ipython",
    "version": 3
   },
   "file_extension": ".py",
   "mimetype": "text/x-python",
   "name": "python",
   "nbconvert_exporter": "python",
   "pygments_lexer": "ipython3",
   "version": "3.9.5"
  },
  "toc": {
   "base_numbering": 1,
   "nav_menu": {},
   "number_sections": true,
   "sideBar": true,
   "skip_h1_title": false,
   "title_cell": "Table of Contents",
   "title_sidebar": "Contents",
   "toc_cell": false,
   "toc_position": {},
   "toc_section_display": true,
   "toc_window_display": false
  }
 },
 "nbformat": 4,
 "nbformat_minor": 5
}
