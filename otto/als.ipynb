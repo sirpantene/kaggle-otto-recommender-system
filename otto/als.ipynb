{
 "cells": [
  {
   "cell_type": "code",
   "execution_count": 1,
   "id": "7312b573",
   "metadata": {
    "ExecuteTime": {
     "end_time": "2023-01-14T23:17:02.726119Z",
     "start_time": "2023-01-14T23:17:02.714208Z"
    }
   },
   "outputs": [],
   "source": [
    "%load_ext autoreload\n",
    "%autoreload 2"
   ]
  },
  {
   "cell_type": "code",
   "execution_count": 77,
   "id": "b1ef6b87",
   "metadata": {
    "ExecuteTime": {
     "end_time": "2023-01-15T00:23:29.438950Z",
     "start_time": "2023-01-15T00:23:29.426766Z"
    }
   },
   "outputs": [],
   "source": [
    "from pathlib import Path\n",
    "from joblib import Parallel, delayed\n",
    "from tqdm.notebook import tqdm\n",
    "import dill\n",
    "import pandas as pd\n",
    "import polars as pl\n",
    "import numpy as np\n",
    "from scipy.sparse import csr_matrix\n",
    "from implicit.als import AlternatingLeastSquares\n",
    "from implicit.bpr import BayesianPersonalizedRanking\n",
    "from implicit.nearest_neighbours import CosineRecommender"
   ]
  },
  {
   "cell_type": "code",
   "execution_count": 3,
   "id": "3220cff2",
   "metadata": {
    "ExecuteTime": {
     "end_time": "2023-01-14T23:17:18.668905Z",
     "start_time": "2023-01-14T23:17:18.657589Z"
    }
   },
   "outputs": [],
   "source": [
    "DATA_FOLDER = Path(\"/data/otto/\")\n",
    "\n",
    "TRAIN_PROCESSED = DATA_FOLDER / \"train_parquet\"\n",
    "TRAIN_PROCESSED.mkdir(parents=True, exist_ok=True)\n",
    "\n",
    "TEST_PROCESSED = DATA_FOLDER / \"test_parquet\"\n",
    "TEST_PROCESSED.mkdir(parents=True, exist_ok=True)\n",
    "\n",
    "VALIDATION_PATH = DATA_FOLDER / \"validation\"\n",
    "VALIDATION_PATH.mkdir(parents=True, exist_ok=True)"
   ]
  },
  {
   "cell_type": "code",
   "execution_count": 5,
   "id": "958ef8ec",
   "metadata": {
    "ExecuteTime": {
     "end_time": "2023-01-14T23:17:42.549947Z",
     "start_time": "2023-01-14T23:17:42.540601Z"
    }
   },
   "outputs": [],
   "source": [
    "def make_sparse_matrix(df: pl.DataFrame):\n",
    "    row = df[\"session\"].to_numpy()\n",
    "    col = df[\"aid\"].to_numpy()\n",
    "    weight = df[\"weight\"].to_numpy().astype(np.float32)\n",
    "    \n",
    "    return csr_matrix((weight, (row, col)))"
   ]
  },
  {
   "cell_type": "code",
   "execution_count": 6,
   "id": "ce12abc5",
   "metadata": {
    "ExecuteTime": {
     "end_time": "2023-01-14T23:18:14.689321Z",
     "start_time": "2023-01-14T23:18:11.795533Z"
    }
   },
   "outputs": [],
   "source": [
    "# load\n",
    "val_df_train = pl.read_parquet(VALIDATION_PATH / \"train.parquet\", use_pyarrow=True)\n",
    "val_df_valid_input = pl.read_parquet(VALIDATION_PATH / \"valid.parquet\", use_pyarrow=True)\n",
    "val_df_valid_targets = pl.read_parquet(VALIDATION_PATH / \"test_labels.parquet\", use_pyarrow=True)"
   ]
  },
  {
   "cell_type": "code",
   "execution_count": 52,
   "id": "a899c6e2",
   "metadata": {
    "ExecuteTime": {
     "end_time": "2023-01-15T00:06:24.767903Z",
     "start_time": "2023-01-15T00:06:23.735869Z"
    }
   },
   "outputs": [],
   "source": [
    "df = pl.concat([val_df_train, val_df_valid_input])"
   ]
  },
  {
   "cell_type": "code",
   "execution_count": 51,
   "id": "7a38d57c",
   "metadata": {
    "ExecuteTime": {
     "end_time": "2023-01-15T00:06:18.130290Z",
     "start_time": "2023-01-15T00:06:18.117780Z"
    }
   },
   "outputs": [],
   "source": [
    "def dataset_action_weights(df):\n",
    "    df_action_weights = pl.DataFrame({\n",
    "        \"type\": [0, 1, 2], \"weight\": [10, 30, 60]\n",
    "    })\n",
    "\n",
    "    return (\n",
    "        df\n",
    "        .join(df_action_weights, on=\"type\", how=\"inner\")\n",
    "        .groupby([\"session\", \"aid\"])\n",
    "        .agg([\n",
    "            pl.sum(\"weight\")\n",
    "        ])\n",
    "    )\n",
    "\n",
    "def dataset_clicks_only(df):\n",
    "    return (\n",
    "        df\n",
    "        .filter(pl.col(\"type\") == 0)\n",
    "        .groupby([\"session\", \"aid\"])\n",
    "        .agg([\n",
    "            pl.lit(1).alias(\"weight\")\n",
    "        ])\n",
    "    )"
   ]
  },
  {
   "cell_type": "code",
   "execution_count": 53,
   "id": "31097876",
   "metadata": {
    "ExecuteTime": {
     "end_time": "2023-01-15T00:06:42.270313Z",
     "start_time": "2023-01-15T00:06:26.925825Z"
    }
   },
   "outputs": [],
   "source": [
    "df_act_w = dataset_action_weights(df)\n",
    "df_clicks = dataset_clicks_only(df)"
   ]
  },
  {
   "cell_type": "code",
   "execution_count": 62,
   "id": "4aaf6ad7",
   "metadata": {
    "ExecuteTime": {
     "end_time": "2023-01-15T00:11:56.415466Z",
     "start_time": "2023-01-15T00:11:56.403502Z"
    }
   },
   "outputs": [],
   "source": [
    "als_clicks = AlternatingLeastSquares(\n",
    "    factors=100,\n",
    "    regularization=0.01,\n",
    "    alpha=1.0,\n",
    "    iterations=30,\n",
    "    calculate_training_loss=True,\n",
    "    use_gpu=True\n",
    ")"
   ]
  },
  {
   "cell_type": "code",
   "execution_count": 63,
   "id": "942ff8a2",
   "metadata": {
    "ExecuteTime": {
     "end_time": "2023-01-15T00:12:53.869569Z",
     "start_time": "2023-01-15T00:11:56.740677Z"
    }
   },
   "outputs": [
    {
     "data": {
      "application/vnd.jupyter.widget-view+json": {
       "model_id": "854674e6a88245c6a441aeecc17318d6",
       "version_major": 2,
       "version_minor": 0
      },
      "text/plain": [
       "  0%|          | 0/30 [00:00<?, ?it/s]"
      ]
     },
     "metadata": {},
     "output_type": "display_data"
    }
   ],
   "source": [
    "train_data = make_sparse_matrix(df_clicks)\n",
    "als_clicks.fit(train_data)"
   ]
  },
  {
   "cell_type": "code",
   "execution_count": null,
   "id": "9e9efb63",
   "metadata": {},
   "outputs": [],
   "source": []
  },
  {
   "cell_type": "code",
   "execution_count": 69,
   "id": "28e18786",
   "metadata": {
    "ExecuteTime": {
     "end_time": "2023-01-15T00:14:31.046371Z",
     "start_time": "2023-01-15T00:14:31.034282Z"
    }
   },
   "outputs": [],
   "source": [
    "bpr_clicks = BayesianPersonalizedRanking(\n",
    "    factors=100,\n",
    "    learning_rate=0.01,\n",
    "    regularization=0.01,\n",
    "    iterations=50,\n",
    "    use_gpu=False\n",
    ")"
   ]
  },
  {
   "cell_type": "code",
   "execution_count": 70,
   "id": "8c4ca854",
   "metadata": {
    "ExecuteTime": {
     "end_time": "2023-01-15T00:16:55.400154Z",
     "start_time": "2023-01-15T00:14:39.166836Z"
    }
   },
   "outputs": [
    {
     "data": {
      "application/vnd.jupyter.widget-view+json": {
       "model_id": "acec3b4b6f4d4ffe9f3e05aede69b91b",
       "version_major": 2,
       "version_minor": 0
      },
      "text/plain": [
       "  0%|          | 0/50 [00:00<?, ?it/s]"
      ]
     },
     "metadata": {},
     "output_type": "display_data"
    }
   ],
   "source": [
    "train_data = make_sparse_matrix(df_clicks)\n",
    "bpr_clicks.fit(train_data)"
   ]
  },
  {
   "cell_type": "code",
   "execution_count": null,
   "id": "16c2f729",
   "metadata": {},
   "outputs": [],
   "source": []
  },
  {
   "cell_type": "code",
   "execution_count": 10,
   "id": "29683a5c",
   "metadata": {
    "ExecuteTime": {
     "end_time": "2023-01-14T23:19:19.200779Z",
     "start_time": "2023-01-14T23:19:19.180357Z"
    }
   },
   "outputs": [],
   "source": [
    "als = AlternatingLeastSquares(\n",
    "    factors=100,\n",
    "    regularization=0.01,\n",
    "    alpha=1.0,\n",
    "    iterations=30,\n",
    "    calculate_training_loss=True,\n",
    "    use_gpu=True\n",
    ")"
   ]
  },
  {
   "cell_type": "code",
   "execution_count": 11,
   "id": "6befb204",
   "metadata": {
    "ExecuteTime": {
     "end_time": "2023-01-14T23:20:18.720960Z",
     "start_time": "2023-01-14T23:19:21.079902Z"
    }
   },
   "outputs": [
    {
     "data": {
      "application/vnd.jupyter.widget-view+json": {
       "model_id": "8f3dce2e8a3e4288a2ad587ba21355fe",
       "version_major": 2,
       "version_minor": 0
      },
      "text/plain": [
       "  0%|          | 0/30 [00:00<?, ?it/s]"
      ]
     },
     "metadata": {},
     "output_type": "display_data"
    }
   ],
   "source": [
    "train_data = make_sparse_matrix(df)\n",
    "als.fit(train_data)"
   ]
  },
  {
   "cell_type": "code",
   "execution_count": null,
   "id": "5255615f",
   "metadata": {},
   "outputs": [],
   "source": []
  },
  {
   "cell_type": "code",
   "execution_count": 28,
   "id": "d1429231",
   "metadata": {
    "ExecuteTime": {
     "end_time": "2023-01-14T23:31:24.382030Z",
     "start_time": "2023-01-14T23:31:24.370018Z"
    }
   },
   "outputs": [],
   "source": [
    "als_cpu = AlternatingLeastSquares(\n",
    "    factors=100,\n",
    "    regularization=0.01,\n",
    "    alpha=1.0,\n",
    "    iterations=5,\n",
    "    calculate_training_loss=True,\n",
    "    use_gpu=False\n",
    ")"
   ]
  },
  {
   "cell_type": "code",
   "execution_count": 29,
   "id": "adb0ae17",
   "metadata": {
    "ExecuteTime": {
     "end_time": "2023-01-14T23:42:40.138151Z",
     "start_time": "2023-01-14T23:31:27.193322Z"
    }
   },
   "outputs": [
    {
     "data": {
      "application/vnd.jupyter.widget-view+json": {
       "model_id": "81afedddb7564464a9570f5109ace1a2",
       "version_major": 2,
       "version_minor": 0
      },
      "text/plain": [
       "  0%|          | 0/5 [00:00<?, ?it/s]"
      ]
     },
     "metadata": {},
     "output_type": "display_data"
    }
   ],
   "source": [
    "train_data = make_sparse_matrix(df)\n",
    "als_cpu.fit(train_data)"
   ]
  },
  {
   "cell_type": "code",
   "execution_count": 46,
   "id": "a8de38c8",
   "metadata": {
    "ExecuteTime": {
     "end_time": "2023-01-15T00:00:50.875631Z",
     "start_time": "2023-01-15T00:00:50.864167Z"
    }
   },
   "outputs": [],
   "source": []
  },
  {
   "cell_type": "code",
   "execution_count": 49,
   "id": "f95b5678",
   "metadata": {
    "ExecuteTime": {
     "end_time": "2023-01-15T00:03:46.337743Z",
     "start_time": "2023-01-15T00:03:46.318571Z"
    }
   },
   "outputs": [],
   "source": [
    "bpr_cpu = BayesianPersonalizedRanking(\n",
    "    factors=100,\n",
    "    learning_rate=0.01,\n",
    "    regularization=0.01,\n",
    "    iterations=50,\n",
    "    use_gpu=False\n",
    ")"
   ]
  },
  {
   "cell_type": "code",
   "execution_count": 50,
   "id": "718a74ac",
   "metadata": {
    "ExecuteTime": {
     "end_time": "2023-01-15T00:06:06.972410Z",
     "start_time": "2023-01-15T00:03:48.028445Z"
    }
   },
   "outputs": [
    {
     "data": {
      "application/vnd.jupyter.widget-view+json": {
       "model_id": "0b4e5585b6934fef90ec9221ae93071a",
       "version_major": 2,
       "version_minor": 0
      },
      "text/plain": [
       "  0%|          | 0/50 [00:00<?, ?it/s]"
      ]
     },
     "metadata": {},
     "output_type": "display_data"
    }
   ],
   "source": [
    "train_data = make_sparse_matrix(df)\n",
    "bpr_cpu.fit(train_data)"
   ]
  },
  {
   "cell_type": "code",
   "execution_count": null,
   "id": "25f44249",
   "metadata": {},
   "outputs": [],
   "source": []
  },
  {
   "cell_type": "code",
   "execution_count": 78,
   "id": "ae4284ad",
   "metadata": {
    "ExecuteTime": {
     "end_time": "2023-01-15T00:24:14.009876Z",
     "start_time": "2023-01-15T00:24:13.998705Z"
    }
   },
   "outputs": [],
   "source": [
    "i2i_cosine = CosineRecommender(K=40)"
   ]
  },
  {
   "cell_type": "code",
   "execution_count": 80,
   "id": "c18695e4",
   "metadata": {
    "ExecuteTime": {
     "end_time": "2023-01-15T00:25:13.025373Z",
     "start_time": "2023-01-15T00:24:43.702268Z"
    }
   },
   "outputs": [
    {
     "name": "stderr",
     "output_type": "stream",
     "text": [
      "/opt/poetry/virtualenvs/tasks-9TtSrW0h-py3.9/lib/python3.9/site-packages/implicit/utils.py:138: ParameterWarning: Method expects CSR input, and was passed coo_matrix instead. Converting to CSR took 0.7714519500732422 seconds\n",
      "  warnings.warn(\n"
     ]
    },
    {
     "data": {
      "application/vnd.jupyter.widget-view+json": {
       "model_id": "3e013cf91165460591149340b08b4354",
       "version_major": 2,
       "version_minor": 0
      },
      "text/plain": [
       "  0%|          | 0/1855603 [00:00<?, ?it/s]"
      ]
     },
     "metadata": {},
     "output_type": "display_data"
    }
   ],
   "source": [
    "train_data = make_sparse_matrix(df_act_w)\n",
    "i2i_cosine.fit(train_data)"
   ]
  },
  {
   "cell_type": "code",
   "execution_count": null,
   "id": "79a2625e",
   "metadata": {},
   "outputs": [],
   "source": []
  },
  {
   "cell_type": "code",
   "execution_count": null,
   "id": "bf36b7fb",
   "metadata": {},
   "outputs": [],
   "source": [
    "test_users = val_df_valid_input[\"session\"].unique().to_list()[:100_000]"
   ]
  },
  {
   "cell_type": "code",
   "execution_count": 81,
   "id": "23245ecd",
   "metadata": {
    "ExecuteTime": {
     "end_time": "2023-01-15T00:25:19.604941Z",
     "start_time": "2023-01-15T00:25:13.026930Z"
    }
   },
   "outputs": [
    {
     "data": {
      "application/vnd.jupyter.widget-view+json": {
       "model_id": "b0316680ae104935a45867ce7ab64471",
       "version_major": 2,
       "version_minor": 0
      },
      "text/plain": [
       "  0%|          | 0/100 [00:00<?, ?it/s]"
      ]
     },
     "metadata": {},
     "output_type": "display_data"
    }
   ],
   "source": [
    "b_sz = 1000\n",
    "topk = 20\n",
    "\n",
    "recs = []\n",
    "for test_session in tqdm(range(0, len(test_users), b_sz)):\n",
    "    test_sessions = test_users[test_session : test_session + b_sz]\n",
    "    rec_items, scores = i2i_cosine.recommend(\n",
    "        test_sessions, user_items=train_data[test_sessions], N=topk,\n",
    "        filter_already_liked_items=False, recalculate_user=False\n",
    "    )\n",
    "    recs.extend(rec_items.tolist())"
   ]
  },
  {
   "cell_type": "code",
   "execution_count": 82,
   "id": "45f1b21a",
   "metadata": {
    "ExecuteTime": {
     "end_time": "2023-01-15T00:25:20.002679Z",
     "start_time": "2023-01-15T00:25:19.606373Z"
    }
   },
   "outputs": [
    {
     "data": {
      "application/vnd.jupyter.widget-view+json": {
       "model_id": "2f216ddd313e465e88a1fb5edae8a05a",
       "version_major": 2,
       "version_minor": 0
      },
      "text/plain": [
       "0it [00:00, ?it/s]"
      ]
     },
     "metadata": {},
     "output_type": "display_data"
    }
   ],
   "source": [
    "# make submission\n",
    "\n",
    "submission_dict = {\n",
    "    \"session_type\": [],\n",
    "    \"labels\": [],\n",
    "}\n",
    "\n",
    "types = [\"clicks\", \"carts\", \"orders\"]\n",
    "topk = 20\n",
    "\n",
    "\n",
    "for test_session, rec_items in tqdm(zip(test_users, recs)):\n",
    "    session_types = [f\"{test_session}_{t}\" for t in types]\n",
    "    labels = \" \".join(str(aid) for aid in rec_items)\n",
    "    labels_list = [labels] * 3\n",
    "\n",
    "    submission_dict[\"session_type\"].extend(session_types)\n",
    "    submission_dict[\"labels\"].extend(labels_list)"
   ]
  },
  {
   "cell_type": "code",
   "execution_count": 83,
   "id": "fc1436eb",
   "metadata": {
    "ExecuteTime": {
     "end_time": "2023-01-15T00:25:20.075296Z",
     "start_time": "2023-01-15T00:25:20.004471Z"
    }
   },
   "outputs": [],
   "source": [
    "df_submission = pl.DataFrame(submission_dict)"
   ]
  },
  {
   "cell_type": "code",
   "execution_count": 84,
   "id": "823887da",
   "metadata": {
    "ExecuteTime": {
     "end_time": "2023-01-15T00:25:20.090560Z",
     "start_time": "2023-01-15T00:25:20.076835Z"
    }
   },
   "outputs": [
    {
     "data": {
      "text/html": [
       "<div>\n",
       "<style scoped>\n",
       "    .dataframe tbody tr th:only-of-type {\n",
       "        vertical-align: middle;\n",
       "    }\n",
       "\n",
       "    .dataframe tbody tr th {\n",
       "        vertical-align: top;\n",
       "    }\n",
       "\n",
       "    .dataframe thead th {\n",
       "        text-align: right;\n",
       "    }\n",
       "\n",
       "    .dataframe td {\n",
       "        white-space: pre;\n",
       "    }\n",
       "\n",
       "    .dataframe td {\n",
       "        padding-top: 0;\n",
       "    }\n",
       "\n",
       "    .dataframe td {\n",
       "        padding-bottom: 0;\n",
       "    }\n",
       "\n",
       "    .dataframe td {\n",
       "        line-height: 95%;\n",
       "    }\n",
       "</style>\n",
       "<table border=\"1\" class=\"dataframe\" >\n",
       "<small>shape: (300000, 2)</small>\n",
       "<thead>\n",
       "<tr>\n",
       "<th>\n",
       "session_type\n",
       "</th>\n",
       "<th>\n",
       "labels\n",
       "</th>\n",
       "</tr>\n",
       "<tr>\n",
       "<td>\n",
       "str\n",
       "</td>\n",
       "<td>\n",
       "str\n",
       "</td>\n",
       "</tr>\n",
       "</thead>\n",
       "<tbody>\n",
       "<tr>\n",
       "<td>\n",
       "&quot;11107743_click...\n",
       "</td>\n",
       "<td>\n",
       "&quot;1080743 495748...\n",
       "</td>\n",
       "</tr>\n",
       "<tr>\n",
       "<td>\n",
       "&quot;11107743_carts...\n",
       "</td>\n",
       "<td>\n",
       "&quot;1080743 495748...\n",
       "</td>\n",
       "</tr>\n",
       "<tr>\n",
       "<td>\n",
       "&quot;11107743_order...\n",
       "</td>\n",
       "<td>\n",
       "&quot;1080743 495748...\n",
       "</td>\n",
       "</tr>\n",
       "<tr>\n",
       "<td>\n",
       "&quot;11107744_click...\n",
       "</td>\n",
       "<td>\n",
       "&quot;859590 575644 ...\n",
       "</td>\n",
       "</tr>\n",
       "<tr>\n",
       "<td>\n",
       "&quot;11107744_carts...\n",
       "</td>\n",
       "<td>\n",
       "&quot;859590 575644 ...\n",
       "</td>\n",
       "</tr>\n",
       "<tr>\n",
       "<td>\n",
       "&quot;11107744_order...\n",
       "</td>\n",
       "<td>\n",
       "&quot;859590 575644 ...\n",
       "</td>\n",
       "</tr>\n",
       "<tr>\n",
       "<td>\n",
       "&quot;11107745_click...\n",
       "</td>\n",
       "<td>\n",
       "&quot;1099202 577762...\n",
       "</td>\n",
       "</tr>\n",
       "<tr>\n",
       "<td>\n",
       "&quot;11107745_carts...\n",
       "</td>\n",
       "<td>\n",
       "&quot;1099202 577762...\n",
       "</td>\n",
       "</tr>\n",
       "<tr>\n",
       "<td>\n",
       "&quot;11107745_order...\n",
       "</td>\n",
       "<td>\n",
       "&quot;1099202 577762...\n",
       "</td>\n",
       "</tr>\n",
       "<tr>\n",
       "<td>\n",
       "&quot;11107746_click...\n",
       "</td>\n",
       "<td>\n",
       "&quot;1700227 127442...\n",
       "</td>\n",
       "</tr>\n",
       "<tr>\n",
       "<td>\n",
       "&quot;11107746_carts...\n",
       "</td>\n",
       "<td>\n",
       "&quot;1700227 127442...\n",
       "</td>\n",
       "</tr>\n",
       "<tr>\n",
       "<td>\n",
       "&quot;11107746_order...\n",
       "</td>\n",
       "<td>\n",
       "&quot;1700227 127442...\n",
       "</td>\n",
       "</tr>\n",
       "<tr>\n",
       "<td>\n",
       "...\n",
       "</td>\n",
       "<td>\n",
       "...\n",
       "</td>\n",
       "</tr>\n",
       "<tr>\n",
       "<td>\n",
       "&quot;11242030_click...\n",
       "</td>\n",
       "<td>\n",
       "&quot;1560880 100876...\n",
       "</td>\n",
       "</tr>\n",
       "<tr>\n",
       "<td>\n",
       "&quot;11242030_carts...\n",
       "</td>\n",
       "<td>\n",
       "&quot;1560880 100876...\n",
       "</td>\n",
       "</tr>\n",
       "<tr>\n",
       "<td>\n",
       "&quot;11242030_order...\n",
       "</td>\n",
       "<td>\n",
       "&quot;1560880 100876...\n",
       "</td>\n",
       "</tr>\n",
       "<tr>\n",
       "<td>\n",
       "&quot;11242031_click...\n",
       "</td>\n",
       "<td>\n",
       "&quot;238415 1165861...\n",
       "</td>\n",
       "</tr>\n",
       "<tr>\n",
       "<td>\n",
       "&quot;11242031_carts...\n",
       "</td>\n",
       "<td>\n",
       "&quot;238415 1165861...\n",
       "</td>\n",
       "</tr>\n",
       "<tr>\n",
       "<td>\n",
       "&quot;11242031_order...\n",
       "</td>\n",
       "<td>\n",
       "&quot;238415 1165861...\n",
       "</td>\n",
       "</tr>\n",
       "<tr>\n",
       "<td>\n",
       "&quot;11242032_click...\n",
       "</td>\n",
       "<td>\n",
       "&quot;705666 177444 ...\n",
       "</td>\n",
       "</tr>\n",
       "<tr>\n",
       "<td>\n",
       "&quot;11242032_carts...\n",
       "</td>\n",
       "<td>\n",
       "&quot;705666 177444 ...\n",
       "</td>\n",
       "</tr>\n",
       "<tr>\n",
       "<td>\n",
       "&quot;11242032_order...\n",
       "</td>\n",
       "<td>\n",
       "&quot;705666 177444 ...\n",
       "</td>\n",
       "</tr>\n",
       "<tr>\n",
       "<td>\n",
       "&quot;11242033_click...\n",
       "</td>\n",
       "<td>\n",
       "&quot;1040888 984319...\n",
       "</td>\n",
       "</tr>\n",
       "<tr>\n",
       "<td>\n",
       "&quot;11242033_carts...\n",
       "</td>\n",
       "<td>\n",
       "&quot;1040888 984319...\n",
       "</td>\n",
       "</tr>\n",
       "<tr>\n",
       "<td>\n",
       "&quot;11242033_order...\n",
       "</td>\n",
       "<td>\n",
       "&quot;1040888 984319...\n",
       "</td>\n",
       "</tr>\n",
       "</tbody>\n",
       "</table>\n",
       "</div>"
      ],
      "text/plain": [
       "shape: (300000, 2)\n",
       "┌─────────────────┬─────────────────────────────────────┐\n",
       "│ session_type    ┆ labels                              │\n",
       "│ ---             ┆ ---                                 │\n",
       "│ str             ┆ str                                 │\n",
       "╞═════════════════╪═════════════════════════════════════╡\n",
       "│ 11107743_clicks ┆ 1080743 495748 1186096 344064 18... │\n",
       "├╌╌╌╌╌╌╌╌╌╌╌╌╌╌╌╌╌┼╌╌╌╌╌╌╌╌╌╌╌╌╌╌╌╌╌╌╌╌╌╌╌╌╌╌╌╌╌╌╌╌╌╌╌╌╌┤\n",
       "│ 11107743_carts  ┆ 1080743 495748 1186096 344064 18... │\n",
       "├╌╌╌╌╌╌╌╌╌╌╌╌╌╌╌╌╌┼╌╌╌╌╌╌╌╌╌╌╌╌╌╌╌╌╌╌╌╌╌╌╌╌╌╌╌╌╌╌╌╌╌╌╌╌╌┤\n",
       "│ 11107743_orders ┆ 1080743 495748 1186096 344064 18... │\n",
       "├╌╌╌╌╌╌╌╌╌╌╌╌╌╌╌╌╌┼╌╌╌╌╌╌╌╌╌╌╌╌╌╌╌╌╌╌╌╌╌╌╌╌╌╌╌╌╌╌╌╌╌╌╌╌╌┤\n",
       "│ 11107744_clicks ┆ 859590 575644 1104864 1602824 21... │\n",
       "├╌╌╌╌╌╌╌╌╌╌╌╌╌╌╌╌╌┼╌╌╌╌╌╌╌╌╌╌╌╌╌╌╌╌╌╌╌╌╌╌╌╌╌╌╌╌╌╌╌╌╌╌╌╌╌┤\n",
       "│ ...             ┆ ...                                 │\n",
       "├╌╌╌╌╌╌╌╌╌╌╌╌╌╌╌╌╌┼╌╌╌╌╌╌╌╌╌╌╌╌╌╌╌╌╌╌╌╌╌╌╌╌╌╌╌╌╌╌╌╌╌╌╌╌╌┤\n",
       "│ 11242032_orders ┆ 705666 177444 772487 695864 2331... │\n",
       "├╌╌╌╌╌╌╌╌╌╌╌╌╌╌╌╌╌┼╌╌╌╌╌╌╌╌╌╌╌╌╌╌╌╌╌╌╌╌╌╌╌╌╌╌╌╌╌╌╌╌╌╌╌╌╌┤\n",
       "│ 11242033_clicks ┆ 1040888 984319 1660312 1377352 1... │\n",
       "├╌╌╌╌╌╌╌╌╌╌╌╌╌╌╌╌╌┼╌╌╌╌╌╌╌╌╌╌╌╌╌╌╌╌╌╌╌╌╌╌╌╌╌╌╌╌╌╌╌╌╌╌╌╌╌┤\n",
       "│ 11242033_carts  ┆ 1040888 984319 1660312 1377352 1... │\n",
       "├╌╌╌╌╌╌╌╌╌╌╌╌╌╌╌╌╌┼╌╌╌╌╌╌╌╌╌╌╌╌╌╌╌╌╌╌╌╌╌╌╌╌╌╌╌╌╌╌╌╌╌╌╌╌╌┤\n",
       "│ 11242033_orders ┆ 1040888 984319 1660312 1377352 1... │\n",
       "└─────────────────┴─────────────────────────────────────┘"
      ]
     },
     "execution_count": 84,
     "metadata": {},
     "output_type": "execute_result"
    }
   ],
   "source": [
    "df_submission"
   ]
  },
  {
   "cell_type": "code",
   "execution_count": 44,
   "id": "33b29f48",
   "metadata": {
    "ExecuteTime": {
     "end_time": "2023-01-14T23:53:17.047710Z",
     "start_time": "2023-01-14T23:53:17.027562Z"
    }
   },
   "outputs": [],
   "source": [
    "def calc_valid_score(df_submission: pl.DataFrame):\n",
    "    submission = df_submission.to_pandas()\n",
    "    submission['session'] = submission.session_type.apply(lambda x: int(x.split('_')[0]))\n",
    "    submission['type'] = submission.session_type.apply(lambda x: x.split('_')[1])\n",
    "    submission.labels = submission.labels.apply(lambda x: [int(i) for i in x.split(' ')[:20]])\n",
    "    \n",
    "    val_df_valid_targets = pl.read_parquet(VALIDATION_PATH / \"test_labels.parquet\", use_pyarrow=True)\n",
    "    test_labels = val_df_valid_targets.to_pandas()\n",
    "\n",
    "    test_labels = submission.merge(test_labels, how='left', on=['session', 'type'])\n",
    "    labels_null_idx = test_labels[\"ground_truth\"].isnull()\n",
    "    test_labels[\"ground_truth\"].loc[labels_null_idx] = (\n",
    "        test_labels[\"ground_truth\"].loc[labels_null_idx]\n",
    "        .apply(lambda x: [])\n",
    "    )\n",
    "    test_labels['hits'] = test_labels.apply(lambda df: len(set(df.ground_truth).intersection(set(df.labels))), axis=1)\n",
    "    test_labels['gt_count'] = test_labels.ground_truth.str.len().clip(0,20)\n",
    "    \n",
    "    recall_per_type = (\n",
    "        test_labels.groupby(['type'])['hits'].sum() / \n",
    "        test_labels.groupby(['type'])['gt_count'].sum() \n",
    "    )\n",
    "\n",
    "    action_weights = pd.Series({\n",
    "        'clicks': 0.10, \n",
    "        'carts': 0.30, \n",
    "        'orders': 0.60\n",
    "    })\n",
    "\n",
    "    score = (recall_per_type * action_weights).sum()\n",
    "    print(f\"validation score: {score}\")\n",
    "    print(f\"recall per type: {recall_per_type}\")\n"
   ]
  },
  {
   "cell_type": "code",
   "execution_count": 25,
   "id": "68515974",
   "metadata": {
    "ExecuteTime": {
     "end_time": "2023-01-14T23:28:52.317942Z",
     "start_time": "2023-01-14T23:27:47.372634Z"
    }
   },
   "outputs": [
    {
     "name": "stderr",
     "output_type": "stream",
     "text": [
      "/tmp/ipykernel_2260048/3323778489.py:12: SettingWithCopyWarning: \n",
      "A value is trying to be set on a copy of a slice from a DataFrame\n",
      "\n",
      "See the caveats in the documentation: https://pandas.pydata.org/pandas-docs/stable/user_guide/indexing.html#returning-a-view-versus-a-copy\n",
      "  test_labels[\"ground_truth\"].loc[labels_null_idx] = (\n"
     ]
    },
    {
     "name": "stdout",
     "output_type": "stream",
     "text": [
      "validation score: 0.12609674616208058\n",
      "recall per type: type\n",
      "carts     0.107940\n",
      "clicks    0.142314\n",
      "orders    0.132472\n",
      "dtype: float64\n"
     ]
    }
   ],
   "source": [
    "# als - gpu\n",
    "calc_valid_score(df_submission)"
   ]
  },
  {
   "cell_type": "code",
   "execution_count": 45,
   "id": "45430fb6",
   "metadata": {
    "ExecuteTime": {
     "end_time": "2023-01-14T23:53:28.845882Z",
     "start_time": "2023-01-14T23:53:23.456870Z"
    }
   },
   "outputs": [
    {
     "name": "stderr",
     "output_type": "stream",
     "text": [
      "/tmp/ipykernel_2260048/3323778489.py:12: SettingWithCopyWarning: \n",
      "A value is trying to be set on a copy of a slice from a DataFrame\n",
      "\n",
      "See the caveats in the documentation: https://pandas.pydata.org/pandas-docs/stable/user_guide/indexing.html#returning-a-view-versus-a-copy\n",
      "  test_labels[\"ground_truth\"].loc[labels_null_idx] = (\n"
     ]
    },
    {
     "name": "stdout",
     "output_type": "stream",
     "text": [
      "validation score: 0.12600046012868338\n",
      "recall per type: type\n",
      "carts     0.102874\n",
      "clicks    0.139377\n",
      "orders    0.135334\n",
      "dtype: float64\n"
     ]
    }
   ],
   "source": [
    "# als - gpu (sample)\n",
    "calc_valid_score(df_submission)"
   ]
  },
  {
   "cell_type": "code",
   "execution_count": 39,
   "id": "0c62864e",
   "metadata": {
    "ExecuteTime": {
     "end_time": "2023-01-14T23:52:30.049414Z",
     "start_time": "2023-01-14T23:52:24.932057Z"
    }
   },
   "outputs": [
    {
     "name": "stderr",
     "output_type": "stream",
     "text": [
      "/tmp/ipykernel_2260048/3323778489.py:12: SettingWithCopyWarning: \n",
      "A value is trying to be set on a copy of a slice from a DataFrame\n",
      "\n",
      "See the caveats in the documentation: https://pandas.pydata.org/pandas-docs/stable/user_guide/indexing.html#returning-a-view-versus-a-copy\n",
      "  test_labels[\"ground_truth\"].loc[labels_null_idx] = (\n"
     ]
    },
    {
     "name": "stdout",
     "output_type": "stream",
     "text": [
      "validation score: 0.15625584506079204\n",
      "recall per type: type\n",
      "carts     0.125195\n",
      "clicks    0.170358\n",
      "orders    0.169436\n",
      "dtype: float64\n"
     ]
    }
   ],
   "source": [
    "# als - cpu (sample)\n",
    "calc_valid_score(df_submission)"
   ]
  },
  {
   "cell_type": "code",
   "execution_count": 59,
   "id": "a175b6b6",
   "metadata": {
    "ExecuteTime": {
     "end_time": "2023-01-15T00:09:44.930456Z",
     "start_time": "2023-01-15T00:09:39.060557Z"
    }
   },
   "outputs": [
    {
     "name": "stderr",
     "output_type": "stream",
     "text": [
      "/tmp/ipykernel_2260048/3323778489.py:12: SettingWithCopyWarning: \n",
      "A value is trying to be set on a copy of a slice from a DataFrame\n",
      "\n",
      "See the caveats in the documentation: https://pandas.pydata.org/pandas-docs/stable/user_guide/indexing.html#returning-a-view-versus-a-copy\n",
      "  test_labels[\"ground_truth\"].loc[labels_null_idx] = (\n"
     ]
    },
    {
     "name": "stdout",
     "output_type": "stream",
     "text": [
      "validation score: 0.03995772725629032\n",
      "recall per type: type\n",
      "carts     0.032207\n",
      "clicks    0.040535\n",
      "orders    0.043737\n",
      "dtype: float64\n"
     ]
    }
   ],
   "source": [
    "# bpr - cpu (sample)\n",
    "calc_valid_score(df_submission)"
   ]
  },
  {
   "cell_type": "code",
   "execution_count": 68,
   "id": "8f015e1b",
   "metadata": {
    "ExecuteTime": {
     "end_time": "2023-01-15T00:13:31.755210Z",
     "start_time": "2023-01-15T00:13:26.011513Z"
    }
   },
   "outputs": [
    {
     "name": "stderr",
     "output_type": "stream",
     "text": [
      "/tmp/ipykernel_2260048/3323778489.py:12: SettingWithCopyWarning: \n",
      "A value is trying to be set on a copy of a slice from a DataFrame\n",
      "\n",
      "See the caveats in the documentation: https://pandas.pydata.org/pandas-docs/stable/user_guide/indexing.html#returning-a-view-versus-a-copy\n",
      "  test_labels[\"ground_truth\"].loc[labels_null_idx] = (\n"
     ]
    },
    {
     "name": "stdout",
     "output_type": "stream",
     "text": [
      "validation score: 0.05665466634203342\n",
      "recall per type: type\n",
      "carts     0.053701\n",
      "clicks    0.076644\n",
      "orders    0.054800\n",
      "dtype: float64\n"
     ]
    }
   ],
   "source": [
    "# als - gpu (sample) - clicks only\n",
    "calc_valid_score(df_submission)"
   ]
  },
  {
   "cell_type": "code",
   "execution_count": 76,
   "id": "57bd4a5d",
   "metadata": {
    "ExecuteTime": {
     "end_time": "2023-01-15T00:20:20.695081Z",
     "start_time": "2023-01-15T00:20:14.947498Z"
    }
   },
   "outputs": [
    {
     "name": "stderr",
     "output_type": "stream",
     "text": [
      "/tmp/ipykernel_2260048/3323778489.py:12: SettingWithCopyWarning: \n",
      "A value is trying to be set on a copy of a slice from a DataFrame\n",
      "\n",
      "See the caveats in the documentation: https://pandas.pydata.org/pandas-docs/stable/user_guide/indexing.html#returning-a-view-versus-a-copy\n",
      "  test_labels[\"ground_truth\"].loc[labels_null_idx] = (\n"
     ]
    },
    {
     "name": "stdout",
     "output_type": "stream",
     "text": [
      "validation score: 0.03838407739846748\n",
      "recall per type: type\n",
      "carts     0.031678\n",
      "clicks    0.040422\n",
      "orders    0.041397\n",
      "dtype: float64\n"
     ]
    }
   ],
   "source": [
    "# bpr - cpu (sample) - clicks only\n",
    "calc_valid_score(df_submission)"
   ]
  },
  {
   "cell_type": "code",
   "execution_count": 85,
   "id": "085a6dfa",
   "metadata": {
    "ExecuteTime": {
     "end_time": "2023-01-15T00:25:57.107923Z",
     "start_time": "2023-01-15T00:25:51.268711Z"
    }
   },
   "outputs": [
    {
     "name": "stderr",
     "output_type": "stream",
     "text": [
      "/tmp/ipykernel_2260048/3323778489.py:12: SettingWithCopyWarning: \n",
      "A value is trying to be set on a copy of a slice from a DataFrame\n",
      "\n",
      "See the caveats in the documentation: https://pandas.pydata.org/pandas-docs/stable/user_guide/indexing.html#returning-a-view-versus-a-copy\n",
      "  test_labels[\"ground_truth\"].loc[labels_null_idx] = (\n"
     ]
    },
    {
     "name": "stdout",
     "output_type": "stream",
     "text": [
      "validation score: 0.4979505889911498\n",
      "recall per type: type\n",
      "carts     0.333011\n",
      "clicks    0.423629\n",
      "orders    0.592807\n",
      "dtype: float64\n"
     ]
    }
   ],
   "source": [
    "# i2i_cosine - cpu (sample)\n",
    "calc_valid_score(df_submission)"
   ]
  },
  {
   "cell_type": "code",
   "execution_count": null,
   "id": "de6ce6b1",
   "metadata": {},
   "outputs": [],
   "source": []
  }
 ],
 "metadata": {
  "kernelspec": {
   "display_name": "Python 3 (ipykernel)",
   "language": "python",
   "name": "python3"
  },
  "language_info": {
   "codemirror_mode": {
    "name": "ipython",
    "version": 3
   },
   "file_extension": ".py",
   "mimetype": "text/x-python",
   "name": "python",
   "nbconvert_exporter": "python",
   "pygments_lexer": "ipython3",
   "version": "3.9.14"
  },
  "toc": {
   "base_numbering": 1,
   "nav_menu": {},
   "number_sections": true,
   "sideBar": true,
   "skip_h1_title": false,
   "title_cell": "Table of Contents",
   "title_sidebar": "Contents",
   "toc_cell": false,
   "toc_position": {},
   "toc_section_display": true,
   "toc_window_display": false
  }
 },
 "nbformat": 4,
 "nbformat_minor": 5
}
