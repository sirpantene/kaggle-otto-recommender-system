{
 "cells": [
  {
   "cell_type": "code",
   "execution_count": 1,
   "id": "abe1c1b7",
   "metadata": {
    "ExecuteTime": {
     "end_time": "2023-01-31T13:59:33.455381Z",
     "start_time": "2023-01-31T13:59:33.442405Z"
    }
   },
   "outputs": [],
   "source": [
    "%load_ext autoreload\n",
    "%autoreload 2"
   ]
  },
  {
   "cell_type": "code",
   "execution_count": 2,
   "id": "12a46efe",
   "metadata": {
    "ExecuteTime": {
     "end_time": "2023-01-31T13:59:38.846974Z",
     "start_time": "2023-01-31T13:59:33.456835Z"
    }
   },
   "outputs": [],
   "source": [
    "from datetime import datetime\n",
    "from pathlib import Path\n",
    "from collections import Counter\n",
    "\n",
    "from joblib import Parallel, delayed\n",
    "from tqdm.notebook import tqdm\n",
    "import dill\n",
    "import pandas as pd\n",
    "import polars as pl\n",
    "import numpy as np\n",
    "from scipy.sparse import csr_matrix\n",
    "from sklearn.model_selection import GroupKFold\n",
    "\n",
    "import lightgbm as lgb\n",
    "\n",
    "import pytorch_lightning as L\n",
    "import torch\n",
    "import torch.nn as nn\n",
    "import torch.nn.functional as F\n",
    "from torch.utils.data import Dataset, DataLoader\n",
    "\n",
    "import matplotlib.pyplot as plt\n",
    "import seaborn as sns\n",
    "\n",
    "from tasks.data.dataset.mappers import EntityEncoder\n",
    "from tasks.jobs import Splitter"
   ]
  },
  {
   "cell_type": "code",
   "execution_count": 3,
   "id": "dcdb51f6",
   "metadata": {
    "ExecuteTime": {
     "end_time": "2023-01-31T13:59:39.393755Z",
     "start_time": "2023-01-31T13:59:38.848536Z"
    }
   },
   "outputs": [],
   "source": [
    "from otto_utils import *\n",
    "from otto_features import *\n",
    "from otto_candidates_covisit import *\n",
    "from otto_lgbm_utils import *\n",
    "from otto_implicit import *\n",
    "from otto_reranker import *\n",
    "from otto_jobs_candidates import *\n",
    "from otto_jobs_datasets import *"
   ]
  },
  {
   "cell_type": "code",
   "execution_count": 4,
   "id": "1ef8194e",
   "metadata": {
    "ExecuteTime": {
     "end_time": "2023-01-31T13:59:39.428604Z",
     "start_time": "2023-01-31T13:59:39.398510Z"
    }
   },
   "outputs": [
    {
     "name": "stdout",
     "output_type": "stream",
     "text": [
      "env: PYTHONHASHSEED=1\n"
     ]
    }
   ],
   "source": [
    "%env PYTHONHASHSEED=1\n",
    "from otto_word2vec import *\n",
    "\n",
    "# w2vec = Word2Vec.load(\"__valid__word2vec_window=10_negative=20.w2v\")"
   ]
  },
  {
   "cell_type": "markdown",
   "id": "150ee5e7",
   "metadata": {},
   "source": [
    "# Base features"
   ]
  },
  {
   "cell_type": "code",
   "execution_count": 7,
   "id": "0e2cfde5",
   "metadata": {
    "ExecuteTime": {
     "end_time": "2023-01-31T00:29:50.218611Z",
     "start_time": "2023-01-31T00:29:34.069914Z"
    }
   },
   "outputs": [
    {
     "name": "stdout",
     "output_type": "stream",
     "text": [
      "Reading dataset...:  valid\n",
      "2022-08-22 00:00:00.192000\n",
      "2022-08-28 21:59:58.621000\n"
     ]
    }
   ],
   "source": [
    "build_user_features(_dataset_type=\"valid\")"
   ]
  },
  {
   "cell_type": "code",
   "execution_count": 9,
   "id": "1147b481",
   "metadata": {
    "ExecuteTime": {
     "end_time": "2023-01-31T00:34:38.811860Z",
     "start_time": "2023-01-31T00:34:20.760326Z"
    }
   },
   "outputs": [
    {
     "name": "stdout",
     "output_type": "stream",
     "text": [
      "Reading dataset...:  subm\n",
      "2022-08-28 22:00:00.278000\n",
      "2022-09-04 21:59:51.563000\n"
     ]
    }
   ],
   "source": [
    "build_user_features(_dataset_type=\"subm\")"
   ]
  },
  {
   "cell_type": "code",
   "execution_count": 12,
   "id": "6bd7e169",
   "metadata": {
    "ExecuteTime": {
     "end_time": "2023-01-31T00:41:01.225044Z",
     "start_time": "2023-01-31T00:36:26.088264Z"
    }
   },
   "outputs": [
    {
     "name": "stdout",
     "output_type": "stream",
     "text": [
      "Reading dataset...:  valid\n",
      "2022-07-31 22:00:00.025000\n",
      "2022-08-28 21:59:58.621000\n"
     ]
    }
   ],
   "source": [
    "build_item_features(_dataset_type=\"valid\")"
   ]
  },
  {
   "cell_type": "code",
   "execution_count": 14,
   "id": "b1336565",
   "metadata": {
    "ExecuteTime": {
     "end_time": "2023-01-31T00:46:00.213312Z",
     "start_time": "2023-01-31T00:41:32.716559Z"
    }
   },
   "outputs": [
    {
     "name": "stdout",
     "output_type": "stream",
     "text": [
      "Reading dataset...:  subm\n",
      "2022-08-08 00:00:00.265000\n",
      "2022-09-04 21:59:51.563000\n"
     ]
    }
   ],
   "source": [
    "build_item_features(_dataset_type=\"subm\")"
   ]
  },
  {
   "cell_type": "code",
   "execution_count": 6,
   "id": "b95f5c83",
   "metadata": {
    "ExecuteTime": {
     "end_time": "2023-01-31T14:00:10.425228Z",
     "start_time": "2023-01-31T14:00:10.395130Z"
    }
   },
   "outputs": [],
   "source": [
    "candidates_valid = {\n",
    "    \"tdidf_new_top_100\": \"__valid__candidates_tfidf_new_k=200_topk=100.parquet\",\n",
    "    \"tdidf_old_top_100\": \"__valid__candidates_tfidf_old_k=200_topk=100.parquet\",\n",
    "    \"i2i_new_top_100\": \"__valid__candidates_i2i_new_k=100_topk=100.parquet\",\n",
    "    \"i2i_old_top_100\": \"__valid__candidates_i2i_old_k=100_topk=100.parquet\",\n",
    "    \"covisit_all\": \"__valid__candidates_covisit_all_topk=200.parquet\",\n",
    "}\n",
    "\n",
    "candidates_subm = {\n",
    "    \"tdidf_new_top_100\": \"__subm__candidates_tfidf_new_k=200_topk=100.parquet\",\n",
    "    \"tdidf_old_top_100\": \"__subm__candidates_tfidf_old_k=200_topk=100.parquet\",\n",
    "    \"i2i_new_top_100\": \"__subm__candidates_i2i_new_k=100_topk=100.parquet\",\n",
    "    \"i2i_old_top_100\": \"__subm__candidates_i2i_old_k=100_topk=100.parquet\",\n",
    "    \"covisit_all\": \"__subm__candidates_covisit_all_topk=200.parquet\",\n",
    "}"
   ]
  },
  {
   "cell_type": "markdown",
   "id": "a00fd2cf",
   "metadata": {},
   "source": [
    "# Candidate datasets"
   ]
  },
  {
   "cell_type": "code",
   "execution_count": 15,
   "id": "6aee5d67",
   "metadata": {
    "ExecuteTime": {
     "end_time": "2023-01-31T10:53:35.644656Z",
     "start_time": "2023-01-31T10:50:23.353836Z"
    }
   },
   "outputs": [
    {
     "name": "stdout",
     "output_type": "stream",
     "text": [
      "generating mode:  train\n",
      "only return users with positives (for train mode only):  True\n",
      "action type:  clicks\n",
      "Reading target file\n",
      "Reading candidate files...: \n",
      "Current file:  reranker_finale/__valid__candidates_covisit_all_topk=200.parquet\n",
      "Current file:  reranker_finale/__valid__candidates_tfidf_new_k=200_topk=100.parquet\n",
      "Current file:  reranker_finale/__valid__candidates_tfidf_old_k=200_topk=100.parquet\n",
      "Drop duplicate candidates, keeping last...: \n",
      "Adding target\n",
      "sessions in test dataframe:  1303355\n",
      "sessions with positives in candidates:  831551\n",
      "sessions with positives in test dataframe:  1265979\n",
      "hit rate:  0.6568442288537172\n",
      "shape: (2, 2)\n",
      "┌────────┬───────────┐\n",
      "│ target ┆ counts    │\n",
      "│ ---    ┆ ---       │\n",
      "│ i32    ┆ u32       │\n",
      "╞════════╪═══════════╡\n",
      "│ 0      ┆ 159947727 │\n",
      "├╌╌╌╌╌╌╌╌┼╌╌╌╌╌╌╌╌╌╌╌┤\n",
      "│ 1      ┆ 831551    │\n",
      "└────────┴───────────┘\n",
      "Saving to file...:  reranker_finale/__stage2__train__clicks__candidates_covisit_all+tdidf_new_top_100+tdidf_old_top_100.parquet\n"
     ]
    }
   ],
   "source": [
    "generate_dataset_from_candidates(\n",
    "    candidate_files = [candidates_valid[v] for v in [\"covisit_all\", \"tdidf_new_top_100\", \"tdidf_old_top_100\"]],\n",
    "    mode = \"train\",\n",
    "    return_users_with_positives = True,\n",
    "    action_type = \"clicks\",\n",
    "    version = \"+\".join([\"covisit_all\", \"tdidf_new_top_100\", \"tdidf_old_top_100\"]),\n",
    ")"
   ]
  },
  {
   "cell_type": "code",
   "execution_count": 7,
   "id": "f1b1f261",
   "metadata": {
    "ExecuteTime": {
     "end_time": "2023-01-31T14:01:45.949514Z",
     "start_time": "2023-01-31T14:00:19.385258Z"
    }
   },
   "outputs": [
    {
     "name": "stdout",
     "output_type": "stream",
     "text": [
      "generating mode:  train\n",
      "only return users with positives (for train mode only):  True\n",
      "action type:  clicks\n",
      "Reading target file\n",
      "Reading candidate files...: \n",
      "Current file:  reranker_finale/__valid__candidates_tfidf_new_k=200_topk=100.parquet\n",
      "Current file:  reranker_finale/__valid__candidates_tfidf_old_k=200_topk=100.parquet\n",
      "Drop duplicate candidates, keeping last...: \n",
      "Adding target\n",
      "sessions in test dataframe:  1303355\n",
      "sessions with positives in candidates:  788846\n",
      "sessions with positives in test dataframe:  1265979\n",
      "hit rate:  0.6231114418169653\n",
      "shape: (2, 2)\n",
      "┌────────┬──────────┐\n",
      "│ target ┆ counts   │\n",
      "│ ---    ┆ ---      │\n",
      "│ i32    ┆ u32      │\n",
      "╞════════╪══════════╡\n",
      "│ 0      ┆ 98844851 │\n",
      "├╌╌╌╌╌╌╌╌┼╌╌╌╌╌╌╌╌╌╌┤\n",
      "│ 1      ┆ 788846   │\n",
      "└────────┴──────────┘\n",
      "Saving to file...:  reranker_finale/__stage2__train__clicks__candidates_tdidf_new_top_100+tdidf_old_top_100.parquet\n"
     ]
    }
   ],
   "source": [
    "cands = [\"tdidf_new_top_100\", \"tdidf_old_top_100\"]\n",
    "generate_dataset_from_candidates(\n",
    "    candidate_files = [candidates_valid[v] for v in cands],\n",
    "    mode = \"train\",\n",
    "    return_users_with_positives = True,\n",
    "    action_type = \"clicks\",\n",
    "    version = \"+\".join(cands),\n",
    ")"
   ]
  },
  {
   "cell_type": "code",
   "execution_count": 12,
   "id": "ec989927",
   "metadata": {
    "ExecuteTime": {
     "end_time": "2023-01-31T17:19:20.527384Z",
     "start_time": "2023-01-31T17:17:18.684760Z"
    }
   },
   "outputs": [
    {
     "name": "stdout",
     "output_type": "stream",
     "text": [
      "generating mode:  subm\n",
      "only return users with positives (for train mode only):  True\n",
      "action type:  clicks\n",
      "Reading candidate files...: \n",
      "Current file:  reranker_finale/__subm__candidates_tfidf_new_k=200_topk=100.parquet\n",
      "Current file:  reranker_finale/__subm__candidates_tfidf_old_k=200_topk=100.parquet\n",
      "Drop duplicate candidates, keeping last...: \n",
      "Saving to file...:  reranker_finale/__stage2__subm__clicks__candidates_tdidf_new_top_100+tdidf_old_top_100.parquet\n"
     ]
    }
   ],
   "source": [
    "cands = [\"tdidf_new_top_100\", \"tdidf_old_top_100\"]\n",
    "generate_dataset_from_candidates(\n",
    "    candidate_files = [candidates_subm[v] for v in cands],\n",
    "    mode = \"subm\",\n",
    "    return_users_with_positives = True,\n",
    "    action_type = \"clicks\",\n",
    "    version = \"+\".join(cands),\n",
    ")"
   ]
  },
  {
   "cell_type": "code",
   "execution_count": 11,
   "id": "699cbb59",
   "metadata": {
    "ExecuteTime": {
     "end_time": "2023-01-30T23:21:37.778300Z",
     "start_time": "2023-01-30T23:18:46.257234Z"
    }
   },
   "outputs": [
    {
     "name": "stdout",
     "output_type": "stream",
     "text": [
      "generating mode:  train\n",
      "only return users with positives (for train mode only):  True\n",
      "action type:  carts\n",
      "Reading target file\n",
      "Reading candidate files...: \n",
      "Current file:  reranker_finale/__valid__candidates_covisit_all_topk=200.parquet\n",
      "Current file:  reranker_finale/__valid__candidates_tfidf_new_k=200_topk=100.parquet\n",
      "Current file:  reranker_finale/__valid__candidates_tfidf_old_k=200_topk=100.parquet\n",
      "Drop duplicate candidates, keeping last...: \n",
      "Adding target\n",
      "sessions with positives in candidates:  202061\n",
      "sessions with positives in test dataframe:  1303355\n",
      "hit rate:  0.15503143809629763\n",
      "shape: (2, 2)\n",
      "┌────────┬──────────┐\n",
      "│ target ┆ counts   │\n",
      "│ ---    ┆ ---      │\n",
      "│ i32    ┆ u32      │\n",
      "╞════════╪══════════╡\n",
      "│ 0      ┆ 42828456 │\n",
      "├╌╌╌╌╌╌╌╌┼╌╌╌╌╌╌╌╌╌╌┤\n",
      "│ 1      ┆ 272271   │\n",
      "└────────┴──────────┘\n",
      "Saving to file...:  reranker_finale/__stage2__train__carts__candidates_covisit_all+tdidf_new_top_100+tdidf_old_top_100.parquet\n"
     ]
    }
   ],
   "source": [
    "generate_dataset_from_candidates(\n",
    "    candidate_files = [candidates_valid[v] for v in [\"covisit_all\", \"tdidf_new_top_100\", \"tdidf_old_top_100\"]],\n",
    "    mode = \"train\",\n",
    "    return_users_with_positives = True,\n",
    "    action_type = \"carts\",\n",
    "    version = \"+\".join([\"covisit_all\", \"tdidf_new_top_100\", \"tdidf_old_top_100\"]),\n",
    ")"
   ]
  },
  {
   "cell_type": "code",
   "execution_count": null,
   "id": "4a754e25",
   "metadata": {},
   "outputs": [],
   "source": [
    "generate_dataset_from_candidates(\n",
    "    candidate_files = [candidates_valid[v] for v in [\"covisit_all\", \"tdidf_new_top_100\", \"tdidf_old_top_100\"]],\n",
    "    mode = \"subm\",\n",
    "    return_users_with_positives = True,\n",
    "    action_type = \"carts\",\n",
    "    version = \"+\".join([\"covisit_all\", \"tdidf_new_top_100\", \"tdidf_old_top_100\"]),\n",
    ")"
   ]
  },
  {
   "cell_type": "code",
   "execution_count": 15,
   "id": "f3a04a9a",
   "metadata": {
    "ExecuteTime": {
     "end_time": "2023-01-30T23:29:35.699405Z",
     "start_time": "2023-01-30T23:26:44.339037Z"
    }
   },
   "outputs": [
    {
     "name": "stdout",
     "output_type": "stream",
     "text": [
      "generating mode:  train\n",
      "only return users with positives (for train mode only):  True\n",
      "action type:  orders\n",
      "Reading target file\n",
      "Reading candidate files...: \n",
      "Current file:  reranker_finale/__valid__candidates_covisit_all_topk=200.parquet\n",
      "Current file:  reranker_finale/__valid__candidates_tfidf_new_k=200_topk=100.parquet\n",
      "Current file:  reranker_finale/__valid__candidates_tfidf_old_k=200_topk=100.parquet\n",
      "Drop duplicate candidates, keeping last...: \n",
      "Adding target\n",
      "sessions in test dataframe:  1303355\n",
      "sessions with positives in candidates:  120359\n",
      "sessions with positives in test dataframe:  134666\n",
      "hit rate:  0.09234552366776512\n",
      "shape: (2, 2)\n",
      "┌────────┬──────────┐\n",
      "│ target ┆ counts   │\n",
      "│ ---    ┆ ---      │\n",
      "│ i32    ┆ u32      │\n",
      "╞════════╪══════════╡\n",
      "│ 0      ┆ 27191735 │\n",
      "├╌╌╌╌╌╌╌╌┼╌╌╌╌╌╌╌╌╌╌┤\n",
      "│ 1      ┆ 207981   │\n",
      "└────────┴──────────┘\n",
      "Saving to file...:  reranker_finale/__stage2__train__orders__candidates_covisit_all+tdidf_new_top_100+tdidf_old_top_100.parquet\n"
     ]
    }
   ],
   "source": [
    "generate_dataset_from_candidates(\n",
    "    candidate_files = [candidates_valid[v] for v in [\"covisit_all\", \"tdidf_new_top_100\", \"tdidf_old_top_100\"]],\n",
    "    mode = \"train\",\n",
    "    return_users_with_positives = True,\n",
    "    action_type = \"orders\",\n",
    "    version = \"+\".join([\"covisit_all\", \"tdidf_new_top_100\", \"tdidf_old_top_100\"]),\n",
    ")"
   ]
  },
  {
   "cell_type": "code",
   "execution_count": 58,
   "id": "0ab882b9",
   "metadata": {
    "ExecuteTime": {
     "end_time": "2023-01-31T04:11:34.954873Z",
     "start_time": "2023-01-31T04:08:08.562741Z"
    }
   },
   "outputs": [
    {
     "name": "stdout",
     "output_type": "stream",
     "text": [
      "generating mode:  subm\n",
      "only return users with positives (for train mode only):  False\n",
      "action type:  orders\n",
      "Reading candidate files...: \n",
      "Current file:  reranker_finale/__subm__candidates_covisit_all_topk=200.parquet\n",
      "Current file:  reranker_finale/__subm__candidates_tfidf_new_k=200_topk=100.parquet\n",
      "Current file:  reranker_finale/__subm__candidates_tfidf_old_k=200_topk=100.parquet\n",
      "Drop duplicate candidates, keeping last...: \n",
      "Saving to file...:  reranker_finale/__stage2__subm__orders__candidates_covisit_all+tdidf_new_top_100+tdidf_old_top_100.parquet\n"
     ]
    }
   ],
   "source": [
    "generate_dataset_from_candidates(\n",
    "    candidate_files = [candidates_subm[v] for v in [\"covisit_all\", \"tdidf_new_top_100\", \"tdidf_old_top_100\"]],\n",
    "    mode = \"subm\",\n",
    "    return_users_with_positives = False,\n",
    "    action_type = \"orders\",\n",
    "    version = \"+\".join([\"covisit_all\", \"tdidf_new_top_100\", \"tdidf_old_top_100\"]),\n",
    ")"
   ]
  },
  {
   "cell_type": "code",
   "execution_count": null,
   "id": "5221699d",
   "metadata": {},
   "outputs": [],
   "source": []
  },
  {
   "cell_type": "markdown",
   "id": "0b0e73c8",
   "metadata": {},
   "source": [
    "# Dataset feature groups"
   ]
  },
  {
   "cell_type": "markdown",
   "id": "51589edf",
   "metadata": {},
   "source": [
    "## orders"
   ]
  },
  {
   "cell_type": "code",
   "execution_count": 5,
   "id": "ac14182e",
   "metadata": {
    "ExecuteTime": {
     "end_time": "2023-01-31T04:56:34.866540Z",
     "start_time": "2023-01-31T04:55:51.314363Z"
    }
   },
   "outputs": [
    {
     "name": "stdout",
     "output_type": "stream",
     "text": [
      "mode:  train\n",
      "action type:  orders\n",
      "version:  covisit_all+tdidf_new_top_100+tdidf_old_top_100\n",
      "Reading generated candidate file...:  reranker_finale/__stage2__train__orders__candidates_covisit_all+tdidf_new_top_100+tdidf_old_top_100.parquet\n"
     ]
    },
    {
     "name": "stderr",
     "output_type": "stream",
     "text": [
      "\r",
      "  0%|          | 0/5 [00:00<?, ?it/s]"
     ]
    },
    {
     "name": "stdout",
     "output_type": "stream",
     "text": [
      "Processing feature file...:  __valid__candidates_covisit_all_topk=200.parquet\n"
     ]
    },
    {
     "name": "stderr",
     "output_type": "stream",
     "text": [
      "\r",
      " 20%|██        | 1/5 [00:05<00:23,  5.84s/it]"
     ]
    },
    {
     "name": "stdout",
     "output_type": "stream",
     "text": [
      "Processing feature file...:  __valid__candidates_tfidf_new_k=200_topk=100.parquet\n"
     ]
    },
    {
     "name": "stderr",
     "output_type": "stream",
     "text": [
      "\r",
      " 40%|████      | 2/5 [00:12<00:18,  6.21s/it]"
     ]
    },
    {
     "name": "stdout",
     "output_type": "stream",
     "text": [
      "Processing feature file...:  __valid__candidates_tfidf_old_k=200_topk=100.parquet\n"
     ]
    },
    {
     "name": "stderr",
     "output_type": "stream",
     "text": [
      "\r",
      " 60%|██████    | 3/5 [00:18<00:12,  6.38s/it]"
     ]
    },
    {
     "name": "stdout",
     "output_type": "stream",
     "text": [
      "Processing feature file...:  __valid__candidates_i2i_new_k=100_topk=100.parquet\n"
     ]
    },
    {
     "name": "stderr",
     "output_type": "stream",
     "text": [
      "\r",
      " 80%|████████  | 4/5 [00:25<00:06,  6.44s/it]"
     ]
    },
    {
     "name": "stdout",
     "output_type": "stream",
     "text": [
      "Processing feature file...:  __valid__candidates_i2i_old_k=100_topk=100.parquet\n"
     ]
    },
    {
     "name": "stderr",
     "output_type": "stream",
     "text": [
      "100%|██████████| 5/5 [00:31<00:00,  6.40s/it]\n"
     ]
    },
    {
     "name": "stdout",
     "output_type": "stream",
     "text": [
      "Saving to file...:  reranker_finale/__dataset__features__train__orders__covisit_all+tdidf_new_top_100+tdidf_old_top_100_features_cand_user_item.parquet\n"
     ]
    }
   ],
   "source": [
    "generate_dataset_feature_group_cand_user_item(\n",
    "    mode = \"train\",\n",
    "    action_type = \"orders\",\n",
    "    version = \"+\".join([\"covisit_all\", \"tdidf_new_top_100\", \"tdidf_old_top_100\"]),\n",
    ")"
   ]
  },
  {
   "cell_type": "code",
   "execution_count": 59,
   "id": "d4700282",
   "metadata": {
    "ExecuteTime": {
     "end_time": "2023-01-31T04:17:01.527275Z",
     "start_time": "2023-01-31T04:12:42.228824Z"
    }
   },
   "outputs": [
    {
     "name": "stdout",
     "output_type": "stream",
     "text": [
      "mode:  subm\n",
      "action type:  orders\n",
      "version:  covisit_all+tdidf_new_top_100+tdidf_old_top_100\n",
      "Reading generated candidate file...:  reranker_finale/__stage2__subm__orders__candidates_covisit_all+tdidf_new_top_100+tdidf_old_top_100.parquet\n"
     ]
    },
    {
     "name": "stderr",
     "output_type": "stream",
     "text": [
      "\r",
      "  0%|          | 0/5 [00:00<?, ?it/s]"
     ]
    },
    {
     "name": "stdout",
     "output_type": "stream",
     "text": [
      "Processing feature file...:  __subm__candidates_covisit_all_topk=200.parquet\n"
     ]
    },
    {
     "name": "stderr",
     "output_type": "stream",
     "text": [
      "\r",
      " 20%|██        | 1/5 [00:16<01:06, 16.62s/it]"
     ]
    },
    {
     "name": "stdout",
     "output_type": "stream",
     "text": [
      "Processing feature file...:  __subm__candidates_tfidf_new_k=200_topk=100.parquet\n"
     ]
    },
    {
     "name": "stderr",
     "output_type": "stream",
     "text": [
      "\r",
      " 40%|████      | 2/5 [00:31<00:47, 15.75s/it]"
     ]
    },
    {
     "name": "stdout",
     "output_type": "stream",
     "text": [
      "Processing feature file...:  __subm__candidates_tfidf_old_k=200_topk=100.parquet\n"
     ]
    },
    {
     "name": "stderr",
     "output_type": "stream",
     "text": [
      "\r",
      " 60%|██████    | 3/5 [00:51<00:35, 17.57s/it]"
     ]
    },
    {
     "name": "stdout",
     "output_type": "stream",
     "text": [
      "Processing feature file...:  __subm__candidates_i2i_new_k=100_topk=100.parquet\n"
     ]
    },
    {
     "name": "stderr",
     "output_type": "stream",
     "text": [
      "\r",
      " 80%|████████  | 4/5 [01:09<00:17, 17.75s/it]"
     ]
    },
    {
     "name": "stdout",
     "output_type": "stream",
     "text": [
      "Processing feature file...:  __subm__candidates_i2i_old_k=100_topk=100.parquet\n"
     ]
    },
    {
     "name": "stderr",
     "output_type": "stream",
     "text": [
      "100%|██████████| 5/5 [01:31<00:00, 18.22s/it]\n"
     ]
    },
    {
     "name": "stdout",
     "output_type": "stream",
     "text": [
      "Saving to file...:  reranker_finale/__dataset__features__subm__orders__covisit_all+tdidf_new_top_100+tdidf_old_top_100_features_cand_user_item.parquet\n"
     ]
    }
   ],
   "source": [
    "generate_dataset_feature_group_cand_user_item(\n",
    "    mode = \"subm\",\n",
    "    action_type = \"orders\",\n",
    "    version = \"+\".join([\"covisit_all\", \"tdidf_new_top_100\", \"tdidf_old_top_100\"]),\n",
    ")"
   ]
  },
  {
   "cell_type": "code",
   "execution_count": 6,
   "id": "4ec75498",
   "metadata": {
    "ExecuteTime": {
     "end_time": "2023-01-31T04:56:52.412465Z",
     "start_time": "2023-01-31T04:56:34.868026Z"
    }
   },
   "outputs": [
    {
     "name": "stdout",
     "output_type": "stream",
     "text": [
      "mode:  train\n",
      "action type:  orders\n",
      "version:  covisit_all+tdidf_new_top_100+tdidf_old_top_100\n",
      "Reading generated candidate file...:  reranker_finale/__stage2__train__orders__candidates_covisit_all+tdidf_new_top_100+tdidf_old_top_100.parquet\n",
      "Saving to file...:  reranker_finale/__dataset__features__train__orders__covisit_all+tdidf_new_top_100+tdidf_old_top_100_features_other.parquet\n"
     ]
    }
   ],
   "source": [
    "generate_dataset_feature_group_other(\n",
    "    mode = \"train\",\n",
    "    action_type = \"orders\",\n",
    "    version = \"+\".join([\"covisit_all\", \"tdidf_new_top_100\", \"tdidf_old_top_100\"]),\n",
    ")"
   ]
  },
  {
   "cell_type": "code",
   "execution_count": 60,
   "id": "bdf4fb3c",
   "metadata": {
    "ExecuteTime": {
     "end_time": "2023-01-31T04:20:48.055560Z",
     "start_time": "2023-01-31T04:17:01.530144Z"
    }
   },
   "outputs": [
    {
     "name": "stdout",
     "output_type": "stream",
     "text": [
      "mode:  subm\n",
      "action type:  orders\n",
      "version:  covisit_all+tdidf_new_top_100+tdidf_old_top_100\n",
      "Reading generated candidate file...:  reranker_finale/__stage2__subm__orders__candidates_covisit_all+tdidf_new_top_100+tdidf_old_top_100.parquet\n",
      "Saving to file...:  reranker_finale/__dataset__features__subm__orders__covisit_all+tdidf_new_top_100+tdidf_old_top_100_features_other.parquet\n"
     ]
    }
   ],
   "source": [
    "generate_dataset_feature_group_other(\n",
    "    mode = \"subm\",\n",
    "    action_type = \"orders\",\n",
    "    version = \"+\".join([\"covisit_all\", \"tdidf_new_top_100\", \"tdidf_old_top_100\"]),\n",
    ")"
   ]
  },
  {
   "cell_type": "code",
   "execution_count": 4,
   "id": "a2dca570",
   "metadata": {
    "ExecuteTime": {
     "end_time": "2023-01-31T01:45:36.160337Z",
     "start_time": "2023-01-31T01:40:37.422603Z"
    }
   },
   "outputs": [
    {
     "name": "stdout",
     "output_type": "stream",
     "text": [
      "mode:  train\n",
      "action type:  orders\n",
      "version:  covisit_all+tdidf_new_top_100+tdidf_old_top_100\n",
      "Reading generated candidate file...:  reranker_finale/__stage2__train__orders__candidates_covisit_all+tdidf_new_top_100+tdidf_old_top_100.parquet\n",
      "Processing recent items features...\n",
      "Processing last type items features...\n",
      "Saving to file...:  reranker_finale/__dataset__features__train__orders__covisit_all+tdidf_new_top_100+tdidf_old_top_100_features_covisit_item2item.parquet\n"
     ]
    }
   ],
   "source": [
    "generate_dataset_feature_group_covisit_item2item(\n",
    "    mode = \"train\",\n",
    "    action_type = \"orders\",\n",
    "    version = \"+\".join([\"covisit_all\", \"tdidf_new_top_100\", \"tdidf_old_top_100\"]),\n",
    ")"
   ]
  },
  {
   "cell_type": "code",
   "execution_count": 12,
   "id": "8c4d1751",
   "metadata": {
    "ExecuteTime": {
     "end_time": "2023-01-31T06:16:09.447188Z",
     "start_time": "2023-01-31T06:04:50.702442Z"
    }
   },
   "outputs": [
    {
     "name": "stdout",
     "output_type": "stream",
     "text": [
      "mode:  subm\n",
      "action type:  orders\n",
      "version:  covisit_all+tdidf_new_top_100+tdidf_old_top_100\n",
      "Reading generated candidate file...:  reranker_finale/__stage2__subm__orders__candidates_covisit_all+tdidf_new_top_100+tdidf_old_top_100.parquet\n",
      "Processing recent items features...\n",
      "Processing last type items features...\n",
      "Saving to file...:  reranker_finale/__dataset__features__subm__orders__covisit_all+tdidf_new_top_100+tdidf_old_top_100_features_covisit_item2item.parquet\n"
     ]
    }
   ],
   "source": [
    "generate_dataset_feature_group_covisit_item2item(\n",
    "    mode = \"subm\",\n",
    "    action_type = \"orders\",\n",
    "    version = \"+\".join([\"covisit_all\", \"tdidf_new_top_100\", \"tdidf_old_top_100\"]),\n",
    ")"
   ]
  },
  {
   "cell_type": "code",
   "execution_count": 10,
   "id": "438b943c",
   "metadata": {
    "ExecuteTime": {
     "end_time": "2023-01-31T01:57:48.520349Z",
     "start_time": "2023-01-31T01:55:18.619520Z"
    }
   },
   "outputs": [
    {
     "name": "stdout",
     "output_type": "stream",
     "text": [
      "env: PYTHONHASHSEED=1\n",
      "mode:  train\n",
      "action type:  orders\n",
      "version:  covisit_all+tdidf_new_top_100+tdidf_old_top_100\n",
      "Reading generated candidate file...:  reranker_finale/__stage2__train__orders__candidates_covisit_all+tdidf_new_top_100+tdidf_old_top_100.parquet\n",
      "Processing recent items features...\n"
     ]
    },
    {
     "name": "stderr",
     "output_type": "stream",
     "text": [
      "100%|██████████| 5/5 [01:26<00:00, 17.23s/it]\n"
     ]
    },
    {
     "name": "stdout",
     "output_type": "stream",
     "text": [
      "Processing last type items features...\n",
      "Saving to file...:  reranker_finale/__dataset__features__train__orders__covisit_all+tdidf_new_top_100+tdidf_old_top_100_features_w2v_item2item.parquet\n"
     ]
    }
   ],
   "source": [
    "%env PYTHONHASHSEED=1\n",
    "generate_dataset_feature_group_w2v_item2item(\n",
    "    mode = \"train\",\n",
    "    action_type = \"orders\",\n",
    "    version = \"+\".join([\"covisit_all\", \"tdidf_new_top_100\", \"tdidf_old_top_100\"]),\n",
    ")"
   ]
  },
  {
   "cell_type": "code",
   "execution_count": 5,
   "id": "cbc48b03",
   "metadata": {
    "ExecuteTime": {
     "end_time": "2023-01-31T04:48:56.505779Z",
     "start_time": "2023-01-31T04:28:54.941279Z"
    }
   },
   "outputs": [
    {
     "name": "stdout",
     "output_type": "stream",
     "text": [
      "env: PYTHONHASHSEED=1\n",
      "mode:  subm\n",
      "action type:  orders\n",
      "version:  covisit_all+tdidf_new_top_100+tdidf_old_top_100\n",
      "Reading generated candidate file...:  reranker_finale/__stage2__subm__orders__candidates_covisit_all+tdidf_new_top_100+tdidf_old_top_100.parquet\n",
      "Processing recent items features...\n"
     ]
    },
    {
     "name": "stderr",
     "output_type": "stream",
     "text": [
      "100%|██████████| 5/5 [12:00<00:00, 144.01s/it]\n"
     ]
    },
    {
     "name": "stdout",
     "output_type": "stream",
     "text": [
      "Processing last type items features...\n",
      "Saving to file...:  reranker_finale/__dataset__features__subm__orders__covisit_all+tdidf_new_top_100+tdidf_old_top_100_features_w2v_item2item.parquet\n"
     ]
    }
   ],
   "source": [
    "%env PYTHONHASHSEED=1\n",
    "generate_dataset_feature_group_w2v_item2item(\n",
    "    mode = \"subm\",\n",
    "    action_type = \"orders\",\n",
    "    version = \"+\".join([\"covisit_all\", \"tdidf_new_top_100\", \"tdidf_old_top_100\"]),\n",
    ")"
   ]
  },
  {
   "cell_type": "markdown",
   "id": "19f75cf3",
   "metadata": {},
   "source": [
    "## carts"
   ]
  },
  {
   "cell_type": "code",
   "execution_count": 7,
   "id": "bc440b7f",
   "metadata": {
    "ExecuteTime": {
     "end_time": "2023-01-31T04:57:45.289850Z",
     "start_time": "2023-01-31T04:56:52.413946Z"
    }
   },
   "outputs": [
    {
     "name": "stdout",
     "output_type": "stream",
     "text": [
      "mode:  train\n",
      "action type:  carts\n",
      "version:  covisit_all+tdidf_new_top_100+tdidf_old_top_100\n",
      "Reading generated candidate file...:  reranker_finale/__stage2__train__carts__candidates_covisit_all+tdidf_new_top_100+tdidf_old_top_100.parquet\n"
     ]
    },
    {
     "name": "stderr",
     "output_type": "stream",
     "text": [
      "\r",
      "  0%|          | 0/5 [00:00<?, ?it/s]"
     ]
    },
    {
     "name": "stdout",
     "output_type": "stream",
     "text": [
      "Processing feature file...:  __valid__candidates_covisit_all_topk=200.parquet\n"
     ]
    },
    {
     "name": "stderr",
     "output_type": "stream",
     "text": [
      "\r",
      " 20%|██        | 1/5 [00:06<00:24,  6.24s/it]"
     ]
    },
    {
     "name": "stdout",
     "output_type": "stream",
     "text": [
      "Processing feature file...:  __valid__candidates_tfidf_new_k=200_topk=100.parquet\n"
     ]
    },
    {
     "name": "stderr",
     "output_type": "stream",
     "text": [
      "\r",
      " 40%|████      | 2/5 [00:13<00:19,  6.66s/it]"
     ]
    },
    {
     "name": "stdout",
     "output_type": "stream",
     "text": [
      "Processing feature file...:  __valid__candidates_tfidf_old_k=200_topk=100.parquet\n"
     ]
    },
    {
     "name": "stderr",
     "output_type": "stream",
     "text": [
      "\r",
      " 60%|██████    | 3/5 [00:20<00:13,  6.88s/it]"
     ]
    },
    {
     "name": "stdout",
     "output_type": "stream",
     "text": [
      "Processing feature file...:  __valid__candidates_i2i_new_k=100_topk=100.parquet\n"
     ]
    },
    {
     "name": "stderr",
     "output_type": "stream",
     "text": [
      "\r",
      " 80%|████████  | 4/5 [00:27<00:06,  6.99s/it]"
     ]
    },
    {
     "name": "stdout",
     "output_type": "stream",
     "text": [
      "Processing feature file...:  __valid__candidates_i2i_old_k=100_topk=100.parquet\n"
     ]
    },
    {
     "name": "stderr",
     "output_type": "stream",
     "text": [
      "100%|██████████| 5/5 [00:34<00:00,  6.93s/it]\n"
     ]
    },
    {
     "name": "stdout",
     "output_type": "stream",
     "text": [
      "Saving to file...:  reranker_finale/__dataset__features__train__carts__covisit_all+tdidf_new_top_100+tdidf_old_top_100_features_cand_user_item.parquet\n"
     ]
    }
   ],
   "source": [
    "generate_dataset_feature_group_cand_user_item(\n",
    "    mode = \"train\",\n",
    "    action_type = \"carts\",\n",
    "    version = \"+\".join([\"covisit_all\", \"tdidf_new_top_100\", \"tdidf_old_top_100\"]),\n",
    ")"
   ]
  },
  {
   "cell_type": "code",
   "execution_count": 8,
   "id": "b1479087",
   "metadata": {
    "ExecuteTime": {
     "end_time": "2023-01-31T04:58:11.879091Z",
     "start_time": "2023-01-31T04:57:45.291696Z"
    }
   },
   "outputs": [
    {
     "name": "stdout",
     "output_type": "stream",
     "text": [
      "mode:  train\n",
      "action type:  carts\n",
      "version:  covisit_all+tdidf_new_top_100+tdidf_old_top_100\n",
      "Reading generated candidate file...:  reranker_finale/__stage2__train__carts__candidates_covisit_all+tdidf_new_top_100+tdidf_old_top_100.parquet\n",
      "Saving to file...:  reranker_finale/__dataset__features__train__carts__covisit_all+tdidf_new_top_100+tdidf_old_top_100_features_other.parquet\n"
     ]
    }
   ],
   "source": [
    "generate_dataset_feature_group_other(\n",
    "    mode = \"train\",\n",
    "    action_type = \"carts\",\n",
    "    version = \"+\".join([\"covisit_all\", \"tdidf_new_top_100\", \"tdidf_old_top_100\"]),\n",
    ")"
   ]
  },
  {
   "cell_type": "code",
   "execution_count": 9,
   "id": "27340c75",
   "metadata": {
    "ExecuteTime": {
     "end_time": "2023-01-31T05:04:09.499364Z",
     "start_time": "2023-01-31T04:58:17.890502Z"
    }
   },
   "outputs": [
    {
     "name": "stdout",
     "output_type": "stream",
     "text": [
      "mode:  train\n",
      "action type:  carts\n",
      "version:  covisit_all+tdidf_new_top_100+tdidf_old_top_100\n",
      "Reading generated candidate file...:  reranker_finale/__stage2__train__carts__candidates_covisit_all+tdidf_new_top_100+tdidf_old_top_100.parquet\n",
      "Processing recent items features...\n",
      "Processing last type items features...\n",
      "Saving to file...:  reranker_finale/__dataset__features__train__carts__covisit_all+tdidf_new_top_100+tdidf_old_top_100_features_covisit_item2item.parquet\n"
     ]
    }
   ],
   "source": [
    "generate_dataset_feature_group_covisit_item2item(\n",
    "    mode = \"train\",\n",
    "    action_type = \"carts\",\n",
    "    version = \"+\".join([\"covisit_all\", \"tdidf_new_top_100\", \"tdidf_old_top_100\"]),\n",
    ")"
   ]
  },
  {
   "cell_type": "code",
   "execution_count": 10,
   "id": "cc693c70",
   "metadata": {
    "ExecuteTime": {
     "end_time": "2023-01-31T05:07:37.060662Z",
     "start_time": "2023-01-31T05:04:09.501152Z"
    }
   },
   "outputs": [
    {
     "name": "stdout",
     "output_type": "stream",
     "text": [
      "env: PYTHONHASHSEED=1\n",
      "mode:  train\n",
      "action type:  carts\n",
      "version:  covisit_all+tdidf_new_top_100+tdidf_old_top_100\n",
      "Reading generated candidate file...:  reranker_finale/__stage2__train__carts__candidates_covisit_all+tdidf_new_top_100+tdidf_old_top_100.parquet\n",
      "Processing recent items features...\n"
     ]
    },
    {
     "name": "stderr",
     "output_type": "stream",
     "text": [
      "100%|██████████| 5/5 [02:02<00:00, 24.56s/it]\n"
     ]
    },
    {
     "name": "stdout",
     "output_type": "stream",
     "text": [
      "Processing last type items features...\n"
     ]
    },
    {
     "name": "stderr",
     "output_type": "stream",
     "text": [
      "100%|██████████| 3/3 [00:52<00:00, 17.47s/it]\n"
     ]
    },
    {
     "name": "stdout",
     "output_type": "stream",
     "text": [
      "Saving to file...:  reranker_finale/__dataset__features__train__carts__covisit_all+tdidf_new_top_100+tdidf_old_top_100_features_w2v_item2item.parquet\n"
     ]
    }
   ],
   "source": [
    "%env PYTHONHASHSEED=1\n",
    "generate_dataset_feature_group_w2v_item2item(\n",
    "    mode = \"train\",\n",
    "    action_type = \"carts\",\n",
    "    version = \"+\".join([\"covisit_all\", \"tdidf_new_top_100\", \"tdidf_old_top_100\"]),\n",
    ")"
   ]
  },
  {
   "cell_type": "markdown",
   "id": "d5b7d976",
   "metadata": {},
   "source": [
    "## clicks"
   ]
  },
  {
   "cell_type": "code",
   "execution_count": 16,
   "id": "ed9be14e",
   "metadata": {
    "ExecuteTime": {
     "end_time": "2023-01-31T10:57:47.302077Z",
     "start_time": "2023-01-31T10:55:42.004529Z"
    }
   },
   "outputs": [
    {
     "name": "stdout",
     "output_type": "stream",
     "text": [
      "mode:  train\n",
      "action type:  clicks\n",
      "version:  covisit_all+tdidf_new_top_100+tdidf_old_top_100\n",
      "Reading generated candidate file...:  reranker_finale/__stage2__train__clicks__candidates_covisit_all+tdidf_new_top_100+tdidf_old_top_100.parquet\n"
     ]
    },
    {
     "name": "stderr",
     "output_type": "stream",
     "text": [
      "\r",
      "  0%|          | 0/5 [00:00<?, ?it/s]"
     ]
    },
    {
     "name": "stdout",
     "output_type": "stream",
     "text": [
      "Processing feature file...:  __valid__candidates_covisit_all_topk=200.parquet\n"
     ]
    },
    {
     "name": "stderr",
     "output_type": "stream",
     "text": [
      "\r",
      " 20%|██        | 1/5 [00:09<00:38,  9.66s/it]"
     ]
    },
    {
     "name": "stdout",
     "output_type": "stream",
     "text": [
      "Processing feature file...:  __valid__candidates_tfidf_new_k=200_topk=100.parquet\n"
     ]
    },
    {
     "name": "stderr",
     "output_type": "stream",
     "text": [
      "\r",
      " 40%|████      | 2/5 [00:20<00:30, 10.14s/it]"
     ]
    },
    {
     "name": "stdout",
     "output_type": "stream",
     "text": [
      "Processing feature file...:  __valid__candidates_tfidf_old_k=200_topk=100.parquet\n"
     ]
    },
    {
     "name": "stderr",
     "output_type": "stream",
     "text": [
      "\r",
      " 60%|██████    | 3/5 [00:30<00:20, 10.32s/it]"
     ]
    },
    {
     "name": "stdout",
     "output_type": "stream",
     "text": [
      "Processing feature file...:  __valid__candidates_i2i_new_k=100_topk=100.parquet\n"
     ]
    },
    {
     "name": "stderr",
     "output_type": "stream",
     "text": [
      "\r",
      " 80%|████████  | 4/5 [00:41<00:10, 10.42s/it]"
     ]
    },
    {
     "name": "stdout",
     "output_type": "stream",
     "text": [
      "Processing feature file...:  __valid__candidates_i2i_old_k=100_topk=100.parquet\n"
     ]
    },
    {
     "name": "stderr",
     "output_type": "stream",
     "text": [
      "100%|██████████| 5/5 [00:51<00:00, 10.37s/it]\n"
     ]
    },
    {
     "name": "stdout",
     "output_type": "stream",
     "text": [
      "Saving to file...:  reranker_finale/__dataset__features__train__clicks__covisit_all+tdidf_new_top_100+tdidf_old_top_100_features_cand_user_item.parquet\n"
     ]
    }
   ],
   "source": [
    "generate_dataset_feature_group_cand_user_item(\n",
    "    mode = \"train\",\n",
    "    action_type = \"clicks\",\n",
    "    version = \"+\".join([\"covisit_all\", \"tdidf_new_top_100\", \"tdidf_old_top_100\"]),\n",
    ")"
   ]
  },
  {
   "cell_type": "code",
   "execution_count": 17,
   "id": "c9e49792",
   "metadata": {
    "ExecuteTime": {
     "end_time": "2023-01-31T11:00:14.106175Z",
     "start_time": "2023-01-31T10:58:42.215102Z"
    }
   },
   "outputs": [
    {
     "name": "stdout",
     "output_type": "stream",
     "text": [
      "mode:  train\n",
      "action type:  clicks\n",
      "version:  covisit_all+tdidf_new_top_100+tdidf_old_top_100\n",
      "Reading generated candidate file...:  reranker_finale/__stage2__train__clicks__candidates_covisit_all+tdidf_new_top_100+tdidf_old_top_100.parquet\n",
      "Saving to file...:  reranker_finale/__dataset__features__train__clicks__covisit_all+tdidf_new_top_100+tdidf_old_top_100_features_other.parquet\n"
     ]
    }
   ],
   "source": [
    "generate_dataset_feature_group_other(\n",
    "    mode = \"train\",\n",
    "    action_type = \"clicks\",\n",
    "    version = \"+\".join([\"covisit_all\", \"tdidf_new_top_100\", \"tdidf_old_top_100\"]),\n",
    ")"
   ]
  },
  {
   "cell_type": "code",
   "execution_count": 18,
   "id": "0ab475cf",
   "metadata": {
    "ExecuteTime": {
     "end_time": "2023-01-31T11:08:12.362498Z",
     "start_time": "2023-01-31T11:00:14.108123Z"
    }
   },
   "outputs": [
    {
     "name": "stdout",
     "output_type": "stream",
     "text": [
      "mode:  train\n",
      "action type:  clicks\n",
      "version:  covisit_all+tdidf_new_top_100+tdidf_old_top_100\n",
      "Reading generated candidate file...:  reranker_finale/__stage2__train__clicks__candidates_covisit_all+tdidf_new_top_100+tdidf_old_top_100.parquet\n",
      "Processing recent items features...\n",
      "Processing last type items features...\n",
      "Saving to file...:  reranker_finale/__dataset__features__train__clicks__covisit_all+tdidf_new_top_100+tdidf_old_top_100_features_covisit_item2item.parquet\n"
     ]
    }
   ],
   "source": [
    "generate_dataset_feature_group_covisit_item2item(\n",
    "    mode = \"train\",\n",
    "    action_type = \"clicks\",\n",
    "    version = \"+\".join([\"covisit_all\", \"tdidf_new_top_100\", \"tdidf_old_top_100\"]),\n",
    ")"
   ]
  },
  {
   "cell_type": "code",
   "execution_count": 19,
   "id": "41b54b83",
   "metadata": {
    "ExecuteTime": {
     "end_time": "2023-01-31T11:18:16.486034Z",
     "start_time": "2023-01-31T11:08:12.363700Z"
    }
   },
   "outputs": [
    {
     "name": "stdout",
     "output_type": "stream",
     "text": [
      "env: PYTHONHASHSEED=1\n",
      "mode:  train\n",
      "action type:  clicks\n",
      "version:  covisit_all+tdidf_new_top_100+tdidf_old_top_100\n",
      "Reading generated candidate file...:  reranker_finale/__stage2__train__clicks__candidates_covisit_all+tdidf_new_top_100+tdidf_old_top_100.parquet\n",
      "Processing recent items features...\n"
     ]
    },
    {
     "name": "stderr",
     "output_type": "stream",
     "text": [
      "100%|██████████| 5/5 [06:10<00:00, 74.11s/it] \n"
     ]
    },
    {
     "name": "stdout",
     "output_type": "stream",
     "text": [
      "Processing last type items features...\n"
     ]
    },
    {
     "name": "stderr",
     "output_type": "stream",
     "text": [
      "100%|██████████| 3/3 [02:35<00:00, 51.86s/it] \n"
     ]
    },
    {
     "name": "stdout",
     "output_type": "stream",
     "text": [
      "Saving to file...:  reranker_finale/__dataset__features__train__clicks__covisit_all+tdidf_new_top_100+tdidf_old_top_100_features_w2v_item2item.parquet\n"
     ]
    }
   ],
   "source": [
    "%env PYTHONHASHSEED=1\n",
    "generate_dataset_feature_group_w2v_item2item(\n",
    "    mode = \"train\",\n",
    "    action_type = \"clicks\",\n",
    "    version = \"+\".join([\"covisit_all\", \"tdidf_new_top_100\", \"tdidf_old_top_100\"]),\n",
    ")"
   ]
  },
  {
   "cell_type": "code",
   "execution_count": null,
   "id": "4dd0764d",
   "metadata": {},
   "outputs": [],
   "source": []
  },
  {
   "cell_type": "code",
   "execution_count": 8,
   "id": "c1a05817",
   "metadata": {
    "ExecuteTime": {
     "end_time": "2023-01-31T14:03:53.904026Z",
     "start_time": "2023-01-31T14:01:45.951278Z"
    }
   },
   "outputs": [
    {
     "name": "stdout",
     "output_type": "stream",
     "text": [
      "mode:  train\n",
      "action type:  clicks\n",
      "version:  tdidf_new_top_100+tdidf_old_top_100\n",
      "Reading generated candidate file...:  reranker_finale/__stage2__train__clicks__candidates_tdidf_new_top_100+tdidf_old_top_100.parquet\n"
     ]
    },
    {
     "name": "stderr",
     "output_type": "stream",
     "text": [
      "\r",
      "  0%|          | 0/5 [00:00<?, ?it/s]"
     ]
    },
    {
     "name": "stdout",
     "output_type": "stream",
     "text": [
      "Processing feature file...:  __valid__candidates_covisit_all_topk=200.parquet\n"
     ]
    },
    {
     "name": "stderr",
     "output_type": "stream",
     "text": [
      "\r",
      " 20%|██        | 1/5 [00:12<00:50, 12.73s/it]"
     ]
    },
    {
     "name": "stdout",
     "output_type": "stream",
     "text": [
      "Processing feature file...:  __valid__candidates_tfidf_new_k=200_topk=100.parquet\n"
     ]
    },
    {
     "name": "stderr",
     "output_type": "stream",
     "text": [
      "\r",
      " 40%|████      | 2/5 [00:29<00:44, 14.89s/it]"
     ]
    },
    {
     "name": "stdout",
     "output_type": "stream",
     "text": [
      "Processing feature file...:  __valid__candidates_tfidf_old_k=200_topk=100.parquet\n"
     ]
    },
    {
     "name": "stderr",
     "output_type": "stream",
     "text": [
      "\r",
      " 60%|██████    | 3/5 [00:45<00:30, 15.43s/it]"
     ]
    },
    {
     "name": "stdout",
     "output_type": "stream",
     "text": [
      "Processing feature file...:  __valid__candidates_i2i_new_k=100_topk=100.parquet\n"
     ]
    },
    {
     "name": "stderr",
     "output_type": "stream",
     "text": [
      "\r",
      " 80%|████████  | 4/5 [01:01<00:15, 15.88s/it]"
     ]
    },
    {
     "name": "stdout",
     "output_type": "stream",
     "text": [
      "Processing feature file...:  __valid__candidates_i2i_old_k=100_topk=100.parquet\n"
     ]
    },
    {
     "name": "stderr",
     "output_type": "stream",
     "text": [
      "100%|██████████| 5/5 [01:17<00:00, 15.57s/it]\n"
     ]
    },
    {
     "name": "stdout",
     "output_type": "stream",
     "text": [
      "Saving to file...:  reranker_finale/__dataset__features__train__clicks__tdidf_new_top_100+tdidf_old_top_100_features_cand_user_item.parquet\n"
     ]
    }
   ],
   "source": [
    "generate_dataset_feature_group_cand_user_item(\n",
    "    mode = \"train\",\n",
    "    action_type = \"clicks\",\n",
    "    version = \"+\".join([\"tdidf_new_top_100\", \"tdidf_old_top_100\"]),\n",
    ")"
   ]
  },
  {
   "cell_type": "code",
   "execution_count": 9,
   "id": "b4e864a8",
   "metadata": {
    "ExecuteTime": {
     "end_time": "2023-01-31T14:04:54.321675Z",
     "start_time": "2023-01-31T14:03:53.905327Z"
    }
   },
   "outputs": [
    {
     "name": "stdout",
     "output_type": "stream",
     "text": [
      "mode:  train\n",
      "action type:  clicks\n",
      "version:  tdidf_new_top_100+tdidf_old_top_100\n",
      "Reading generated candidate file...:  reranker_finale/__stage2__train__clicks__candidates_tdidf_new_top_100+tdidf_old_top_100.parquet\n",
      "Saving to file...:  reranker_finale/__dataset__features__train__clicks__tdidf_new_top_100+tdidf_old_top_100_features_other.parquet\n"
     ]
    }
   ],
   "source": [
    "generate_dataset_feature_group_other(\n",
    "    mode = \"train\",\n",
    "    action_type = \"clicks\",\n",
    "    version = \"+\".join([\"tdidf_new_top_100\", \"tdidf_old_top_100\"]),\n",
    ")"
   ]
  },
  {
   "cell_type": "code",
   "execution_count": 10,
   "id": "9cb9f3ab",
   "metadata": {
    "ExecuteTime": {
     "end_time": "2023-01-31T14:11:52.164474Z",
     "start_time": "2023-01-31T14:04:54.323486Z"
    }
   },
   "outputs": [
    {
     "name": "stdout",
     "output_type": "stream",
     "text": [
      "mode:  train\n",
      "action type:  clicks\n",
      "version:  tdidf_new_top_100+tdidf_old_top_100\n",
      "Reading generated candidate file...:  reranker_finale/__stage2__train__clicks__candidates_tdidf_new_top_100+tdidf_old_top_100.parquet\n",
      "Processing recent items features...\n",
      "Processing last type items features...\n",
      "Saving to file...:  reranker_finale/__dataset__features__train__clicks__tdidf_new_top_100+tdidf_old_top_100_features_covisit_item2item.parquet\n"
     ]
    }
   ],
   "source": [
    "generate_dataset_feature_group_covisit_item2item(\n",
    "    mode = \"train\",\n",
    "    action_type = \"clicks\",\n",
    "    version = \"+\".join([\"tdidf_new_top_100\", \"tdidf_old_top_100\"]),\n",
    ")"
   ]
  },
  {
   "cell_type": "code",
   "execution_count": 11,
   "id": "2a57577a",
   "metadata": {
    "ExecuteTime": {
     "end_time": "2023-01-31T14:18:13.280723Z",
     "start_time": "2023-01-31T14:11:52.165986Z"
    }
   },
   "outputs": [
    {
     "name": "stdout",
     "output_type": "stream",
     "text": [
      "env: PYTHONHASHSEED=1\n",
      "mode:  train\n",
      "action type:  clicks\n",
      "version:  tdidf_new_top_100+tdidf_old_top_100\n",
      "Reading generated candidate file...:  reranker_finale/__stage2__train__clicks__candidates_tdidf_new_top_100+tdidf_old_top_100.parquet\n",
      "Processing recent items features...\n"
     ]
    },
    {
     "name": "stderr",
     "output_type": "stream",
     "text": [
      "100%|██████████| 5/5 [03:51<00:00, 46.36s/it]\n"
     ]
    },
    {
     "name": "stdout",
     "output_type": "stream",
     "text": [
      "Processing last type items features...\n"
     ]
    },
    {
     "name": "stderr",
     "output_type": "stream",
     "text": [
      "100%|██████████| 3/3 [01:40<00:00, 33.55s/it]\n"
     ]
    },
    {
     "name": "stdout",
     "output_type": "stream",
     "text": [
      "Saving to file...:  reranker_finale/__dataset__features__train__clicks__tdidf_new_top_100+tdidf_old_top_100_features_w2v_item2item.parquet\n"
     ]
    }
   ],
   "source": [
    "%env PYTHONHASHSEED=1\n",
    "generate_dataset_feature_group_w2v_item2item(\n",
    "    mode = \"train\",\n",
    "    action_type = \"clicks\",\n",
    "    version = \"+\".join([\"tdidf_new_top_100\", \"tdidf_old_top_100\"]),\n",
    ")"
   ]
  },
  {
   "cell_type": "code",
   "execution_count": 13,
   "id": "083e2510",
   "metadata": {
    "ExecuteTime": {
     "end_time": "2023-01-31T17:25:56.587430Z",
     "start_time": "2023-01-31T17:22:13.814606Z"
    }
   },
   "outputs": [
    {
     "name": "stdout",
     "output_type": "stream",
     "text": [
      "mode:  subm\n",
      "action type:  clicks\n",
      "version:  tdidf_new_top_100+tdidf_old_top_100\n",
      "Reading generated candidate file...:  reranker_finale/__stage2__subm__clicks__candidates_tdidf_new_top_100+tdidf_old_top_100.parquet\n"
     ]
    },
    {
     "name": "stderr",
     "output_type": "stream",
     "text": [
      "\r",
      "  0%|          | 0/5 [00:00<?, ?it/s]"
     ]
    },
    {
     "name": "stdout",
     "output_type": "stream",
     "text": [
      "Processing feature file...:  __subm__candidates_covisit_all_topk=200.parquet\n"
     ]
    },
    {
     "name": "stderr",
     "output_type": "stream",
     "text": [
      "\r",
      " 20%|██        | 1/5 [00:16<01:07, 16.77s/it]"
     ]
    },
    {
     "name": "stdout",
     "output_type": "stream",
     "text": [
      "Processing feature file...:  __subm__candidates_tfidf_new_k=200_topk=100.parquet\n"
     ]
    },
    {
     "name": "stderr",
     "output_type": "stream",
     "text": [
      "\r",
      " 40%|████      | 2/5 [00:42<01:05, 21.83s/it]"
     ]
    },
    {
     "name": "stdout",
     "output_type": "stream",
     "text": [
      "Processing feature file...:  __subm__candidates_tfidf_old_k=200_topk=100.parquet\n"
     ]
    },
    {
     "name": "stderr",
     "output_type": "stream",
     "text": [
      "\r",
      " 60%|██████    | 3/5 [01:03<00:43, 21.77s/it]"
     ]
    },
    {
     "name": "stdout",
     "output_type": "stream",
     "text": [
      "Processing feature file...:  __subm__candidates_i2i_new_k=100_topk=100.parquet\n"
     ]
    },
    {
     "name": "stderr",
     "output_type": "stream",
     "text": [
      "\r",
      " 80%|████████  | 4/5 [01:29<00:23, 23.13s/it]"
     ]
    },
    {
     "name": "stdout",
     "output_type": "stream",
     "text": [
      "Processing feature file...:  __subm__candidates_i2i_old_k=100_topk=100.parquet\n"
     ]
    },
    {
     "name": "stderr",
     "output_type": "stream",
     "text": [
      "100%|██████████| 5/5 [01:52<00:00, 22.52s/it]\n"
     ]
    },
    {
     "name": "stdout",
     "output_type": "stream",
     "text": [
      "Saving to file...:  reranker_finale/__dataset__features__subm__clicks__tdidf_new_top_100+tdidf_old_top_100_features_cand_user_item.parquet\n"
     ]
    }
   ],
   "source": [
    "generate_dataset_feature_group_cand_user_item(\n",
    "    mode = \"subm\",\n",
    "    action_type = \"clicks\",\n",
    "    version = \"+\".join([\"tdidf_new_top_100\", \"tdidf_old_top_100\"]),\n",
    ")"
   ]
  },
  {
   "cell_type": "code",
   "execution_count": 14,
   "id": "ff9895d9",
   "metadata": {
    "ExecuteTime": {
     "end_time": "2023-01-31T17:28:04.059298Z",
     "start_time": "2023-01-31T17:25:56.589177Z"
    }
   },
   "outputs": [
    {
     "name": "stdout",
     "output_type": "stream",
     "text": [
      "mode:  subm\n",
      "action type:  clicks\n",
      "version:  tdidf_new_top_100+tdidf_old_top_100\n",
      "Reading generated candidate file...:  reranker_finale/__stage2__subm__clicks__candidates_tdidf_new_top_100+tdidf_old_top_100.parquet\n",
      "Saving to file...:  reranker_finale/__dataset__features__subm__clicks__tdidf_new_top_100+tdidf_old_top_100_features_other.parquet\n"
     ]
    }
   ],
   "source": [
    "generate_dataset_feature_group_other(\n",
    "    mode = \"subm\",\n",
    "    action_type = \"clicks\",\n",
    "    version = \"+\".join([\"tdidf_new_top_100\", \"tdidf_old_top_100\"]),\n",
    ")"
   ]
  },
  {
   "cell_type": "code",
   "execution_count": 15,
   "id": "0bbd92ee",
   "metadata": {
    "ExecuteTime": {
     "end_time": "2023-01-31T17:37:40.866581Z",
     "start_time": "2023-01-31T17:28:04.060813Z"
    }
   },
   "outputs": [
    {
     "name": "stdout",
     "output_type": "stream",
     "text": [
      "mode:  subm\n",
      "action type:  clicks\n",
      "version:  tdidf_new_top_100+tdidf_old_top_100\n",
      "Reading generated candidate file...:  reranker_finale/__stage2__subm__clicks__candidates_tdidf_new_top_100+tdidf_old_top_100.parquet\n",
      "Processing recent items features...\n",
      "Processing last type items features...\n",
      "Saving to file...:  reranker_finale/__dataset__features__subm__clicks__tdidf_new_top_100+tdidf_old_top_100_features_covisit_item2item.parquet\n"
     ]
    }
   ],
   "source": [
    "generate_dataset_feature_group_covisit_item2item(\n",
    "    mode = \"subm\",\n",
    "    action_type = \"clicks\",\n",
    "    version = \"+\".join([\"tdidf_new_top_100\", \"tdidf_old_top_100\"]),\n",
    ")"
   ]
  },
  {
   "cell_type": "code",
   "execution_count": 16,
   "id": "e19a51da",
   "metadata": {
    "ExecuteTime": {
     "end_time": "2023-01-31T17:50:47.725823Z",
     "start_time": "2023-01-31T17:37:40.868391Z"
    }
   },
   "outputs": [
    {
     "name": "stdout",
     "output_type": "stream",
     "text": [
      "env: PYTHONHASHSEED=1\n",
      "mode:  subm\n",
      "action type:  clicks\n",
      "version:  tdidf_new_top_100+tdidf_old_top_100\n",
      "Reading generated candidate file...:  reranker_finale/__stage2__subm__clicks__candidates_tdidf_new_top_100+tdidf_old_top_100.parquet\n",
      "Processing recent items features...\n"
     ]
    },
    {
     "name": "stderr",
     "output_type": "stream",
     "text": [
      "100%|██████████| 5/5 [07:51<00:00, 94.26s/it] \n"
     ]
    },
    {
     "name": "stdout",
     "output_type": "stream",
     "text": [
      "Processing last type items features...\n"
     ]
    },
    {
     "name": "stderr",
     "output_type": "stream",
     "text": [
      "100%|██████████| 3/3 [03:43<00:00, 74.48s/it] \n"
     ]
    },
    {
     "name": "stdout",
     "output_type": "stream",
     "text": [
      "Saving to file...:  reranker_finale/__dataset__features__subm__clicks__tdidf_new_top_100+tdidf_old_top_100_features_w2v_item2item.parquet\n"
     ]
    }
   ],
   "source": [
    "%env PYTHONHASHSEED=1\n",
    "generate_dataset_feature_group_w2v_item2item(\n",
    "    mode = \"subm\",\n",
    "    action_type = \"clicks\",\n",
    "    version = \"+\".join([\"tdidf_new_top_100\", \"tdidf_old_top_100\"]),\n",
    ")"
   ]
  },
  {
   "cell_type": "code",
   "execution_count": null,
   "id": "cd46e5fc",
   "metadata": {},
   "outputs": [],
   "source": []
  }
 ],
 "metadata": {
  "kernelspec": {
   "display_name": "Python 3 (ipykernel)",
   "language": "python",
   "name": "python3"
  },
  "language_info": {
   "codemirror_mode": {
    "name": "ipython",
    "version": 3
   },
   "file_extension": ".py",
   "mimetype": "text/x-python",
   "name": "python",
   "nbconvert_exporter": "python",
   "pygments_lexer": "ipython3",
   "version": "3.9.5"
  },
  "toc": {
   "base_numbering": 1,
   "nav_menu": {},
   "number_sections": true,
   "sideBar": true,
   "skip_h1_title": false,
   "title_cell": "Table of Contents",
   "title_sidebar": "Contents",
   "toc_cell": false,
   "toc_position": {},
   "toc_section_display": true,
   "toc_window_display": false
  }
 },
 "nbformat": 4,
 "nbformat_minor": 5
}
