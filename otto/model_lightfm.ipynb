{
 "cells": [
  {
   "cell_type": "code",
   "execution_count": 1,
   "id": "4931bbec",
   "metadata": {
    "ExecuteTime": {
     "end_time": "2023-01-15T09:44:47.359521Z",
     "start_time": "2023-01-15T09:44:47.347004Z"
    }
   },
   "outputs": [],
   "source": [
    "%load_ext autoreload\n",
    "%autoreload 2"
   ]
  },
  {
   "cell_type": "code",
   "execution_count": 4,
   "id": "cad834af",
   "metadata": {
    "ExecuteTime": {
     "end_time": "2023-01-15T09:45:03.489668Z",
     "start_time": "2023-01-15T09:45:03.475064Z"
    }
   },
   "outputs": [],
   "source": [
    "from pathlib import Path\n",
    "from joblib import Parallel, delayed\n",
    "from tqdm.notebook import tqdm\n",
    "import dill\n",
    "import pandas as pd\n",
    "import polars as pl\n",
    "import numpy as np\n",
    "from scipy.sparse import csr_matrix\n",
    "\n",
    "import lightfm"
   ]
  },
  {
   "cell_type": "code",
   "execution_count": 6,
   "id": "6a6a9ee3",
   "metadata": {
    "ExecuteTime": {
     "end_time": "2023-01-15T09:45:43.982326Z",
     "start_time": "2023-01-15T09:45:43.970468Z"
    }
   },
   "outputs": [],
   "source": [
    "from otto_utils import *"
   ]
  },
  {
   "cell_type": "code",
   "execution_count": 7,
   "id": "87627c1c",
   "metadata": {
    "ExecuteTime": {
     "end_time": "2023-01-15T09:46:42.953214Z",
     "start_time": "2023-01-15T09:46:40.046191Z"
    }
   },
   "outputs": [],
   "source": [
    "# load\n",
    "val_df_train = pl.read_parquet(VALIDATION_PATH / \"train.parquet\", use_pyarrow=True)\n",
    "val_df_valid_input = pl.read_parquet(VALIDATION_PATH / \"valid.parquet\", use_pyarrow=True)\n",
    "val_df_valid_targets = pl.read_parquet(VALIDATION_PATH / \"test_labels.parquet\", use_pyarrow=True)"
   ]
  },
  {
   "cell_type": "code",
   "execution_count": 8,
   "id": "d85e395c",
   "metadata": {
    "ExecuteTime": {
     "end_time": "2023-01-15T09:47:47.049189Z",
     "start_time": "2023-01-15T09:47:45.867699Z"
    }
   },
   "outputs": [],
   "source": [
    "df = pl.concat([val_df_train, val_df_valid_input])"
   ]
  },
  {
   "cell_type": "code",
   "execution_count": 9,
   "id": "747e62eb",
   "metadata": {
    "ExecuteTime": {
     "end_time": "2023-01-15T09:47:57.160904Z",
     "start_time": "2023-01-15T09:47:57.148005Z"
    }
   },
   "outputs": [],
   "source": [
    "def dataset_action_weights(df):\n",
    "    df_action_weights = pl.DataFrame({\n",
    "        \"type\": [0, 1, 2], \"weight\": [10, 30, 60]\n",
    "    })\n",
    "\n",
    "    return (\n",
    "        df\n",
    "        .join(df_action_weights, on=\"type\", how=\"inner\")\n",
    "        .groupby([\"session\", \"aid\"])\n",
    "        .agg([\n",
    "            pl.sum(\"weight\")\n",
    "        ])\n",
    "    )\n",
    "\n",
    "def dataset_clicks_only(df):\n",
    "    return (\n",
    "        df\n",
    "        .filter(pl.col(\"type\") == 0)\n",
    "        .groupby([\"session\", \"aid\"])\n",
    "        .agg([\n",
    "            pl.lit(1).alias(\"weight\")\n",
    "        ])\n",
    "    )"
   ]
  },
  {
   "cell_type": "code",
   "execution_count": 10,
   "id": "d9435240",
   "metadata": {
    "ExecuteTime": {
     "end_time": "2023-01-15T09:48:21.018703Z",
     "start_time": "2023-01-15T09:48:05.762403Z"
    }
   },
   "outputs": [],
   "source": [
    "df_act_w = dataset_action_weights(df)\n",
    "df_clicks = dataset_clicks_only(df)"
   ]
  },
  {
   "cell_type": "code",
   "execution_count": 14,
   "id": "a90e389c",
   "metadata": {
    "ExecuteTime": {
     "end_time": "2023-01-15T09:52:28.286976Z",
     "start_time": "2023-01-15T09:52:28.275276Z"
    }
   },
   "outputs": [],
   "source": [
    "model = lightfm.LightFM(\n",
    "    no_components=32,\n",
    "    loss=\"warp\"\n",
    ")"
   ]
  },
  {
   "cell_type": "code",
   "execution_count": 15,
   "id": "750e207a",
   "metadata": {
    "ExecuteTime": {
     "end_time": "2023-01-15T10:10:09.867288Z",
     "start_time": "2023-01-15T09:52:29.513775Z"
    }
   },
   "outputs": [
    {
     "name": "stderr",
     "output_type": "stream",
     "text": [
      "Epoch: 100%|██████████| 30/30 [17:32<00:00, 35.07s/it]\n"
     ]
    },
    {
     "data": {
      "text/plain": [
       "<lightfm.lightfm.LightFM at 0x7fcd0a9da2b0>"
      ]
     },
     "execution_count": 15,
     "metadata": {},
     "output_type": "execute_result"
    }
   ],
   "source": [
    "train_data = make_sparse_matrix(df_clicks)\n",
    "model.fit(train_data, epochs=30, num_threads=40, verbose=True)"
   ]
  },
  {
   "cell_type": "code",
   "execution_count": 20,
   "id": "925f325f",
   "metadata": {
    "ExecuteTime": {
     "end_time": "2023-01-15T10:25:20.036088Z",
     "start_time": "2023-01-15T10:25:20.024799Z"
    }
   },
   "outputs": [
    {
     "data": {
      "text/plain": [
       "((12899778, 32), (1855603, 32))"
      ]
     },
     "execution_count": 20,
     "metadata": {},
     "output_type": "execute_result"
    }
   ],
   "source": [
    "model.user_embeddings.shape, model.item_embeddings.shape"
   ]
  },
  {
   "cell_type": "code",
   "execution_count": 21,
   "id": "f04f19e0",
   "metadata": {
    "ExecuteTime": {
     "end_time": "2023-01-15T10:25:53.878407Z",
     "start_time": "2023-01-15T10:25:53.867983Z"
    }
   },
   "outputs": [],
   "source": [
    "u_embs = model.user_embeddings\n",
    "i_embs = model.item_embeddings"
   ]
  },
  {
   "cell_type": "code",
   "execution_count": 29,
   "id": "0a88f3fd",
   "metadata": {
    "ExecuteTime": {
     "end_time": "2023-01-15T10:27:28.957680Z",
     "start_time": "2023-01-15T10:27:28.941831Z"
    }
   },
   "outputs": [],
   "source": [
    "scores = np.dot(u_embs[[12899776, 12899777]], i_embs.T)"
   ]
  },
  {
   "cell_type": "code",
   "execution_count": 34,
   "id": "b86dd9d7",
   "metadata": {
    "ExecuteTime": {
     "end_time": "2023-01-15T10:29:10.791253Z",
     "start_time": "2023-01-15T10:29:10.779405Z"
    }
   },
   "outputs": [
    {
     "data": {
      "text/plain": [
       "(-0.08147804, -0.07942231, 0.09472581)"
      ]
     },
     "execution_count": 34,
     "metadata": {},
     "output_type": "execute_result"
    }
   ],
   "source": [
    "scores[0, 28829], scores[0, 1743163], scores[0, 210052],"
   ]
  },
  {
   "cell_type": "code",
   "execution_count": 35,
   "id": "7a3487ac",
   "metadata": {
    "ExecuteTime": {
     "end_time": "2023-01-15T10:29:30.317041Z",
     "start_time": "2023-01-15T10:29:29.895878Z"
    }
   },
   "outputs": [],
   "source": [
    "idx = np.argsort(scores)[:, -20:]"
   ]
  },
  {
   "cell_type": "code",
   "execution_count": 36,
   "id": "118d3835",
   "metadata": {
    "ExecuteTime": {
     "end_time": "2023-01-15T10:29:31.989518Z",
     "start_time": "2023-01-15T10:29:31.977225Z"
    }
   },
   "outputs": [
    {
     "data": {
      "text/plain": [
       "array([[ 571792,  187588,  464792, 1416727, 1494147,  374323,   97936,\n",
       "         139184, 1440628, 1072286, 1619382,  567461, 1614298,  543442,\n",
       "          62004, 1173927, 1076578, 1500428,  525798,  210052],\n",
       "       [ 774039,  983402, 1508133,  843093,  514684,  332566,  884684,\n",
       "        1177895, 1308131,  452371, 1465235,  463074,  184827,  472515,\n",
       "        1556767,  786895, 1678437,  149415,   83979,  713404]])"
      ]
     },
     "execution_count": 36,
     "metadata": {},
     "output_type": "execute_result"
    }
   ],
   "source": [
    "idx"
   ]
  },
  {
   "cell_type": "code",
   "execution_count": 41,
   "id": "550aa4b4",
   "metadata": {
    "ExecuteTime": {
     "end_time": "2023-01-15T10:33:29.628906Z",
     "start_time": "2023-01-15T10:33:29.616376Z"
    }
   },
   "outputs": [
    {
     "data": {
      "text/plain": [
       "array([[-0.00911062, -0.0347143 , -0.01366474, ..., -0.01477376,\n",
       "        -0.03116323,  0.01482107],\n",
       "       [-0.4833191 , -0.833352  ,  0.46834445, ..., -0.75247806,\n",
       "        -1.1062695 , -0.78308463]], dtype=float32)"
      ]
     },
     "execution_count": 41,
     "metadata": {},
     "output_type": "execute_result"
    }
   ],
   "source": [
    "scores[[for i in range(2)]]"
   ]
  },
  {
   "cell_type": "code",
   "execution_count": 44,
   "id": "996f72fc",
   "metadata": {
    "ExecuteTime": {
     "end_time": "2023-01-15T10:36:31.980580Z",
     "start_time": "2023-01-15T10:36:31.882458Z"
    }
   },
   "outputs": [],
   "source": [
    "test_users = val_df_valid_input[\"session\"].unique().to_list()[:100_000]"
   ]
  },
  {
   "cell_type": "code",
   "execution_count": null,
   "id": "92849716",
   "metadata": {
    "ExecuteTime": {
     "start_time": "2023-01-15T10:38:04.718Z"
    }
   },
   "outputs": [
    {
     "data": {
      "application/vnd.jupyter.widget-view+json": {
       "model_id": "993f0fe033ee4e3da1e894846e9b6e3e",
       "version_major": 2,
       "version_minor": 0
      },
      "text/plain": [
       "  0%|          | 0/100 [00:00<?, ?it/s]"
      ]
     },
     "metadata": {},
     "output_type": "display_data"
    }
   ],
   "source": [
    "b_sz = 1000\n",
    "topk = 20\n",
    "\n",
    "recs = []\n",
    "\n",
    "u_embs = model.user_embeddings\n",
    "i_embs = model.item_embeddings\n",
    "\n",
    "for test_session in tqdm(range(0, len(test_users), b_sz)):\n",
    "    test_sessions = test_users[test_session : test_session + b_sz]\n",
    "    \n",
    "    scores = np.dot(u_embs[test_sessions], i_embs.T)\n",
    "    idx = np.argsort(scores)[:, -topk:]\n",
    "    rec_items = [\n",
    "        scores[i, idx[i]]\n",
    "        for i in range(len(test_sessions))\n",
    "    ]\n",
    "    \n",
    "    recs.extend(rec_items)"
   ]
  },
  {
   "cell_type": "code",
   "execution_count": null,
   "id": "d1963bde",
   "metadata": {},
   "outputs": [],
   "source": []
  }
 ],
 "metadata": {
  "kernelspec": {
   "display_name": "Python 3 (ipykernel)",
   "language": "python",
   "name": "python3"
  },
  "language_info": {
   "codemirror_mode": {
    "name": "ipython",
    "version": 3
   },
   "file_extension": ".py",
   "mimetype": "text/x-python",
   "name": "python",
   "nbconvert_exporter": "python",
   "pygments_lexer": "ipython3",
   "version": "3.9.5"
  },
  "toc": {
   "base_numbering": 1,
   "nav_menu": {},
   "number_sections": true,
   "sideBar": true,
   "skip_h1_title": false,
   "title_cell": "Table of Contents",
   "title_sidebar": "Contents",
   "toc_cell": false,
   "toc_position": {},
   "toc_section_display": true,
   "toc_window_display": false
  }
 },
 "nbformat": 4,
 "nbformat_minor": 5
}
