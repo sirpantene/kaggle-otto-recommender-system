{
 "cells": [
  {
   "cell_type": "code",
   "execution_count": 1,
   "id": "abe1c1b7",
   "metadata": {
    "ExecuteTime": {
     "end_time": "2023-01-31T10:34:00.087191Z",
     "start_time": "2023-01-31T10:34:00.074524Z"
    }
   },
   "outputs": [],
   "source": [
    "%load_ext autoreload\n",
    "%autoreload 2"
   ]
  },
  {
   "cell_type": "code",
   "execution_count": 2,
   "id": "12a46efe",
   "metadata": {
    "ExecuteTime": {
     "end_time": "2023-01-31T10:34:05.503342Z",
     "start_time": "2023-01-31T10:34:01.489211Z"
    }
   },
   "outputs": [],
   "source": [
    "from datetime import datetime\n",
    "from pathlib import Path\n",
    "from collections import Counter\n",
    "\n",
    "from joblib import Parallel, delayed\n",
    "from tqdm.notebook import tqdm\n",
    "import dill\n",
    "import pandas as pd\n",
    "import polars as pl\n",
    "import numpy as np\n",
    "from scipy.sparse import csr_matrix\n",
    "from sklearn.model_selection import GroupKFold\n",
    "\n",
    "import lightgbm as lgb\n",
    "import xgboost as xgb\n",
    "\n",
    "import pytorch_lightning as L\n",
    "import torch\n",
    "import torch.nn as nn\n",
    "import torch.nn.functional as F\n",
    "from torch.utils.data import Dataset, DataLoader\n",
    "\n",
    "import matplotlib.pyplot as plt\n",
    "import seaborn as sns\n",
    "\n",
    "from tasks.data.dataset.mappers import EntityEncoder\n",
    "from tasks.jobs import Splitter"
   ]
  },
  {
   "cell_type": "code",
   "execution_count": 3,
   "id": "dcdb51f6",
   "metadata": {
    "ExecuteTime": {
     "end_time": "2023-01-31T10:34:05.743263Z",
     "start_time": "2023-01-31T10:34:05.591403Z"
    }
   },
   "outputs": [],
   "source": [
    "from otto_utils import *\n",
    "from otto_features import *\n",
    "from otto_candidates_covisit import *\n",
    "from otto_lgbm_utils import *\n",
    "from otto_implicit import *\n",
    "from otto_reranker import *\n",
    "from otto_jobs_candidates import *"
   ]
  },
  {
   "cell_type": "code",
   "execution_count": 4,
   "id": "600a58c1",
   "metadata": {
    "ExecuteTime": {
     "end_time": "2023-01-31T10:34:16.358799Z",
     "start_time": "2023-01-31T10:34:06.000712Z"
    }
   },
   "outputs": [
    {
     "name": "stdout",
     "output_type": "stream",
     "text": [
      "env: PYTHONHASHSEED=1\n"
     ]
    }
   ],
   "source": [
    "%env PYTHONHASHSEED=1\n",
    "from otto_word2vec import *\n",
    "\n",
    "w2vec = Word2Vec.load(\"__valid__word2vec_window=10_negative=20.w2v\")"
   ]
  },
  {
   "cell_type": "markdown",
   "id": "4b51d7e8",
   "metadata": {},
   "source": [
    "# Load data"
   ]
  },
  {
   "cell_type": "code",
   "execution_count": 10,
   "id": "8f5e9dac",
   "metadata": {
    "ExecuteTime": {
     "end_time": "2023-01-31T10:38:00.666984Z",
     "start_time": "2023-01-31T10:38:00.637093Z"
    }
   },
   "outputs": [],
   "source": [
    "action_type = \"clicks\""
   ]
  },
  {
   "cell_type": "code",
   "execution_count": 11,
   "id": "4d9fac97",
   "metadata": {
    "ExecuteTime": {
     "end_time": "2023-01-31T10:38:03.519158Z",
     "start_time": "2023-01-31T10:38:03.023613Z"
    }
   },
   "outputs": [],
   "source": [
    "val_df_valid_input = pl.read_parquet(VALIDATION_PATH / \"valid.parquet\", use_pyarrow=True)\n",
    "df_target = (\n",
    "    pl.read_parquet(VALIDATION_PATH / \"test_labels.parquet\", use_pyarrow=True)\n",
    "    .filter(pl.col(\"type\") == action_type)\n",
    "    .join(val_df_valid_input.select([\"session\"]).unique(), on=\"session\", how=\"inner\")\n",
    "    .drop(\"type\")\n",
    "    .explode(\"ground_truth\")\n",
    "    .with_column(pl.lit(1).alias(\"target\"))\n",
    "    .rename({\"ground_truth\": \"aid\"})\n",
    ")"
   ]
  },
  {
   "cell_type": "markdown",
   "id": "e017a0ae",
   "metadata": {},
   "source": [
    "# Candidates (Clicks)"
   ]
  },
  {
   "cell_type": "code",
   "execution_count": 6,
   "id": "4ea26ecd",
   "metadata": {
    "ExecuteTime": {
     "end_time": "2023-01-31T10:35:07.861842Z",
     "start_time": "2023-01-31T10:35:07.834255Z"
    }
   },
   "outputs": [],
   "source": [
    "import os\n",
    "import glob"
   ]
  },
  {
   "cell_type": "code",
   "execution_count": 14,
   "id": "31d4f4fd",
   "metadata": {
    "ExecuteTime": {
     "end_time": "2023-01-31T10:40:34.208012Z",
     "start_time": "2023-01-31T10:39:17.098875Z"
    }
   },
   "outputs": [
    {
     "name": "stdout",
     "output_type": "stream",
     "text": [
      "file:  reranker_finale/__valid__candidates_tfidf_new_k=200_topk=100.parquet\n",
      "sessions in test dataframe:  1303355\n",
      "sessions with positives in candidates:  760393\n",
      "sessions with positives in test dataframe:  1265979\n",
      "hit rate:  0.6006363454686057\n",
      "shape: (2, 2)\n",
      "┌────────┬──────────┐\n",
      "│ target ┆ counts   │\n",
      "│ ---    ┆ ---      │\n",
      "│ i32    ┆ u32      │\n",
      "╞════════╪══════════╡\n",
      "│ 0      ┆ 75278907 │\n",
      "├╌╌╌╌╌╌╌╌┼╌╌╌╌╌╌╌╌╌╌┤\n",
      "│ 1      ┆ 760393   │\n",
      "└────────┴──────────┘\n",
      "file:  reranker_finale/__valid__candidates_tfidf_old_k=200_topk=100.parquet\n",
      "sessions in test dataframe:  1303355\n",
      "sessions with positives in candidates:  768339\n",
      "sessions with positives in test dataframe:  1265979\n",
      "hit rate:  0.6069129108776686\n",
      "shape: (2, 2)\n",
      "┌────────┬──────────┐\n",
      "│ target ┆ counts   │\n",
      "│ ---    ┆ ---      │\n",
      "│ i32    ┆ u32      │\n",
      "╞════════╪══════════╡\n",
      "│ 0      ┆ 76065561 │\n",
      "├╌╌╌╌╌╌╌╌┼╌╌╌╌╌╌╌╌╌╌┤\n",
      "│ 1      ┆ 768339   │\n",
      "└────────┴──────────┘\n",
      "file:  reranker_finale/__valid__candidates_i2i_new_k=100_topk=100.parquet\n",
      "sessions in test dataframe:  1303355\n",
      "sessions with positives in candidates:  664285\n",
      "sessions with positives in test dataframe:  1265979\n",
      "hit rate:  0.5247203942561448\n",
      "shape: (2, 2)\n",
      "┌────────┬──────────┐\n",
      "│ target ┆ counts   │\n",
      "│ ---    ┆ ---      │\n",
      "│ i32    ┆ u32      │\n",
      "╞════════╪══════════╡\n",
      "│ 0      ┆ 65764215 │\n",
      "├╌╌╌╌╌╌╌╌┼╌╌╌╌╌╌╌╌╌╌┤\n",
      "│ 1      ┆ 664285   │\n",
      "└────────┴──────────┘\n",
      "file:  reranker_finale/__valid__candidates_i2i_old_k=100_topk=100.parquet\n",
      "sessions in test dataframe:  1303355\n",
      "sessions with positives in candidates:  676879\n",
      "sessions with positives in test dataframe:  1265979\n",
      "hit rate:  0.5346684265694771\n",
      "shape: (2, 2)\n",
      "┌────────┬──────────┐\n",
      "│ target ┆ counts   │\n",
      "│ ---    ┆ ---      │\n",
      "│ i32    ┆ u32      │\n",
      "╞════════╪══════════╡\n",
      "│ 0      ┆ 67011021 │\n",
      "├╌╌╌╌╌╌╌╌┼╌╌╌╌╌╌╌╌╌╌┤\n",
      "│ 1      ┆ 676879   │\n",
      "└────────┴──────────┘\n",
      "file:  reranker_finale/__valid__candidates_covisit_all_topk=200.parquet\n",
      "sessions in test dataframe:  1303355\n",
      "sessions with positives in candidates:  742940\n",
      "sessions with positives in test dataframe:  1265979\n",
      "hit rate:  0.5868501768196787\n",
      "shape: (2, 2)\n",
      "┌────────┬──────────┐\n",
      "│ target ┆ counts   │\n",
      "│ ---    ┆ ---      │\n",
      "│ i32    ┆ u32      │\n",
      "╞════════╪══════════╡\n",
      "│ 0      ┆ 73412461 │\n",
      "├╌╌╌╌╌╌╌╌┼╌╌╌╌╌╌╌╌╌╌┤\n",
      "│ 1      ┆ 742940   │\n",
      "└────────┴──────────┘\n",
      "file:  reranker_finale/__valid__candidates_tfidf_new_k=200_topk=200.parquet\n",
      "sessions in test dataframe:  1303355\n",
      "sessions with positives in candidates:  813370\n",
      "sessions with positives in test dataframe:  1265979\n",
      "hit rate:  0.6424830111715913\n",
      "shape: (2, 2)\n",
      "┌────────┬───────────┐\n",
      "│ target ┆ counts    │\n",
      "│ ---    ┆ ---       │\n",
      "│ i32    ┆ u32       │\n",
      "╞════════╪═══════════╡\n",
      "│ 0      ┆ 160571535 │\n",
      "├╌╌╌╌╌╌╌╌┼╌╌╌╌╌╌╌╌╌╌╌┤\n",
      "│ 1      ┆ 813370    │\n",
      "└────────┴───────────┘\n"
     ]
    }
   ],
   "source": [
    "for f in glob.glob(\"reranker_finale/__valid__candidates*\"):\n",
    "    print(\"file: \", f)\n",
    "    df_cand = pl.read_parquet(f)\n",
    "    df_cand = (\n",
    "        df_cand\n",
    "        .join(df_target, on=[\"session\", \"aid\"], how=\"left\")  # if using rank column as a feature\n",
    "        .sort(\"session\")\n",
    "        .fill_null(0)\n",
    "    )\n",
    "    _ = get_candidates_with_positives(df_cand, df_target)"
   ]
  },
  {
   "cell_type": "code",
   "execution_count": null,
   "id": "7bbe40af",
   "metadata": {},
   "outputs": [],
   "source": []
  },
  {
   "cell_type": "code",
   "execution_count": 18,
   "id": "7c06f70e",
   "metadata": {
    "ExecuteTime": {
     "end_time": "2023-01-31T10:44:36.593135Z",
     "start_time": "2023-01-31T10:44:25.747037Z"
    }
   },
   "outputs": [
    {
     "name": "stdout",
     "output_type": "stream",
     "text": [
      "sessions in test dataframe:  1303355\n",
      "sessions with positives in candidates:  831551\n",
      "sessions with positives in test dataframe:  1265979\n",
      "hit rate:  0.6568442288537172\n",
      "shape: (2, 2)\n",
      "┌────────┬───────────┐\n",
      "│ target ┆ counts    │\n",
      "│ ---    ┆ ---       │\n",
      "│ i32    ┆ u32       │\n",
      "╞════════╪═══════════╡\n",
      "│ 0      ┆ 159954204 │\n",
      "├╌╌╌╌╌╌╌╌┼╌╌╌╌╌╌╌╌╌╌╌┤\n",
      "│ 1      ┆ 831551    │\n",
      "└────────┴───────────┘\n"
     ]
    }
   ],
   "source": [
    "df_cand = pl.concat([\n",
    "    pl.read_parquet(\"reranker_finale/__valid__candidates_covisit_all_topk=200.parquet\", columns=[\"session\", \"aid\"]),\n",
    "    pl.read_parquet(\"reranker_finale/__valid__candidates_tfidf_old_k=200_topk=100.parquet\", columns=[\"session\", \"aid\"]),\n",
    "    pl.read_parquet(\"reranker_finale/__valid__candidates_tfidf_new_k=200_topk=100.parquet\", columns=[\"session\", \"aid\"]),\n",
    "])\n",
    "df_cand = df_cand.unique()\n",
    "df_cand = (\n",
    "    df_cand\n",
    "    .join(df_target, on=[\"session\", \"aid\"], how=\"left\")  # if using rank column as a feature\n",
    "    .sort(\"session\")\n",
    "    .fill_null(0)\n",
    ")\n",
    "_ = get_candidates_with_positives(df_cand, df_target)"
   ]
  },
  {
   "cell_type": "code",
   "execution_count": 19,
   "id": "4c4526d4",
   "metadata": {
    "ExecuteTime": {
     "end_time": "2023-01-31T10:46:57.764680Z",
     "start_time": "2023-01-31T10:46:22.000825Z"
    }
   },
   "outputs": [
    {
     "name": "stdout",
     "output_type": "stream",
     "text": [
      "sessions in test dataframe:  1303355\n",
      "sessions with positives in candidates:  788846\n",
      "sessions with positives in test dataframe:  1265979\n",
      "hit rate:  0.6231114418169653\n",
      "shape: (2, 2)\n",
      "┌────────┬──────────┐\n",
      "│ target ┆ counts   │\n",
      "│ ---    ┆ ---      │\n",
      "│ i32    ┆ u32      │\n",
      "╞════════╪══════════╡\n",
      "│ 0      ┆ 98851298 │\n",
      "├╌╌╌╌╌╌╌╌┼╌╌╌╌╌╌╌╌╌╌┤\n",
      "│ 1      ┆ 788846   │\n",
      "└────────┴──────────┘\n"
     ]
    }
   ],
   "source": [
    "df_cand = pl.concat([\n",
    "    pl.read_parquet(\"reranker_finale/__valid__candidates_tfidf_old_k=200_topk=100.parquet\", columns=[\"session\", \"aid\"]),\n",
    "    pl.read_parquet(\"reranker_finale/__valid__candidates_tfidf_new_k=200_topk=100.parquet\", columns=[\"session\", \"aid\"]),\n",
    "])\n",
    "df_cand = df_cand.unique()\n",
    "df_cand = (\n",
    "    df_cand\n",
    "    .join(df_target, on=[\"session\", \"aid\"], how=\"left\")  # if using rank column as a feature\n",
    "    .sort(\"session\")\n",
    "    .fill_null(0)\n",
    ")\n",
    "_ = get_candidates_with_positives(df_cand, df_target)\n"
   ]
  },
  {
   "cell_type": "code",
   "execution_count": null,
   "id": "1dfd633f",
   "metadata": {},
   "outputs": [],
   "source": []
  },
  {
   "cell_type": "code",
   "execution_count": null,
   "id": "4c6963c6",
   "metadata": {},
   "outputs": [],
   "source": []
  },
  {
   "cell_type": "code",
   "execution_count": null,
   "id": "dca5a7ff",
   "metadata": {},
   "outputs": [],
   "source": []
  },
  {
   "cell_type": "markdown",
   "id": "f5147f8f",
   "metadata": {},
   "source": [
    "## covisitation top200"
   ]
  },
  {
   "cell_type": "code",
   "execution_count": 11,
   "id": "1bb4be62",
   "metadata": {
    "ExecuteTime": {
     "end_time": "2023-01-30T20:05:43.896683Z",
     "start_time": "2023-01-30T20:05:43.866060Z"
    }
   },
   "outputs": [],
   "source": [
    "# Use top X for clicks, carts and orders\n",
    "clicks_th = 15\n",
    "carts_th  = 20\n",
    "orders_th = 20\n",
    "\n",
    "def get_top(df, th):\n",
    "    return (\n",
    "        df\n",
    "        .with_column(pl.lit(1).alias(\"ones\"))\n",
    "        .with_column(pl.col(\"ones\").cumsum().over(\"aid\").alias(\"rank\"))\n",
    "        .filter(pl.col(\"rank\") <= th)\n",
    "    )\n",
    "\n",
    "TOPK_RECOMMEND = 20\n",
    "TOPK_RERANK = 40"
   ]
  },
  {
   "cell_type": "code",
   "execution_count": 12,
   "id": "d2dcc852",
   "metadata": {
    "ExecuteTime": {
     "end_time": "2023-01-30T20:06:03.513016Z",
     "start_time": "2023-01-30T20:05:43.897870Z"
    }
   },
   "outputs": [],
   "source": [
    "carts_orders = pl.read_parquet(\"__valid__covisit_carts_orders_all_v3.parquet\")\n",
    "buys2buys = pl.read_parquet(\"__valid__covisit_buys2buys_all_v4.parquet\")\n",
    "clicks = pl.read_parquet(\"__valid__covisit_clicks_all_v3.parquet\")"
   ]
  },
  {
   "cell_type": "code",
   "execution_count": 13,
   "id": "e37a1faa",
   "metadata": {
    "ExecuteTime": {
     "end_time": "2023-01-30T20:06:15.840758Z",
     "start_time": "2023-01-30T20:06:03.514946Z"
    }
   },
   "outputs": [],
   "source": [
    "carts_orders_top = get_top(carts_orders, carts_th)\n",
    "buys2buys_top = get_top(buys2buys, orders_th)\n",
    "clicks_top = get_top(clicks, clicks_th)"
   ]
  },
  {
   "cell_type": "code",
   "execution_count": 14,
   "id": "49a9bb76",
   "metadata": {
    "ExecuteTime": {
     "end_time": "2023-01-30T20:06:16.144975Z",
     "start_time": "2023-01-30T20:06:15.842191Z"
    }
   },
   "outputs": [],
   "source": [
    "top_clicks = df.filter(pl.col(\"type\") == 0)[\"aid\"].value_counts(sort=True)[:TOPK_RECOMMEND][\"aid\"].to_list()\n",
    "top_carts = df.filter(pl.col(\"type\") == 1)[\"aid\"].value_counts(sort=True)[:TOPK_RECOMMEND][\"aid\"].to_list()\n",
    "top_orders = df.filter(pl.col(\"type\") == 2)[\"aid\"].value_counts(sort=True)[:TOPK_RECOMMEND][\"aid\"].to_list()"
   ]
  },
  {
   "cell_type": "code",
   "execution_count": 15,
   "id": "6964c1fb",
   "metadata": {
    "ExecuteTime": {
     "end_time": "2023-01-30T20:06:24.419671Z",
     "start_time": "2023-01-30T20:06:16.146375Z"
    }
   },
   "outputs": [],
   "source": [
    "covisit_rec = CovisitationRecommender(\n",
    "    df_top_k_buys=carts_orders_top,\n",
    "    df_top_k_buy2buy=buys2buys_top,\n",
    "    df_top_k_clicks=clicks_top,\n",
    "    top_carts=top_carts,\n",
    "    top_orders=top_orders,\n",
    "    top_clicks=top_clicks,\n",
    ")"
   ]
  },
  {
   "cell_type": "code",
   "execution_count": 16,
   "id": "914256e4",
   "metadata": {
    "ExecuteTime": {
     "end_time": "2023-01-30T20:08:42.557154Z",
     "start_time": "2023-01-30T20:06:24.421177Z"
    }
   },
   "outputs": [
    {
     "name": "stderr",
     "output_type": "stream",
     "text": [
      "100%|██████████| 1265979/1265979 [02:05<00:00, 10049.34it/s]\n"
     ]
    }
   ],
   "source": [
    "candidates_dict = {\n",
    "    \"session\": [],\n",
    "    \"type\": [],\n",
    "    \"candidates\": [],\n",
    "    \"rank\": [],\n",
    "}\n",
    "\n",
    "types = [\"clicks\", \"carts\", \"orders\"]\n",
    "topk = TOPK_RERANK * 5\n",
    "\n",
    "for session_id, (session_aid_list, session_type_list) in tqdm(test_sessions_dict.items()):\n",
    "    rec_items_clicks = covisit_rec.recommend_clicks(session_aid_list, session_type_list, topk)\n",
    "    rec_items_carts = covisit_rec.recommend_carts(session_aid_list, session_type_list, topk)\n",
    "    rec_items_buys = covisit_rec.recommend_buys(session_aid_list, session_type_list, topk)\n",
    "\n",
    "    candidates = [rec_items_clicks, rec_items_carts, rec_items_buys]\n",
    "#     candidates = [rec_items_buys]\n",
    "    ranks = [\n",
    "        np.arange(1, len(rec_items) + 1).tolist()\n",
    "        for rec_items in candidates\n",
    "    ]\n",
    "    \n",
    "    candidates_dict[\"session\"].extend([session_id] * len(types))\n",
    "    candidates_dict[\"type\"].extend(types)\n",
    "    candidates_dict[\"candidates\"].extend(candidates)\n",
    "    candidates_dict[\"rank\"].extend(ranks)\n",
    "\n",
    "df_candidates_covisit = pl.DataFrame(candidates_dict)"
   ]
  },
  {
   "cell_type": "code",
   "execution_count": 17,
   "id": "6ba47b07",
   "metadata": {
    "ExecuteTime": {
     "end_time": "2023-01-30T20:10:17.753697Z",
     "start_time": "2023-01-30T20:08:42.559203Z"
    }
   },
   "outputs": [],
   "source": [
    "# contains target column and all test users\n",
    "df_candidates_covisit_all = (\n",
    "    df_candidates_covisit\n",
    "    .filter(pl.col(\"type\") == \"orders\")\n",
    "    .drop(\"type\")\n",
    "    .explode([\"candidates\", \"rank\"])\n",
    "    .rename({\"candidates\": \"aid\", \"rank\": \"rank_orders\"})\n",
    "    .join(\n",
    "        (\n",
    "            df_candidates_covisit\n",
    "            .filter(pl.col(\"type\") == \"carts\")\n",
    "            .drop(\"type\")\n",
    "            .explode([\"candidates\", \"rank\"])\n",
    "            .rename({\"candidates\": \"aid\", \"rank\": \"rank_carts\"})\n",
    "        ),\n",
    "        on=[\"session\", \"aid\"],\n",
    "        how=\"outer\"\n",
    "    )\n",
    "    .join(\n",
    "        (\n",
    "            df_candidates_covisit\n",
    "            .filter(pl.col(\"type\") == \"clicks\")\n",
    "            .drop(\"type\")\n",
    "            .explode([\"candidates\", \"rank\"])\n",
    "            .rename({\"candidates\": \"aid\", \"rank\": \"rank_clicks\"})\n",
    "        ),\n",
    "        on=[\"session\", \"aid\"],\n",
    "        how=\"outer\"\n",
    "    )\n",
    "    .fill_null(999)\n",
    "    .filter(pl.col(\"aid\") != -1)  # some strange items from implicit\n",
    "    .unique(subset=[\"session\", \"aid\"], keep=\"last\")\n",
    "    .join(df_act_target, on=[\"session\", \"aid\"], how=\"left\")  # if using rank column as a feature\n",
    "    .sort(\"session\")\n",
    "    .fill_null(0)\n",
    ")"
   ]
  },
  {
   "cell_type": "code",
   "execution_count": 19,
   "id": "cd82d725",
   "metadata": {
    "ExecuteTime": {
     "end_time": "2023-01-30T20:10:20.005394Z",
     "start_time": "2023-01-30T20:10:18.123207Z"
    }
   },
   "outputs": [
    {
     "name": "stdout",
     "output_type": "stream",
     "text": [
      "sessions with positives in candidates:  742940\n",
      "sessions with positives in test dataframe:  1265979\n",
      "hit rate:  0.5868501768196787\n"
     ]
    }
   ],
   "source": [
    "print_candidates_hit_rate(df_candidates_covisit_all)"
   ]
  },
  {
   "cell_type": "markdown",
   "id": "6d3207be",
   "metadata": {},
   "source": [
    "## Implicit"
   ]
  },
  {
   "cell_type": "code",
   "execution_count": 20,
   "id": "dd11ef0e",
   "metadata": {
    "ExecuteTime": {
     "end_time": "2023-01-30T20:10:20.037762Z",
     "start_time": "2023-01-30T20:10:20.007463Z"
    }
   },
   "outputs": [],
   "source": [
    "from implicit.nearest_neighbours import CosineRecommender\n",
    "from implicit.nearest_neighbours import TFIDFRecommender"
   ]
  },
  {
   "cell_type": "code",
   "execution_count": 21,
   "id": "f58b6704",
   "metadata": {
    "ExecuteTime": {
     "end_time": "2023-01-30T20:11:02.544454Z",
     "start_time": "2023-01-30T20:10:20.039221Z"
    }
   },
   "outputs": [],
   "source": [
    "df = pl.concat([val_df_train, val_df_valid_input]).unique().sort([\"session\", \"ts\"])\n",
    "df = implicit_new_weight_interactions(df)"
   ]
  },
  {
   "cell_type": "code",
   "execution_count": 22,
   "id": "00fb7503",
   "metadata": {
    "ExecuteTime": {
     "end_time": "2023-01-30T20:11:43.077672Z",
     "start_time": "2023-01-30T20:11:02.546263Z"
    }
   },
   "outputs": [
    {
     "data": {
      "application/vnd.jupyter.widget-view+json": {
       "model_id": "d915cdf6543e4416ae391d610ecc5a44",
       "version_major": 2,
       "version_minor": 0
      },
      "text/plain": [
       "  0%|          | 0/1855603 [00:00<?, ?it/s]"
      ]
     },
     "metadata": {},
     "output_type": "display_data"
    }
   ],
   "source": [
    "train_data = make_sparse_matrix(df)\n",
    "tfidf_new = TFIDFRecommender(K=200)\n",
    "tfidf_new.fit(train_data)"
   ]
  },
  {
   "cell_type": "code",
   "execution_count": 23,
   "id": "398f3286",
   "metadata": {
    "ExecuteTime": {
     "end_time": "2023-01-30T20:13:53.050877Z",
     "start_time": "2023-01-30T20:11:47.896075Z"
    }
   },
   "outputs": [
    {
     "name": "stderr",
     "output_type": "stream",
     "text": [
      "100%|██████████| 1266/1266 [02:00<00:00, 10.54it/s]\n"
     ]
    }
   ],
   "source": [
    "df_candidates_tfidf_new = implicit_batch_candidates_for_all_types(\n",
    "    model=tfidf_new, model_name=\"tfidf_new\",\n",
    "    train_data=train_data, test_users=list(test_sessions_dict.keys()),\n",
    "    topk=100,\n",
    ")"
   ]
  },
  {
   "cell_type": "code",
   "execution_count": 26,
   "id": "8d6b659a",
   "metadata": {
    "ExecuteTime": {
     "end_time": "2023-01-30T20:15:25.217612Z",
     "start_time": "2023-01-30T20:15:13.884953Z"
    }
   },
   "outputs": [],
   "source": [
    "df_candidates_tfidf_new = (\n",
    "    df_candidates_tfidf_new\n",
    "    .explode([\"aid\", \"tfidf_new_score\"])\n",
    "    .filter(pl.col(\"aid\") != -1)  # some strange items from implicit\n",
    "    .unique(subset=[\"session\", \"aid\"], keep=\"last\")\n",
    "    .join(df_act_target, on=[\"session\", \"aid\"], how=\"left\")  # if using rank column as a feature\n",
    "    .sort(\"session\")\n",
    "    .fill_null(0)\n",
    ")"
   ]
  },
  {
   "cell_type": "code",
   "execution_count": 38,
   "id": "298dcbf8",
   "metadata": {
    "ExecuteTime": {
     "end_time": "2023-01-30T20:27:26.699270Z",
     "start_time": "2023-01-30T20:27:26.669544Z"
    }
   },
   "outputs": [],
   "source": [
    "def print_candidates_hit_rate(df_candidates):\n",
    "    df_sessions_with_positives = (\n",
    "        df_candidates\n",
    "        .groupby([\"session\"]).agg(pl.sum(\"target\"))\n",
    "        .filter(pl.col(\"target\") > 0)\n",
    "        .select([\"session\"])\n",
    "    )\n",
    "\n",
    "    print(\"sessions with positives in candidates: \", df_sessions_with_positives[\"session\"].n_unique())\n",
    "    print(\"sessions with positives in test dataframe: \", df_candidates[\"session\"].n_unique())\n",
    "    print(\n",
    "        \"hit rate: \", \n",
    "        df_sessions_with_positives[\"session\"].n_unique() / df_candidates[\"session\"].n_unique()\n",
    "    )\n",
    "    \n",
    "    df_candidates_with_positives = df_candidates.join(df_sessions_with_positives, on=\"session\", how=\"inner\")\n",
    "    print(df_candidates_with_positives[\"target\"].value_counts())\n",
    "    \n",
    "    return df_candidates_with_positives"
   ]
  },
  {
   "cell_type": "code",
   "execution_count": 28,
   "id": "02128fc4",
   "metadata": {
    "ExecuteTime": {
     "end_time": "2023-01-30T20:15:51.191136Z",
     "start_time": "2023-01-30T20:15:48.914746Z"
    }
   },
   "outputs": [
    {
     "name": "stdout",
     "output_type": "stream",
     "text": [
      "sessions with positives in candidates:  760393\n",
      "sessions with positives in test dataframe:  1265979\n",
      "hit rate:  0.6006363454686057\n"
     ]
    }
   ],
   "source": [
    "print_candidates_hit_rate(df_candidates_tfidf_new)"
   ]
  },
  {
   "cell_type": "code",
   "execution_count": 29,
   "id": "4968e0ef",
   "metadata": {
    "ExecuteTime": {
     "end_time": "2023-01-30T20:19:10.711734Z",
     "start_time": "2023-01-30T20:16:40.474235Z"
    }
   },
   "outputs": [
    {
     "name": "stderr",
     "output_type": "stream",
     "text": [
      "100%|██████████| 1266/1266 [02:21<00:00,  8.97it/s]\n"
     ]
    }
   ],
   "source": [
    "df_candidates_tfidf_new_top_200 = implicit_batch_candidates_for_all_types(\n",
    "    model=tfidf_new, model_name=\"tfidf_new\",\n",
    "    train_data=train_data, test_users=list(test_sessions_dict.keys()),\n",
    "    topk=200,\n",
    ")"
   ]
  },
  {
   "cell_type": "code",
   "execution_count": 30,
   "id": "44f824de",
   "metadata": {
    "ExecuteTime": {
     "end_time": "2023-01-30T20:19:32.673189Z",
     "start_time": "2023-01-30T20:19:10.713505Z"
    }
   },
   "outputs": [],
   "source": [
    "df_candidates_tfidf_new_top_200 = (\n",
    "    df_candidates_tfidf_new_top_200\n",
    "    .explode([\"aid\", \"tfidf_new_score\"])\n",
    "    .filter(pl.col(\"aid\") != -1)  # some strange items from implicit\n",
    "    .unique(subset=[\"session\", \"aid\"], keep=\"last\")\n",
    "    .join(df_act_target, on=[\"session\", \"aid\"], how=\"left\")  # if using rank column as a feature\n",
    "    .sort(\"session\")\n",
    "    .fill_null(0)\n",
    ")"
   ]
  },
  {
   "cell_type": "code",
   "execution_count": 41,
   "id": "59b0d40b",
   "metadata": {
    "ExecuteTime": {
     "end_time": "2023-01-30T20:28:39.729971Z",
     "start_time": "2023-01-30T20:28:34.131984Z"
    }
   },
   "outputs": [
    {
     "name": "stdout",
     "output_type": "stream",
     "text": [
      "sessions with positives in candidates:  813370\n",
      "sessions with positives in test dataframe:  1265979\n",
      "hit rate:  0.6424830111715913\n",
      "shape: (2, 2)\n",
      "┌────────┬───────────┐\n",
      "│ target ┆ counts    │\n",
      "│ ---    ┆ ---       │\n",
      "│ i32    ┆ u32       │\n",
      "╞════════╪═══════════╡\n",
      "│ 0      ┆ 160571535 │\n",
      "├╌╌╌╌╌╌╌╌┼╌╌╌╌╌╌╌╌╌╌╌┤\n",
      "│ 1      ┆ 813370    │\n",
      "└────────┴───────────┘\n"
     ]
    }
   ],
   "source": [
    "df_candidates_tfidf_new_top_200_with_positives = print_candidates_hit_rate(df_candidates_tfidf_new_top_200)"
   ]
  },
  {
   "cell_type": "code",
   "execution_count": null,
   "id": "70cda902",
   "metadata": {},
   "outputs": [],
   "source": []
  },
  {
   "cell_type": "code",
   "execution_count": 36,
   "id": "d2183eb7",
   "metadata": {
    "ExecuteTime": {
     "end_time": "2023-01-30T20:27:07.952024Z",
     "start_time": "2023-01-30T20:26:30.290287Z"
    }
   },
   "outputs": [],
   "source": [
    "df_candidates_covisit_all_tfidf_new_top_200 = pl.concat([\n",
    "    df_candidates_covisit_all.select([\"session\", \"aid\", \"target\"]),\n",
    "    df_candidates_tfidf_new_top_200.select([\"session\", \"aid\", \"target\"]),\n",
    "]).unique()"
   ]
  },
  {
   "cell_type": "code",
   "execution_count": 39,
   "id": "bf1e30f0",
   "metadata": {
    "ExecuteTime": {
     "end_time": "2023-01-30T20:27:38.679408Z",
     "start_time": "2023-01-30T20:27:30.960323Z"
    }
   },
   "outputs": [
    {
     "name": "stdout",
     "output_type": "stream",
     "text": [
      "sessions with positives in candidates:  852314\n",
      "sessions with positives in test dataframe:  1265979\n",
      "hit rate:  0.6732449748376553\n",
      "shape: (2, 2)\n",
      "┌────────┬───────────┐\n",
      "│ target ┆ counts    │\n",
      "│ ---    ┆ ---       │\n",
      "│ i32    ┆ u32       │\n",
      "╞════════╪═══════════╡\n",
      "│ 0      ┆ 224152550 │\n",
      "├╌╌╌╌╌╌╌╌┼╌╌╌╌╌╌╌╌╌╌╌┤\n",
      "│ 1      ┆ 852314    │\n",
      "└────────┴───────────┘\n"
     ]
    }
   ],
   "source": [
    "df_candidates_covisit_all_tfidf_new_top_200_with_positives = print_candidates_hit_rate(\n",
    "    df_candidates_covisit_all_tfidf_new_top_200\n",
    ")"
   ]
  },
  {
   "cell_type": "code",
   "execution_count": null,
   "id": "350ce425",
   "metadata": {},
   "outputs": [],
   "source": []
  },
  {
   "cell_type": "markdown",
   "id": "9b02fc9d",
   "metadata": {},
   "source": [
    "# Candidates (Carts)"
   ]
  },
  {
   "cell_type": "code",
   "execution_count": 42,
   "id": "95f7a754",
   "metadata": {
    "ExecuteTime": {
     "end_time": "2023-01-30T20:30:30.825875Z",
     "start_time": "2023-01-30T20:30:30.796449Z"
    }
   },
   "outputs": [],
   "source": [
    "ACT_TYPE = \"carts\""
   ]
  },
  {
   "cell_type": "markdown",
   "id": "bf29b673",
   "metadata": {},
   "source": [
    "## prepare target and candidates set with this target in holdout (other users for action does not change metric)"
   ]
  },
  {
   "cell_type": "code",
   "execution_count": 43,
   "id": "07ae7b5a",
   "metadata": {
    "ExecuteTime": {
     "end_time": "2023-01-30T20:30:33.361304Z",
     "start_time": "2023-01-30T20:30:33.057910Z"
    }
   },
   "outputs": [],
   "source": [
    "df_act_target = (\n",
    "    val_df_valid_targets\n",
    "    .filter(pl.col(\"type\") == ACT_TYPE)\n",
    "    .join(val_df_valid_input.select([\"session\"]).unique(), on=\"session\", how=\"inner\")\n",
    "    .drop(\"type\")\n",
    "    .explode(\"ground_truth\")\n",
    "    .with_column(pl.lit(1).alias(\"target\"))\n",
    "    .rename({\"ground_truth\": \"aid\"})\n",
    ")"
   ]
  },
  {
   "cell_type": "code",
   "execution_count": 44,
   "id": "601de49d",
   "metadata": {
    "ExecuteTime": {
     "end_time": "2023-01-30T20:30:34.242726Z",
     "start_time": "2023-01-30T20:30:33.362647Z"
    }
   },
   "outputs": [],
   "source": [
    "df = val_df_valid_input.unique().sort([\"session\", \"ts\"])"
   ]
  },
  {
   "cell_type": "code",
   "execution_count": 45,
   "id": "fa4f4ac5",
   "metadata": {
    "ExecuteTime": {
     "end_time": "2023-01-30T20:30:35.057038Z",
     "start_time": "2023-01-30T20:30:34.244178Z"
    }
   },
   "outputs": [],
   "source": [
    "df_test_users = (\n",
    "    df\n",
    "    .join(df_act_target.select([\"session\"]).unique(), on=\"session\", how=\"inner\")\n",
    "    .unique().sort([\"session\", \"ts\"])\n",
    ")\n",
    "test_sessions_dict = df_test_users.groupby('session').agg([pl.list(\"aid\"), pl.list(\"type\")])\n",
    "test_sessions_dict = dict(zip(\n",
    "    test_sessions_dict[\"session\"].to_list(),\n",
    "    tuple(zip(test_sessions_dict[\"aid\"].to_list(), test_sessions_dict[\"type\"].to_list()))\n",
    "))"
   ]
  },
  {
   "cell_type": "markdown",
   "id": "5c29d61c",
   "metadata": {},
   "source": [
    "## covisitation top200"
   ]
  },
  {
   "cell_type": "code",
   "execution_count": 11,
   "id": "8fbe443f",
   "metadata": {
    "ExecuteTime": {
     "end_time": "2023-01-30T20:05:43.896683Z",
     "start_time": "2023-01-30T20:05:43.866060Z"
    }
   },
   "outputs": [],
   "source": [
    "# Use top X for clicks, carts and orders\n",
    "clicks_th = 15\n",
    "carts_th  = 20\n",
    "orders_th = 20\n",
    "\n",
    "def get_top(df, th):\n",
    "    return (\n",
    "        df\n",
    "        .with_column(pl.lit(1).alias(\"ones\"))\n",
    "        .with_column(pl.col(\"ones\").cumsum().over(\"aid\").alias(\"rank\"))\n",
    "        .filter(pl.col(\"rank\") <= th)\n",
    "    )\n",
    "\n",
    "TOPK_RECOMMEND = 20\n",
    "TOPK_RERANK = 40"
   ]
  },
  {
   "cell_type": "code",
   "execution_count": 12,
   "id": "85534258",
   "metadata": {
    "ExecuteTime": {
     "end_time": "2023-01-30T20:06:03.513016Z",
     "start_time": "2023-01-30T20:05:43.897870Z"
    }
   },
   "outputs": [],
   "source": [
    "carts_orders = pl.read_parquet(\"__valid__covisit_carts_orders_all_v3.parquet\")\n",
    "buys2buys = pl.read_parquet(\"__valid__covisit_buys2buys_all_v4.parquet\")\n",
    "clicks = pl.read_parquet(\"__valid__covisit_clicks_all_v3.parquet\")"
   ]
  },
  {
   "cell_type": "code",
   "execution_count": 13,
   "id": "0388bd79",
   "metadata": {
    "ExecuteTime": {
     "end_time": "2023-01-30T20:06:15.840758Z",
     "start_time": "2023-01-30T20:06:03.514946Z"
    }
   },
   "outputs": [],
   "source": [
    "carts_orders_top = get_top(carts_orders, carts_th)\n",
    "buys2buys_top = get_top(buys2buys, orders_th)\n",
    "clicks_top = get_top(clicks, clicks_th)"
   ]
  },
  {
   "cell_type": "code",
   "execution_count": 14,
   "id": "f120d0aa",
   "metadata": {
    "ExecuteTime": {
     "end_time": "2023-01-30T20:06:16.144975Z",
     "start_time": "2023-01-30T20:06:15.842191Z"
    }
   },
   "outputs": [],
   "source": [
    "top_clicks = df.filter(pl.col(\"type\") == 0)[\"aid\"].value_counts(sort=True)[:TOPK_RECOMMEND][\"aid\"].to_list()\n",
    "top_carts = df.filter(pl.col(\"type\") == 1)[\"aid\"].value_counts(sort=True)[:TOPK_RECOMMEND][\"aid\"].to_list()\n",
    "top_orders = df.filter(pl.col(\"type\") == 2)[\"aid\"].value_counts(sort=True)[:TOPK_RECOMMEND][\"aid\"].to_list()"
   ]
  },
  {
   "cell_type": "code",
   "execution_count": 15,
   "id": "20c4e80d",
   "metadata": {
    "ExecuteTime": {
     "end_time": "2023-01-30T20:06:24.419671Z",
     "start_time": "2023-01-30T20:06:16.146375Z"
    }
   },
   "outputs": [],
   "source": [
    "covisit_rec = CovisitationRecommender(\n",
    "    df_top_k_buys=carts_orders_top,\n",
    "    df_top_k_buy2buy=buys2buys_top,\n",
    "    df_top_k_clicks=clicks_top,\n",
    "    top_carts=top_carts,\n",
    "    top_orders=top_orders,\n",
    "    top_clicks=top_clicks,\n",
    ")"
   ]
  },
  {
   "cell_type": "code",
   "execution_count": 46,
   "id": "34381945",
   "metadata": {
    "ExecuteTime": {
     "end_time": "2023-01-30T20:31:29.661899Z",
     "start_time": "2023-01-30T20:30:51.058965Z"
    }
   },
   "outputs": [
    {
     "name": "stderr",
     "output_type": "stream",
     "text": [
      "100%|██████████| 265206/265206 [00:33<00:00, 7975.94it/s]\n"
     ]
    }
   ],
   "source": [
    "candidates_dict = {\n",
    "    \"session\": [],\n",
    "    \"type\": [],\n",
    "    \"candidates\": [],\n",
    "    \"rank\": [],\n",
    "}\n",
    "\n",
    "types = [\"clicks\", \"carts\", \"orders\"]\n",
    "topk = TOPK_RERANK * 5\n",
    "\n",
    "for session_id, (session_aid_list, session_type_list) in tqdm(test_sessions_dict.items()):\n",
    "    rec_items_clicks = covisit_rec.recommend_clicks(session_aid_list, session_type_list, topk)\n",
    "    rec_items_carts = covisit_rec.recommend_carts(session_aid_list, session_type_list, topk)\n",
    "    rec_items_buys = covisit_rec.recommend_buys(session_aid_list, session_type_list, topk)\n",
    "\n",
    "    candidates = [rec_items_clicks, rec_items_carts, rec_items_buys]\n",
    "#     candidates = [rec_items_buys]\n",
    "    ranks = [\n",
    "        np.arange(1, len(rec_items) + 1).tolist()\n",
    "        for rec_items in candidates\n",
    "    ]\n",
    "    \n",
    "    candidates_dict[\"session\"].extend([session_id] * len(types))\n",
    "    candidates_dict[\"type\"].extend(types)\n",
    "    candidates_dict[\"candidates\"].extend(candidates)\n",
    "    candidates_dict[\"rank\"].extend(ranks)\n",
    "\n",
    "df_candidates_covisit = pl.DataFrame(candidates_dict)"
   ]
  },
  {
   "cell_type": "code",
   "execution_count": 47,
   "id": "a7a2cdb2",
   "metadata": {
    "ExecuteTime": {
     "end_time": "2023-01-30T20:31:54.309046Z",
     "start_time": "2023-01-30T20:31:29.663707Z"
    }
   },
   "outputs": [],
   "source": [
    "# contains target column and all test users\n",
    "df_candidates_covisit_all = (\n",
    "    df_candidates_covisit\n",
    "    .filter(pl.col(\"type\") == \"orders\")\n",
    "    .drop(\"type\")\n",
    "    .explode([\"candidates\", \"rank\"])\n",
    "    .rename({\"candidates\": \"aid\", \"rank\": \"rank_orders\"})\n",
    "    .join(\n",
    "        (\n",
    "            df_candidates_covisit\n",
    "            .filter(pl.col(\"type\") == \"carts\")\n",
    "            .drop(\"type\")\n",
    "            .explode([\"candidates\", \"rank\"])\n",
    "            .rename({\"candidates\": \"aid\", \"rank\": \"rank_carts\"})\n",
    "        ),\n",
    "        on=[\"session\", \"aid\"],\n",
    "        how=\"outer\"\n",
    "    )\n",
    "    .join(\n",
    "        (\n",
    "            df_candidates_covisit\n",
    "            .filter(pl.col(\"type\") == \"clicks\")\n",
    "            .drop(\"type\")\n",
    "            .explode([\"candidates\", \"rank\"])\n",
    "            .rename({\"candidates\": \"aid\", \"rank\": \"rank_clicks\"})\n",
    "        ),\n",
    "        on=[\"session\", \"aid\"],\n",
    "        how=\"outer\"\n",
    "    )\n",
    "    .fill_null(999)\n",
    "    .filter(pl.col(\"aid\") != -1)  # some strange items from implicit\n",
    "    .unique(subset=[\"session\", \"aid\"], keep=\"last\")\n",
    "    .join(df_act_target, on=[\"session\", \"aid\"], how=\"left\")  # if using rank column as a feature\n",
    "    .sort(\"session\")\n",
    "    .fill_null(0)\n",
    ")"
   ]
  },
  {
   "cell_type": "code",
   "execution_count": 51,
   "id": "b36b5cbd",
   "metadata": {
    "ExecuteTime": {
     "end_time": "2023-01-30T20:32:32.093350Z",
     "start_time": "2023-01-30T20:32:31.144802Z"
    }
   },
   "outputs": [
    {
     "name": "stdout",
     "output_type": "stream",
     "text": [
      "sessions with positives in candidates:  192741\n",
      "sessions with positives in test dataframe:  265206\n",
      "hit rate:  0.7267595755752132\n",
      "shape: (2, 2)\n",
      "┌────────┬──────────┐\n",
      "│ target ┆ counts   │\n",
      "│ ---    ┆ ---      │\n",
      "│ i32    ┆ u32      │\n",
      "╞════════╪══════════╡\n",
      "│ 0      ┆ 23475373 │\n",
      "├╌╌╌╌╌╌╌╌┼╌╌╌╌╌╌╌╌╌╌┤\n",
      "│ 1      ┆ 252550   │\n",
      "└────────┴──────────┘\n"
     ]
    }
   ],
   "source": [
    "df_candidates_covisit_all_with_positives = print_candidates_hit_rate(df_candidates_covisit_all)"
   ]
  },
  {
   "cell_type": "markdown",
   "id": "f0be5a84",
   "metadata": {},
   "source": [
    "## Implicit"
   ]
  },
  {
   "cell_type": "code",
   "execution_count": 20,
   "id": "cedce914",
   "metadata": {
    "ExecuteTime": {
     "end_time": "2023-01-30T20:10:20.037762Z",
     "start_time": "2023-01-30T20:10:20.007463Z"
    }
   },
   "outputs": [],
   "source": [
    "from implicit.nearest_neighbours import CosineRecommender\n",
    "from implicit.nearest_neighbours import TFIDFRecommender"
   ]
  },
  {
   "cell_type": "markdown",
   "id": "7b553f19",
   "metadata": {},
   "source": [
    "### old"
   ]
  },
  {
   "cell_type": "code",
   "execution_count": 58,
   "id": "98643345",
   "metadata": {
    "ExecuteTime": {
     "end_time": "2023-01-30T20:40:43.083800Z",
     "start_time": "2023-01-30T20:40:13.361404Z"
    }
   },
   "outputs": [],
   "source": [
    "df = pl.concat([val_df_train, val_df_valid_input]).unique().sort([\"session\", \"ts\"])\n",
    "df = implicit_old_weight_interactions(df)\n",
    "train_data = make_sparse_matrix(df)"
   ]
  },
  {
   "cell_type": "code",
   "execution_count": 59,
   "id": "d2da1eea",
   "metadata": {
    "ExecuteTime": {
     "end_time": "2023-01-30T20:41:23.506399Z",
     "start_time": "2023-01-30T20:40:43.085641Z"
    }
   },
   "outputs": [
    {
     "data": {
      "application/vnd.jupyter.widget-view+json": {
       "model_id": "668074edceb245a18079f69be9ae3f2d",
       "version_major": 2,
       "version_minor": 0
      },
      "text/plain": [
       "  0%|          | 0/1855603 [00:00<?, ?it/s]"
      ]
     },
     "metadata": {},
     "output_type": "display_data"
    }
   ],
   "source": [
    "tfidf_old = TFIDFRecommender(K=200)\n",
    "tfidf_old.fit(train_data)"
   ]
  },
  {
   "cell_type": "code",
   "execution_count": 67,
   "id": "bb65a84a",
   "metadata": {
    "ExecuteTime": {
     "end_time": "2023-01-30T20:46:20.988871Z",
     "start_time": "2023-01-30T20:45:52.259483Z"
    }
   },
   "outputs": [
    {
     "data": {
      "application/vnd.jupyter.widget-view+json": {
       "model_id": "6d99ec295257416a9f19a7f60f903ba3",
       "version_major": 2,
       "version_minor": 0
      },
      "text/plain": [
       "  0%|          | 0/1855603 [00:00<?, ?it/s]"
      ]
     },
     "metadata": {},
     "output_type": "display_data"
    }
   ],
   "source": [
    "i2i_old = CosineRecommender(K=100)\n",
    "i2i_old.fit(train_data)"
   ]
  },
  {
   "cell_type": "code",
   "execution_count": 60,
   "id": "1b1bc2e0",
   "metadata": {
    "ExecuteTime": {
     "end_time": "2023-01-30T20:41:56.938534Z",
     "start_time": "2023-01-30T20:41:25.799955Z"
    }
   },
   "outputs": [
    {
     "name": "stderr",
     "output_type": "stream",
     "text": [
      "100%|██████████| 266/266 [00:29<00:00,  8.89it/s]\n"
     ]
    }
   ],
   "source": [
    "df_candidates_tfidf_old = implicit_batch_candidates_for_all_types(\n",
    "    model=tfidf_old, model_name=\"tfidf_old\",\n",
    "    train_data=train_data, test_users=list(test_sessions_dict.keys()),\n",
    "    topk=100,\n",
    ")"
   ]
  },
  {
   "cell_type": "code",
   "execution_count": 68,
   "id": "8d872b88",
   "metadata": {
    "ExecuteTime": {
     "end_time": "2023-01-30T20:46:47.652250Z",
     "start_time": "2023-01-30T20:46:22.106373Z"
    }
   },
   "outputs": [
    {
     "name": "stderr",
     "output_type": "stream",
     "text": [
      "100%|██████████| 266/266 [00:24<00:00, 10.95it/s]\n"
     ]
    }
   ],
   "source": [
    "df_candidates_i2i_old = implicit_batch_candidates_for_all_types(\n",
    "    model=i2i_old, model_name=\"i2i_old\",\n",
    "    train_data=train_data, test_users=list(test_sessions_dict.keys()),\n",
    "    topk=100,\n",
    ")"
   ]
  },
  {
   "cell_type": "code",
   "execution_count": 61,
   "id": "ee44417a",
   "metadata": {
    "ExecuteTime": {
     "end_time": "2023-01-30T20:41:59.390368Z",
     "start_time": "2023-01-30T20:41:56.940331Z"
    }
   },
   "outputs": [],
   "source": [
    "df_candidates_tfidf_old = (\n",
    "    df_candidates_tfidf_old\n",
    "    .explode([\"aid\", \"tfidf_old_score\"])\n",
    "    .filter(pl.col(\"aid\") != -1)  # some strange items from implicit\n",
    "    .unique(subset=[\"session\", \"aid\"], keep=\"last\")\n",
    "    .join(df_act_target, on=[\"session\", \"aid\"], how=\"left\")  # if using rank column as a feature\n",
    "    .sort(\"session\")\n",
    "    .fill_null(0)\n",
    ")"
   ]
  },
  {
   "cell_type": "code",
   "execution_count": 62,
   "id": "1b6e36c1",
   "metadata": {
    "ExecuteTime": {
     "end_time": "2023-01-30T20:42:30.210982Z",
     "start_time": "2023-01-30T20:42:29.392923Z"
    }
   },
   "outputs": [
    {
     "name": "stdout",
     "output_type": "stream",
     "text": [
      "sessions with positives in candidates:  188605\n",
      "sessions with positives in test dataframe:  265206\n",
      "hit rate:  0.7111641516406114\n",
      "shape: (2, 2)\n",
      "┌────────┬──────────┐\n",
      "│ target ┆ counts   │\n",
      "│ ---    ┆ ---      │\n",
      "│ i32    ┆ u32      │\n",
      "╞════════╪══════════╡\n",
      "│ 0      ┆ 18563809 │\n",
      "├╌╌╌╌╌╌╌╌┼╌╌╌╌╌╌╌╌╌╌┤\n",
      "│ 1      ┆ 242361   │\n",
      "└────────┴──────────┘\n"
     ]
    }
   ],
   "source": [
    "df_candidates_tfidf_old_with_positives = print_candidates_hit_rate(df_candidates_tfidf_old)"
   ]
  },
  {
   "cell_type": "code",
   "execution_count": 69,
   "id": "6ea1b5fd",
   "metadata": {
    "ExecuteTime": {
     "end_time": "2023-01-30T20:47:19.683347Z",
     "start_time": "2023-01-30T20:47:17.248209Z"
    }
   },
   "outputs": [],
   "source": [
    "df_candidates_i2i_old = (\n",
    "    df_candidates_i2i_old\n",
    "    .explode([\"aid\", \"i2i_old_score\"])\n",
    "    .filter(pl.col(\"aid\") != -1)  # some strange items from implicit\n",
    "    .unique(subset=[\"session\", \"aid\"], keep=\"last\")\n",
    "    .join(df_act_target, on=[\"session\", \"aid\"], how=\"left\")  # if using rank column as a feature\n",
    "    .sort(\"session\")\n",
    "    .fill_null(0)\n",
    ")"
   ]
  },
  {
   "cell_type": "code",
   "execution_count": 70,
   "id": "07514e35",
   "metadata": {
    "ExecuteTime": {
     "end_time": "2023-01-30T20:47:37.775816Z",
     "start_time": "2023-01-30T20:47:37.023273Z"
    }
   },
   "outputs": [
    {
     "name": "stdout",
     "output_type": "stream",
     "text": [
      "sessions with positives in candidates:  176272\n",
      "sessions with positives in test dataframe:  265206\n",
      "hit rate:  0.6646606788685022\n",
      "shape: (2, 2)\n",
      "┌────────┬──────────┐\n",
      "│ target ┆ counts   │\n",
      "│ ---    ┆ ---      │\n",
      "│ i32    ┆ u32      │\n",
      "╞════════╪══════════╡\n",
      "│ 0      ┆ 17354499 │\n",
      "├╌╌╌╌╌╌╌╌┼╌╌╌╌╌╌╌╌╌╌┤\n",
      "│ 1      ┆ 218371   │\n",
      "└────────┴──────────┘\n"
     ]
    }
   ],
   "source": [
    "df_candidates_i2i_old_with_positives = print_candidates_hit_rate(df_candidates_i2i_old)"
   ]
  },
  {
   "cell_type": "markdown",
   "id": "6cfb2ce8",
   "metadata": {},
   "source": [
    "### new"
   ]
  },
  {
   "cell_type": "code",
   "execution_count": 71,
   "id": "eaa29b86",
   "metadata": {
    "ExecuteTime": {
     "end_time": "2023-01-30T20:49:18.109043Z",
     "start_time": "2023-01-30T20:48:30.109768Z"
    }
   },
   "outputs": [],
   "source": [
    "df = pl.concat([val_df_train, val_df_valid_input]).unique().sort([\"session\", \"ts\"])\n",
    "df = implicit_new_weight_interactions(df)\n",
    "train_data = make_sparse_matrix(df)"
   ]
  },
  {
   "cell_type": "code",
   "execution_count": 22,
   "id": "7b5b1a47",
   "metadata": {
    "ExecuteTime": {
     "end_time": "2023-01-30T20:11:43.077672Z",
     "start_time": "2023-01-30T20:11:02.546263Z"
    }
   },
   "outputs": [
    {
     "data": {
      "application/vnd.jupyter.widget-view+json": {
       "model_id": "d915cdf6543e4416ae391d610ecc5a44",
       "version_major": 2,
       "version_minor": 0
      },
      "text/plain": [
       "  0%|          | 0/1855603 [00:00<?, ?it/s]"
      ]
     },
     "metadata": {},
     "output_type": "display_data"
    }
   ],
   "source": [
    "tfidf_new = TFIDFRecommender(K=200)\n",
    "tfidf_new.fit(train_data)"
   ]
  },
  {
   "cell_type": "code",
   "execution_count": 72,
   "id": "8d865700",
   "metadata": {
    "ExecuteTime": {
     "end_time": "2023-01-30T20:49:53.620586Z",
     "start_time": "2023-01-30T20:49:18.110547Z"
    }
   },
   "outputs": [
    {
     "data": {
      "application/vnd.jupyter.widget-view+json": {
       "model_id": "ae058bf822654ff19eba60c48ca06101",
       "version_major": 2,
       "version_minor": 0
      },
      "text/plain": [
       "  0%|          | 0/1855603 [00:00<?, ?it/s]"
      ]
     },
     "metadata": {},
     "output_type": "display_data"
    }
   ],
   "source": [
    "i2i_new = CosineRecommender(K=200)\n",
    "i2i_new.fit(train_data)"
   ]
  },
  {
   "cell_type": "code",
   "execution_count": 49,
   "id": "9e27bfdd",
   "metadata": {
    "ExecuteTime": {
     "end_time": "2023-01-30T20:32:28.540843Z",
     "start_time": "2023-01-30T20:31:55.330749Z"
    }
   },
   "outputs": [
    {
     "name": "stderr",
     "output_type": "stream",
     "text": [
      "100%|██████████| 266/266 [00:32<00:00,  8.30it/s]\n"
     ]
    }
   ],
   "source": [
    "df_candidates_tfidf_new = implicit_batch_candidates_for_all_types(\n",
    "    model=tfidf_new, model_name=\"tfidf_new\",\n",
    "    train_data=train_data, test_users=list(test_sessions_dict.keys()),\n",
    "    topk=100,\n",
    ")"
   ]
  },
  {
   "cell_type": "code",
   "execution_count": 73,
   "id": "29fa23f9",
   "metadata": {
    "ExecuteTime": {
     "end_time": "2023-01-30T20:50:40.023228Z",
     "start_time": "2023-01-30T20:50:05.176724Z"
    }
   },
   "outputs": [
    {
     "name": "stderr",
     "output_type": "stream",
     "text": [
      "100%|██████████| 266/266 [00:33<00:00,  7.90it/s]\n"
     ]
    }
   ],
   "source": [
    "df_candidates_i2i_new = implicit_batch_candidates_for_all_types(\n",
    "    model=i2i_new, model_name=\"i2i_new\",\n",
    "    train_data=train_data, test_users=list(val_df_valid_input[\"sessi\".keys()),\n",
    "    topk=100,\n",
    ")"
   ]
  },
  {
   "cell_type": "code",
   "execution_count": 50,
   "id": "f684555b",
   "metadata": {
    "ExecuteTime": {
     "end_time": "2023-01-30T20:32:31.142965Z",
     "start_time": "2023-01-30T20:32:28.542361Z"
    }
   },
   "outputs": [],
   "source": [
    "df_candidates_tfidf_new = (\n",
    "    df_candidates_tfidf_new\n",
    "    .explode([\"aid\", \"tfidf_new_score\"])\n",
    "    .filter(pl.col(\"aid\") != -1)  # some strange items from implicit\n",
    "    .unique(subset=[\"session\", \"aid\"], keep=\"last\")\n",
    "    .join(df_act_target, on=[\"session\", \"aid\"], how=\"left\")  # if using rank column as a feature\n",
    "    .sort(\"session\")\n",
    "    .fill_null(0)\n",
    ")"
   ]
  },
  {
   "cell_type": "code",
   "execution_count": 74,
   "id": "95323aa4",
   "metadata": {
    "ExecuteTime": {
     "end_time": "2023-01-30T20:50:42.477294Z",
     "start_time": "2023-01-30T20:50:40.025051Z"
    }
   },
   "outputs": [],
   "source": [
    "df_candidates_i2i_new = (\n",
    "    df_candidates_i2i_new\n",
    "    .explode([\"aid\", \"i2i_new_score\"])\n",
    "    .filter(pl.col(\"aid\") != -1)  # some strange items from implicit\n",
    "    .unique(subset=[\"session\", \"aid\"], keep=\"last\")\n",
    "    .join(df_act_target, on=[\"session\", \"aid\"], how=\"left\")  # if using rank column as a feature\n",
    "    .sort(\"session\")\n",
    "    .fill_null(0)\n",
    ")"
   ]
  },
  {
   "cell_type": "code",
   "execution_count": 52,
   "id": "aa3cf213",
   "metadata": {
    "ExecuteTime": {
     "end_time": "2023-01-30T20:33:18.348244Z",
     "start_time": "2023-01-30T20:33:17.550243Z"
    }
   },
   "outputs": [
    {
     "name": "stdout",
     "output_type": "stream",
     "text": [
      "sessions with positives in candidates:  188028\n",
      "sessions with positives in test dataframe:  265206\n",
      "hit rate:  0.7089884844234293\n",
      "shape: (2, 2)\n",
      "┌────────┬──────────┐\n",
      "│ target ┆ counts   │\n",
      "│ ---    ┆ ---      │\n",
      "│ i32    ┆ u32      │\n",
      "╞════════╪══════════╡\n",
      "│ 0      ┆ 18508030 │\n",
      "├╌╌╌╌╌╌╌╌┼╌╌╌╌╌╌╌╌╌╌┤\n",
      "│ 1      ┆ 240440   │\n",
      "└────────┴──────────┘\n"
     ]
    }
   ],
   "source": [
    "df_candidates_tfidf_new_with_positives = print_candidates_hit_rate(df_candidates_tfidf_new)"
   ]
  },
  {
   "cell_type": "code",
   "execution_count": 75,
   "id": "6efc8bf9",
   "metadata": {
    "ExecuteTime": {
     "end_time": "2023-01-30T20:50:59.548666Z",
     "start_time": "2023-01-30T20:50:58.739664Z"
    }
   },
   "outputs": [
    {
     "name": "stdout",
     "output_type": "stream",
     "text": [
      "sessions with positives in candidates:  175969\n",
      "sessions with positives in test dataframe:  265206\n",
      "hit rate:  0.66351817078045\n",
      "shape: (2, 2)\n",
      "┌────────┬──────────┐\n",
      "│ target ┆ counts   │\n",
      "│ ---    ┆ ---      │\n",
      "│ i32    ┆ u32      │\n",
      "╞════════╪══════════╡\n",
      "│ 0      ┆ 17325477 │\n",
      "├╌╌╌╌╌╌╌╌┼╌╌╌╌╌╌╌╌╌╌┤\n",
      "│ 1      ┆ 217093   │\n",
      "└────────┴──────────┘\n"
     ]
    }
   ],
   "source": [
    "df_candidates_i2i_new_with_positives = print_candidates_hit_rate(df_candidates_i2i_new)"
   ]
  },
  {
   "cell_type": "code",
   "execution_count": null,
   "id": "565e5095",
   "metadata": {},
   "outputs": [],
   "source": []
  },
  {
   "cell_type": "code",
   "execution_count": 63,
   "id": "5c88ae84",
   "metadata": {
    "ExecuteTime": {
     "end_time": "2023-01-30T20:43:49.970862Z",
     "start_time": "2023-01-30T20:43:46.019976Z"
    }
   },
   "outputs": [],
   "source": [
    "df_candidates_tfidf_old_new_top_100 = pl.concat([\n",
    "    df_candidates_tfidf_old.select([\"session\", \"aid\", \"target\"]),\n",
    "    df_candidates_tfidf_new.select([\"session\", \"aid\", \"target\"]),\n",
    "]).unique()"
   ]
  },
  {
   "cell_type": "code",
   "execution_count": 64,
   "id": "917a3ee8",
   "metadata": {
    "ExecuteTime": {
     "end_time": "2023-01-30T20:43:51.066645Z",
     "start_time": "2023-01-30T20:43:49.972768Z"
    }
   },
   "outputs": [
    {
     "name": "stdout",
     "output_type": "stream",
     "text": [
      "sessions with positives in candidates:  192544\n",
      "sessions with positives in test dataframe:  265206\n",
      "hit rate:  0.7260167567852914\n",
      "shape: (2, 2)\n",
      "┌────────┬──────────┐\n",
      "│ target ┆ counts   │\n",
      "│ ---    ┆ ---      │\n",
      "│ i32    ┆ u32      │\n",
      "╞════════╪══════════╡\n",
      "│ 0      ┆ 24362998 │\n",
      "├╌╌╌╌╌╌╌╌┼╌╌╌╌╌╌╌╌╌╌┤\n",
      "│ 1      ┆ 250224   │\n",
      "└────────┴──────────┘\n"
     ]
    }
   ],
   "source": [
    "df_candidates_tfidf_old_new_top_100_with_positives = print_candidates_hit_rate(\n",
    "    df_candidates_tfidf_old_new_top_100\n",
    ")"
   ]
  },
  {
   "cell_type": "code",
   "execution_count": 76,
   "id": "99da580d",
   "metadata": {
    "ExecuteTime": {
     "end_time": "2023-01-30T20:52:11.798856Z",
     "start_time": "2023-01-30T20:52:05.486085Z"
    }
   },
   "outputs": [],
   "source": [
    "df_candidates_tfidf_i2i_old_new_top_100 = pl.concat([\n",
    "    df_candidates_tfidf_old.select([\"session\", \"aid\", \"target\"]),\n",
    "    df_candidates_tfidf_new.select([\"session\", \"aid\", \"target\"]),\n",
    "    df_candidates_i2i_old.select([\"session\", \"aid\", \"target\"]),\n",
    "    df_candidates_i2i_new.select([\"session\", \"aid\", \"target\"]),\n",
    "]).unique()"
   ]
  },
  {
   "cell_type": "code",
   "execution_count": 77,
   "id": "0a3581ff",
   "metadata": {
    "ExecuteTime": {
     "end_time": "2023-01-30T20:52:13.355300Z",
     "start_time": "2023-01-30T20:52:11.800899Z"
    }
   },
   "outputs": [
    {
     "name": "stdout",
     "output_type": "stream",
     "text": [
      "sessions with positives in candidates:  193285\n",
      "sessions with positives in test dataframe:  265206\n",
      "hit rate:  0.728810811218449\n",
      "shape: (2, 2)\n",
      "┌────────┬──────────┐\n",
      "│ target ┆ counts   │\n",
      "│ ---    ┆ ---      │\n",
      "│ i32    ┆ u32      │\n",
      "╞════════╪══════════╡\n",
      "│ 0      ┆ 35347915 │\n",
      "├╌╌╌╌╌╌╌╌┼╌╌╌╌╌╌╌╌╌╌┤\n",
      "│ 1      ┆ 251858   │\n",
      "└────────┴──────────┘\n"
     ]
    }
   ],
   "source": [
    "df_candidates_tfidf_i2i_old_new_top_100_with_positives = print_candidates_hit_rate(\n",
    "    df_candidates_tfidf_i2i_old_new_top_100\n",
    ")"
   ]
  },
  {
   "cell_type": "code",
   "execution_count": null,
   "id": "059a0d36",
   "metadata": {},
   "outputs": [],
   "source": []
  },
  {
   "cell_type": "code",
   "execution_count": null,
   "id": "2d964d31",
   "metadata": {},
   "outputs": [],
   "source": []
  },
  {
   "cell_type": "code",
   "execution_count": 53,
   "id": "ca4aa45c",
   "metadata": {
    "ExecuteTime": {
     "end_time": "2023-01-30T20:34:11.722261Z",
     "start_time": "2023-01-30T20:33:38.053798Z"
    }
   },
   "outputs": [
    {
     "name": "stderr",
     "output_type": "stream",
     "text": [
      "100%|██████████| 266/266 [00:31<00:00,  8.44it/s]\n"
     ]
    }
   ],
   "source": [
    "df_candidates_tfidf_new_top_200 = implicit_batch_candidates_for_all_types(\n",
    "    model=tfidf_new, model_name=\"tfidf_new\",\n",
    "    train_data=train_data, test_users=list(test_sessions_dict.keys()),\n",
    "    topk=200,\n",
    ")"
   ]
  },
  {
   "cell_type": "code",
   "execution_count": 54,
   "id": "af88ac19",
   "metadata": {
    "ExecuteTime": {
     "end_time": "2023-01-30T20:34:16.392768Z",
     "start_time": "2023-01-30T20:34:11.724109Z"
    }
   },
   "outputs": [],
   "source": [
    "df_candidates_tfidf_new_top_200 = (\n",
    "    df_candidates_tfidf_new_top_200\n",
    "    .explode([\"aid\", \"tfidf_new_score\"])\n",
    "    .filter(pl.col(\"aid\") != -1)  # some strange items from implicit\n",
    "    .unique(subset=[\"session\", \"aid\"], keep=\"last\")\n",
    "    .join(df_act_target, on=[\"session\", \"aid\"], how=\"left\")  # if using rank column as a feature\n",
    "    .sort(\"session\")\n",
    "    .fill_null(0)\n",
    ")"
   ]
  },
  {
   "cell_type": "code",
   "execution_count": 55,
   "id": "760a2815",
   "metadata": {
    "ExecuteTime": {
     "end_time": "2023-01-30T20:34:17.675843Z",
     "start_time": "2023-01-30T20:34:16.394291Z"
    }
   },
   "outputs": [
    {
     "name": "stdout",
     "output_type": "stream",
     "text": [
      "sessions with positives in candidates:  195930\n",
      "sessions with positives in test dataframe:  265206\n",
      "hit rate:  0.7387841904029321\n",
      "shape: (2, 2)\n",
      "┌────────┬──────────┐\n",
      "│ target ┆ counts   │\n",
      "│ ---    ┆ ---      │\n",
      "│ i32    ┆ u32      │\n",
      "╞════════╪══════════╡\n",
      "│ 0      ┆ 38713692 │\n",
      "├╌╌╌╌╌╌╌╌┼╌╌╌╌╌╌╌╌╌╌┤\n",
      "│ 1      ┆ 257752   │\n",
      "└────────┴──────────┘\n"
     ]
    }
   ],
   "source": [
    "df_candidates_tfidf_new_top_200_with_positives = print_candidates_hit_rate(df_candidates_tfidf_new_top_200)"
   ]
  },
  {
   "cell_type": "code",
   "execution_count": null,
   "id": "9aa4b12f",
   "metadata": {},
   "outputs": [],
   "source": []
  },
  {
   "cell_type": "code",
   "execution_count": 56,
   "id": "ff3bce61",
   "metadata": {
    "ExecuteTime": {
     "end_time": "2023-01-30T20:34:25.908226Z",
     "start_time": "2023-01-30T20:34:17.678246Z"
    }
   },
   "outputs": [],
   "source": [
    "df_candidates_covisit_all_tfidf_new_top_200 = pl.concat([\n",
    "    df_candidates_covisit_all.select([\"session\", \"aid\", \"target\"]),\n",
    "    df_candidates_tfidf_new_top_200.select([\"session\", \"aid\", \"target\"]),\n",
    "]).unique()"
   ]
  },
  {
   "cell_type": "code",
   "execution_count": 57,
   "id": "3245ea62",
   "metadata": {
    "ExecuteTime": {
     "end_time": "2023-01-30T20:34:27.884889Z",
     "start_time": "2023-01-30T20:34:25.909889Z"
    }
   },
   "outputs": [
    {
     "name": "stdout",
     "output_type": "stream",
     "text": [
      "sessions with positives in candidates:  204472\n",
      "sessions with positives in test dataframe:  265206\n",
      "hit rate:  0.7709931147862417\n",
      "shape: (2, 2)\n",
      "┌────────┬──────────┐\n",
      "│ target ┆ counts   │\n",
      "│ ---    ┆ ---      │\n",
      "│ i32    ┆ u32      │\n",
      "╞════════╪══════════╡\n",
      "│ 0      ┆ 57356795 │\n",
      "├╌╌╌╌╌╌╌╌┼╌╌╌╌╌╌╌╌╌╌┤\n",
      "│ 1      ┆ 278081   │\n",
      "└────────┴──────────┘\n"
     ]
    }
   ],
   "source": [
    "df_candidates_covisit_all_tfidf_new_top_200_with_positives = print_candidates_hit_rate(\n",
    "    df_candidates_covisit_all_tfidf_new_top_200\n",
    ")"
   ]
  },
  {
   "cell_type": "code",
   "execution_count": null,
   "id": "9ef0269a",
   "metadata": {},
   "outputs": [],
   "source": []
  },
  {
   "cell_type": "code",
   "execution_count": 65,
   "id": "23467ac6",
   "metadata": {
    "ExecuteTime": {
     "end_time": "2023-01-30T20:45:05.851430Z",
     "start_time": "2023-01-30T20:44:59.593827Z"
    }
   },
   "outputs": [],
   "source": [
    "df_candidates_covisit_all_tfidf_old_new_top_100 = pl.concat([\n",
    "    df_candidates_covisit_all.select([\"session\", \"aid\", \"target\"]),\n",
    "    df_candidates_tfidf_old_new_top_100.select([\"session\", \"aid\", \"target\"]),\n",
    "]).unique()"
   ]
  },
  {
   "cell_type": "code",
   "execution_count": 66,
   "id": "c5228d7c",
   "metadata": {
    "ExecuteTime": {
     "end_time": "2023-01-30T20:45:12.880330Z",
     "start_time": "2023-01-30T20:45:11.327072Z"
    }
   },
   "outputs": [
    {
     "name": "stdout",
     "output_type": "stream",
     "text": [
      "sessions with positives in candidates:  202061\n",
      "sessions with positives in test dataframe:  265206\n",
      "hit rate:  0.7619020685806505\n",
      "shape: (2, 2)\n",
      "┌────────┬──────────┐\n",
      "│ target ┆ counts   │\n",
      "│ ---    ┆ ---      │\n",
      "│ i32    ┆ u32      │\n",
      "╞════════╪══════════╡\n",
      "│ 0      ┆ 42828456 │\n",
      "├╌╌╌╌╌╌╌╌┼╌╌╌╌╌╌╌╌╌╌┤\n",
      "│ 1      ┆ 272271   │\n",
      "└────────┴──────────┘\n"
     ]
    }
   ],
   "source": [
    "df_candidates_covisit_all_tfidf_old_new_top_100_with_positives = print_candidates_hit_rate(\n",
    "    df_candidates_covisit_all_tfidf_old_new_top_100\n",
    ")"
   ]
  },
  {
   "cell_type": "code",
   "execution_count": null,
   "id": "c79e7b37",
   "metadata": {},
   "outputs": [],
   "source": []
  },
  {
   "cell_type": "code",
   "execution_count": null,
   "id": "eeec5a02",
   "metadata": {},
   "outputs": [],
   "source": []
  },
  {
   "cell_type": "code",
   "execution_count": 81,
   "id": "c6e469e5",
   "metadata": {
    "ExecuteTime": {
     "end_time": "2023-01-30T21:02:58.130985Z",
     "start_time": "2023-01-30T21:02:48.759627Z"
    }
   },
   "outputs": [],
   "source": [
    "df_candidates_covisit_all_tfidf_i2i_old_new_top_100 = pl.concat([\n",
    "    df_candidates_covisit_all.select([\"session\", \"aid\", \"target\"]),\n",
    "    df_candidates_i2i_old.select([\"session\", \"aid\", \"target\"]),\n",
    "    df_candidates_i2i_new.select([\"session\", \"aid\", \"target\"]),\n",
    "    df_candidates_tfidf_old.select([\"session\", \"aid\", \"target\"]),\n",
    "    df_candidates_tfidf_new.select([\"session\", \"aid\", \"target\"]),\n",
    "]).unique()"
   ]
  },
  {
   "cell_type": "code",
   "execution_count": 82,
   "id": "ab22f0ae",
   "metadata": {
    "ExecuteTime": {
     "end_time": "2023-01-30T21:03:00.583775Z",
     "start_time": "2023-01-30T21:02:58.468224Z"
    }
   },
   "outputs": [
    {
     "name": "stdout",
     "output_type": "stream",
     "text": [
      "sessions with positives in candidates:  202507\n",
      "sessions with positives in test dataframe:  265206\n",
      "hit rate:  0.7635837801558034\n",
      "shape: (2, 2)\n",
      "┌────────┬──────────┐\n",
      "│ target ┆ counts   │\n",
      "│ ---    ┆ ---      │\n",
      "│ i32    ┆ u32      │\n",
      "╞════════╪══════════╡\n",
      "│ 0      ┆ 54014228 │\n",
      "├╌╌╌╌╌╌╌╌┼╌╌╌╌╌╌╌╌╌╌┤\n",
      "│ 1      ┆ 273327   │\n",
      "└────────┴──────────┘\n"
     ]
    }
   ],
   "source": [
    "df_candidates_covisit_all_tfidf_i2i_old_new_top_100_with_positives = print_candidates_hit_rate(\n",
    "    df_candidates_covisit_all_tfidf_i2i_old_new_top_100\n",
    ")"
   ]
  },
  {
   "cell_type": "code",
   "execution_count": null,
   "id": "611c1849",
   "metadata": {},
   "outputs": [],
   "source": []
  },
  {
   "cell_type": "code",
   "execution_count": null,
   "id": "d7f91d05",
   "metadata": {},
   "outputs": [],
   "source": []
  },
  {
   "cell_type": "code",
   "execution_count": null,
   "id": "6160da31",
   "metadata": {},
   "outputs": [],
   "source": []
  },
  {
   "cell_type": "markdown",
   "id": "70aae2f5",
   "metadata": {},
   "source": [
    "## current candidates"
   ]
  },
  {
   "cell_type": "code",
   "execution_count": 78,
   "id": "fb17bce2",
   "metadata": {
    "ExecuteTime": {
     "end_time": "2023-01-30T20:55:52.517444Z",
     "start_time": "2023-01-30T20:55:45.254426Z"
    }
   },
   "outputs": [],
   "source": [
    "df_candidates_covisit_all_i2i_old_new_top_100 = pl.concat([\n",
    "    df_candidates_covisit_all.select([\"session\", \"aid\", \"target\"]),\n",
    "    df_candidates_i2i_old.select([\"session\", \"aid\", \"target\"]),\n",
    "    df_candidates_i2i_new.select([\"session\", \"aid\", \"target\"]),\n",
    "]).unique()"
   ]
  },
  {
   "cell_type": "code",
   "execution_count": 79,
   "id": "1a03a784",
   "metadata": {
    "ExecuteTime": {
     "end_time": "2023-01-30T20:55:55.150416Z",
     "start_time": "2023-01-30T20:55:53.409414Z"
    }
   },
   "outputs": [
    {
     "name": "stdout",
     "output_type": "stream",
     "text": [
      "sessions with positives in candidates:  198261\n",
      "sessions with positives in test dataframe:  265206\n",
      "hit rate:  0.7475735843080473\n",
      "shape: (2, 2)\n",
      "┌────────┬──────────┐\n",
      "│ target ┆ counts   │\n",
      "│ ---    ┆ ---      │\n",
      "│ i32    ┆ u32      │\n",
      "╞════════╪══════════╡\n",
      "│ 0      ┆ 46329774 │\n",
      "├╌╌╌╌╌╌╌╌┼╌╌╌╌╌╌╌╌╌╌┤\n",
      "│ 1      ┆ 263968   │\n",
      "└────────┴──────────┘\n"
     ]
    }
   ],
   "source": [
    "df_candidates_covisit_all_i2i_old_new_top_100_with_positives = print_candidates_hit_rate(\n",
    "    df_candidates_covisit_all_i2i_old_new_top_100\n",
    ")"
   ]
  },
  {
   "cell_type": "code",
   "execution_count": null,
   "id": "f90bd442",
   "metadata": {},
   "outputs": [],
   "source": []
  },
  {
   "cell_type": "markdown",
   "id": "b0d90e3f",
   "metadata": {},
   "source": []
  },
  {
   "cell_type": "code",
   "execution_count": null,
   "id": "3a7cf8db",
   "metadata": {},
   "outputs": [],
   "source": []
  },
  {
   "cell_type": "code",
   "execution_count": null,
   "id": "945f3c0a",
   "metadata": {},
   "outputs": [],
   "source": []
  }
 ],
 "metadata": {
  "kernelspec": {
   "display_name": "Python 3 (ipykernel)",
   "language": "python",
   "name": "python3"
  },
  "language_info": {
   "codemirror_mode": {
    "name": "ipython",
    "version": 3
   },
   "file_extension": ".py",
   "mimetype": "text/x-python",
   "name": "python",
   "nbconvert_exporter": "python",
   "pygments_lexer": "ipython3",
   "version": "3.9.5"
  },
  "toc": {
   "base_numbering": 1,
   "nav_menu": {},
   "number_sections": true,
   "sideBar": true,
   "skip_h1_title": false,
   "title_cell": "Table of Contents",
   "title_sidebar": "Contents",
   "toc_cell": false,
   "toc_position": {},
   "toc_section_display": true,
   "toc_window_display": false
  }
 },
 "nbformat": 4,
 "nbformat_minor": 5
}
