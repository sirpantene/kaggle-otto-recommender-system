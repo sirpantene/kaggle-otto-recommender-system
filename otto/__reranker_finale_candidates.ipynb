{
 "cells": [
  {
   "cell_type": "code",
   "execution_count": 1,
   "id": "1e3c6a8b",
   "metadata": {
    "ExecuteTime": {
     "end_time": "2023-01-31T09:20:55.526850Z",
     "start_time": "2023-01-31T09:20:55.515038Z"
    }
   },
   "outputs": [],
   "source": [
    "%load_ext autoreload\n",
    "%autoreload 2"
   ]
  },
  {
   "cell_type": "code",
   "execution_count": 2,
   "id": "783b04fb",
   "metadata": {
    "ExecuteTime": {
     "end_time": "2023-01-31T09:20:59.595704Z",
     "start_time": "2023-01-31T09:20:58.053542Z"
    }
   },
   "outputs": [],
   "source": [
    "from otto_utils import *\n",
    "from otto_features import *\n",
    "from otto_candidates_covisit import *\n",
    "from otto_lgbm_utils import *\n",
    "from otto_implicit import *\n",
    "from otto_reranker import *\n",
    "from otto_jobs_candidates import *"
   ]
  },
  {
   "cell_type": "markdown",
   "id": "3ecbbd27",
   "metadata": {},
   "source": [
    "# Implicit"
   ]
  },
  {
   "cell_type": "markdown",
   "id": "175cb373",
   "metadata": {},
   "source": [
    "## tfidf - TFIDFRecommender"
   ]
  },
  {
   "cell_type": "code",
   "execution_count": 3,
   "id": "ab8a3fd3",
   "metadata": {
    "ExecuteTime": {
     "end_time": "2023-01-30T21:52:54.758358Z",
     "start_time": "2023-01-30T21:48:58.237302Z"
    }
   },
   "outputs": [
    {
     "name": "stdout",
     "output_type": "stream",
     "text": [
      "Reading dataset...:  valid\n",
      "Processing data...:  new\n",
      "Training model...:  tfidf\n"
     ]
    },
    {
     "name": "stderr",
     "output_type": "stream",
     "text": [
      "/opt/poetry/virtualenvs/tasks-9TtSrW0h-py3.9/lib/python3.9/site-packages/implicit/utils.py:138: ParameterWarning: Method expects CSR input, and was passed coo_matrix instead. Converting to CSR took 0.7648842334747314 seconds\n",
      "  warnings.warn(\n"
     ]
    },
    {
     "data": {
      "application/vnd.jupyter.widget-view+json": {
       "model_id": "275728db3ce24cc8ad785af9d6f16e2c",
       "version_major": 2,
       "version_minor": 0
      },
      "text/plain": [
       "  0%|          | 0/1855603 [00:00<?, ?it/s]"
      ]
     },
     "metadata": {},
     "output_type": "display_data"
    },
    {
     "name": "stdout",
     "output_type": "stream",
     "text": [
      "Generating candidates...: \n"
     ]
    },
    {
     "name": "stderr",
     "output_type": "stream",
     "text": [
      "100%|██████████| 1304/1304 [02:10<00:00, 10.02it/s]\n"
     ]
    },
    {
     "name": "stdout",
     "output_type": "stream",
     "text": [
      "Saving to file...:  reranker_finale/__valid__candidates_tfidf_new_k=200_topk=100.parquet\n"
     ]
    }
   ],
   "source": [
    "generate_candidates_implicit(\n",
    "    _dataset_type=\"valid\",\n",
    "    _preprocess_type=\"new\",\n",
    "    _model_type=\"tfidf\",\n",
    "    k=200,\n",
    "    topk=100,\n",
    ")"
   ]
  },
  {
   "cell_type": "code",
   "execution_count": 4,
   "id": "b8d9e29d",
   "metadata": {
    "ExecuteTime": {
     "end_time": "2023-01-30T21:56:40.714322Z",
     "start_time": "2023-01-30T21:52:54.760095Z"
    }
   },
   "outputs": [
    {
     "name": "stdout",
     "output_type": "stream",
     "text": [
      "Reading dataset...:  valid\n",
      "Processing data...:  old\n",
      "Training model...:  tfidf\n"
     ]
    },
    {
     "name": "stderr",
     "output_type": "stream",
     "text": [
      "/opt/poetry/virtualenvs/tasks-9TtSrW0h-py3.9/lib/python3.9/site-packages/implicit/utils.py:138: ParameterWarning: Method expects CSR input, and was passed coo_matrix instead. Converting to CSR took 0.7614147663116455 seconds\n",
      "  warnings.warn(\n"
     ]
    },
    {
     "data": {
      "application/vnd.jupyter.widget-view+json": {
       "model_id": "45e3692aa442469a80a8cd94c8684b8b",
       "version_major": 2,
       "version_minor": 0
      },
      "text/plain": [
       "  0%|          | 0/1855603 [00:00<?, ?it/s]"
      ]
     },
     "metadata": {},
     "output_type": "display_data"
    },
    {
     "name": "stdout",
     "output_type": "stream",
     "text": [
      "Generating candidates...: \n"
     ]
    },
    {
     "name": "stderr",
     "output_type": "stream",
     "text": [
      "100%|██████████| 1304/1304 [02:12<00:00,  9.88it/s]\n"
     ]
    },
    {
     "name": "stdout",
     "output_type": "stream",
     "text": [
      "Saving to file...:  reranker_finale/__valid__candidates_tfidf_old_k=200_topk=100.parquet\n"
     ]
    }
   ],
   "source": [
    "generate_candidates_implicit(\n",
    "    _dataset_type=\"valid\",\n",
    "    _preprocess_type=\"old\",\n",
    "    _model_type=\"tfidf\",\n",
    "    k=200,\n",
    "    topk=100,\n",
    ")"
   ]
  },
  {
   "cell_type": "code",
   "execution_count": 7,
   "id": "20e13594",
   "metadata": {
    "ExecuteTime": {
     "end_time": "2023-01-30T22:10:17.894707Z",
     "start_time": "2023-01-30T22:05:23.047736Z"
    }
   },
   "outputs": [
    {
     "name": "stdout",
     "output_type": "stream",
     "text": [
      "Reading dataset...:  subm\n",
      "Processing data...:  new\n",
      "Training model...:  tfidf\n"
     ]
    },
    {
     "name": "stderr",
     "output_type": "stream",
     "text": [
      "/opt/poetry/virtualenvs/tasks-9TtSrW0h-py3.9/lib/python3.9/site-packages/implicit/utils.py:138: ParameterWarning: Method expects CSR input, and was passed coo_matrix instead. Converting to CSR took 0.9641609191894531 seconds\n",
      "  warnings.warn(\n"
     ]
    },
    {
     "data": {
      "application/vnd.jupyter.widget-view+json": {
       "model_id": "4b131be3842d490798b7216608643c7a",
       "version_major": 2,
       "version_minor": 0
      },
      "text/plain": [
       "  0%|          | 0/1855603 [00:00<?, ?it/s]"
      ]
     },
     "metadata": {},
     "output_type": "display_data"
    },
    {
     "name": "stdout",
     "output_type": "stream",
     "text": [
      "Generating candidates...: \n"
     ]
    },
    {
     "name": "stderr",
     "output_type": "stream",
     "text": [
      "100%|██████████| 1672/1672 [02:46<00:00, 10.06it/s]\n"
     ]
    },
    {
     "name": "stdout",
     "output_type": "stream",
     "text": [
      "Saving to file...:  reranker_finale/__subm__candidates_tfidf_new_k=200_topk=100.parquet\n"
     ]
    }
   ],
   "source": [
    "generate_candidates_implicit(\n",
    "    _dataset_type=\"subm\",\n",
    "    _preprocess_type=\"new\",\n",
    "    _model_type=\"tfidf\",\n",
    "    k=200,\n",
    "    topk=100,\n",
    ")"
   ]
  },
  {
   "cell_type": "code",
   "execution_count": 8,
   "id": "c429fe46",
   "metadata": {
    "ExecuteTime": {
     "end_time": "2023-01-30T22:14:52.066715Z",
     "start_time": "2023-01-30T22:10:17.896681Z"
    }
   },
   "outputs": [
    {
     "name": "stdout",
     "output_type": "stream",
     "text": [
      "Reading dataset...:  subm\n",
      "Processing data...:  old\n",
      "Training model...:  tfidf\n"
     ]
    },
    {
     "name": "stderr",
     "output_type": "stream",
     "text": [
      "/opt/poetry/virtualenvs/tasks-9TtSrW0h-py3.9/lib/python3.9/site-packages/implicit/utils.py:138: ParameterWarning: Method expects CSR input, and was passed coo_matrix instead. Converting to CSR took 0.9670977592468262 seconds\n",
      "  warnings.warn(\n"
     ]
    },
    {
     "data": {
      "application/vnd.jupyter.widget-view+json": {
       "model_id": "42d9c94124204750ac092b88853bb909",
       "version_major": 2,
       "version_minor": 0
      },
      "text/plain": [
       "  0%|          | 0/1855603 [00:00<?, ?it/s]"
      ]
     },
     "metadata": {},
     "output_type": "display_data"
    },
    {
     "name": "stdout",
     "output_type": "stream",
     "text": [
      "Generating candidates...: \n"
     ]
    },
    {
     "name": "stderr",
     "output_type": "stream",
     "text": [
      "100%|██████████| 1672/1672 [02:43<00:00, 10.23it/s]\n"
     ]
    },
    {
     "name": "stdout",
     "output_type": "stream",
     "text": [
      "Saving to file...:  reranker_finale/__subm__candidates_tfidf_old_k=200_topk=100.parquet\n"
     ]
    }
   ],
   "source": [
    "generate_candidates_implicit(\n",
    "    _dataset_type=\"subm\",\n",
    "    _preprocess_type=\"old\",\n",
    "    _model_type=\"tfidf\",\n",
    "    k=200,\n",
    "    topk=100,\n",
    ")"
   ]
  },
  {
   "cell_type": "markdown",
   "id": "19a9af4a",
   "metadata": {},
   "source": [
    "### research"
   ]
  },
  {
   "cell_type": "code",
   "execution_count": 3,
   "id": "bcb77303",
   "metadata": {
    "ExecuteTime": {
     "end_time": "2023-01-31T09:26:25.027363Z",
     "start_time": "2023-01-31T09:21:26.240889Z"
    }
   },
   "outputs": [
    {
     "name": "stdout",
     "output_type": "stream",
     "text": [
      "Reading dataset...:  valid\n",
      "Processing data...:  new\n",
      "Training model...:  tfidf\n"
     ]
    },
    {
     "name": "stderr",
     "output_type": "stream",
     "text": [
      "/opt/poetry/virtualenvs/tasks-9TtSrW0h-py3.9/lib/python3.9/site-packages/implicit/utils.py:138: ParameterWarning: Method expects CSR input, and was passed coo_matrix instead. Converting to CSR took 0.7638168334960938 seconds\n",
      "  warnings.warn(\n"
     ]
    },
    {
     "data": {
      "application/vnd.jupyter.widget-view+json": {
       "model_id": "0a40727f05e842b78615e89552f26503",
       "version_major": 2,
       "version_minor": 0
      },
      "text/plain": [
       "  0%|          | 0/1855603 [00:00<?, ?it/s]"
      ]
     },
     "metadata": {},
     "output_type": "display_data"
    },
    {
     "name": "stdout",
     "output_type": "stream",
     "text": [
      "Generating candidates...: \n"
     ]
    },
    {
     "name": "stderr",
     "output_type": "stream",
     "text": [
      "100%|██████████| 1304/1304 [02:30<00:00,  8.69it/s]\n"
     ]
    },
    {
     "name": "stdout",
     "output_type": "stream",
     "text": [
      "Saving to file...:  reranker_finale/__valid__candidates_tfidf_new_k=200_topk=200.parquet\n"
     ]
    }
   ],
   "source": [
    "generate_candidates_implicit(\n",
    "    _dataset_type=\"valid\",\n",
    "    _preprocess_type=\"new\",\n",
    "    _model_type=\"tfidf\",\n",
    "    k=200,\n",
    "    topk=200,\n",
    ")"
   ]
  },
  {
   "cell_type": "markdown",
   "id": "6be040f5",
   "metadata": {},
   "source": [
    "## i2i - CosineRecommender"
   ]
  },
  {
   "cell_type": "code",
   "execution_count": 5,
   "id": "8b477357",
   "metadata": {
    "ExecuteTime": {
     "end_time": "2023-01-30T22:00:17.490467Z",
     "start_time": "2023-01-30T21:56:40.716185Z"
    }
   },
   "outputs": [
    {
     "name": "stdout",
     "output_type": "stream",
     "text": [
      "Reading dataset...:  valid\n",
      "Processing data...:  new\n",
      "Training model...:  i2i\n"
     ]
    },
    {
     "name": "stderr",
     "output_type": "stream",
     "text": [
      "/opt/poetry/virtualenvs/tasks-9TtSrW0h-py3.9/lib/python3.9/site-packages/implicit/utils.py:138: ParameterWarning: Method expects CSR input, and was passed coo_matrix instead. Converting to CSR took 0.7624382972717285 seconds\n",
      "  warnings.warn(\n"
     ]
    },
    {
     "data": {
      "application/vnd.jupyter.widget-view+json": {
       "model_id": "90db56d3f8be42a283d8c8080f1e0636",
       "version_major": 2,
       "version_minor": 0
      },
      "text/plain": [
       "  0%|          | 0/1855603 [00:00<?, ?it/s]"
      ]
     },
     "metadata": {},
     "output_type": "display_data"
    },
    {
     "name": "stdout",
     "output_type": "stream",
     "text": [
      "Generating candidates...: \n"
     ]
    },
    {
     "name": "stderr",
     "output_type": "stream",
     "text": [
      "100%|██████████| 1304/1304 [01:56<00:00, 11.22it/s]\n"
     ]
    },
    {
     "name": "stdout",
     "output_type": "stream",
     "text": [
      "Saving to file...:  reranker_finale/__valid__candidates_i2i_new_k=100_topk=100.parquet\n"
     ]
    }
   ],
   "source": [
    "generate_candidates_implicit(\n",
    "    _dataset_type=\"valid\",\n",
    "    _preprocess_type=\"new\",\n",
    "    _model_type=\"i2i\",\n",
    "    k=100,\n",
    "    topk=100,\n",
    ")"
   ]
  },
  {
   "cell_type": "code",
   "execution_count": 6,
   "id": "eb9e1638",
   "metadata": {
    "ExecuteTime": {
     "end_time": "2023-01-30T22:03:38.711951Z",
     "start_time": "2023-01-30T22:00:17.492156Z"
    }
   },
   "outputs": [
    {
     "name": "stdout",
     "output_type": "stream",
     "text": [
      "Reading dataset...:  valid\n",
      "Processing data...:  old\n",
      "Training model...:  i2i\n"
     ]
    },
    {
     "name": "stderr",
     "output_type": "stream",
     "text": [
      "/opt/poetry/virtualenvs/tasks-9TtSrW0h-py3.9/lib/python3.9/site-packages/implicit/utils.py:138: ParameterWarning: Method expects CSR input, and was passed coo_matrix instead. Converting to CSR took 0.7682585716247559 seconds\n",
      "  warnings.warn(\n"
     ]
    },
    {
     "data": {
      "application/vnd.jupyter.widget-view+json": {
       "model_id": "206f23c0749c4893932bb6501f75642a",
       "version_major": 2,
       "version_minor": 0
      },
      "text/plain": [
       "  0%|          | 0/1855603 [00:00<?, ?it/s]"
      ]
     },
     "metadata": {},
     "output_type": "display_data"
    },
    {
     "name": "stdout",
     "output_type": "stream",
     "text": [
      "Generating candidates...: \n"
     ]
    },
    {
     "name": "stderr",
     "output_type": "stream",
     "text": [
      "100%|██████████| 1304/1304 [01:53<00:00, 11.48it/s]\n"
     ]
    },
    {
     "name": "stdout",
     "output_type": "stream",
     "text": [
      "Saving to file...:  reranker_finale/__valid__candidates_i2i_old_k=100_topk=100.parquet\n"
     ]
    }
   ],
   "source": [
    "generate_candidates_implicit(\n",
    "    _dataset_type=\"valid\",\n",
    "    _preprocess_type=\"old\",\n",
    "    _model_type=\"i2i\",\n",
    "    k=100,\n",
    "    topk=100,\n",
    ")"
   ]
  },
  {
   "cell_type": "code",
   "execution_count": 9,
   "id": "362cc068",
   "metadata": {
    "ExecuteTime": {
     "end_time": "2023-01-30T22:19:16.166004Z",
     "start_time": "2023-01-30T22:14:52.068530Z"
    }
   },
   "outputs": [
    {
     "name": "stdout",
     "output_type": "stream",
     "text": [
      "Reading dataset...:  subm\n",
      "Processing data...:  new\n",
      "Training model...:  i2i\n"
     ]
    },
    {
     "name": "stderr",
     "output_type": "stream",
     "text": [
      "/opt/poetry/virtualenvs/tasks-9TtSrW0h-py3.9/lib/python3.9/site-packages/implicit/utils.py:138: ParameterWarning: Method expects CSR input, and was passed coo_matrix instead. Converting to CSR took 0.9549393653869629 seconds\n",
      "  warnings.warn(\n"
     ]
    },
    {
     "data": {
      "application/vnd.jupyter.widget-view+json": {
       "model_id": "87e9888c80424c10981154c96d28b6e0",
       "version_major": 2,
       "version_minor": 0
      },
      "text/plain": [
       "  0%|          | 0/1855603 [00:00<?, ?it/s]"
      ]
     },
     "metadata": {},
     "output_type": "display_data"
    },
    {
     "name": "stdout",
     "output_type": "stream",
     "text": [
      "Generating candidates...: \n"
     ]
    },
    {
     "name": "stderr",
     "output_type": "stream",
     "text": [
      "100%|██████████| 1672/1672 [02:24<00:00, 11.55it/s]\n"
     ]
    },
    {
     "name": "stdout",
     "output_type": "stream",
     "text": [
      "Saving to file...:  reranker_finale/__subm__candidates_i2i_new_k=100_topk=100.parquet\n"
     ]
    }
   ],
   "source": [
    "generate_candidates_implicit(\n",
    "    _dataset_type=\"subm\",\n",
    "    _preprocess_type=\"new\",\n",
    "    _model_type=\"i2i\",\n",
    "    k=100,\n",
    "    topk=100,\n",
    ")"
   ]
  },
  {
   "cell_type": "code",
   "execution_count": 10,
   "id": "896ed438",
   "metadata": {
    "ExecuteTime": {
     "end_time": "2023-01-30T22:23:21.482042Z",
     "start_time": "2023-01-30T22:19:16.167501Z"
    }
   },
   "outputs": [
    {
     "name": "stdout",
     "output_type": "stream",
     "text": [
      "Reading dataset...:  subm\n",
      "Processing data...:  old\n",
      "Training model...:  i2i\n"
     ]
    },
    {
     "name": "stderr",
     "output_type": "stream",
     "text": [
      "/opt/poetry/virtualenvs/tasks-9TtSrW0h-py3.9/lib/python3.9/site-packages/implicit/utils.py:138: ParameterWarning: Method expects CSR input, and was passed coo_matrix instead. Converting to CSR took 0.9644041061401367 seconds\n",
      "  warnings.warn(\n"
     ]
    },
    {
     "data": {
      "application/vnd.jupyter.widget-view+json": {
       "model_id": "49846e365a214667a1eaa28d6e6d6cb9",
       "version_major": 2,
       "version_minor": 0
      },
      "text/plain": [
       "  0%|          | 0/1855603 [00:00<?, ?it/s]"
      ]
     },
     "metadata": {},
     "output_type": "display_data"
    },
    {
     "name": "stdout",
     "output_type": "stream",
     "text": [
      "Generating candidates...: \n"
     ]
    },
    {
     "name": "stderr",
     "output_type": "stream",
     "text": [
      "100%|██████████| 1672/1672 [02:22<00:00, 11.73it/s]\n"
     ]
    },
    {
     "name": "stdout",
     "output_type": "stream",
     "text": [
      "Saving to file...:  reranker_finale/__subm__candidates_i2i_old_k=100_topk=100.parquet\n"
     ]
    }
   ],
   "source": [
    "generate_candidates_implicit(\n",
    "    _dataset_type=\"subm\",\n",
    "    _preprocess_type=\"old\",\n",
    "    _model_type=\"i2i\",\n",
    "    k=100,\n",
    "    topk=100,\n",
    ")"
   ]
  },
  {
   "cell_type": "markdown",
   "id": "5170bd51",
   "metadata": {},
   "source": [
    "# Covisitation"
   ]
  },
  {
   "cell_type": "code",
   "execution_count": 12,
   "id": "5921c10d",
   "metadata": {
    "ExecuteTime": {
     "end_time": "2023-01-30T22:29:46.403003Z",
     "start_time": "2023-01-30T22:24:55.038667Z"
    }
   },
   "outputs": [
    {
     "name": "stdout",
     "output_type": "stream",
     "text": [
      "Reading dataset...:  valid\n"
     ]
    },
    {
     "name": "stderr",
     "output_type": "stream",
     "text": [
      "100%|██████████| 1303355/1303355 [01:58<00:00, 10955.84it/s]\n"
     ]
    },
    {
     "name": "stdout",
     "output_type": "stream",
     "text": [
      "Saving to file...:  reranker_finale/__valid__candidates_covisit_all_topk=200.parquet\n"
     ]
    }
   ],
   "source": [
    "generate_candidates_covisit_all(\n",
    "    _dataset_type=\"valid\",\n",
    "    topk=200,\n",
    ")"
   ]
  },
  {
   "cell_type": "code",
   "execution_count": 14,
   "id": "a4e4eafa",
   "metadata": {
    "ExecuteTime": {
     "end_time": "2023-01-30T22:38:50.179120Z",
     "start_time": "2023-01-30T22:33:15.051311Z"
    }
   },
   "outputs": [
    {
     "name": "stdout",
     "output_type": "stream",
     "text": [
      "Reading dataset...:  subm\n"
     ]
    },
    {
     "name": "stderr",
     "output_type": "stream",
     "text": [
      "100%|██████████| 1671803/1671803 [02:15<00:00, 12293.99it/s]\n"
     ]
    },
    {
     "name": "stdout",
     "output_type": "stream",
     "text": [
      "Saving to file...:  reranker_finale/__subm__candidates_covisit_all_topk=200.parquet\n"
     ]
    }
   ],
   "source": [
    "generate_candidates_covisit_all(\n",
    "    _dataset_type=\"subm\",\n",
    "    topk=200,\n",
    ")"
   ]
  },
  {
   "cell_type": "code",
   "execution_count": null,
   "id": "5a538041",
   "metadata": {},
   "outputs": [],
   "source": []
  }
 ],
 "metadata": {
  "kernelspec": {
   "display_name": "Python 3 (ipykernel)",
   "language": "python",
   "name": "python3"
  },
  "language_info": {
   "codemirror_mode": {
    "name": "ipython",
    "version": 3
   },
   "file_extension": ".py",
   "mimetype": "text/x-python",
   "name": "python",
   "nbconvert_exporter": "python",
   "pygments_lexer": "ipython3",
   "version": "3.9.5"
  },
  "toc": {
   "base_numbering": 1,
   "nav_menu": {},
   "number_sections": true,
   "sideBar": true,
   "skip_h1_title": false,
   "title_cell": "Table of Contents",
   "title_sidebar": "Contents",
   "toc_cell": false,
   "toc_position": {},
   "toc_section_display": true,
   "toc_window_display": false
  }
 },
 "nbformat": 4,
 "nbformat_minor": 5
}
